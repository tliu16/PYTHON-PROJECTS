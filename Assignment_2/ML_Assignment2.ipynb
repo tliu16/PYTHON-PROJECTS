{
  "cells": [
    {
      "cell_type": "markdown",
      "metadata": {
        "id": "RJatgT0CVjCE"
      },
      "source": [
        "# **Assignment - 2 Deep Convolutional Neural Network - Image Recognition**"
      ]
    },
    {
      "cell_type": "markdown",
      "metadata": {
        "id": "sxl7svMJcPk5"
      },
      "source": [
        "Loading all the required libraries and functions"
      ]
    },
    {
      "cell_type": "code",
      "execution_count": null,
      "metadata": {
        "id": "Ou_vfTcLcTFG"
      },
      "outputs": [],
      "source": [
        "import numpy as np\n",
        "import pandas as pd\n",
        "import seaborn as sns\n",
        "import matplotlib.pyplot as plt\n",
        "%matplotlib inline\n",
        "\n",
        "from tensorflow import keras\n",
        "from tensorflow.keras import layers\n",
        "from tensorflow.keras.utils import image_dataset_from_directory\n",
        "from tensorflow.keras.callbacks import EarlyStopping\n",
        "from tensorflow.keras.callbacks import ModelCheckpoint"
      ]
    },
    {
      "cell_type": "markdown",
      "metadata": {
        "id": "dG8o4pDWzEcL"
      },
      "source": [
        "Importing the JSON Activation Code"
      ]
    },
    {
      "cell_type": "code",
      "execution_count": null,
      "metadata": {
        "colab": {
          "base_uri": "https://localhost:8080/",
          "height": 86
        },
        "id": "XM5x_P-gv42Y",
        "outputId": "0436d234-ccef-48b0-8776-b9e27ed4aa13"
      },
      "outputs": [
        {
          "data": {
            "text/html": [
              "\n",
              "     <input type=\"file\" id=\"files-08415b82-6be6-4b55-bf09-81a9be91a9c5\" name=\"files[]\" multiple disabled\n",
              "        style=\"border:none\" />\n",
              "     <output id=\"result-08415b82-6be6-4b55-bf09-81a9be91a9c5\">\n",
              "      Upload widget is only available when the cell has been executed in the\n",
              "      current browser session. Please rerun this cell to enable.\n",
              "      </output>\n",
              "      <script>// Copyright 2017 Google LLC\n",
              "//\n",
              "// Licensed under the Apache License, Version 2.0 (the \"License\");\n",
              "// you may not use this file except in compliance with the License.\n",
              "// You may obtain a copy of the License at\n",
              "//\n",
              "//      http://www.apache.org/licenses/LICENSE-2.0\n",
              "//\n",
              "// Unless required by applicable law or agreed to in writing, software\n",
              "// distributed under the License is distributed on an \"AS IS\" BASIS,\n",
              "// WITHOUT WARRANTIES OR CONDITIONS OF ANY KIND, either express or implied.\n",
              "// See the License for the specific language governing permissions and\n",
              "// limitations under the License.\n",
              "\n",
              "/**\n",
              " * @fileoverview Helpers for google.colab Python module.\n",
              " */\n",
              "(function(scope) {\n",
              "function span(text, styleAttributes = {}) {\n",
              "  const element = document.createElement('span');\n",
              "  element.textContent = text;\n",
              "  for (const key of Object.keys(styleAttributes)) {\n",
              "    element.style[key] = styleAttributes[key];\n",
              "  }\n",
              "  return element;\n",
              "}\n",
              "\n",
              "// Max number of bytes which will be uploaded at a time.\n",
              "const MAX_PAYLOAD_SIZE = 100 * 1024;\n",
              "\n",
              "function _uploadFiles(inputId, outputId) {\n",
              "  const steps = uploadFilesStep(inputId, outputId);\n",
              "  const outputElement = document.getElementById(outputId);\n",
              "  // Cache steps on the outputElement to make it available for the next call\n",
              "  // to uploadFilesContinue from Python.\n",
              "  outputElement.steps = steps;\n",
              "\n",
              "  return _uploadFilesContinue(outputId);\n",
              "}\n",
              "\n",
              "// This is roughly an async generator (not supported in the browser yet),\n",
              "// where there are multiple asynchronous steps and the Python side is going\n",
              "// to poll for completion of each step.\n",
              "// This uses a Promise to block the python side on completion of each step,\n",
              "// then passes the result of the previous step as the input to the next step.\n",
              "function _uploadFilesContinue(outputId) {\n",
              "  const outputElement = document.getElementById(outputId);\n",
              "  const steps = outputElement.steps;\n",
              "\n",
              "  const next = steps.next(outputElement.lastPromiseValue);\n",
              "  return Promise.resolve(next.value.promise).then((value) => {\n",
              "    // Cache the last promise value to make it available to the next\n",
              "    // step of the generator.\n",
              "    outputElement.lastPromiseValue = value;\n",
              "    return next.value.response;\n",
              "  });\n",
              "}\n",
              "\n",
              "/**\n",
              " * Generator function which is called between each async step of the upload\n",
              " * process.\n",
              " * @param {string} inputId Element ID of the input file picker element.\n",
              " * @param {string} outputId Element ID of the output display.\n",
              " * @return {!Iterable<!Object>} Iterable of next steps.\n",
              " */\n",
              "function* uploadFilesStep(inputId, outputId) {\n",
              "  const inputElement = document.getElementById(inputId);\n",
              "  inputElement.disabled = false;\n",
              "\n",
              "  const outputElement = document.getElementById(outputId);\n",
              "  outputElement.innerHTML = '';\n",
              "\n",
              "  const pickedPromise = new Promise((resolve) => {\n",
              "    inputElement.addEventListener('change', (e) => {\n",
              "      resolve(e.target.files);\n",
              "    });\n",
              "  });\n",
              "\n",
              "  const cancel = document.createElement('button');\n",
              "  inputElement.parentElement.appendChild(cancel);\n",
              "  cancel.textContent = 'Cancel upload';\n",
              "  const cancelPromise = new Promise((resolve) => {\n",
              "    cancel.onclick = () => {\n",
              "      resolve(null);\n",
              "    };\n",
              "  });\n",
              "\n",
              "  // Wait for the user to pick the files.\n",
              "  const files = yield {\n",
              "    promise: Promise.race([pickedPromise, cancelPromise]),\n",
              "    response: {\n",
              "      action: 'starting',\n",
              "    }\n",
              "  };\n",
              "\n",
              "  cancel.remove();\n",
              "\n",
              "  // Disable the input element since further picks are not allowed.\n",
              "  inputElement.disabled = true;\n",
              "\n",
              "  if (!files) {\n",
              "    return {\n",
              "      response: {\n",
              "        action: 'complete',\n",
              "      }\n",
              "    };\n",
              "  }\n",
              "\n",
              "  for (const file of files) {\n",
              "    const li = document.createElement('li');\n",
              "    li.append(span(file.name, {fontWeight: 'bold'}));\n",
              "    li.append(span(\n",
              "        `(${file.type || 'n/a'}) - ${file.size} bytes, ` +\n",
              "        `last modified: ${\n",
              "            file.lastModifiedDate ? file.lastModifiedDate.toLocaleDateString() :\n",
              "                                    'n/a'} - `));\n",
              "    const percent = span('0% done');\n",
              "    li.appendChild(percent);\n",
              "\n",
              "    outputElement.appendChild(li);\n",
              "\n",
              "    const fileDataPromise = new Promise((resolve) => {\n",
              "      const reader = new FileReader();\n",
              "      reader.onload = (e) => {\n",
              "        resolve(e.target.result);\n",
              "      };\n",
              "      reader.readAsArrayBuffer(file);\n",
              "    });\n",
              "    // Wait for the data to be ready.\n",
              "    let fileData = yield {\n",
              "      promise: fileDataPromise,\n",
              "      response: {\n",
              "        action: 'continue',\n",
              "      }\n",
              "    };\n",
              "\n",
              "    // Use a chunked sending to avoid message size limits. See b/62115660.\n",
              "    let position = 0;\n",
              "    do {\n",
              "      const length = Math.min(fileData.byteLength - position, MAX_PAYLOAD_SIZE);\n",
              "      const chunk = new Uint8Array(fileData, position, length);\n",
              "      position += length;\n",
              "\n",
              "      const base64 = btoa(String.fromCharCode.apply(null, chunk));\n",
              "      yield {\n",
              "        response: {\n",
              "          action: 'append',\n",
              "          file: file.name,\n",
              "          data: base64,\n",
              "        },\n",
              "      };\n",
              "\n",
              "      let percentDone = fileData.byteLength === 0 ?\n",
              "          100 :\n",
              "          Math.round((position / fileData.byteLength) * 100);\n",
              "      percent.textContent = `${percentDone}% done`;\n",
              "\n",
              "    } while (position < fileData.byteLength);\n",
              "  }\n",
              "\n",
              "  // All done.\n",
              "  yield {\n",
              "    response: {\n",
              "      action: 'complete',\n",
              "    }\n",
              "  };\n",
              "}\n",
              "\n",
              "scope.google = scope.google || {};\n",
              "scope.google.colab = scope.google.colab || {};\n",
              "scope.google.colab._files = {\n",
              "  _uploadFiles,\n",
              "  _uploadFilesContinue,\n",
              "};\n",
              "})(self);\n",
              "</script> "
            ],
            "text/plain": [
              "<IPython.core.display.HTML object>"
            ]
          },
          "metadata": {},
          "output_type": "display_data"
        },
        {
          "name": "stdout",
          "output_type": "stream",
          "text": [
            "Saving kaggle.json to kaggle.json\n"
          ]
        },
        {
          "data": {
            "text/plain": [
              "{'kaggle.json': b'{\"username\":\"nikhilkumarsampath\",\"key\":\"d0fefbe885160a8c8b8d0f78f9f8933b\"}'}"
            ]
          },
          "execution_count": 2,
          "metadata": {},
          "output_type": "execute_result"
        }
      ],
      "source": [
        "from google.colab import files\n",
        "files.upload()"
      ]
    },
    {
      "cell_type": "markdown",
      "metadata": {
        "id": "5Vp05pPEzJfm"
      },
      "source": [
        "Setting the Directory"
      ]
    },
    {
      "cell_type": "code",
      "execution_count": null,
      "metadata": {
        "id": "MpHP_Nkww3Tb"
      },
      "outputs": [],
      "source": [
        "!mkdir ~/.kaggle\n",
        "!cp kaggle.json ~/.kaggle/\n",
        "!chmod 600 ~/.kaggle/kaggle.json"
      ]
    },
    {
      "cell_type": "markdown",
      "metadata": {
        "id": "UGI3OZaDzSN8"
      },
      "source": [
        "Downloading the Data"
      ]
    },
    {
      "cell_type": "code",
      "execution_count": null,
      "metadata": {
        "colab": {
          "base_uri": "https://localhost:8080/"
        },
        "id": "g57RTF25w5uE",
        "outputId": "9effd988-f5f9-435e-9e6b-be881c06e8b9"
      },
      "outputs": [
        {
          "name": "stdout",
          "output_type": "stream",
          "text": [
            "Downloading dogs-vs-cats.zip to /content\n",
            " 99% 808M/812M [00:18<00:00, 47.1MB/s]\n",
            "100% 812M/812M [00:18<00:00, 45.7MB/s]\n"
          ]
        }
      ],
      "source": [
        "!kaggle competitions download -c dogs-vs-cats"
      ]
    },
    {
      "cell_type": "markdown",
      "metadata": {
        "id": "TpuTkvDnzTgP"
      },
      "source": [
        "Unzipping the Data"
      ]
    },
    {
      "cell_type": "code",
      "execution_count": null,
      "metadata": {
        "id": "orfgHhJFxABP"
      },
      "outputs": [],
      "source": [
        "!unzip -qq dogs-vs-cats.zip"
      ]
    },
    {
      "cell_type": "markdown",
      "metadata": {
        "id": "G0htrhijzTl7"
      },
      "source": [
        "Unzipping Train Data"
      ]
    },
    {
      "cell_type": "code",
      "execution_count": null,
      "metadata": {
        "id": "yDMkzFhsxDF0"
      },
      "outputs": [],
      "source": [
        "!unzip -qq train.zip"
      ]
    },
    {
      "cell_type": "markdown",
      "metadata": {
        "id": "DtrNlb3IzZ5m"
      },
      "source": [
        "Creating directory named cats vs dogs small to store the images into 3 subsets named train, validation and test"
      ]
    },
    {
      "cell_type": "code",
      "execution_count": null,
      "metadata": {
        "id": "1kwQx2pvxFOA"
      },
      "outputs": [],
      "source": [
        "import os, shutil, pathlib\n",
        "\n",
        "original_dir = pathlib.Path(\"train\")\n",
        "new_base_dir = pathlib.Path(\"cats_vs_dogs_small\")\n",
        "\n",
        "def make_subset(subset_name, start_index, end_index):\n",
        "    for category in (\"cat\", \"dog\"):\n",
        "        dir = new_base_dir / subset_name / category\n",
        "        os.makedirs(dir)\n",
        "        fnames = [f\"{category}.{i}.jpg\" for i in range(start_index, end_index)]\n",
        "        for fname in fnames:\n",
        "            shutil.copyfile(src=original_dir / fname,\n",
        "                            dst=dir / fname)\n",
        "\n",
        "make_subset(\"train\", start_index=0, end_index=500)\n",
        "make_subset(\"validation\", start_index=1000, end_index=1250)\n",
        "make_subset(\"test\", start_index=1500, end_index=1750)"
      ]
    },
    {
      "cell_type": "markdown",
      "metadata": {
        "id": "-xdAt1cA0C5S"
      },
      "source": [
        "Data Pre-Processing\n",
        "\n",
        "Using image_dataset_from_directory to read images"
      ]
    },
    {
      "cell_type": "code",
      "execution_count": null,
      "metadata": {
        "colab": {
          "base_uri": "https://localhost:8080/"
        },
        "id": "IJghhu0HxyMX",
        "outputId": "5f7af349-19ec-472f-c677-887a82e361a8"
      },
      "outputs": [
        {
          "name": "stdout",
          "output_type": "stream",
          "text": [
            "Found 1000 files belonging to 2 classes.\n",
            "Found 500 files belonging to 2 classes.\n",
            "Found 500 files belonging to 2 classes.\n"
          ]
        }
      ],
      "source": [
        "train_dataset = image_dataset_from_directory(\n",
        "    new_base_dir / \"train\",\n",
        "    image_size=(180, 180),\n",
        "    batch_size=32)\n",
        "validation_dataset = image_dataset_from_directory(\n",
        "    new_base_dir / \"validation\",\n",
        "    image_size=(180, 180),\n",
        "    batch_size=32)\n",
        "test_dataset = image_dataset_from_directory(\n",
        "    new_base_dir / \"test\",\n",
        "    image_size=(180, 180),\n",
        "    batch_size=32)"
      ]
    },
    {
      "cell_type": "markdown",
      "metadata": {
        "id": "vGcqEqy_0OQq"
      },
      "source": [
        "Viewing the shape of the images"
      ]
    },
    {
      "cell_type": "code",
      "execution_count": null,
      "metadata": {
        "colab": {
          "base_uri": "https://localhost:8080/"
        },
        "id": "tLW738GCx3ls",
        "outputId": "6526cce1-9cf4-49f2-b48b-26fd32fd5d5b"
      },
      "outputs": [
        {
          "name": "stdout",
          "output_type": "stream",
          "text": [
            "data batch shape: (32, 180, 180, 3)\n",
            "labels batch shape: (32,)\n"
          ]
        }
      ],
      "source": [
        "for data_batch, labels_batch in train_dataset:\n",
        "    print(\"data batch shape:\", data_batch.shape)\n",
        "    print(\"labels batch shape:\", labels_batch.shape)\n",
        "    break"
      ]
    },
    {
      "cell_type": "markdown",
      "metadata": {
        "id": "-bMElgMxzvrF"
      },
      "source": [
        "Building the model\n",
        "\n",
        "Instantiating a small convnet for dogs vs. cats classification"
      ]
    },
    {
      "cell_type": "markdown",
      "metadata": {
        "id": "VqKza5QmNoGQ"
      },
      "source": [
        "## ***Model - 1 MaxPooling Operation with Increase in filters from 32 to 512 in 5 Input Layers***"
      ]
    },
    {
      "cell_type": "code",
      "execution_count": null,
      "metadata": {
        "id": "PVpqd_2Xxj3d"
      },
      "outputs": [],
      "source": [
        "inputs = keras.Input(shape=(180, 180, 3))\n",
        "x = layers.Rescaling(1./255)(inputs)\n",
        "x = layers.Conv2D(filters=32, kernel_size=3, activation=\"relu\")(x)\n",
        "x = layers.MaxPooling2D(pool_size=2)(x)\n",
        "x = layers.Conv2D(filters=64, kernel_size=3, activation=\"relu\")(x)\n",
        "x = layers.MaxPooling2D(pool_size=2)(x)\n",
        "x = layers.Conv2D(filters=128, kernel_size=3, activation=\"relu\")(x)\n",
        "x = layers.MaxPooling2D(pool_size=2)(x)\n",
        "x = layers.Conv2D(filters=256, kernel_size=3, activation=\"relu\")(x)\n",
        "x = layers.MaxPooling2D(pool_size=2)(x)\n",
        "x = layers.Conv2D(filters=256, kernel_size=3, activation=\"relu\")(x)\n",
        "x = layers.Flatten()(x)\n",
        "outputs = layers.Dense(1, activation=\"sigmoid\")(x)\n",
        "\n",
        "\n",
        "model = keras.Model(inputs=inputs, outputs=outputs)"
      ]
    },
    {
      "cell_type": "markdown",
      "metadata": {
        "id": "zZg0ShmSz6j9"
      },
      "source": [
        "## ***Summary of Model - 1***"
      ]
    },
    {
      "cell_type": "code",
      "execution_count": null,
      "metadata": {
        "colab": {
          "base_uri": "https://localhost:8080/"
        },
        "id": "iSW4j6vBxtEQ",
        "outputId": "3caa2fc7-0682-4fb7-caac-69d614b2c8b5"
      },
      "outputs": [
        {
          "name": "stdout",
          "output_type": "stream",
          "text": [
            "Model: \"model\"\n",
            "_________________________________________________________________\n",
            " Layer (type)                Output Shape              Param #   \n",
            "=================================================================\n",
            " input_1 (InputLayer)        [(None, 180, 180, 3)]     0         \n",
            "                                                                 \n",
            " rescaling (Rescaling)       (None, 180, 180, 3)       0         \n",
            "                                                                 \n",
            " conv2d (Conv2D)             (None, 178, 178, 32)      896       \n",
            "                                                                 \n",
            " max_pooling2d (MaxPooling2D  (None, 89, 89, 32)       0         \n",
            " )                                                               \n",
            "                                                                 \n",
            " conv2d_1 (Conv2D)           (None, 87, 87, 64)        18496     \n",
            "                                                                 \n",
            " max_pooling2d_1 (MaxPooling  (None, 43, 43, 64)       0         \n",
            " 2D)                                                             \n",
            "                                                                 \n",
            " conv2d_2 (Conv2D)           (None, 41, 41, 128)       73856     \n",
            "                                                                 \n",
            " max_pooling2d_2 (MaxPooling  (None, 20, 20, 128)      0         \n",
            " 2D)                                                             \n",
            "                                                                 \n",
            " conv2d_3 (Conv2D)           (None, 18, 18, 256)       295168    \n",
            "                                                                 \n",
            " max_pooling2d_3 (MaxPooling  (None, 9, 9, 256)        0         \n",
            " 2D)                                                             \n",
            "                                                                 \n",
            " conv2d_4 (Conv2D)           (None, 7, 7, 256)         590080    \n",
            "                                                                 \n",
            " flatten (Flatten)           (None, 12544)             0         \n",
            "                                                                 \n",
            " dense (Dense)               (None, 1)                 12545     \n",
            "                                                                 \n",
            "=================================================================\n",
            "Total params: 991,041\n",
            "Trainable params: 991,041\n",
            "Non-trainable params: 0\n",
            "_________________________________________________________________\n"
          ]
        }
      ],
      "source": [
        "model.summary()"
      ]
    },
    {
      "cell_type": "markdown",
      "metadata": {
        "id": "dcXKYfXU0RKU"
      },
      "source": [
        "Training the Model"
      ]
    },
    {
      "cell_type": "code",
      "execution_count": null,
      "metadata": {
        "colab": {
          "base_uri": "https://localhost:8080/"
        },
        "id": "bDAvs7kXyC_o",
        "outputId": "e736bb7b-8450-49a5-d4f5-f2c738b99295"
      },
      "outputs": [
        {
          "name": "stdout",
          "output_type": "stream",
          "text": [
            "Epoch 1/30\n",
            "32/32 [==============================] - 17s 112ms/step - loss: 0.6971 - accuracy: 0.5000 - val_loss: 0.6930 - val_accuracy: 0.5000\n",
            "Epoch 2/30\n",
            "32/32 [==============================] - 4s 104ms/step - loss: 0.6921 - accuracy: 0.5230 - val_loss: 0.6911 - val_accuracy: 0.5020\n",
            "Epoch 3/30\n",
            "32/32 [==============================] - 3s 75ms/step - loss: 0.6890 - accuracy: 0.5630 - val_loss: 0.6812 - val_accuracy: 0.5140\n",
            "Epoch 4/30\n",
            "32/32 [==============================] - 3s 75ms/step - loss: 0.6727 - accuracy: 0.5860 - val_loss: 0.6679 - val_accuracy: 0.5760\n",
            "Epoch 5/30\n",
            "32/32 [==============================] - 3s 75ms/step - loss: 0.6498 - accuracy: 0.6110 - val_loss: 0.6798 - val_accuracy: 0.5700\n",
            "Epoch 6/30\n",
            "32/32 [==============================] - 3s 98ms/step - loss: 0.6346 - accuracy: 0.6280 - val_loss: 0.7027 - val_accuracy: 0.6200\n",
            "Epoch 7/30\n",
            "32/32 [==============================] - 3s 75ms/step - loss: 0.6217 - accuracy: 0.6650 - val_loss: 0.6413 - val_accuracy: 0.6560\n",
            "Epoch 8/30\n",
            "32/32 [==============================] - 3s 89ms/step - loss: 0.5704 - accuracy: 0.6950 - val_loss: 0.6700 - val_accuracy: 0.6340\n",
            "Epoch 9/30\n",
            "32/32 [==============================] - 3s 85ms/step - loss: 0.5354 - accuracy: 0.7250 - val_loss: 0.6185 - val_accuracy: 0.6560\n",
            "Epoch 10/30\n",
            "32/32 [==============================] - 3s 73ms/step - loss: 0.4831 - accuracy: 0.7620 - val_loss: 0.6672 - val_accuracy: 0.6900\n",
            "Epoch 11/30\n",
            "32/32 [==============================] - 3s 73ms/step - loss: 0.4461 - accuracy: 0.7830 - val_loss: 0.6583 - val_accuracy: 0.6820\n",
            "Epoch 12/30\n",
            "32/32 [==============================] - 4s 109ms/step - loss: 0.3711 - accuracy: 0.8370 - val_loss: 0.6877 - val_accuracy: 0.7080\n",
            "Epoch 13/30\n",
            "32/32 [==============================] - 3s 73ms/step - loss: 0.3332 - accuracy: 0.8500 - val_loss: 0.7415 - val_accuracy: 0.6940\n",
            "Epoch 14/30\n",
            "32/32 [==============================] - 3s 73ms/step - loss: 0.2895 - accuracy: 0.8600 - val_loss: 0.6587 - val_accuracy: 0.7360\n",
            "Epoch 15/30\n",
            "32/32 [==============================] - 4s 95ms/step - loss: 0.1970 - accuracy: 0.9210 - val_loss: 0.8258 - val_accuracy: 0.7100\n",
            "Epoch 16/30\n",
            "32/32 [==============================] - 3s 71ms/step - loss: 0.1905 - accuracy: 0.9250 - val_loss: 0.8965 - val_accuracy: 0.7120\n",
            "Epoch 17/30\n",
            "32/32 [==============================] - 3s 73ms/step - loss: 0.1271 - accuracy: 0.9640 - val_loss: 0.9678 - val_accuracy: 0.7220\n",
            "Epoch 18/30\n",
            "32/32 [==============================] - 3s 72ms/step - loss: 0.0880 - accuracy: 0.9740 - val_loss: 1.1248 - val_accuracy: 0.7120\n",
            "Epoch 19/30\n",
            "32/32 [==============================] - 3s 82ms/step - loss: 0.0416 - accuracy: 0.9910 - val_loss: 1.2808 - val_accuracy: 0.7200\n",
            "Epoch 20/30\n",
            "32/32 [==============================] - 3s 72ms/step - loss: 0.0313 - accuracy: 0.9920 - val_loss: 1.4227 - val_accuracy: 0.7120\n",
            "Epoch 21/30\n",
            "32/32 [==============================] - 3s 72ms/step - loss: 0.0826 - accuracy: 0.9690 - val_loss: 1.1349 - val_accuracy: 0.7160\n",
            "Epoch 22/30\n",
            "32/32 [==============================] - 3s 91ms/step - loss: 0.0326 - accuracy: 0.9940 - val_loss: 1.4840 - val_accuracy: 0.7160\n",
            "Epoch 23/30\n",
            "32/32 [==============================] - 3s 88ms/step - loss: 0.0120 - accuracy: 0.9960 - val_loss: 1.8722 - val_accuracy: 0.6860\n",
            "Epoch 24/30\n",
            "32/32 [==============================] - 3s 73ms/step - loss: 0.0092 - accuracy: 0.9990 - val_loss: 1.9534 - val_accuracy: 0.7180\n",
            "Epoch 25/30\n",
            "32/32 [==============================] - 3s 71ms/step - loss: 0.1153 - accuracy: 0.9620 - val_loss: 1.2362 - val_accuracy: 0.6880\n",
            "Epoch 26/30\n",
            "32/32 [==============================] - 3s 72ms/step - loss: 0.0728 - accuracy: 0.9790 - val_loss: 1.0280 - val_accuracy: 0.7140\n",
            "Epoch 27/30\n",
            "32/32 [==============================] - 4s 105ms/step - loss: 0.0320 - accuracy: 0.9890 - val_loss: 1.2830 - val_accuracy: 0.7100\n",
            "Epoch 28/30\n",
            "32/32 [==============================] - 3s 71ms/step - loss: 0.0106 - accuracy: 0.9990 - val_loss: 1.5329 - val_accuracy: 0.7180\n",
            "Epoch 29/30\n",
            "32/32 [==============================] - 3s 74ms/step - loss: 0.0025 - accuracy: 1.0000 - val_loss: 1.6006 - val_accuracy: 0.7220\n",
            "Epoch 30/30\n",
            "32/32 [==============================] - 3s 73ms/step - loss: 0.0011 - accuracy: 1.0000 - val_loss: 1.6213 - val_accuracy: 0.7220\n"
          ]
        }
      ],
      "source": [
        "# Compiling the Model\n",
        "model.compile(loss=\"binary_crossentropy\",\n",
        "              optimizer=\"adam\",\n",
        "              metrics=[\"accuracy\"])\n",
        "\n",
        "\n",
        "# Saving the results of the model\n",
        "callbacks = ModelCheckpoint(\n",
        "            filepath= \"model1.keras\",\n",
        "            save_best_only= True,\n",
        "            monitor= \"val_loss\"\n",
        "            )\n",
        "\n",
        "\n",
        "# Fitting/Running the Model\n",
        "Model_1 = model.fit(\n",
        "          train_dataset,\n",
        "          epochs= 30,\n",
        "          validation_data= validation_dataset,\n",
        "          callbacks= callbacks)"
      ]
    },
    {
      "cell_type": "markdown",
      "metadata": {
        "id": "OnIi9rCfdFJS"
      },
      "source": [
        "Looking at the visuals of the Training and Validation Accuracy/Loss"
      ]
    },
    {
      "cell_type": "markdown",
      "metadata": {
        "id": "NtF5iZXXXVNh"
      },
      "source": [
        "Evaluating the performance of Model_1 on test set"
      ]
    },
    {
      "cell_type": "code",
      "execution_count": null,
      "metadata": {
        "colab": {
          "base_uri": "https://localhost:8080/"
        },
        "id": "y3ZCR0sSi8y_",
        "outputId": "94b1d018-d4c0-417c-9f4e-6535546a92bf"
      },
      "outputs": [
        {
          "name": "stdout",
          "output_type": "stream",
          "text": [
            "16/16 [==============================] - 1s 31ms/step - loss: 0.6447 - accuracy: 0.6140\n",
            "Loss: 0.645\n",
            "Accuracy: 0.614\n"
          ]
        }
      ],
      "source": [
        "test_model = keras.models.load_model(\"model1.keras\")\n",
        "Model1_Results = test_model.evaluate(test_dataset)\n",
        "print(f'Loss: {Model1_Results[0]:.3f}')\n",
        "print(f'Accuracy: {Model1_Results[1]:.3f}')"
      ]
    },
    {
      "cell_type": "markdown",
      "metadata": {
        "id": "d2nfSlm_6Eh_"
      },
      "source": [
        "## ***Using Measures to Avoid Overfitting***"
      ]
    },
    {
      "cell_type": "markdown",
      "metadata": {
        "id": "n2VDLlU46KkO"
      },
      "source": [
        "### ***Data Augmentation***"
      ]
    },
    {
      "cell_type": "code",
      "execution_count": 7,
      "metadata": {
        "id": "GtXD0po4QIxE"
      },
      "outputs": [],
      "source": [
        "# To deprecate warnings that are making the output look clumsy\n",
        "\n",
        "import logging\n",
        "logging.getLogger('tensorflow').disabled = True"
      ]
    },
    {
      "cell_type": "markdown",
      "metadata": {
        "id": "XH2tzE2eQyf2"
      },
      "source": [
        "Using few of the techniques such as random flip, random zoom, random rotation so as to create augmented versions of the image"
      ]
    },
    {
      "cell_type": "code",
      "execution_count": null,
      "metadata": {
        "id": "oQP5kWl26Ia7"
      },
      "outputs": [],
      "source": [
        "data_augmentation = keras.Sequential(\n",
        "    [\n",
        "        layers.RandomFlip(\"horizontal\"),\n",
        "        layers.RandomRotation(0.1),\n",
        "        layers.RandomZoom(0.2)\n",
        "    ]\n",
        ")"
      ]
    },
    {
      "cell_type": "markdown",
      "metadata": {
        "id": "pndnhqiIQW9K"
      },
      "source": [
        "Looking at the augmented images"
      ]
    },
    {
      "cell_type": "markdown",
      "metadata": {
        "id": "WsuuUk94R9yB"
      },
      "source": [
        "## ***Model - 2 MaxPooling Operation with Increase in filters from 32 to 256 in 5 Input Layers with the data being used from the Augmented Images and a droput rate of 0.5***"
      ]
    },
    {
      "cell_type": "code",
      "execution_count": null,
      "metadata": {
        "id": "yT0-3w-8-van"
      },
      "outputs": [],
      "source": [
        "inputs = keras.Input(shape=(180, 180, 3))\n",
        "x = data_augmentation(inputs)\n",
        "x = layers.Rescaling(1./255)(x)\n",
        "x = layers.Conv2D(filters=32, kernel_size=3, activation=\"relu\")(x)\n",
        "x = layers.MaxPooling2D(pool_size=2)(x)\n",
        "x = layers.Conv2D(filters=64, kernel_size=3, activation=\"relu\")(x)\n",
        "x = layers.MaxPooling2D(pool_size=2)(x)\n",
        "x = layers.Conv2D(filters=128, kernel_size=3, activation=\"relu\")(x)\n",
        "x = layers.MaxPooling2D(pool_size=2)(x)\n",
        "x = layers.Conv2D(filters=256, kernel_size=3, activation=\"relu\")(x)\n",
        "x = layers.MaxPooling2D(pool_size=2)(x)\n",
        "x = layers.Conv2D(filters=256, kernel_size=3, activation=\"relu\")(x)\n",
        "x = layers.Flatten()(x)\n",
        "x = layers.Dropout(0.5)(x)\n",
        "outputs = layers.Dense(1, activation=\"sigmoid\")(x)\n",
        "\n",
        "model = keras.Model(inputs=inputs, outputs=outputs)"
      ]
    },
    {
      "cell_type": "markdown",
      "metadata": {
        "id": "p-Ybc-jqS7ZO"
      },
      "source": [
        "Running the Model with callbacks being set to Model Checkpoint"
      ]
    },
    {
      "cell_type": "code",
      "execution_count": null,
      "metadata": {
        "colab": {
          "base_uri": "https://localhost:8080/"
        },
        "id": "9fkZeb2h_C0A",
        "outputId": "54e50815-05cd-4051-88ab-fbcfe1ef178a"
      },
      "outputs": [
        {
          "name": "stdout",
          "output_type": "stream",
          "text": [
            "Epoch 1/30\n",
            "32/32 [==============================] - 16s 301ms/step - loss: 0.7048 - accuracy: 0.4950 - val_loss: 0.6924 - val_accuracy: 0.5040\n",
            "Epoch 2/30\n",
            "32/32 [==============================] - 8s 245ms/step - loss: 0.6936 - accuracy: 0.5010 - val_loss: 0.6929 - val_accuracy: 0.5000\n",
            "Epoch 3/30\n",
            "32/32 [==============================] - 9s 263ms/step - loss: 0.6930 - accuracy: 0.5250 - val_loss: 0.6882 - val_accuracy: 0.6080\n",
            "Epoch 4/30\n",
            "32/32 [==============================] - 8s 240ms/step - loss: 0.6869 - accuracy: 0.5690 - val_loss: 0.7126 - val_accuracy: 0.5140\n",
            "Epoch 5/30\n",
            "32/32 [==============================] - 8s 227ms/step - loss: 0.6958 - accuracy: 0.5290 - val_loss: 0.6750 - val_accuracy: 0.6060\n",
            "Epoch 6/30\n",
            "32/32 [==============================] - 7s 224ms/step - loss: 0.6705 - accuracy: 0.6120 - val_loss: 0.6858 - val_accuracy: 0.5640\n",
            "Epoch 7/30\n",
            "32/32 [==============================] - 9s 260ms/step - loss: 0.6704 - accuracy: 0.5790 - val_loss: 0.6574 - val_accuracy: 0.6000\n",
            "Epoch 8/30\n",
            "32/32 [==============================] - 9s 263ms/step - loss: 0.6398 - accuracy: 0.6410 - val_loss: 0.6801 - val_accuracy: 0.5820\n",
            "Epoch 9/30\n",
            "32/32 [==============================] - 7s 225ms/step - loss: 0.6241 - accuracy: 0.6770 - val_loss: 0.6382 - val_accuracy: 0.6260\n",
            "Epoch 10/30\n",
            "32/32 [==============================] - 8s 230ms/step - loss: 0.6327 - accuracy: 0.6490 - val_loss: 0.6206 - val_accuracy: 0.6520\n",
            "Epoch 11/30\n",
            "32/32 [==============================] - 9s 262ms/step - loss: 0.6264 - accuracy: 0.6600 - val_loss: 0.6326 - val_accuracy: 0.6420\n",
            "Epoch 12/30\n",
            "32/32 [==============================] - 8s 243ms/step - loss: 0.6043 - accuracy: 0.6930 - val_loss: 0.6167 - val_accuracy: 0.6700\n",
            "Epoch 13/30\n",
            "32/32 [==============================] - 8s 236ms/step - loss: 0.5834 - accuracy: 0.7040 - val_loss: 0.6099 - val_accuracy: 0.6860\n",
            "Epoch 14/30\n",
            "32/32 [==============================] - 9s 267ms/step - loss: 0.5788 - accuracy: 0.7110 - val_loss: 0.5726 - val_accuracy: 0.6840\n",
            "Epoch 15/30\n",
            "32/32 [==============================] - 9s 259ms/step - loss: 0.5729 - accuracy: 0.7130 - val_loss: 0.6157 - val_accuracy: 0.6720\n",
            "Epoch 16/30\n",
            "32/32 [==============================] - 7s 223ms/step - loss: 0.5421 - accuracy: 0.7330 - val_loss: 0.6760 - val_accuracy: 0.6540\n",
            "Epoch 17/30\n",
            "32/32 [==============================] - 9s 264ms/step - loss: 0.5672 - accuracy: 0.7240 - val_loss: 0.5938 - val_accuracy: 0.7160\n",
            "Epoch 18/30\n",
            "32/32 [==============================] - 8s 241ms/step - loss: 0.5502 - accuracy: 0.7140 - val_loss: 0.6070 - val_accuracy: 0.6860\n",
            "Epoch 19/30\n",
            "32/32 [==============================] - 7s 225ms/step - loss: 0.5672 - accuracy: 0.7270 - val_loss: 0.6142 - val_accuracy: 0.6880\n",
            "Epoch 20/30\n",
            "32/32 [==============================] - 9s 264ms/step - loss: 0.5557 - accuracy: 0.7110 - val_loss: 0.5694 - val_accuracy: 0.7220\n",
            "Epoch 21/30\n",
            "32/32 [==============================] - 9s 260ms/step - loss: 0.5478 - accuracy: 0.7110 - val_loss: 0.5391 - val_accuracy: 0.7340\n",
            "Epoch 22/30\n",
            "32/32 [==============================] - 7s 223ms/step - loss: 0.5244 - accuracy: 0.7360 - val_loss: 0.5467 - val_accuracy: 0.7440\n",
            "Epoch 23/30\n",
            "32/32 [==============================] - 9s 263ms/step - loss: 0.4810 - accuracy: 0.7690 - val_loss: 0.6056 - val_accuracy: 0.6780\n",
            "Epoch 24/30\n",
            "32/32 [==============================] - 9s 263ms/step - loss: 0.5059 - accuracy: 0.7360 - val_loss: 0.5320 - val_accuracy: 0.7500\n",
            "Epoch 25/30\n",
            "32/32 [==============================] - 8s 242ms/step - loss: 0.4725 - accuracy: 0.7810 - val_loss: 0.5196 - val_accuracy: 0.7500\n",
            "Epoch 26/30\n",
            "32/32 [==============================] - 7s 223ms/step - loss: 0.4469 - accuracy: 0.7810 - val_loss: 0.5406 - val_accuracy: 0.7380\n",
            "Epoch 27/30\n",
            "32/32 [==============================] - 9s 261ms/step - loss: 0.4410 - accuracy: 0.7870 - val_loss: 0.5618 - val_accuracy: 0.7380\n",
            "Epoch 28/30\n",
            "32/32 [==============================] - 9s 261ms/step - loss: 0.4283 - accuracy: 0.8080 - val_loss: 0.5257 - val_accuracy: 0.7560\n",
            "Epoch 29/30\n",
            "32/32 [==============================] - 7s 221ms/step - loss: 0.3942 - accuracy: 0.8220 - val_loss: 0.5454 - val_accuracy: 0.7520\n",
            "Epoch 30/30\n",
            "32/32 [==============================] - 9s 262ms/step - loss: 0.3996 - accuracy: 0.8070 - val_loss: 0.5477 - val_accuracy: 0.7480\n"
          ]
        }
      ],
      "source": [
        "# Compiling the model\n",
        "model.compile(loss=\"binary_crossentropy\",\n",
        "              optimizer=\"adam\",\n",
        "              metrics=[\"accuracy\"])\n",
        "\n",
        "\n",
        "callbacks = ModelCheckpoint(\n",
        "            filepath= \"model2.keras\",\n",
        "            save_best_only= True,\n",
        "            monitor= \"val_loss\")\n",
        "\n",
        "\n",
        "Model_2 = model.fit(\n",
        "          train_dataset,\n",
        "          epochs= 30,\n",
        "          validation_data= validation_dataset,\n",
        "          callbacks= callbacks)"
      ]
    },
    {
      "cell_type": "markdown",
      "metadata": {
        "id": "KrFpyEZJTFSj"
      },
      "source": [
        "Visualizing the Training and Validation Accuracy/Loss"
      ]
    },
    {
      "cell_type": "markdown",
      "metadata": {
        "id": "W9r73w-AXNvs"
      },
      "source": [
        "Evaluating the performance of Model_2 on the test set"
      ]
    },
    {
      "cell_type": "code",
      "execution_count": null,
      "metadata": {
        "colab": {
          "base_uri": "https://localhost:8080/"
        },
        "id": "ph7SDzWj_yFv",
        "outputId": "8edf5860-604f-40b8-c9cc-9c735187f5d6"
      },
      "outputs": [
        {
          "name": "stdout",
          "output_type": "stream",
          "text": [
            "16/16 [==============================] - 1s 29ms/step - loss: 0.6010 - accuracy: 0.7120\n",
            "Loss: 0.601\n",
            "Accuracy: 0.712\n"
          ]
        }
      ],
      "source": [
        "test_model = keras.models.load_model(\"model2.keras\")\n",
        "Model2_Results = test_model.evaluate(test_dataset)\n",
        "print(f'Loss: {Model2_Results[0]:.3f}')\n",
        "print(f'Accuracy: {Model2_Results[1]:.3f}')"
      ]
    },
    {
      "cell_type": "markdown",
      "metadata": {
        "id": "emV6ksDaT9_t"
      },
      "source": [
        "Compared to Model_1 we can clearly see that there is an increase of nearly 10% in the accuracy of the Model_2 which used augmented images to train itself and learn the naturalities from the image."
      ]
    },
    {
      "cell_type": "markdown",
      "metadata": {
        "id": "35d0094mUJ_7"
      },
      "source": [
        "## ***Model - 3 MaxPooling Operation with Increase in filters from 32 to 512 in 6 Input Layers with the use of Augmented Images and Dropout rate of 0.5***"
      ]
    },
    {
      "cell_type": "code",
      "execution_count": null,
      "metadata": {
        "id": "kpom8QDbUTSN"
      },
      "outputs": [],
      "source": [
        "inputs = keras.Input(shape=(180, 180, 3))\n",
        "x = data_augmentation(inputs)\n",
        "x = layers.Rescaling(1./255)(x)\n",
        "x = layers.Conv2D(filters=32, kernel_size=3, activation=\"relu\")(x)\n",
        "x = layers.MaxPooling2D(pool_size=2)(x)\n",
        "x = layers.Conv2D(filters=64, kernel_size=3, activation=\"relu\")(x)\n",
        "x = layers.MaxPooling2D(pool_size=2)(x)\n",
        "x = layers.Conv2D(filters=128, kernel_size=3, activation=\"relu\")(x)\n",
        "x = layers.MaxPooling2D(pool_size=2)(x)\n",
        "x = layers.Conv2D(filters=256, kernel_size=3, activation=\"relu\")(x)\n",
        "x = layers.MaxPooling2D(pool_size=2)(x)\n",
        "x = layers.Conv2D(filters=256, kernel_size=3, activation=\"relu\")(x)\n",
        "x = layers.MaxPooling2D(pool_size=2)(x)\n",
        "x = layers.Conv2D(filters=512, kernel_size=3, activation=\"relu\")(x)\n",
        "x = layers.Flatten()(x)\n",
        "x = layers.Dropout(0.5)(x)\n",
        "outputs = layers.Dense(1, activation=\"sigmoid\")(x)\n",
        "\n",
        "model = keras.Model(inputs=inputs, outputs=outputs)"
      ]
    },
    {
      "cell_type": "code",
      "execution_count": null,
      "metadata": {
        "colab": {
          "base_uri": "https://localhost:8080/"
        },
        "id": "9SKEMd6KWDl3",
        "outputId": "37986c34-c919-42ba-bcdd-a8d9da4b5f35"
      },
      "outputs": [
        {
          "name": "stdout",
          "output_type": "stream",
          "text": [
            "Model: \"model_1\"\n",
            "_________________________________________________________________\n",
            " Layer (type)                Output Shape              Param #   \n",
            "=================================================================\n",
            " input_3 (InputLayer)        [(None, 180, 180, 3)]     0         \n",
            "                                                                 \n",
            " sequential (Sequential)     (None, 180, 180, 3)       0         \n",
            "                                                                 \n",
            " rescaling_2 (Rescaling)     (None, 180, 180, 3)       0         \n",
            "                                                                 \n",
            " conv2d_11 (Conv2D)          (None, 178, 178, 32)      896       \n",
            "                                                                 \n",
            " max_pooling2d_10 (MaxPoolin  (None, 89, 89, 32)       0         \n",
            " g2D)                                                            \n",
            "                                                                 \n",
            " conv2d_12 (Conv2D)          (None, 87, 87, 64)        18496     \n",
            "                                                                 \n",
            " max_pooling2d_11 (MaxPoolin  (None, 43, 43, 64)       0         \n",
            " g2D)                                                            \n",
            "                                                                 \n",
            " conv2d_13 (Conv2D)          (None, 41, 41, 128)       73856     \n",
            "                                                                 \n",
            " max_pooling2d_12 (MaxPoolin  (None, 20, 20, 128)      0         \n",
            " g2D)                                                            \n",
            "                                                                 \n",
            " conv2d_14 (Conv2D)          (None, 18, 18, 256)       295168    \n",
            "                                                                 \n",
            " max_pooling2d_13 (MaxPoolin  (None, 9, 9, 256)        0         \n",
            " g2D)                                                            \n",
            "                                                                 \n",
            " conv2d_15 (Conv2D)          (None, 7, 7, 256)         590080    \n",
            "                                                                 \n",
            " max_pooling2d_14 (MaxPoolin  (None, 3, 3, 256)        0         \n",
            " g2D)                                                            \n",
            "                                                                 \n",
            " conv2d_16 (Conv2D)          (None, 1, 1, 512)         1180160   \n",
            "                                                                 \n",
            " flatten_1 (Flatten)         (None, 512)               0         \n",
            "                                                                 \n",
            " dropout_1 (Dropout)         (None, 512)               0         \n",
            "                                                                 \n",
            " dense_1 (Dense)             (None, 1)                 513       \n",
            "                                                                 \n",
            "=================================================================\n",
            "Total params: 2,159,169\n",
            "Trainable params: 2,159,169\n",
            "Non-trainable params: 0\n",
            "_________________________________________________________________\n"
          ]
        }
      ],
      "source": [
        "model.summary()"
      ]
    },
    {
      "cell_type": "markdown",
      "metadata": {
        "id": "wDpVgvZQl5t7"
      },
      "source": [
        "Running the Model with callbacks being set to Model Checkpoint"
      ]
    },
    {
      "cell_type": "code",
      "execution_count": null,
      "metadata": {
        "colab": {
          "base_uri": "https://localhost:8080/"
        },
        "id": "0ovaL1nVV0w9",
        "outputId": "49b598cb-b08f-4b73-a94a-c519bbb99de7"
      },
      "outputs": [
        {
          "name": "stdout",
          "output_type": "stream",
          "text": [
            "Epoch 1/30\n",
            "32/32 [==============================] - 24s 210ms/step - loss: 0.6957 - accuracy: 0.4760 - val_loss: 0.6925 - val_accuracy: 0.5000\n",
            "Epoch 2/30\n",
            "32/32 [==============================] - 7s 211ms/step - loss: 0.6906 - accuracy: 0.5270 - val_loss: 0.8031 - val_accuracy: 0.5000\n",
            "Epoch 3/30\n",
            "32/32 [==============================] - 6s 191ms/step - loss: 0.6913 - accuracy: 0.5520 - val_loss: 0.6805 - val_accuracy: 0.6100\n",
            "Epoch 4/30\n",
            "32/32 [==============================] - 7s 219ms/step - loss: 0.6830 - accuracy: 0.5800 - val_loss: 0.6780 - val_accuracy: 0.5360\n",
            "Epoch 5/30\n",
            "32/32 [==============================] - 6s 192ms/step - loss: 0.6670 - accuracy: 0.6080 - val_loss: 0.6359 - val_accuracy: 0.6500\n",
            "Epoch 6/30\n",
            "32/32 [==============================] - 7s 217ms/step - loss: 0.6591 - accuracy: 0.6370 - val_loss: 0.6581 - val_accuracy: 0.6640\n",
            "Epoch 7/30\n",
            "32/32 [==============================] - 7s 217ms/step - loss: 0.6389 - accuracy: 0.6590 - val_loss: 0.6227 - val_accuracy: 0.6480\n",
            "Epoch 8/30\n",
            "32/32 [==============================] - 6s 183ms/step - loss: 0.6187 - accuracy: 0.6800 - val_loss: 0.6767 - val_accuracy: 0.5240\n",
            "Epoch 9/30\n",
            "32/32 [==============================] - 7s 216ms/step - loss: 0.6443 - accuracy: 0.6150 - val_loss: 0.6228 - val_accuracy: 0.6600\n",
            "Epoch 10/30\n",
            "32/32 [==============================] - 6s 188ms/step - loss: 0.6041 - accuracy: 0.6970 - val_loss: 0.6389 - val_accuracy: 0.6140\n",
            "Epoch 11/30\n",
            "32/32 [==============================] - 7s 220ms/step - loss: 0.5902 - accuracy: 0.7010 - val_loss: 0.5851 - val_accuracy: 0.6800\n",
            "Epoch 12/30\n",
            "32/32 [==============================] - 6s 189ms/step - loss: 0.5835 - accuracy: 0.6980 - val_loss: 0.6007 - val_accuracy: 0.6780\n",
            "Epoch 13/30\n",
            "32/32 [==============================] - 6s 185ms/step - loss: 0.5601 - accuracy: 0.7170 - val_loss: 0.6000 - val_accuracy: 0.6940\n",
            "Epoch 14/30\n",
            "32/32 [==============================] - 7s 218ms/step - loss: 0.5571 - accuracy: 0.7310 - val_loss: 0.5857 - val_accuracy: 0.7200\n",
            "Epoch 15/30\n",
            "32/32 [==============================] - 6s 185ms/step - loss: 0.5421 - accuracy: 0.7240 - val_loss: 0.5774 - val_accuracy: 0.7140\n",
            "Epoch 16/30\n",
            "32/32 [==============================] - 7s 208ms/step - loss: 0.5314 - accuracy: 0.7390 - val_loss: 0.5649 - val_accuracy: 0.7140\n",
            "Epoch 17/30\n",
            "32/32 [==============================] - 7s 214ms/step - loss: 0.5407 - accuracy: 0.7400 - val_loss: 0.5926 - val_accuracy: 0.7060\n",
            "Epoch 18/30\n",
            "32/32 [==============================] - 6s 185ms/step - loss: 0.5302 - accuracy: 0.7350 - val_loss: 0.5805 - val_accuracy: 0.6980\n",
            "Epoch 19/30\n",
            "32/32 [==============================] - 7s 212ms/step - loss: 0.4904 - accuracy: 0.7650 - val_loss: 0.5503 - val_accuracy: 0.7400\n",
            "Epoch 20/30\n",
            "32/32 [==============================] - 6s 186ms/step - loss: 0.4798 - accuracy: 0.7640 - val_loss: 0.5495 - val_accuracy: 0.7380\n",
            "Epoch 21/30\n",
            "32/32 [==============================] - 7s 208ms/step - loss: 0.4766 - accuracy: 0.7900 - val_loss: 0.5925 - val_accuracy: 0.7120\n",
            "Epoch 22/30\n",
            "32/32 [==============================] - 7s 203ms/step - loss: 0.4899 - accuracy: 0.7710 - val_loss: 0.5477 - val_accuracy: 0.7080\n",
            "Epoch 23/30\n",
            "32/32 [==============================] - 7s 188ms/step - loss: 0.4778 - accuracy: 0.7590 - val_loss: 0.5436 - val_accuracy: 0.7240\n",
            "Epoch 24/30\n",
            "32/32 [==============================] - 7s 209ms/step - loss: 0.4571 - accuracy: 0.7900 - val_loss: 0.5922 - val_accuracy: 0.7040\n",
            "Epoch 25/30\n",
            "32/32 [==============================] - 6s 180ms/step - loss: 0.4353 - accuracy: 0.7970 - val_loss: 0.5254 - val_accuracy: 0.7360\n",
            "Epoch 26/30\n",
            "32/32 [==============================] - 7s 211ms/step - loss: 0.4153 - accuracy: 0.8250 - val_loss: 0.5222 - val_accuracy: 0.7500\n",
            "Epoch 27/30\n",
            "32/32 [==============================] - 6s 182ms/step - loss: 0.4258 - accuracy: 0.8050 - val_loss: 0.5223 - val_accuracy: 0.7580\n",
            "Epoch 28/30\n",
            "32/32 [==============================] - 7s 212ms/step - loss: 0.4059 - accuracy: 0.8180 - val_loss: 0.5331 - val_accuracy: 0.7520\n",
            "Epoch 29/30\n",
            "32/32 [==============================] - 6s 186ms/step - loss: 0.3896 - accuracy: 0.8300 - val_loss: 0.6042 - val_accuracy: 0.7260\n",
            "Epoch 30/30\n",
            "32/32 [==============================] - 7s 210ms/step - loss: 0.3744 - accuracy: 0.8250 - val_loss: 0.5867 - val_accuracy: 0.7280\n"
          ]
        }
      ],
      "source": [
        "# Compiling the Model\n",
        "model.compile(loss= \"binary_crossentropy\",\n",
        "              optimizer= \"adam\",\n",
        "              metrics= [\"accuracy\"])\n",
        "\n",
        "\n",
        "# Monitoring the best validation loss using Callbacks\n",
        "callbacks = ModelCheckpoint(\n",
        "            filepath= \"model3.keras\",\n",
        "            save_best_only= True,\n",
        "            monitor= \"val_loss\")\n",
        "\n",
        "\n",
        "# Model Fit\n",
        "Model_3 = model.fit(\n",
        "          train_dataset,\n",
        "          epochs= 30,\n",
        "          validation_data= validation_dataset,\n",
        "          callbacks= callbacks)"
      ]
    },
    {
      "cell_type": "markdown",
      "metadata": {
        "id": "05FZdUW-lyw2"
      },
      "source": [
        "Visualizing the Training and Validation Accuracy/Loss\n",
        "\n"
      ]
    },
    {
      "cell_type": "markdown",
      "metadata": {
        "id": "YA1QNlU0mAIl"
      },
      "source": [
        "Evaluating the performance of Model_3 on the test set"
      ]
    },
    {
      "cell_type": "code",
      "execution_count": null,
      "metadata": {
        "colab": {
          "base_uri": "https://localhost:8080/"
        },
        "id": "i5lgnqw9Y7Z3",
        "outputId": "2da2ab52-7b99-4b75-a5c0-4838cff97cd6"
      },
      "outputs": [
        {
          "name": "stdout",
          "output_type": "stream",
          "text": [
            "16/16 [==============================] - 1s 26ms/step - loss: 0.6090 - accuracy: 0.6920\n",
            "Loss: 0.609\n",
            "Accuracy: 0.692\n"
          ]
        }
      ],
      "source": [
        "best_model = keras.models.load_model(\"model3.keras\")\n",
        "Model3_Results = best_model.evaluate(test_dataset)\n",
        "print(f'Loss: {Model3_Results[0]:.3f}')\n",
        "print(f'Accuracy: {Model3_Results[1]:.3f}')"
      ]
    },
    {
      "cell_type": "markdown",
      "metadata": {
        "id": "7FF1wzdQoum_"
      },
      "source": [
        "## ***Model - 4 MaxPooling Operation with Increase in filters from 64 to 1024 in 5 Input Layers with the use of Augmented Images and Dropout rate of 0.6***"
      ]
    },
    {
      "cell_type": "code",
      "execution_count": null,
      "metadata": {
        "id": "-h-GM7ruorOR"
      },
      "outputs": [],
      "source": [
        "inputs = keras.Input(shape=(180,180,3))\n",
        "x = data_augmentation(inputs)\n",
        "x = layers.Rescaling(1./255)(x)\n",
        "x = layers.Conv2D(filters=64, kernel_size=3, activation=\"relu\")(x)\n",
        "x = layers.MaxPooling2D(pool_size=2)(x)\n",
        "x = layers.Conv2D(filters=128, kernel_size=3, activation=\"relu\")(x)\n",
        "x = layers.MaxPooling2D(pool_size=2)(x)\n",
        "x = layers.Conv2D(filters=256, kernel_size=3, activation=\"relu\")(x)\n",
        "x = layers.MaxPooling2D(pool_size=2)(x)\n",
        "x = layers.Conv2D(filters=512, kernel_size=3, activation=\"relu\")(x)\n",
        "x = layers.MaxPooling2D(pool_size=2)(x)\n",
        "x = layers.Conv2D(filters=1024, kernel_size=3, activation=\"relu\")(x)\n",
        "x = layers.Flatten()(x)\n",
        "x = layers.Dropout(0.6)(x)\n",
        "\n",
        "outputs = layers.Dense(1, activation=\"sigmoid\")(x)\n",
        "\n",
        "model = keras.Model(inputs=inputs, outputs=outputs)"
      ]
    },
    {
      "cell_type": "code",
      "execution_count": null,
      "metadata": {
        "colab": {
          "base_uri": "https://localhost:8080/"
        },
        "id": "yjWIRZqoraBz",
        "outputId": "f47ac856-b970-4494-d3d8-58542f678f66"
      },
      "outputs": [
        {
          "name": "stdout",
          "output_type": "stream",
          "text": [
            "Model: \"model_2\"\n",
            "_________________________________________________________________\n",
            " Layer (type)                Output Shape              Param #   \n",
            "=================================================================\n",
            " input_5 (InputLayer)        [(None, 180, 180, 3)]     0         \n",
            "                                                                 \n",
            " sequential (Sequential)     (None, 180, 180, 3)       0         \n",
            "                                                                 \n",
            " rescaling_4 (Rescaling)     (None, 180, 180, 3)       0         \n",
            "                                                                 \n",
            " conv2d_22 (Conv2D)          (None, 178, 178, 64)      1792      \n",
            "                                                                 \n",
            " max_pooling2d_19 (MaxPoolin  (None, 89, 89, 64)       0         \n",
            " g2D)                                                            \n",
            "                                                                 \n",
            " conv2d_23 (Conv2D)          (None, 87, 87, 128)       73856     \n",
            "                                                                 \n",
            " max_pooling2d_20 (MaxPoolin  (None, 43, 43, 128)      0         \n",
            " g2D)                                                            \n",
            "                                                                 \n",
            " conv2d_24 (Conv2D)          (None, 41, 41, 256)       295168    \n",
            "                                                                 \n",
            " max_pooling2d_21 (MaxPoolin  (None, 20, 20, 256)      0         \n",
            " g2D)                                                            \n",
            "                                                                 \n",
            " conv2d_25 (Conv2D)          (None, 18, 18, 512)       1180160   \n",
            "                                                                 \n",
            " max_pooling2d_22 (MaxPoolin  (None, 9, 9, 512)        0         \n",
            " g2D)                                                            \n",
            "                                                                 \n",
            " conv2d_26 (Conv2D)          (None, 7, 7, 1024)        4719616   \n",
            "                                                                 \n",
            " flatten_3 (Flatten)         (None, 50176)             0         \n",
            "                                                                 \n",
            " dropout_2 (Dropout)         (None, 50176)             0         \n",
            "                                                                 \n",
            " dense_2 (Dense)             (None, 1)                 50177     \n",
            "                                                                 \n",
            "=================================================================\n",
            "Total params: 6,320,769\n",
            "Trainable params: 6,320,769\n",
            "Non-trainable params: 0\n",
            "_________________________________________________________________\n"
          ]
        }
      ],
      "source": [
        "model.summary()"
      ]
    },
    {
      "cell_type": "code",
      "execution_count": null,
      "metadata": {
        "colab": {
          "base_uri": "https://localhost:8080/"
        },
        "id": "IMaPIX2QrqLp",
        "outputId": "f07d170a-697f-494b-b086-364cdc770dc8"
      },
      "outputs": [
        {
          "name": "stdout",
          "output_type": "stream",
          "text": [
            "Epoch 1/30\n",
            "32/32 [==============================] - 16s 291ms/step - loss: 0.7226 - accuracy: 0.4980 - val_loss: 0.6932 - val_accuracy: 0.5000\n",
            "Epoch 2/30\n",
            "32/32 [==============================] - 8s 227ms/step - loss: 0.6936 - accuracy: 0.4880 - val_loss: 0.6931 - val_accuracy: 0.5000\n",
            "Epoch 3/30\n",
            "32/32 [==============================] - 9s 258ms/step - loss: 0.6936 - accuracy: 0.5020 - val_loss: 0.6927 - val_accuracy: 0.5000\n",
            "Epoch 4/30\n",
            "32/32 [==============================] - 8s 254ms/step - loss: 0.6937 - accuracy: 0.4900 - val_loss: 0.6926 - val_accuracy: 0.5940\n",
            "Epoch 5/30\n",
            "32/32 [==============================] - 7s 216ms/step - loss: 0.6903 - accuracy: 0.5300 - val_loss: 0.6990 - val_accuracy: 0.5020\n",
            "Epoch 6/30\n",
            "32/32 [==============================] - 8s 252ms/step - loss: 0.6916 - accuracy: 0.5340 - val_loss: 0.6917 - val_accuracy: 0.5200\n",
            "Epoch 7/30\n",
            "32/32 [==============================] - 8s 248ms/step - loss: 0.6923 - accuracy: 0.5460 - val_loss: 0.6901 - val_accuracy: 0.5000\n",
            "Epoch 8/30\n",
            "32/32 [==============================] - 8s 247ms/step - loss: 0.6890 - accuracy: 0.5090 - val_loss: 0.6882 - val_accuracy: 0.4960\n",
            "Epoch 9/30\n",
            "32/32 [==============================] - 8s 224ms/step - loss: 0.6850 - accuracy: 0.4930 - val_loss: 0.6869 - val_accuracy: 0.5460\n",
            "Epoch 10/30\n",
            "32/32 [==============================] - 8s 245ms/step - loss: 0.6845 - accuracy: 0.5510 - val_loss: 0.7839 - val_accuracy: 0.5000\n",
            "Epoch 11/30\n",
            "32/32 [==============================] - 7s 218ms/step - loss: 0.6978 - accuracy: 0.5180 - val_loss: 0.7075 - val_accuracy: 0.5060\n",
            "Epoch 12/30\n",
            "32/32 [==============================] - 8s 246ms/step - loss: 0.6882 - accuracy: 0.5380 - val_loss: 0.6863 - val_accuracy: 0.5380\n",
            "Epoch 13/30\n",
            "32/32 [==============================] - 8s 252ms/step - loss: 0.6843 - accuracy: 0.5350 - val_loss: 0.6842 - val_accuracy: 0.5520\n",
            "Epoch 14/30\n",
            "32/32 [==============================] - 8s 242ms/step - loss: 0.6825 - accuracy: 0.5640 - val_loss: 0.6798 - val_accuracy: 0.5760\n",
            "Epoch 15/30\n",
            "32/32 [==============================] - 7s 220ms/step - loss: 0.6909 - accuracy: 0.5530 - val_loss: 0.6825 - val_accuracy: 0.5120\n",
            "Epoch 16/30\n",
            "32/32 [==============================] - 8s 245ms/step - loss: 0.6830 - accuracy: 0.5380 - val_loss: 0.6900 - val_accuracy: 0.5320\n",
            "Epoch 17/30\n",
            "32/32 [==============================] - 8s 240ms/step - loss: 0.6878 - accuracy: 0.5350 - val_loss: 0.6863 - val_accuracy: 0.5580\n",
            "Epoch 18/30\n",
            "32/32 [==============================] - 8s 238ms/step - loss: 0.6858 - accuracy: 0.5380 - val_loss: 0.6860 - val_accuracy: 0.5620\n",
            "Epoch 19/30\n",
            "32/32 [==============================] - 8s 222ms/step - loss: 0.6829 - accuracy: 0.5570 - val_loss: 0.6834 - val_accuracy: 0.5720\n",
            "Epoch 20/30\n",
            "32/32 [==============================] - 8s 251ms/step - loss: 0.6794 - accuracy: 0.5620 - val_loss: 0.6704 - val_accuracy: 0.5400\n",
            "Epoch 21/30\n",
            "32/32 [==============================] - 8s 245ms/step - loss: 0.6753 - accuracy: 0.5850 - val_loss: 0.6860 - val_accuracy: 0.5080\n",
            "Epoch 22/30\n",
            "32/32 [==============================] - 7s 216ms/step - loss: 0.6799 - accuracy: 0.5270 - val_loss: 1.0090 - val_accuracy: 0.5120\n",
            "Epoch 23/30\n",
            "32/32 [==============================] - 8s 238ms/step - loss: 0.6877 - accuracy: 0.5700 - val_loss: 0.6830 - val_accuracy: 0.5740\n",
            "Epoch 24/30\n",
            "32/32 [==============================] - 8s 241ms/step - loss: 0.6795 - accuracy: 0.5590 - val_loss: 0.6946 - val_accuracy: 0.5200\n",
            "Epoch 25/30\n",
            "32/32 [==============================] - 7s 226ms/step - loss: 0.6706 - accuracy: 0.5670 - val_loss: 0.6606 - val_accuracy: 0.6120\n",
            "Epoch 26/30\n",
            "32/32 [==============================] - 8s 257ms/step - loss: 0.6499 - accuracy: 0.6120 - val_loss: 0.6520 - val_accuracy: 0.6180\n",
            "Epoch 27/30\n",
            "32/32 [==============================] - 8s 248ms/step - loss: 0.6328 - accuracy: 0.6340 - val_loss: 0.6814 - val_accuracy: 0.6060\n",
            "Epoch 28/30\n",
            "32/32 [==============================] - 7s 220ms/step - loss: 0.6327 - accuracy: 0.6510 - val_loss: 0.6388 - val_accuracy: 0.6420\n",
            "Epoch 29/30\n",
            "32/32 [==============================] - 8s 244ms/step - loss: 0.6276 - accuracy: 0.6550 - val_loss: 0.6248 - val_accuracy: 0.6520\n",
            "Epoch 30/30\n",
            "32/32 [==============================] - 8s 252ms/step - loss: 0.6086 - accuracy: 0.6740 - val_loss: 0.6165 - val_accuracy: 0.6560\n"
          ]
        }
      ],
      "source": [
        "# Compiling the Model\n",
        "model.compile(loss= \"binary_crossentropy\",\n",
        "              optimizer= \"adam\",\n",
        "              metrics= ['accuracy'])\n",
        "\n",
        "\n",
        "# Monitoring the best validation loss using Callbacks\n",
        "callbacks = ModelCheckpoint(\n",
        "            filepath = \"model4.keras\",\n",
        "            save_best_only= True,\n",
        "            monitor= \"val_loss\"\n",
        "            )\n",
        "\n",
        "# Model Fit\n",
        "Model_4 = model.fit(\n",
        "          train_dataset,\n",
        "          epochs= 30,\n",
        "          validation_data= validation_dataset,\n",
        "          callbacks= callbacks\n",
        "          )"
      ]
    },
    {
      "cell_type": "markdown",
      "metadata": {
        "id": "a4_FsvnLt8MX"
      },
      "source": [
        "Visualizing the Training and Validation Accuracy/Loss"
      ]
    },
    {
      "cell_type": "markdown",
      "metadata": {
        "id": "83y4QtOyuiwk"
      },
      "source": [
        "Evaluating the performance of Model_4 on the test set"
      ]
    },
    {
      "cell_type": "code",
      "execution_count": null,
      "metadata": {
        "colab": {
          "base_uri": "https://localhost:8080/"
        },
        "id": "OByJV_beuXLs",
        "outputId": "b5a00c05-fbdd-4d7c-8987-7d49e294a59a"
      },
      "outputs": [
        {
          "name": "stdout",
          "output_type": "stream",
          "text": [
            "16/16 [==============================] - 1s 31ms/step - loss: 0.6664 - accuracy: 0.6520\n",
            "Loss: 0.666\n",
            "Accuracy: 0.652\n"
          ]
        }
      ],
      "source": [
        "best_model = keras.models.load_model(\"model4.keras\")\n",
        "Model4_Results = best_model.evaluate(test_dataset)\n",
        "print(f'Loss: {Model4_Results[0]:.3f}')\n",
        "print(f'Accuracy: {Model4_Results[1]:.3f}')"
      ]
    },
    {
      "cell_type": "markdown",
      "metadata": {
        "id": "EMgn171raXLb"
      },
      "source": [
        "### ***To answer the first question we did try to build 4 models with the training sample being 1000, out of the 4 models built we could see that model 2 was having the highest accuracy around 71% and minimal loss around 60%.***"
      ]
    },
    {
      "cell_type": "code",
      "execution_count": null,
      "metadata": {
        "id": "IeqY7PJeavO-"
      },
      "outputs": [],
      "source": [
        "Model_1 = (0.645, 0.614)\n",
        "Model_2 = (0.601, 0.712)\n",
        "Model_3 = (0.609,0.692)\n",
        "Model_4 = (0.666, 0.652)"
      ]
    },
    {
      "cell_type": "markdown",
      "metadata": {
        "id": "eX4w5fJGfiXT"
      },
      "source": [
        "Model 2 was built using the augmented training samples which I think has led to provide more training data for the model to learn the characteristics of the images. So for the increased training samples model we will be using the augmented images again to train the model but with a training size of 2000 Samples and Validation and Test being 500 Each."
      ]
    },
    {
      "cell_type": "markdown",
      "metadata": {
        "id": "wZDD1PErf2a5"
      },
      "source": [
        "## ***Training Sample - 2000***"
      ]
    },
    {
      "cell_type": "markdown",
      "metadata": {
        "id": "6tjnSKm3f8Pi"
      },
      "source": [
        "Creating directory named cats vs dogs to store the images into 3 subsets named train, validation and test"
      ]
    },
    {
      "cell_type": "code",
      "execution_count": null,
      "metadata": {
        "id": "OMlyxlr0gRDS"
      },
      "outputs": [],
      "source": [
        "import os, shutil, pathlib\n",
        "\n",
        "original_dir = pathlib.Path(\"train\")\n",
        "new_base_dir = pathlib.Path(\"cats_vs_dogs\")\n",
        "\n",
        "def make_subset(subset_name, start_index, end_index):\n",
        "    for category in (\"cat\", \"dog\"):\n",
        "        dir = new_base_dir / subset_name / category\n",
        "        os.makedirs(dir)\n",
        "        fnames = [f\"{category}.{i}.jpg\" for i in range(start_index, end_index)]\n",
        "        for fname in fnames:\n",
        "            shutil.copyfile(src=original_dir / fname,\n",
        "                            dst=dir / fname)\n",
        "\n",
        "make_subset(\"train\", start_index=0, end_index=1000)\n",
        "make_subset(\"validation\", start_index=1000, end_index=1250)\n",
        "make_subset(\"test\", start_index=1500, end_index=1750)"
      ]
    },
    {
      "cell_type": "markdown",
      "metadata": {
        "id": "Ye-fQDA7gxym"
      },
      "source": [
        "Data Pre-Processing\n",
        "\n",
        "Using image_dataset_from_directory to read images\n"
      ]
    },
    {
      "cell_type": "code",
      "execution_count": null,
      "metadata": {
        "colab": {
          "base_uri": "https://localhost:8080/"
        },
        "id": "MOfJh98hgY0q",
        "outputId": "177a2a7e-a215-4eab-aabb-a7f48c2f51b6"
      },
      "outputs": [
        {
          "name": "stdout",
          "output_type": "stream",
          "text": [
            "Found 2000 files belonging to 2 classes.\n",
            "Found 500 files belonging to 2 classes.\n",
            "Found 500 files belonging to 2 classes.\n"
          ]
        }
      ],
      "source": [
        "train_dataset = image_dataset_from_directory(\n",
        "    new_base_dir / \"train\",\n",
        "    image_size=(180, 180),\n",
        "    batch_size=32)\n",
        "validation_dataset = image_dataset_from_directory(\n",
        "    new_base_dir / \"validation\",\n",
        "    image_size=(180, 180),\n",
        "    batch_size=32)\n",
        "test_dataset = image_dataset_from_directory(\n",
        "    new_base_dir / \"test\",\n",
        "    image_size=(180, 180),\n",
        "    batch_size=32)"
      ]
    },
    {
      "cell_type": "markdown",
      "metadata": {
        "id": "ruT4a5Ebgdnu"
      },
      "source": [
        "Viewing the size of the images "
      ]
    },
    {
      "cell_type": "code",
      "execution_count": null,
      "metadata": {
        "colab": {
          "base_uri": "https://localhost:8080/"
        },
        "id": "N6kWhRVbgeOA",
        "outputId": "11918345-104c-4481-cd8a-ca8ef4c674aa"
      },
      "outputs": [
        {
          "name": "stdout",
          "output_type": "stream",
          "text": [
            "data batch shape: (32, 180, 180, 3)\n",
            "labels batch shape: (32,)\n"
          ]
        }
      ],
      "source": [
        "for data_batch, labels_batch in train_dataset:\n",
        "    print(\"data batch shape:\", data_batch.shape)\n",
        "    print(\"labels batch shape:\", labels_batch.shape)\n",
        "    break"
      ]
    },
    {
      "cell_type": "markdown",
      "metadata": {
        "id": "6iP_uzTQhcWR"
      },
      "source": [
        "Using few of the techniques such as random flip, random zoom, random rotation so as to create augmented versions of the image"
      ]
    },
    {
      "cell_type": "code",
      "execution_count": null,
      "metadata": {
        "id": "-LnDJs9uhctM"
      },
      "outputs": [],
      "source": [
        "data_augmentation_1 = keras.Sequential(\n",
        "    [\n",
        "        layers.RandomFlip(\"horizontal\"),\n",
        "        layers.RandomRotation(0.15),\n",
        "        layers.RandomZoom(0.25)\n",
        "    ]\n",
        ")"
      ]
    },
    {
      "cell_type": "markdown",
      "metadata": {
        "id": "OTk0MZu_glt-"
      },
      "source": [
        "## ***Model - 5 MaxPooling Operation with Increase in filters from 32 to 256 in 5 Input Layers with the data being used from the Augmented Images and a droput rate of 0.5 (Training Sample - 2000)***"
      ]
    },
    {
      "cell_type": "code",
      "execution_count": null,
      "metadata": {
        "id": "DJ02Dk7Pgkef"
      },
      "outputs": [],
      "source": [
        "inputs = keras.Input(shape=(180, 180, 3))\n",
        "x = data_augmentation_1(inputs)\n",
        "x = layers.Rescaling(1./255)(x)\n",
        "x = layers.Conv2D(filters=32, kernel_size=3, activation=\"relu\")(x)\n",
        "x = layers.MaxPooling2D(pool_size=2)(x)\n",
        "x = layers.Conv2D(filters=64, kernel_size=3, activation=\"relu\")(x)\n",
        "x = layers.MaxPooling2D(pool_size=2)(x)\n",
        "x = layers.Conv2D(filters=128, kernel_size=3, activation=\"relu\")(x)\n",
        "x = layers.MaxPooling2D(pool_size=2)(x)\n",
        "x = layers.Conv2D(filters=256, kernel_size=3, activation=\"relu\")(x)\n",
        "x = layers.MaxPooling2D(pool_size=2)(x)\n",
        "x = layers.Conv2D(filters=256, kernel_size=3, activation=\"relu\")(x)\n",
        "x = layers.Flatten()(x)\n",
        "x = layers.Dropout(0.5)(x)\n",
        "outputs = layers.Dense(1, activation=\"sigmoid\")(x)\n",
        "\n",
        "model = keras.Model(inputs=inputs, outputs=outputs)"
      ]
    },
    {
      "cell_type": "code",
      "execution_count": null,
      "metadata": {
        "colab": {
          "base_uri": "https://localhost:8080/"
        },
        "id": "WJMZQ_txh4ex",
        "outputId": "5cc9247d-34fe-4275-81a1-e3a716440964"
      },
      "outputs": [
        {
          "name": "stdout",
          "output_type": "stream",
          "text": [
            "Model: \"model\"\n",
            "_________________________________________________________________\n",
            " Layer (type)                Output Shape              Param #   \n",
            "=================================================================\n",
            " input_1 (InputLayer)        [(None, 180, 180, 3)]     0         \n",
            "                                                                 \n",
            " sequential (Sequential)     (None, 180, 180, 3)       0         \n",
            "                                                                 \n",
            " rescaling (Rescaling)       (None, 180, 180, 3)       0         \n",
            "                                                                 \n",
            " conv2d (Conv2D)             (None, 178, 178, 32)      896       \n",
            "                                                                 \n",
            " max_pooling2d (MaxPooling2D  (None, 89, 89, 32)       0         \n",
            " )                                                               \n",
            "                                                                 \n",
            " conv2d_1 (Conv2D)           (None, 87, 87, 64)        18496     \n",
            "                                                                 \n",
            " max_pooling2d_1 (MaxPooling  (None, 43, 43, 64)       0         \n",
            " 2D)                                                             \n",
            "                                                                 \n",
            " conv2d_2 (Conv2D)           (None, 41, 41, 128)       73856     \n",
            "                                                                 \n",
            " max_pooling2d_2 (MaxPooling  (None, 20, 20, 128)      0         \n",
            " 2D)                                                             \n",
            "                                                                 \n",
            " conv2d_3 (Conv2D)           (None, 18, 18, 256)       295168    \n",
            "                                                                 \n",
            " max_pooling2d_3 (MaxPooling  (None, 9, 9, 256)        0         \n",
            " 2D)                                                             \n",
            "                                                                 \n",
            " conv2d_4 (Conv2D)           (None, 7, 7, 256)         590080    \n",
            "                                                                 \n",
            " flatten (Flatten)           (None, 12544)             0         \n",
            "                                                                 \n",
            " dropout (Dropout)           (None, 12544)             0         \n",
            "                                                                 \n",
            " dense (Dense)               (None, 1)                 12545     \n",
            "                                                                 \n",
            "=================================================================\n",
            "Total params: 991,041\n",
            "Trainable params: 991,041\n",
            "Non-trainable params: 0\n",
            "_________________________________________________________________\n"
          ]
        }
      ],
      "source": [
        "model.summary()"
      ]
    },
    {
      "cell_type": "code",
      "execution_count": null,
      "metadata": {
        "colab": {
          "base_uri": "https://localhost:8080/"
        },
        "id": "406mv2S3h5vO",
        "outputId": "364ce030-2b5f-483c-8d17-04aeb0591105"
      },
      "outputs": [
        {
          "name": "stdout",
          "output_type": "stream",
          "text": [
            "Epoch 1/50\n",
            "63/63 [==============================] - 17s 198ms/step - loss: 0.4870 - accuracy: 0.7660 - val_loss: 0.4957 - val_accuracy: 0.7640\n",
            "Epoch 2/50\n",
            "63/63 [==============================] - 12s 195ms/step - loss: 0.4691 - accuracy: 0.7830 - val_loss: 0.4621 - val_accuracy: 0.7840\n",
            "Epoch 3/50\n",
            "63/63 [==============================] - 13s 194ms/step - loss: 0.4539 - accuracy: 0.7900 - val_loss: 0.5484 - val_accuracy: 0.7520\n",
            "Epoch 4/50\n",
            "63/63 [==============================] - 12s 194ms/step - loss: 0.4262 - accuracy: 0.7960 - val_loss: 0.4427 - val_accuracy: 0.7840\n",
            "Epoch 5/50\n",
            "63/63 [==============================] - 12s 193ms/step - loss: 0.4228 - accuracy: 0.8025 - val_loss: 0.4547 - val_accuracy: 0.8020\n",
            "Epoch 6/50\n",
            "63/63 [==============================] - 12s 191ms/step - loss: 0.3976 - accuracy: 0.8090 - val_loss: 0.4624 - val_accuracy: 0.8080\n",
            "Epoch 7/50\n",
            "63/63 [==============================] - 13s 206ms/step - loss: 0.4214 - accuracy: 0.8035 - val_loss: 0.4787 - val_accuracy: 0.7920\n",
            "Epoch 8/50\n",
            "63/63 [==============================] - 12s 194ms/step - loss: 0.3993 - accuracy: 0.8265 - val_loss: 0.4069 - val_accuracy: 0.8000\n",
            "Epoch 9/50\n",
            "63/63 [==============================] - 12s 194ms/step - loss: 0.3736 - accuracy: 0.8375 - val_loss: 0.4230 - val_accuracy: 0.8080\n",
            "Epoch 10/50\n",
            "63/63 [==============================] - 12s 192ms/step - loss: 0.3766 - accuracy: 0.8320 - val_loss: 0.4365 - val_accuracy: 0.7980\n",
            "Epoch 11/50\n",
            "63/63 [==============================] - 12s 192ms/step - loss: 0.3584 - accuracy: 0.8350 - val_loss: 0.4982 - val_accuracy: 0.7680\n",
            "Epoch 12/50\n",
            "63/63 [==============================] - 12s 193ms/step - loss: 0.3507 - accuracy: 0.8500 - val_loss: 0.4642 - val_accuracy: 0.7920\n",
            "Epoch 13/50\n",
            "63/63 [==============================] - 12s 192ms/step - loss: 0.3424 - accuracy: 0.8530 - val_loss: 0.5089 - val_accuracy: 0.7720\n",
            "Epoch 14/50\n",
            "63/63 [==============================] - 12s 194ms/step - loss: 0.3209 - accuracy: 0.8565 - val_loss: 0.5075 - val_accuracy: 0.8020\n",
            "Epoch 15/50\n",
            "63/63 [==============================] - 12s 194ms/step - loss: 0.3308 - accuracy: 0.8615 - val_loss: 0.4002 - val_accuracy: 0.8120\n",
            "Epoch 16/50\n",
            "63/63 [==============================] - 12s 192ms/step - loss: 0.2918 - accuracy: 0.8760 - val_loss: 0.4205 - val_accuracy: 0.8200\n",
            "Epoch 17/50\n",
            "63/63 [==============================] - 12s 192ms/step - loss: 0.3189 - accuracy: 0.8530 - val_loss: 0.4375 - val_accuracy: 0.8020\n",
            "Epoch 18/50\n",
            "63/63 [==============================] - 12s 193ms/step - loss: 0.2927 - accuracy: 0.8705 - val_loss: 0.5573 - val_accuracy: 0.7860\n",
            "Epoch 19/50\n",
            "63/63 [==============================] - 12s 194ms/step - loss: 0.2829 - accuracy: 0.8775 - val_loss: 0.4606 - val_accuracy: 0.8000\n",
            "Epoch 20/50\n",
            "63/63 [==============================] - 12s 194ms/step - loss: 0.2652 - accuracy: 0.8825 - val_loss: 0.4465 - val_accuracy: 0.8020\n",
            "Epoch 21/50\n",
            "63/63 [==============================] - 13s 206ms/step - loss: 0.2801 - accuracy: 0.8805 - val_loss: 0.3965 - val_accuracy: 0.8200\n",
            "Epoch 22/50\n",
            "63/63 [==============================] - 13s 195ms/step - loss: 0.2708 - accuracy: 0.8855 - val_loss: 0.4080 - val_accuracy: 0.8140\n",
            "Epoch 23/50\n",
            "63/63 [==============================] - 13s 195ms/step - loss: 0.2401 - accuracy: 0.9005 - val_loss: 0.4682 - val_accuracy: 0.8280\n",
            "Epoch 24/50\n",
            "63/63 [==============================] - 12s 194ms/step - loss: 0.2769 - accuracy: 0.8840 - val_loss: 0.4079 - val_accuracy: 0.8320\n",
            "Epoch 25/50\n",
            "63/63 [==============================] - 12s 193ms/step - loss: 0.2706 - accuracy: 0.8820 - val_loss: 0.3939 - val_accuracy: 0.8280\n",
            "Epoch 26/50\n",
            "63/63 [==============================] - 12s 189ms/step - loss: 0.2383 - accuracy: 0.8980 - val_loss: 0.5219 - val_accuracy: 0.8020\n",
            "Epoch 27/50\n",
            "63/63 [==============================] - 12s 190ms/step - loss: 0.2164 - accuracy: 0.9135 - val_loss: 0.5361 - val_accuracy: 0.8100\n",
            "Epoch 28/50\n",
            "63/63 [==============================] - 12s 187ms/step - loss: 0.2521 - accuracy: 0.8985 - val_loss: 0.5413 - val_accuracy: 0.7820\n",
            "Epoch 29/50\n",
            "63/63 [==============================] - 12s 189ms/step - loss: 0.2279 - accuracy: 0.9105 - val_loss: 0.4374 - val_accuracy: 0.8160\n",
            "Epoch 30/50\n",
            "63/63 [==============================] - 12s 189ms/step - loss: 0.2048 - accuracy: 0.9220 - val_loss: 0.3993 - val_accuracy: 0.8380\n",
            "Epoch 31/50\n",
            "63/63 [==============================] - 12s 189ms/step - loss: 0.1789 - accuracy: 0.9340 - val_loss: 0.4574 - val_accuracy: 0.8340\n",
            "Epoch 32/50\n",
            "63/63 [==============================] - 12s 189ms/step - loss: 0.2028 - accuracy: 0.9155 - val_loss: 0.4683 - val_accuracy: 0.8320\n",
            "Epoch 33/50\n",
            "63/63 [==============================] - 12s 187ms/step - loss: 0.1861 - accuracy: 0.9335 - val_loss: 0.5795 - val_accuracy: 0.8060\n",
            "Epoch 34/50\n",
            "63/63 [==============================] - 12s 190ms/step - loss: 0.2232 - accuracy: 0.9105 - val_loss: 0.4715 - val_accuracy: 0.8020\n",
            "Epoch 35/50\n",
            "63/63 [==============================] - 12s 186ms/step - loss: 0.2063 - accuracy: 0.9095 - val_loss: 0.4705 - val_accuracy: 0.8240\n",
            "Epoch 36/50\n",
            "63/63 [==============================] - 12s 189ms/step - loss: 0.1551 - accuracy: 0.9400 - val_loss: 0.5385 - val_accuracy: 0.8080\n",
            "Epoch 37/50\n",
            "63/63 [==============================] - 12s 188ms/step - loss: 0.1568 - accuracy: 0.9380 - val_loss: 0.5739 - val_accuracy: 0.8220\n",
            "Epoch 38/50\n",
            "63/63 [==============================] - 12s 187ms/step - loss: 0.1763 - accuracy: 0.9310 - val_loss: 0.5558 - val_accuracy: 0.8260\n",
            "Epoch 39/50\n",
            "63/63 [==============================] - 12s 187ms/step - loss: 0.1649 - accuracy: 0.9350 - val_loss: 0.4797 - val_accuracy: 0.8240\n",
            "Epoch 40/50\n",
            "63/63 [==============================] - 12s 189ms/step - loss: 0.1438 - accuracy: 0.9495 - val_loss: 0.5022 - val_accuracy: 0.8340\n",
            "Epoch 41/50\n",
            "63/63 [==============================] - 12s 188ms/step - loss: 0.1367 - accuracy: 0.9450 - val_loss: 0.5088 - val_accuracy: 0.8280\n",
            "Epoch 42/50\n",
            "63/63 [==============================] - 12s 191ms/step - loss: 0.1739 - accuracy: 0.9355 - val_loss: 0.5425 - val_accuracy: 0.8180\n",
            "Epoch 43/50\n",
            "63/63 [==============================] - 12s 187ms/step - loss: 0.1569 - accuracy: 0.9330 - val_loss: 0.4620 - val_accuracy: 0.8300\n",
            "Epoch 44/50\n",
            "63/63 [==============================] - 12s 186ms/step - loss: 0.1346 - accuracy: 0.9485 - val_loss: 0.4623 - val_accuracy: 0.8360\n",
            "Epoch 45/50\n",
            "63/63 [==============================] - 12s 190ms/step - loss: 0.1142 - accuracy: 0.9560 - val_loss: 0.5771 - val_accuracy: 0.8160\n",
            "Epoch 46/50\n",
            "63/63 [==============================] - 12s 190ms/step - loss: 0.1157 - accuracy: 0.9570 - val_loss: 0.5628 - val_accuracy: 0.8280\n",
            "Epoch 47/50\n",
            "63/63 [==============================] - 12s 188ms/step - loss: 0.1150 - accuracy: 0.9605 - val_loss: 0.5368 - val_accuracy: 0.8560\n",
            "Epoch 48/50\n",
            "63/63 [==============================] - 12s 189ms/step - loss: 0.1495 - accuracy: 0.9485 - val_loss: 0.6303 - val_accuracy: 0.8380\n",
            "Epoch 49/50\n",
            "63/63 [==============================] - 12s 189ms/step - loss: 0.1502 - accuracy: 0.9380 - val_loss: 0.4323 - val_accuracy: 0.8320\n",
            "Epoch 50/50\n",
            "63/63 [==============================] - 12s 187ms/step - loss: 0.1261 - accuracy: 0.9500 - val_loss: 0.5252 - val_accuracy: 0.8340\n"
          ]
        }
      ],
      "source": [
        "# Compiling the Model\n",
        "model.compile(loss= \"binary_crossentropy\",\n",
        "              optimizer= \"adam\",\n",
        "              metrics= ['accuracy'])\n",
        "\n",
        "\n",
        "# Monitoring the best validation loss using Callbacks\n",
        "callbacks = ModelCheckpoint(\n",
        "            filepath = \"model5.keras\",\n",
        "            save_best_only= True,\n",
        "            monitor= \"val_loss\"\n",
        "            )\n",
        "\n",
        "# Model Fit\n",
        "Model_5 = model.fit(\n",
        "          train_dataset,\n",
        "          epochs= 50,\n",
        "          validation_data= validation_dataset,\n",
        "          callbacks= callbacks\n",
        "          )"
      ]
    },
    {
      "cell_type": "markdown",
      "metadata": {
        "id": "YjHatXmHh3PV"
      },
      "source": [
        "Visualizing the Training and Validation Accuracy/Loss"
      ]
    },
    {
      "cell_type": "markdown",
      "metadata": {
        "id": "JGoHaNKth5BJ"
      },
      "source": [
        "Evaluating the performance of Model_5 on test set"
      ]
    },
    {
      "cell_type": "code",
      "execution_count": null,
      "metadata": {
        "colab": {
          "base_uri": "https://localhost:8080/"
        },
        "id": "Q3yExIDoiQxr",
        "outputId": "cd2781cd-145a-4a72-a81b-4f0d9b4a713e"
      },
      "outputs": [
        {
          "name": "stdout",
          "output_type": "stream",
          "text": [
            "16/16 [==============================] - 1s 35ms/step - loss: 0.4446 - accuracy: 0.8600\n",
            "Loss: 0.445\n",
            "Accuracy: 0.860\n"
          ]
        }
      ],
      "source": [
        "best_model = keras.models.load_model(\"model5.keras\")\n",
        "Model5_Results = best_model.evaluate(test_dataset)\n",
        "print(f'Loss: {Model5_Results[0]:.3f}')\n",
        "print(f'Accuracy: {Model5_Results[1]:.3f}')"
      ]
    },
    {
      "cell_type": "markdown",
      "metadata": {
        "id": "KjcYUiY3GOqV"
      },
      "source": [
        "The second model built just with 1000 training samples resulted in 71% accuracy whereas the same model with an further increase in training samples to 2000 spiked the accuracy to 86% i.e. 15% increase in the accuracy."
      ]
    },
    {
      "cell_type": "markdown",
      "metadata": {
        "id": "9_uVfURhGiRy"
      },
      "source": [
        "We aren't using rmsprop as an optimizer, RMSProp is an widely used optimizer which compensates the slow functional behaviour of AdaGrad whereas ADAM takes the best of the world i.e. Momentum and RMSProp and creates a more robust optimisation functionality to the network."
      ]
    },
    {
      "cell_type": "markdown",
      "metadata": {
        "id": "zSOIEqqEH0cq"
      },
      "source": [
        "## ***Model - 6 Strides Operation with Padding being \"Same\" with Increase in filters from 32 to 256 in 5 Input Layers with the data being used from the Augmented Images and a droput rate of 0.5 (Training Sample - 2000)***"
      ]
    },
    {
      "cell_type": "code",
      "execution_count": null,
      "metadata": {
        "id": "N-xRpnOZHz-d"
      },
      "outputs": [],
      "source": [
        "inputs = keras.Input(shape=(180, 180, 3))\n",
        "x = data_augmentation_1(inputs)\n",
        "x = layers.Rescaling(1./255)(x)\n",
        "x = layers.Conv2D(filters=32, kernel_size=3, strides=2, activation=\"relu\", padding=\"same\")(x)\n",
        "x = layers.Conv2D(filters=64, kernel_size=3, strides=2, activation=\"relu\", padding=\"same\")(x)\n",
        "x = layers.Conv2D(filters=128, kernel_size=3, strides=2, activation=\"relu\", padding=\"same\")(x)\n",
        "x = layers.Conv2D(filters=256, kernel_size=3, strides=2, activation=\"relu\", padding=\"same\")(x)\n",
        "x = layers.Conv2D(filters=256, kernel_size=3, strides=2, activation=\"relu\", padding=\"same\")(x)\n",
        "x = layers.Flatten()(x)\n",
        "x = layers.Dropout(0.5)(x)\n",
        "outputs = layers.Dense(1, activation=\"sigmoid\")(x)\n",
        "\n",
        "model = keras.Model(inputs=inputs, outputs=outputs)"
      ]
    },
    {
      "cell_type": "code",
      "execution_count": null,
      "metadata": {
        "colab": {
          "base_uri": "https://localhost:8080/"
        },
        "id": "rl2gfopJICPP",
        "outputId": "b7d50f28-c4fe-4fde-ec48-411f81c17225"
      },
      "outputs": [
        {
          "name": "stdout",
          "output_type": "stream",
          "text": [
            "Model: \"model_1\"\n",
            "_________________________________________________________________\n",
            " Layer (type)                Output Shape              Param #   \n",
            "=================================================================\n",
            " input_2 (InputLayer)        [(None, 180, 180, 3)]     0         \n",
            "                                                                 \n",
            " sequential (Sequential)     (None, 180, 180, 3)       0         \n",
            "                                                                 \n",
            " rescaling_1 (Rescaling)     (None, 180, 180, 3)       0         \n",
            "                                                                 \n",
            " conv2d_5 (Conv2D)           (None, 90, 90, 32)        896       \n",
            "                                                                 \n",
            " conv2d_6 (Conv2D)           (None, 45, 45, 64)        18496     \n",
            "                                                                 \n",
            " conv2d_7 (Conv2D)           (None, 23, 23, 128)       73856     \n",
            "                                                                 \n",
            " conv2d_8 (Conv2D)           (None, 12, 12, 256)       295168    \n",
            "                                                                 \n",
            " conv2d_9 (Conv2D)           (None, 6, 6, 256)         590080    \n",
            "                                                                 \n",
            " flatten_1 (Flatten)         (None, 9216)              0         \n",
            "                                                                 \n",
            " dropout_1 (Dropout)         (None, 9216)              0         \n",
            "                                                                 \n",
            " dense_1 (Dense)             (None, 1)                 9217      \n",
            "                                                                 \n",
            "=================================================================\n",
            "Total params: 987,713\n",
            "Trainable params: 987,713\n",
            "Non-trainable params: 0\n",
            "_________________________________________________________________\n"
          ]
        }
      ],
      "source": [
        "model.summary()"
      ]
    },
    {
      "cell_type": "code",
      "execution_count": null,
      "metadata": {
        "colab": {
          "base_uri": "https://localhost:8080/"
        },
        "id": "A_WKiWRtIIPm",
        "outputId": "75e36bde-4c97-4b41-d3c6-d3364955ff53"
      },
      "outputs": [
        {
          "name": "stdout",
          "output_type": "stream",
          "text": [
            "Epoch 1/50\n",
            "63/63 [==============================] - 27s 188ms/step - loss: 0.6937 - accuracy: 0.5100 - val_loss: 0.6920 - val_accuracy: 0.5140\n",
            "Epoch 2/50\n",
            "63/63 [==============================] - 12s 180ms/step - loss: 0.6939 - accuracy: 0.4865 - val_loss: 0.6931 - val_accuracy: 0.5000\n",
            "Epoch 3/50\n",
            "63/63 [==============================] - 12s 183ms/step - loss: 0.6934 - accuracy: 0.5120 - val_loss: 0.6921 - val_accuracy: 0.5040\n",
            "Epoch 4/50\n",
            "63/63 [==============================] - 12s 185ms/step - loss: 0.6978 - accuracy: 0.5010 - val_loss: 0.6928 - val_accuracy: 0.5420\n",
            "Epoch 5/50\n",
            "63/63 [==============================] - 12s 180ms/step - loss: 0.6927 - accuracy: 0.5060 - val_loss: 0.6932 - val_accuracy: 0.5000\n",
            "Epoch 6/50\n",
            "63/63 [==============================] - 11s 173ms/step - loss: 0.6934 - accuracy: 0.5015 - val_loss: 0.6925 - val_accuracy: 0.5580\n",
            "Epoch 7/50\n",
            "63/63 [==============================] - 11s 167ms/step - loss: 0.6933 - accuracy: 0.5210 - val_loss: 0.6917 - val_accuracy: 0.4920\n",
            "Epoch 8/50\n",
            "63/63 [==============================] - 11s 179ms/step - loss: 0.6915 - accuracy: 0.5365 - val_loss: 0.6890 - val_accuracy: 0.5900\n",
            "Epoch 9/50\n",
            "63/63 [==============================] - 11s 176ms/step - loss: 0.6826 - accuracy: 0.5565 - val_loss: 0.6749 - val_accuracy: 0.5840\n",
            "Epoch 10/50\n",
            "63/63 [==============================] - 11s 176ms/step - loss: 0.6693 - accuracy: 0.5980 - val_loss: 0.7028 - val_accuracy: 0.5400\n",
            "Epoch 11/50\n",
            "63/63 [==============================] - 11s 177ms/step - loss: 0.6824 - accuracy: 0.5605 - val_loss: 0.6867 - val_accuracy: 0.5440\n",
            "Epoch 12/50\n",
            "63/63 [==============================] - 12s 180ms/step - loss: 0.6670 - accuracy: 0.6050 - val_loss: 0.6695 - val_accuracy: 0.5760\n",
            "Epoch 13/50\n",
            "63/63 [==============================] - 12s 179ms/step - loss: 0.6423 - accuracy: 0.6225 - val_loss: 0.6458 - val_accuracy: 0.6080\n",
            "Epoch 14/50\n",
            "63/63 [==============================] - 11s 177ms/step - loss: 0.6563 - accuracy: 0.6150 - val_loss: 0.6724 - val_accuracy: 0.5680\n",
            "Epoch 15/50\n",
            "63/63 [==============================] - 11s 176ms/step - loss: 0.6487 - accuracy: 0.6220 - val_loss: 0.6462 - val_accuracy: 0.5980\n",
            "Epoch 16/50\n",
            "63/63 [==============================] - 11s 177ms/step - loss: 0.6347 - accuracy: 0.6435 - val_loss: 0.6471 - val_accuracy: 0.6220\n",
            "Epoch 17/50\n",
            "63/63 [==============================] - 11s 177ms/step - loss: 0.6206 - accuracy: 0.6595 - val_loss: 0.6292 - val_accuracy: 0.6240\n",
            "Epoch 18/50\n",
            "63/63 [==============================] - 11s 177ms/step - loss: 0.6101 - accuracy: 0.6580 - val_loss: 0.6249 - val_accuracy: 0.6380\n",
            "Epoch 19/50\n",
            "63/63 [==============================] - 11s 177ms/step - loss: 0.6129 - accuracy: 0.6480 - val_loss: 0.6462 - val_accuracy: 0.5900\n",
            "Epoch 20/50\n",
            "63/63 [==============================] - 11s 179ms/step - loss: 0.6157 - accuracy: 0.6560 - val_loss: 0.6207 - val_accuracy: 0.6340\n",
            "Epoch 21/50\n",
            "63/63 [==============================] - 11s 177ms/step - loss: 0.5958 - accuracy: 0.6845 - val_loss: 0.6349 - val_accuracy: 0.6340\n",
            "Epoch 22/50\n",
            "63/63 [==============================] - 11s 178ms/step - loss: 0.5977 - accuracy: 0.6665 - val_loss: 0.6288 - val_accuracy: 0.6380\n",
            "Epoch 23/50\n",
            "63/63 [==============================] - 11s 177ms/step - loss: 0.6031 - accuracy: 0.6630 - val_loss: 0.6294 - val_accuracy: 0.6220\n",
            "Epoch 24/50\n",
            "63/63 [==============================] - 11s 179ms/step - loss: 0.5972 - accuracy: 0.6680 - val_loss: 0.6095 - val_accuracy: 0.6400\n",
            "Epoch 25/50\n",
            "63/63 [==============================] - 11s 179ms/step - loss: 0.5915 - accuracy: 0.6735 - val_loss: 0.5987 - val_accuracy: 0.6660\n",
            "Epoch 26/50\n",
            "63/63 [==============================] - 11s 177ms/step - loss: 0.5743 - accuracy: 0.7045 - val_loss: 0.5885 - val_accuracy: 0.6560\n",
            "Epoch 27/50\n",
            "63/63 [==============================] - 11s 173ms/step - loss: 0.5814 - accuracy: 0.6870 - val_loss: 0.6102 - val_accuracy: 0.6460\n",
            "Epoch 28/50\n",
            "63/63 [==============================] - 11s 164ms/step - loss: 0.5749 - accuracy: 0.6885 - val_loss: 0.5892 - val_accuracy: 0.6720\n",
            "Epoch 29/50\n",
            "63/63 [==============================] - 11s 171ms/step - loss: 0.5849 - accuracy: 0.6830 - val_loss: 0.6093 - val_accuracy: 0.6480\n",
            "Epoch 30/50\n",
            "63/63 [==============================] - 12s 179ms/step - loss: 0.5690 - accuracy: 0.7040 - val_loss: 0.6219 - val_accuracy: 0.6400\n",
            "Epoch 31/50\n",
            "63/63 [==============================] - 11s 178ms/step - loss: 0.5778 - accuracy: 0.6805 - val_loss: 0.6088 - val_accuracy: 0.6660\n",
            "Epoch 32/50\n",
            "63/63 [==============================] - 11s 176ms/step - loss: 0.5718 - accuracy: 0.6975 - val_loss: 0.5800 - val_accuracy: 0.7080\n",
            "Epoch 33/50\n",
            "63/63 [==============================] - 11s 176ms/step - loss: 0.5572 - accuracy: 0.7165 - val_loss: 0.5929 - val_accuracy: 0.6640\n",
            "Epoch 34/50\n",
            "63/63 [==============================] - 11s 177ms/step - loss: 0.5647 - accuracy: 0.7005 - val_loss: 0.5930 - val_accuracy: 0.6640\n",
            "Epoch 35/50\n",
            "63/63 [==============================] - 11s 177ms/step - loss: 0.5542 - accuracy: 0.7100 - val_loss: 0.6149 - val_accuracy: 0.6520\n",
            "Epoch 36/50\n",
            "63/63 [==============================] - 11s 176ms/step - loss: 0.5633 - accuracy: 0.7075 - val_loss: 0.6330 - val_accuracy: 0.6520\n",
            "Epoch 37/50\n",
            "63/63 [==============================] - 11s 178ms/step - loss: 0.5527 - accuracy: 0.7140 - val_loss: 0.5813 - val_accuracy: 0.6780\n",
            "Epoch 38/50\n",
            "63/63 [==============================] - 11s 178ms/step - loss: 0.5535 - accuracy: 0.7115 - val_loss: 0.5922 - val_accuracy: 0.6800\n",
            "Epoch 39/50\n",
            "63/63 [==============================] - 11s 178ms/step - loss: 0.5555 - accuracy: 0.7120 - val_loss: 0.5918 - val_accuracy: 0.6800\n",
            "Epoch 40/50\n",
            "63/63 [==============================] - 11s 172ms/step - loss: 0.5464 - accuracy: 0.7220 - val_loss: 0.5980 - val_accuracy: 0.6800\n",
            "Epoch 41/50\n",
            "63/63 [==============================] - 11s 176ms/step - loss: 0.5541 - accuracy: 0.7105 - val_loss: 0.6029 - val_accuracy: 0.6840\n",
            "Epoch 42/50\n",
            "63/63 [==============================] - 11s 177ms/step - loss: 0.5551 - accuracy: 0.7185 - val_loss: 0.5761 - val_accuracy: 0.6880\n",
            "Epoch 43/50\n",
            "63/63 [==============================] - 11s 178ms/step - loss: 0.5332 - accuracy: 0.7280 - val_loss: 0.5913 - val_accuracy: 0.6840\n",
            "Epoch 44/50\n",
            "63/63 [==============================] - 12s 179ms/step - loss: 0.5534 - accuracy: 0.7185 - val_loss: 0.6115 - val_accuracy: 0.6760\n",
            "Epoch 45/50\n",
            "63/63 [==============================] - 11s 177ms/step - loss: 0.5430 - accuracy: 0.7265 - val_loss: 0.5927 - val_accuracy: 0.6840\n",
            "Epoch 46/50\n",
            "63/63 [==============================] - 11s 175ms/step - loss: 0.5459 - accuracy: 0.7195 - val_loss: 0.6105 - val_accuracy: 0.6580\n",
            "Epoch 47/50\n",
            "63/63 [==============================] - 11s 177ms/step - loss: 0.5231 - accuracy: 0.7265 - val_loss: 0.5908 - val_accuracy: 0.6980\n",
            "Epoch 48/50\n",
            "63/63 [==============================] - 11s 177ms/step - loss: 0.5306 - accuracy: 0.7330 - val_loss: 0.5604 - val_accuracy: 0.7120\n",
            "Epoch 49/50\n",
            "63/63 [==============================] - 12s 180ms/step - loss: 0.5277 - accuracy: 0.7345 - val_loss: 0.6128 - val_accuracy: 0.6860\n",
            "Epoch 50/50\n",
            "63/63 [==============================] - 11s 178ms/step - loss: 0.5140 - accuracy: 0.7475 - val_loss: 0.5798 - val_accuracy: 0.6900\n"
          ]
        }
      ],
      "source": [
        "# Compiling the Model\n",
        "model.compile(loss= \"binary_crossentropy\",\n",
        "              optimizer= \"adam\",\n",
        "              metrics= ['accuracy'])\n",
        "\n",
        "\n",
        "# Monitoring the best validation loss using Callbacks\n",
        "callbacks = ModelCheckpoint(\n",
        "            filepath = \"model6.keras\",\n",
        "            save_best_only= True,\n",
        "            monitor= \"val_loss\"\n",
        "            )\n",
        "\n",
        "# Model Fit\n",
        "Model_6 = model.fit(\n",
        "          train_dataset,\n",
        "          epochs= 50,\n",
        "          validation_data= validation_dataset,\n",
        "          callbacks= callbacks\n",
        "          )"
      ]
    },
    {
      "cell_type": "markdown",
      "metadata": {
        "id": "TIi4O_F8IEPF"
      },
      "source": [
        "Visualizing the Training and Validation Accuracy/Loss"
      ]
    },
    {
      "cell_type": "markdown",
      "metadata": {
        "id": "2EEBnNurIWGU"
      },
      "source": [
        "Evaluating the performance of Model_6 on test set"
      ]
    },
    {
      "cell_type": "code",
      "execution_count": null,
      "metadata": {
        "colab": {
          "base_uri": "https://localhost:8080/"
        },
        "id": "IMiK3EAuIWT1",
        "outputId": "b973328b-412e-44f9-9189-cdc76f078707"
      },
      "outputs": [
        {
          "name": "stdout",
          "output_type": "stream",
          "text": [
            "16/16 [==============================] - 1s 22ms/step - loss: 0.6084 - accuracy: 0.6500\n",
            "Loss: 0.608\n",
            "Accuracy: 0.650\n"
          ]
        }
      ],
      "source": [
        "best_model = keras.models.load_model(\"model6.keras\")\n",
        "Model6_Results = best_model.evaluate(test_dataset)\n",
        "print(f'Loss: {Model6_Results[0]:.3f}')\n",
        "print(f'Accuracy: {Model6_Results[1]:.3f}')"
      ]
    },
    {
      "cell_type": "markdown",
      "metadata": {
        "id": "Kv9cRktmMAaT"
      },
      "source": [
        "Using Strides with Padding turned on didn't provide much of a benefit to the model, here we can see that the accuracy decreased by 21% when compared to Model 5 which was built using the Max Pooling Layer."
      ]
    },
    {
      "cell_type": "markdown",
      "metadata": {
        "id": "iN8IhkFAJp0M"
      },
      "source": [
        "By optimizing the network and increasing the training sample from 1000 to 2000 we saw an increase in accuracy to 86%. "
      ]
    },
    {
      "cell_type": "markdown",
      "metadata": {
        "id": "EFkyKW-uJ0Rv"
      },
      "source": [
        "To answer the second question we let's plot Model 5 and Model 6 to see which model is the best."
      ]
    },
    {
      "cell_type": "code",
      "execution_count": null,
      "metadata": {
        "id": "J9enI2iKKR7p"
      },
      "outputs": [],
      "source": [
        "Model_5 = (0.445,0.860)\n",
        "Model_6 = (0.608,0.650)"
      ]
    },
    {
      "cell_type": "markdown",
      "metadata": {
        "id": "fmxclfO9Lwaw"
      },
      "source": [
        "### ***We can clearly understand from the above graphs that Model_5 is having highest accuracy amongst the models built so far i.e 86% and the least loss of 44.5%. Increasing the training sample to 2000 and providing different augmented images proved to be useful in increasing the performance of the model.***"
      ]
    },
    {
      "cell_type": "markdown",
      "metadata": {
        "id": "IAc9Yp0oMTYf"
      },
      "source": [
        "Let's take the base model 5 and increase the training samples to 3000 and 5000 in few different models and assess the performance of those models."
      ]
    },
    {
      "cell_type": "markdown",
      "metadata": {
        "id": "7W7cKkfEMf8w"
      },
      "source": [
        "## ***Training Sample - 3000***"
      ]
    },
    {
      "cell_type": "markdown",
      "metadata": {
        "id": "5B8q8nZBMf5a"
      },
      "source": [
        "Creating directory named cats vs dogs 1 to store the images into 3 subsets named train, validation and test"
      ]
    },
    {
      "cell_type": "code",
      "execution_count": null,
      "metadata": {
        "id": "0HMX1ZEGMfnL"
      },
      "outputs": [],
      "source": [
        "import os, shutil, pathlib\n",
        "\n",
        "original_dir = pathlib.Path(\"train\")\n",
        "new_base_dir = pathlib.Path(\"cats_vs_dogs_1\")\n",
        "\n",
        "def make_subset(subset_name, start_index, end_index):\n",
        "    for category in (\"cat\", \"dog\"):\n",
        "        dir = new_base_dir / subset_name / category\n",
        "        os.makedirs(dir)\n",
        "        fnames = [f\"{category}.{i}.jpg\" for i in range(start_index, end_index)]\n",
        "        for fname in fnames:\n",
        "            shutil.copyfile(src=original_dir / fname,\n",
        "                            dst=dir / fname)\n",
        "\n",
        "make_subset(\"train\", start_index=0, end_index=1500)\n",
        "make_subset(\"validation\", start_index=1000, end_index=1250)\n",
        "make_subset(\"test\", start_index=1500, end_index=1750)"
      ]
    },
    {
      "cell_type": "markdown",
      "metadata": {
        "id": "l1QMtDz2Mf15"
      },
      "source": [
        "Data Pre-Processing\n",
        "\n",
        "Using image_dataset_from_directory to read images"
      ]
    },
    {
      "cell_type": "code",
      "execution_count": null,
      "metadata": {
        "colab": {
          "base_uri": "https://localhost:8080/"
        },
        "id": "vU1VEk4uMfj9",
        "outputId": "47e017d1-27ec-47f9-fae5-800f444574a5"
      },
      "outputs": [
        {
          "name": "stdout",
          "output_type": "stream",
          "text": [
            "Found 3000 files belonging to 2 classes.\n",
            "Found 500 files belonging to 2 classes.\n",
            "Found 500 files belonging to 2 classes.\n"
          ]
        }
      ],
      "source": [
        "train_dataset = image_dataset_from_directory(\n",
        "    new_base_dir / \"train\",\n",
        "    image_size=(180, 180),\n",
        "    batch_size=32)\n",
        "validation_dataset = image_dataset_from_directory(\n",
        "    new_base_dir / \"validation\",\n",
        "    image_size=(180, 180),\n",
        "    batch_size=32)\n",
        "test_dataset = image_dataset_from_directory(\n",
        "    new_base_dir / \"test\",\n",
        "    image_size=(180, 180),\n",
        "    batch_size=32)"
      ]
    },
    {
      "cell_type": "markdown",
      "metadata": {
        "id": "mODhATLVNXkW"
      },
      "source": [
        "Viewing the size of the images"
      ]
    },
    {
      "cell_type": "code",
      "execution_count": null,
      "metadata": {
        "colab": {
          "base_uri": "https://localhost:8080/"
        },
        "id": "kdYZWZGrMfgw",
        "outputId": "fd56ccb4-82c9-4d15-8ae5-796972bd9701"
      },
      "outputs": [
        {
          "name": "stdout",
          "output_type": "stream",
          "text": [
            "data batch shape: (32, 180, 180, 3)\n",
            "labels batch shape: (32,)\n"
          ]
        }
      ],
      "source": [
        "for data_batch, labels_batch in train_dataset:\n",
        "    print(\"data batch shape:\", data_batch.shape)\n",
        "    print(\"labels batch shape:\", labels_batch.shape)\n",
        "    break"
      ]
    },
    {
      "cell_type": "markdown",
      "metadata": {
        "id": "UiwqgOWqNgJC"
      },
      "source": [
        "Using few of the techniques such as random flip, random zoom, random rotation so as to create augmented versions of the image"
      ]
    },
    {
      "cell_type": "code",
      "execution_count": null,
      "metadata": {
        "id": "c2XufwtIMfd6"
      },
      "outputs": [],
      "source": [
        "data_augmentation_2 = keras.Sequential(\n",
        "    [\n",
        "        layers.RandomFlip(\"horizontal\"),\n",
        "        layers.RandomRotation(0.15),\n",
        "        layers.RandomZoom(0.25)\n",
        "    ]\n",
        ")"
      ]
    },
    {
      "cell_type": "markdown",
      "metadata": {
        "id": "nf2VWQ3tNu5R"
      },
      "source": [
        "## ***Model - 7 MaxPooling Operation with Increase in filters from 32 to 256 in 5 Input Layers with the data being used from the Augmented Images and a droput rate of 0.5 (Training Sample - 3000)***"
      ]
    },
    {
      "cell_type": "code",
      "execution_count": null,
      "metadata": {
        "id": "KIUM9QIKMfaP"
      },
      "outputs": [],
      "source": [
        "inputs = keras.Input(shape=(180, 180, 3))\n",
        "x = data_augmentation_2(inputs)\n",
        "x = layers.Rescaling(1./255)(x)\n",
        "x = layers.Conv2D(filters=32, kernel_size=3, activation=\"relu\")(x)\n",
        "x = layers.MaxPooling2D(pool_size=2)(x)\n",
        "x = layers.Conv2D(filters=64, kernel_size=3, activation=\"relu\")(x)\n",
        "x = layers.MaxPooling2D(pool_size=2)(x)\n",
        "x = layers.Conv2D(filters=128, kernel_size=3, activation=\"relu\")(x)\n",
        "x = layers.MaxPooling2D(pool_size=2)(x)\n",
        "x = layers.Conv2D(filters=256, kernel_size=3, activation=\"relu\")(x)\n",
        "x = layers.MaxPooling2D(pool_size=2)(x)\n",
        "x = layers.Conv2D(filters=256, kernel_size=3, activation=\"relu\")(x)\n",
        "x = layers.Flatten()(x)\n",
        "x = layers.Dropout(0.5)(x)\n",
        "outputs = layers.Dense(1, activation=\"sigmoid\")(x)\n",
        "\n",
        "model = keras.Model(inputs=inputs, outputs=outputs)"
      ]
    },
    {
      "cell_type": "code",
      "execution_count": null,
      "metadata": {
        "colab": {
          "base_uri": "https://localhost:8080/"
        },
        "id": "OIX5kX_WMfUi",
        "outputId": "5cfe98b5-1db3-4d0c-9b86-3ed5d9482cba"
      },
      "outputs": [
        {
          "name": "stdout",
          "output_type": "stream",
          "text": [
            "Model: \"model_1\"\n",
            "_________________________________________________________________\n",
            " Layer (type)                Output Shape              Param #   \n",
            "=================================================================\n",
            " input_2 (InputLayer)        [(None, 180, 180, 3)]     0         \n",
            "                                                                 \n",
            " sequential_1 (Sequential)   (None, 180, 180, 3)       0         \n",
            "                                                                 \n",
            " rescaling_1 (Rescaling)     (None, 180, 180, 3)       0         \n",
            "                                                                 \n",
            " conv2d_5 (Conv2D)           (None, 178, 178, 32)      896       \n",
            "                                                                 \n",
            " max_pooling2d_4 (MaxPooling  (None, 89, 89, 32)       0         \n",
            " 2D)                                                             \n",
            "                                                                 \n",
            " conv2d_6 (Conv2D)           (None, 87, 87, 64)        18496     \n",
            "                                                                 \n",
            " max_pooling2d_5 (MaxPooling  (None, 43, 43, 64)       0         \n",
            " 2D)                                                             \n",
            "                                                                 \n",
            " conv2d_7 (Conv2D)           (None, 41, 41, 128)       73856     \n",
            "                                                                 \n",
            " max_pooling2d_6 (MaxPooling  (None, 20, 20, 128)      0         \n",
            " 2D)                                                             \n",
            "                                                                 \n",
            " conv2d_8 (Conv2D)           (None, 18, 18, 256)       295168    \n",
            "                                                                 \n",
            " max_pooling2d_7 (MaxPooling  (None, 9, 9, 256)        0         \n",
            " 2D)                                                             \n",
            "                                                                 \n",
            " conv2d_9 (Conv2D)           (None, 7, 7, 256)         590080    \n",
            "                                                                 \n",
            " flatten_1 (Flatten)         (None, 12544)             0         \n",
            "                                                                 \n",
            " dropout_1 (Dropout)         (None, 12544)             0         \n",
            "                                                                 \n",
            " dense_1 (Dense)             (None, 1)                 12545     \n",
            "                                                                 \n",
            "=================================================================\n",
            "Total params: 991,041\n",
            "Trainable params: 991,041\n",
            "Non-trainable params: 0\n",
            "_________________________________________________________________\n"
          ]
        }
      ],
      "source": [
        "model.summary()"
      ]
    },
    {
      "cell_type": "code",
      "execution_count": null,
      "metadata": {
        "colab": {
          "base_uri": "https://localhost:8080/"
        },
        "id": "gu-SLmdhMfMe",
        "outputId": "5bb6c228-639a-4398-b75a-714dc23094df"
      },
      "outputs": [
        {
          "name": "stdout",
          "output_type": "stream",
          "text": [
            "Epoch 1/50\n",
            "94/94 [==============================] - 35s 204ms/step - loss: 0.6939 - accuracy: 0.5323 - val_loss: 0.6748 - val_accuracy: 0.6300\n",
            "Epoch 2/50\n",
            "94/94 [==============================] - 20s 205ms/step - loss: 0.6790 - accuracy: 0.5720 - val_loss: 0.6703 - val_accuracy: 0.5760\n",
            "Epoch 3/50\n",
            "94/94 [==============================] - 18s 192ms/step - loss: 0.6691 - accuracy: 0.6100 - val_loss: 0.6587 - val_accuracy: 0.5880\n",
            "Epoch 4/50\n",
            "94/94 [==============================] - 19s 205ms/step - loss: 0.6417 - accuracy: 0.6380 - val_loss: 0.6259 - val_accuracy: 0.6640\n",
            "Epoch 5/50\n",
            "94/94 [==============================] - 18s 187ms/step - loss: 0.6148 - accuracy: 0.6753 - val_loss: 0.6206 - val_accuracy: 0.6180\n",
            "Epoch 6/50\n",
            "94/94 [==============================] - 19s 198ms/step - loss: 0.6171 - accuracy: 0.6657 - val_loss: 0.5816 - val_accuracy: 0.6800\n",
            "Epoch 7/50\n",
            "94/94 [==============================] - 18s 188ms/step - loss: 0.5855 - accuracy: 0.6920 - val_loss: 0.5823 - val_accuracy: 0.7060\n",
            "Epoch 8/50\n",
            "94/94 [==============================] - 19s 204ms/step - loss: 0.5739 - accuracy: 0.6920 - val_loss: 0.5884 - val_accuracy: 0.6780\n",
            "Epoch 9/50\n",
            "94/94 [==============================] - 18s 190ms/step - loss: 0.5595 - accuracy: 0.7223 - val_loss: 0.4905 - val_accuracy: 0.7800\n",
            "Epoch 10/50\n",
            "94/94 [==============================] - 19s 197ms/step - loss: 0.5600 - accuracy: 0.7183 - val_loss: 0.5396 - val_accuracy: 0.7300\n",
            "Epoch 11/50\n",
            "94/94 [==============================] - 18s 188ms/step - loss: 0.5370 - accuracy: 0.7310 - val_loss: 0.5249 - val_accuracy: 0.7400\n",
            "Epoch 12/50\n",
            "94/94 [==============================] - 19s 198ms/step - loss: 0.5511 - accuracy: 0.7260 - val_loss: 0.4820 - val_accuracy: 0.7640\n",
            "Epoch 13/50\n",
            "94/94 [==============================] - 18s 188ms/step - loss: 0.5184 - accuracy: 0.7443 - val_loss: 0.4624 - val_accuracy: 0.7860\n",
            "Epoch 14/50\n",
            "94/94 [==============================] - 19s 197ms/step - loss: 0.4991 - accuracy: 0.7613 - val_loss: 0.4315 - val_accuracy: 0.8000\n",
            "Epoch 15/50\n",
            "94/94 [==============================] - 18s 188ms/step - loss: 0.4837 - accuracy: 0.7633 - val_loss: 0.4342 - val_accuracy: 0.7880\n",
            "Epoch 16/50\n",
            "94/94 [==============================] - 19s 198ms/step - loss: 0.4753 - accuracy: 0.7717 - val_loss: 0.4432 - val_accuracy: 0.8040\n",
            "Epoch 17/50\n",
            "94/94 [==============================] - 18s 188ms/step - loss: 0.4821 - accuracy: 0.7593 - val_loss: 0.4465 - val_accuracy: 0.8100\n",
            "Epoch 18/50\n",
            "94/94 [==============================] - 19s 197ms/step - loss: 0.4663 - accuracy: 0.7743 - val_loss: 0.4057 - val_accuracy: 0.8160\n",
            "Epoch 19/50\n",
            "94/94 [==============================] - 18s 189ms/step - loss: 0.4866 - accuracy: 0.7637 - val_loss: 0.4195 - val_accuracy: 0.8060\n",
            "Epoch 20/50\n",
            "94/94 [==============================] - 19s 197ms/step - loss: 0.4484 - accuracy: 0.8000 - val_loss: 0.4028 - val_accuracy: 0.8200\n",
            "Epoch 21/50\n",
            "94/94 [==============================] - 19s 198ms/step - loss: 0.4459 - accuracy: 0.7993 - val_loss: 0.3898 - val_accuracy: 0.8260\n",
            "Epoch 22/50\n",
            "94/94 [==============================] - 18s 188ms/step - loss: 0.4365 - accuracy: 0.7993 - val_loss: 0.5515 - val_accuracy: 0.7280\n",
            "Epoch 23/50\n",
            "94/94 [==============================] - 19s 197ms/step - loss: 0.4238 - accuracy: 0.8027 - val_loss: 0.4502 - val_accuracy: 0.7800\n",
            "Epoch 24/50\n",
            "94/94 [==============================] - 18s 189ms/step - loss: 0.4076 - accuracy: 0.8193 - val_loss: 0.4174 - val_accuracy: 0.8140\n",
            "Epoch 25/50\n",
            "94/94 [==============================] - 19s 199ms/step - loss: 0.4317 - accuracy: 0.8030 - val_loss: 0.3997 - val_accuracy: 0.8180\n",
            "Epoch 26/50\n",
            "94/94 [==============================] - 18s 188ms/step - loss: 0.4057 - accuracy: 0.8130 - val_loss: 0.3776 - val_accuracy: 0.8220\n",
            "Epoch 27/50\n",
            "94/94 [==============================] - 18s 190ms/step - loss: 0.3907 - accuracy: 0.8283 - val_loss: 0.3708 - val_accuracy: 0.8340\n",
            "Epoch 28/50\n",
            "94/94 [==============================] - 18s 188ms/step - loss: 0.4066 - accuracy: 0.8110 - val_loss: 0.5049 - val_accuracy: 0.7780\n",
            "Epoch 29/50\n",
            "94/94 [==============================] - 18s 187ms/step - loss: 0.3745 - accuracy: 0.8340 - val_loss: 0.3331 - val_accuracy: 0.8480\n",
            "Epoch 30/50\n",
            "94/94 [==============================] - 19s 196ms/step - loss: 0.3762 - accuracy: 0.8313 - val_loss: 0.4594 - val_accuracy: 0.8180\n",
            "Epoch 31/50\n",
            "94/94 [==============================] - 18s 188ms/step - loss: 0.3644 - accuracy: 0.8387 - val_loss: 0.3644 - val_accuracy: 0.8300\n",
            "Epoch 32/50\n",
            "94/94 [==============================] - 19s 196ms/step - loss: 0.3590 - accuracy: 0.8420 - val_loss: 0.3386 - val_accuracy: 0.8700\n",
            "Epoch 33/50\n",
            "94/94 [==============================] - 18s 188ms/step - loss: 0.3501 - accuracy: 0.8460 - val_loss: 0.3532 - val_accuracy: 0.8420\n",
            "Epoch 34/50\n",
            "94/94 [==============================] - 19s 196ms/step - loss: 0.3510 - accuracy: 0.8473 - val_loss: 0.3296 - val_accuracy: 0.8680\n",
            "Epoch 35/50\n",
            "94/94 [==============================] - 18s 188ms/step - loss: 0.3435 - accuracy: 0.8493 - val_loss: 0.3796 - val_accuracy: 0.8500\n",
            "Epoch 36/50\n",
            "94/94 [==============================] - 19s 197ms/step - loss: 0.3224 - accuracy: 0.8637 - val_loss: 0.3220 - val_accuracy: 0.8620\n",
            "Epoch 37/50\n",
            "94/94 [==============================] - 18s 189ms/step - loss: 0.3164 - accuracy: 0.8563 - val_loss: 0.3522 - val_accuracy: 0.8580\n",
            "Epoch 38/50\n",
            "94/94 [==============================] - 19s 197ms/step - loss: 0.3085 - accuracy: 0.8620 - val_loss: 0.3271 - val_accuracy: 0.8580\n",
            "Epoch 39/50\n",
            "94/94 [==============================] - 18s 186ms/step - loss: 0.3134 - accuracy: 0.8673 - val_loss: 0.3052 - val_accuracy: 0.8680\n",
            "Epoch 40/50\n",
            "94/94 [==============================] - 19s 196ms/step - loss: 0.2821 - accuracy: 0.8763 - val_loss: 0.3266 - val_accuracy: 0.8620\n",
            "Epoch 41/50\n",
            "94/94 [==============================] - 18s 188ms/step - loss: 0.3179 - accuracy: 0.8663 - val_loss: 0.3248 - val_accuracy: 0.8480\n",
            "Epoch 42/50\n",
            "94/94 [==============================] - 19s 195ms/step - loss: 0.2820 - accuracy: 0.8790 - val_loss: 0.3948 - val_accuracy: 0.8520\n",
            "Epoch 43/50\n",
            "94/94 [==============================] - 18s 187ms/step - loss: 0.2882 - accuracy: 0.8790 - val_loss: 0.3355 - val_accuracy: 0.8620\n",
            "Epoch 44/50\n",
            "94/94 [==============================] - 19s 197ms/step - loss: 0.2659 - accuracy: 0.8827 - val_loss: 0.3596 - val_accuracy: 0.8680\n",
            "Epoch 45/50\n",
            "94/94 [==============================] - 18s 188ms/step - loss: 0.2690 - accuracy: 0.8867 - val_loss: 0.3689 - val_accuracy: 0.8460\n",
            "Epoch 46/50\n",
            "94/94 [==============================] - 19s 196ms/step - loss: 0.2788 - accuracy: 0.8813 - val_loss: 0.3218 - val_accuracy: 0.8660\n",
            "Epoch 47/50\n",
            "94/94 [==============================] - 18s 187ms/step - loss: 0.2587 - accuracy: 0.8867 - val_loss: 0.2972 - val_accuracy: 0.8820\n",
            "Epoch 48/50\n",
            "94/94 [==============================] - 19s 194ms/step - loss: 0.2395 - accuracy: 0.9040 - val_loss: 0.2827 - val_accuracy: 0.8840\n",
            "Epoch 49/50\n",
            "94/94 [==============================] - 19s 197ms/step - loss: 0.2387 - accuracy: 0.9013 - val_loss: 0.2737 - val_accuracy: 0.8900\n",
            "Epoch 50/50\n",
            "94/94 [==============================] - 18s 188ms/step - loss: 0.2251 - accuracy: 0.9093 - val_loss: 0.3743 - val_accuracy: 0.8400\n"
          ]
        }
      ],
      "source": [
        "# Compiling the Model\n",
        "model.compile(loss= \"binary_crossentropy\",\n",
        "              optimizer= \"adam\",\n",
        "              metrics= ['accuracy'])\n",
        "\n",
        "\n",
        "# Monitoring the best validation loss using Callbacks\n",
        "callbacks = ModelCheckpoint(\n",
        "            filepath = \"model7.keras\",\n",
        "            save_best_only= True,\n",
        "            monitor= \"val_loss\"\n",
        "            )\n",
        "\n",
        "# Model Fit\n",
        "Model_7 = model.fit(\n",
        "          train_dataset,\n",
        "          epochs= 50,\n",
        "          validation_data= validation_dataset,\n",
        "          callbacks= callbacks\n",
        "          )"
      ]
    },
    {
      "cell_type": "markdown",
      "metadata": {
        "id": "AAdwuXx7OLe8"
      },
      "source": [
        "Visualizing the Training and Validation Accuracy/Loss"
      ]
    },
    {
      "cell_type": "markdown",
      "metadata": {
        "id": "Jk7PXBjAObHw"
      },
      "source": [
        "Evaluating the performance of Model_7 on test set"
      ]
    },
    {
      "cell_type": "code",
      "execution_count": null,
      "metadata": {
        "colab": {
          "base_uri": "https://localhost:8080/"
        },
        "id": "KdfF_9LnMe3b",
        "outputId": "4992c735-f01f-4efe-d177-8b08bd277336"
      },
      "outputs": [
        {
          "name": "stdout",
          "output_type": "stream",
          "text": [
            "16/16 [==============================] - 1s 39ms/step - loss: 0.4954 - accuracy: 0.8180\n",
            "Loss: 0.495\n",
            "Accuracy: 0.818\n"
          ]
        }
      ],
      "source": [
        "best_model = keras.models.load_model(\"model7.keras\")\n",
        "Model7_Results = best_model.evaluate(test_dataset)\n",
        "print(f'Loss: {Model7_Results[0]:.3f}')\n",
        "print(f'Accuracy: {Model7_Results[1]:.3f}')"
      ]
    },
    {
      "cell_type": "markdown",
      "metadata": {
        "id": "A06P4OrVZMvO"
      },
      "source": [
        "In the earlier models i.e. Model 6 we did try to use strides instead of max pooling which wasn't that great. So we are trying to use a combination of both so as to assess the performance of this model."
      ]
    },
    {
      "cell_type": "markdown",
      "metadata": {
        "id": "DNWvoE6SZYkO"
      },
      "source": [
        "MaxPooling is an pooling operation which is performed to downsample the size of the feature map to reduce the spatial size. Strides on the other hand determines the step rate of the sliding window that is used to learn the features of the data."
      ]
    },
    {
      "cell_type": "markdown",
      "metadata": {
        "id": "mTp--9-DYQd_"
      },
      "source": [
        "## ***Model - 8 MaxPooling + Strides of Step-Size 2 Operation with Increase in filters from 32 to 256 in 5 Input Layers with the data being used from the Augmented Images and a droput rate of 0.5 (Training Sample - 3000)***"
      ]
    },
    {
      "cell_type": "code",
      "execution_count": null,
      "metadata": {
        "id": "z2tFvy4eTdWr"
      },
      "outputs": [],
      "source": [
        "inputs = keras.Input(shape=(180, 180, 3))\n",
        "x = data_augmentation_2(inputs)\n",
        "x = layers.Rescaling(1./255)(x)\n",
        "x = layers.Conv2D(filters=32, kernel_size=3, activation=\"relu\")(x)\n",
        "x = layers.MaxPooling2D(pool_size=2, strides=2)(x)\n",
        "x = layers.Conv2D(filters=64, kernel_size=3, activation=\"relu\")(x)\n",
        "x = layers.MaxPooling2D(pool_size=2, strides=2)(x)\n",
        "x = layers.Conv2D(filters=128, kernel_size=3, activation=\"relu\")(x)\n",
        "x = layers.MaxPooling2D(pool_size=2, strides=2)(x)\n",
        "x = layers.Conv2D(filters=256, kernel_size=3, activation=\"relu\")(x)\n",
        "x = layers.MaxPooling2D(pool_size=2,strides=2)(x)\n",
        "x = layers.Conv2D(filters=256, kernel_size=3, activation=\"relu\")(x)\n",
        "x = layers.Flatten()(x)\n",
        "x = layers.Dropout(0.5)(x)\n",
        "outputs = layers.Dense(1, activation=\"sigmoid\")(x)\n",
        "\n",
        "model = keras.Model(inputs=inputs, outputs=outputs)"
      ]
    },
    {
      "cell_type": "code",
      "execution_count": null,
      "metadata": {
        "colab": {
          "base_uri": "https://localhost:8080/"
        },
        "id": "IefQk_H1TtC0",
        "outputId": "d002b8ee-a480-4290-801a-ba771d4fdaf8"
      },
      "outputs": [
        {
          "name": "stdout",
          "output_type": "stream",
          "text": [
            "Model: \"model_2\"\n",
            "_________________________________________________________________\n",
            " Layer (type)                Output Shape              Param #   \n",
            "=================================================================\n",
            " input_3 (InputLayer)        [(None, 180, 180, 3)]     0         \n",
            "                                                                 \n",
            " sequential_1 (Sequential)   (None, 180, 180, 3)       0         \n",
            "                                                                 \n",
            " rescaling_2 (Rescaling)     (None, 180, 180, 3)       0         \n",
            "                                                                 \n",
            " conv2d_10 (Conv2D)          (None, 178, 178, 32)      896       \n",
            "                                                                 \n",
            " max_pooling2d_8 (MaxPooling  (None, 89, 89, 32)       0         \n",
            " 2D)                                                             \n",
            "                                                                 \n",
            " conv2d_11 (Conv2D)          (None, 87, 87, 64)        18496     \n",
            "                                                                 \n",
            " max_pooling2d_9 (MaxPooling  (None, 43, 43, 64)       0         \n",
            " 2D)                                                             \n",
            "                                                                 \n",
            " conv2d_12 (Conv2D)          (None, 41, 41, 128)       73856     \n",
            "                                                                 \n",
            " max_pooling2d_10 (MaxPoolin  (None, 20, 20, 128)      0         \n",
            " g2D)                                                            \n",
            "                                                                 \n",
            " conv2d_13 (Conv2D)          (None, 18, 18, 256)       295168    \n",
            "                                                                 \n",
            " max_pooling2d_11 (MaxPoolin  (None, 9, 9, 256)        0         \n",
            " g2D)                                                            \n",
            "                                                                 \n",
            " conv2d_14 (Conv2D)          (None, 7, 7, 256)         590080    \n",
            "                                                                 \n",
            " flatten_2 (Flatten)         (None, 12544)             0         \n",
            "                                                                 \n",
            " dropout_2 (Dropout)         (None, 12544)             0         \n",
            "                                                                 \n",
            " dense_2 (Dense)             (None, 1)                 12545     \n",
            "                                                                 \n",
            "=================================================================\n",
            "Total params: 991,041\n",
            "Trainable params: 991,041\n",
            "Non-trainable params: 0\n",
            "_________________________________________________________________\n"
          ]
        }
      ],
      "source": [
        "model.summary()"
      ]
    },
    {
      "cell_type": "code",
      "execution_count": null,
      "metadata": {
        "colab": {
          "base_uri": "https://localhost:8080/"
        },
        "id": "H52ZkJ5UTszd",
        "outputId": "62bd765e-d191-47b9-d9a0-c52471aff2de"
      },
      "outputs": [
        {
          "name": "stdout",
          "output_type": "stream",
          "text": [
            "Epoch 1/50\n",
            "94/94 [==============================] - 24s 197ms/step - loss: 0.6928 - accuracy: 0.5123 - val_loss: 0.6880 - val_accuracy: 0.5520\n",
            "Epoch 2/50\n",
            "94/94 [==============================] - 19s 202ms/step - loss: 0.6844 - accuracy: 0.5497 - val_loss: 0.6653 - val_accuracy: 0.6140\n",
            "Epoch 3/50\n",
            "94/94 [==============================] - 18s 191ms/step - loss: 0.6727 - accuracy: 0.5743 - val_loss: 0.6462 - val_accuracy: 0.6060\n",
            "Epoch 4/50\n",
            "94/94 [==============================] - 19s 200ms/step - loss: 0.6616 - accuracy: 0.6067 - val_loss: 0.6591 - val_accuracy: 0.6420\n",
            "Epoch 5/50\n",
            "94/94 [==============================] - 18s 187ms/step - loss: 0.6496 - accuracy: 0.6350 - val_loss: 0.6863 - val_accuracy: 0.5580\n",
            "Epoch 6/50\n",
            "94/94 [==============================] - 19s 199ms/step - loss: 0.6489 - accuracy: 0.6263 - val_loss: 0.6608 - val_accuracy: 0.6720\n",
            "Epoch 7/50\n",
            "94/94 [==============================] - 19s 204ms/step - loss: 0.6347 - accuracy: 0.6570 - val_loss: 0.5936 - val_accuracy: 0.6840\n",
            "Epoch 8/50\n",
            "94/94 [==============================] - 18s 190ms/step - loss: 0.6174 - accuracy: 0.6647 - val_loss: 0.5896 - val_accuracy: 0.6820\n",
            "Epoch 9/50\n",
            "94/94 [==============================] - 19s 203ms/step - loss: 0.5939 - accuracy: 0.6890 - val_loss: 0.5296 - val_accuracy: 0.7240\n",
            "Epoch 10/50\n",
            "94/94 [==============================] - 18s 192ms/step - loss: 0.5867 - accuracy: 0.6903 - val_loss: 0.5123 - val_accuracy: 0.7460\n",
            "Epoch 11/50\n",
            "94/94 [==============================] - 18s 190ms/step - loss: 0.5572 - accuracy: 0.7097 - val_loss: 0.4819 - val_accuracy: 0.7680\n",
            "Epoch 12/50\n",
            "94/94 [==============================] - 19s 204ms/step - loss: 0.5583 - accuracy: 0.7180 - val_loss: 0.5502 - val_accuracy: 0.7200\n",
            "Epoch 13/50\n",
            "94/94 [==============================] - 18s 188ms/step - loss: 0.5393 - accuracy: 0.7257 - val_loss: 0.4646 - val_accuracy: 0.7740\n",
            "Epoch 14/50\n",
            "94/94 [==============================] - 18s 188ms/step - loss: 0.5200 - accuracy: 0.7360 - val_loss: 0.4262 - val_accuracy: 0.7940\n",
            "Epoch 15/50\n",
            "94/94 [==============================] - 19s 198ms/step - loss: 0.5130 - accuracy: 0.7503 - val_loss: 0.4964 - val_accuracy: 0.7560\n",
            "Epoch 16/50\n",
            "94/94 [==============================] - 18s 189ms/step - loss: 0.5082 - accuracy: 0.7477 - val_loss: 0.4675 - val_accuracy: 0.7840\n",
            "Epoch 17/50\n",
            "94/94 [==============================] - 18s 187ms/step - loss: 0.4930 - accuracy: 0.7577 - val_loss: 0.4326 - val_accuracy: 0.8080\n",
            "Epoch 18/50\n",
            "94/94 [==============================] - 19s 199ms/step - loss: 0.4806 - accuracy: 0.7640 - val_loss: 0.4183 - val_accuracy: 0.8060\n",
            "Epoch 19/50\n",
            "94/94 [==============================] - 18s 190ms/step - loss: 0.4783 - accuracy: 0.7673 - val_loss: 0.4084 - val_accuracy: 0.8100\n",
            "Epoch 20/50\n",
            "94/94 [==============================] - 19s 197ms/step - loss: 0.4881 - accuracy: 0.7583 - val_loss: 0.3862 - val_accuracy: 0.8240\n",
            "Epoch 21/50\n",
            "94/94 [==============================] - 18s 193ms/step - loss: 0.4758 - accuracy: 0.7807 - val_loss: 0.3940 - val_accuracy: 0.8060\n",
            "Epoch 22/50\n",
            "94/94 [==============================] - 18s 188ms/step - loss: 0.4424 - accuracy: 0.7923 - val_loss: 0.4449 - val_accuracy: 0.7960\n",
            "Epoch 23/50\n",
            "94/94 [==============================] - 19s 195ms/step - loss: 0.4431 - accuracy: 0.7977 - val_loss: 0.4402 - val_accuracy: 0.7680\n",
            "Epoch 24/50\n",
            "94/94 [==============================] - 18s 191ms/step - loss: 0.4379 - accuracy: 0.7990 - val_loss: 0.3474 - val_accuracy: 0.8520\n",
            "Epoch 25/50\n",
            "94/94 [==============================] - 19s 198ms/step - loss: 0.4222 - accuracy: 0.8037 - val_loss: 0.3885 - val_accuracy: 0.8120\n",
            "Epoch 26/50\n",
            "94/94 [==============================] - 18s 193ms/step - loss: 0.4229 - accuracy: 0.8053 - val_loss: 0.3185 - val_accuracy: 0.8460\n",
            "Epoch 27/50\n",
            "94/94 [==============================] - 20s 211ms/step - loss: 0.4151 - accuracy: 0.8143 - val_loss: 0.4429 - val_accuracy: 0.7900\n",
            "Epoch 28/50\n",
            "94/94 [==============================] - 27s 284ms/step - loss: 0.4040 - accuracy: 0.8200 - val_loss: 0.3051 - val_accuracy: 0.8780\n",
            "Epoch 29/50\n",
            "94/94 [==============================] - 23s 239ms/step - loss: 0.3916 - accuracy: 0.8253 - val_loss: 0.2778 - val_accuracy: 0.8920\n",
            "Epoch 30/50\n",
            "94/94 [==============================] - 19s 199ms/step - loss: 0.3723 - accuracy: 0.8293 - val_loss: 0.2942 - val_accuracy: 0.8640\n",
            "Epoch 31/50\n",
            "94/94 [==============================] - 18s 191ms/step - loss: 0.3711 - accuracy: 0.8317 - val_loss: 0.4116 - val_accuracy: 0.8060\n",
            "Epoch 32/50\n",
            "94/94 [==============================] - 19s 199ms/step - loss: 0.3775 - accuracy: 0.8237 - val_loss: 0.2429 - val_accuracy: 0.8960\n",
            "Epoch 33/50\n",
            "94/94 [==============================] - 18s 192ms/step - loss: 0.3749 - accuracy: 0.8343 - val_loss: 0.2980 - val_accuracy: 0.8680\n",
            "Epoch 34/50\n",
            "94/94 [==============================] - 20s 205ms/step - loss: 0.3586 - accuracy: 0.8380 - val_loss: 0.2465 - val_accuracy: 0.9000\n",
            "Epoch 35/50\n",
            "94/94 [==============================] - 18s 192ms/step - loss: 0.3366 - accuracy: 0.8507 - val_loss: 0.2374 - val_accuracy: 0.9040\n",
            "Epoch 36/50\n",
            "94/94 [==============================] - 20s 210ms/step - loss: 0.3186 - accuracy: 0.8643 - val_loss: 0.2030 - val_accuracy: 0.9100\n",
            "Epoch 37/50\n",
            "94/94 [==============================] - 19s 202ms/step - loss: 0.3459 - accuracy: 0.8503 - val_loss: 0.1963 - val_accuracy: 0.9160\n",
            "Epoch 38/50\n",
            "94/94 [==============================] - 18s 192ms/step - loss: 0.3082 - accuracy: 0.8643 - val_loss: 0.2070 - val_accuracy: 0.9160\n",
            "Epoch 39/50\n",
            "94/94 [==============================] - 19s 201ms/step - loss: 0.3367 - accuracy: 0.8517 - val_loss: 0.2257 - val_accuracy: 0.8980\n",
            "Epoch 40/50\n",
            "94/94 [==============================] - 18s 191ms/step - loss: 0.3044 - accuracy: 0.8633 - val_loss: 0.2468 - val_accuracy: 0.8980\n",
            "Epoch 41/50\n",
            "94/94 [==============================] - 19s 201ms/step - loss: 0.3096 - accuracy: 0.8657 - val_loss: 0.2596 - val_accuracy: 0.9040\n",
            "Epoch 42/50\n",
            "94/94 [==============================] - 18s 191ms/step - loss: 0.2869 - accuracy: 0.8797 - val_loss: 0.1696 - val_accuracy: 0.9380\n",
            "Epoch 43/50\n",
            "94/94 [==============================] - 19s 194ms/step - loss: 0.2823 - accuracy: 0.8747 - val_loss: 0.2733 - val_accuracy: 0.8860\n",
            "Epoch 44/50\n",
            "94/94 [==============================] - 18s 193ms/step - loss: 0.3137 - accuracy: 0.8620 - val_loss: 0.1616 - val_accuracy: 0.9400\n",
            "Epoch 45/50\n",
            "94/94 [==============================] - 19s 191ms/step - loss: 0.2917 - accuracy: 0.8753 - val_loss: 0.1617 - val_accuracy: 0.9380\n",
            "Epoch 46/50\n",
            "94/94 [==============================] - 19s 202ms/step - loss: 0.2492 - accuracy: 0.8933 - val_loss: 0.1565 - val_accuracy: 0.9420\n",
            "Epoch 47/50\n",
            "94/94 [==============================] - 18s 193ms/step - loss: 0.2759 - accuracy: 0.8743 - val_loss: 0.1310 - val_accuracy: 0.9440\n",
            "Epoch 48/50\n",
            "94/94 [==============================] - 19s 199ms/step - loss: 0.2694 - accuracy: 0.8810 - val_loss: 0.1313 - val_accuracy: 0.9640\n",
            "Epoch 49/50\n",
            "94/94 [==============================] - 18s 190ms/step - loss: 0.2680 - accuracy: 0.8880 - val_loss: 0.1442 - val_accuracy: 0.9560\n",
            "Epoch 50/50\n",
            "94/94 [==============================] - 19s 198ms/step - loss: 0.2594 - accuracy: 0.8867 - val_loss: 0.1402 - val_accuracy: 0.9560\n"
          ]
        }
      ],
      "source": [
        "# Compiling the Model\n",
        "model.compile(loss= \"binary_crossentropy\",\n",
        "              optimizer= \"adam\",\n",
        "              metrics= ['accuracy'])\n",
        "\n",
        "\n",
        "# Monitoring the best validation loss using Callbacks\n",
        "callbacks = ModelCheckpoint(\n",
        "            filepath = \"model8.keras\",\n",
        "            save_best_only= True,\n",
        "            monitor= \"val_loss\"\n",
        "            )\n",
        "\n",
        "# Model Fit\n",
        "Model_8 = model.fit(\n",
        "          train_dataset,\n",
        "          epochs= 50,\n",
        "          validation_data= validation_dataset,\n",
        "          callbacks= callbacks\n",
        "          )"
      ]
    },
    {
      "cell_type": "markdown",
      "metadata": {
        "id": "Z3w95QEcYdzE"
      },
      "source": [
        "Visualizing the Training and Validation Accuracy/Loss"
      ]
    },
    {
      "cell_type": "markdown",
      "metadata": {
        "id": "CUHjnXF6Yhp8"
      },
      "source": [
        "Evaluating the performance of Model_8 on test set"
      ]
    },
    {
      "cell_type": "code",
      "execution_count": null,
      "metadata": {
        "colab": {
          "base_uri": "https://localhost:8080/"
        },
        "id": "5a7aldlKV-PA",
        "outputId": "26872b5d-6c20-40c1-9046-36c79dada68f"
      },
      "outputs": [
        {
          "name": "stdout",
          "output_type": "stream",
          "text": [
            "16/16 [==============================] - 1s 29ms/step - loss: 0.4247 - accuracy: 0.8560\n",
            "Loss: 0.425\n",
            "Accuracy: 0.856\n"
          ]
        }
      ],
      "source": [
        "best_model = keras.models.load_model(\"model8.keras\")\n",
        "Model8_Results = best_model.evaluate(test_dataset)\n",
        "print(f'Loss: {Model8_Results[0]:.3f}')\n",
        "print(f'Accuracy: {Model8_Results[1]:.3f}')"
      ]
    },
    {
      "cell_type": "markdown",
      "metadata": {
        "id": "CxDl8k4LYlo4"
      },
      "source": [
        "## ***Model - 9 MaxPooling + Strides of Step-Size 2 with Padding turned on Operation with Increase in filters from 32 to 512 in 5 Input Layers with the data being used from the Augmented Images and a droput rate of 0.5 (Training Sample - 3000)***"
      ]
    },
    {
      "cell_type": "code",
      "execution_count": null,
      "metadata": {
        "id": "LK-zY1IoYl1Y"
      },
      "outputs": [],
      "source": [
        "inputs = keras.Input(shape=(180, 180, 3))\n",
        "x = data_augmentation_2(inputs)\n",
        "x = layers.Rescaling(1./255)(x)\n",
        "x = layers.Conv2D(filters=32, kernel_size=3, activation=\"relu\")(x)\n",
        "x = layers.MaxPooling2D(pool_size=2, strides=2, padding=\"same\")(x)\n",
        "x = layers.Conv2D(filters=64, kernel_size=3, activation=\"relu\")(x)\n",
        "x = layers.MaxPooling2D(pool_size=2, strides=2, padding=\"same\")(x)\n",
        "x = layers.Conv2D(filters=128, kernel_size=3, activation=\"relu\")(x)\n",
        "x = layers.MaxPooling2D(pool_size=2, strides=2, padding=\"same\")(x)\n",
        "x = layers.Conv2D(filters=256, kernel_size=3, activation=\"relu\")(x)\n",
        "x = layers.MaxPooling2D(pool_size=2,strides=2, padding=\"same\")(x)\n",
        "x = layers.Conv2D(filters=512, kernel_size=3, activation=\"relu\")(x)\n",
        "x = layers.Flatten()(x)\n",
        "x = layers.Dropout(0.5)(x)\n",
        "outputs = layers.Dense(1, activation=\"sigmoid\")(x)\n",
        "\n",
        "model = keras.Model(inputs=inputs, outputs=outputs)"
      ]
    },
    {
      "cell_type": "code",
      "execution_count": null,
      "metadata": {
        "colab": {
          "base_uri": "https://localhost:8080/"
        },
        "id": "aNLB1rexY0ZI",
        "outputId": "d2c2b6db-136d-4cc9-a908-016d4ec72da0"
      },
      "outputs": [
        {
          "name": "stdout",
          "output_type": "stream",
          "text": [
            "Model: \"model_4\"\n",
            "_________________________________________________________________\n",
            " Layer (type)                Output Shape              Param #   \n",
            "=================================================================\n",
            " input_5 (InputLayer)        [(None, 180, 180, 3)]     0         \n",
            "                                                                 \n",
            " sequential_1 (Sequential)   (None, 180, 180, 3)       0         \n",
            "                                                                 \n",
            " rescaling_4 (Rescaling)     (None, 180, 180, 3)       0         \n",
            "                                                                 \n",
            " conv2d_20 (Conv2D)          (None, 178, 178, 32)      896       \n",
            "                                                                 \n",
            " max_pooling2d_16 (MaxPoolin  (None, 89, 89, 32)       0         \n",
            " g2D)                                                            \n",
            "                                                                 \n",
            " conv2d_21 (Conv2D)          (None, 87, 87, 64)        18496     \n",
            "                                                                 \n",
            " max_pooling2d_17 (MaxPoolin  (None, 44, 44, 64)       0         \n",
            " g2D)                                                            \n",
            "                                                                 \n",
            " conv2d_22 (Conv2D)          (None, 42, 42, 128)       73856     \n",
            "                                                                 \n",
            " max_pooling2d_18 (MaxPoolin  (None, 21, 21, 128)      0         \n",
            " g2D)                                                            \n",
            "                                                                 \n",
            " conv2d_23 (Conv2D)          (None, 19, 19, 256)       295168    \n",
            "                                                                 \n",
            " max_pooling2d_19 (MaxPoolin  (None, 10, 10, 256)      0         \n",
            " g2D)                                                            \n",
            "                                                                 \n",
            " conv2d_24 (Conv2D)          (None, 8, 8, 512)         1180160   \n",
            "                                                                 \n",
            " flatten_4 (Flatten)         (None, 32768)             0         \n",
            "                                                                 \n",
            " dropout_4 (Dropout)         (None, 32768)             0         \n",
            "                                                                 \n",
            " dense_4 (Dense)             (None, 1)                 32769     \n",
            "                                                                 \n",
            "=================================================================\n",
            "Total params: 1,601,345\n",
            "Trainable params: 1,601,345\n",
            "Non-trainable params: 0\n",
            "_________________________________________________________________\n"
          ]
        }
      ],
      "source": [
        "model.summary()"
      ]
    },
    {
      "cell_type": "code",
      "execution_count": null,
      "metadata": {
        "colab": {
          "base_uri": "https://localhost:8080/"
        },
        "id": "fEhFZHRkY7Q_",
        "outputId": "0fe44f70-bb27-4adb-a467-1a05b9581c6e"
      },
      "outputs": [
        {
          "name": "stdout",
          "output_type": "stream",
          "text": [
            "Epoch 1/50\n",
            "94/94 [==============================] - 24s 198ms/step - loss: 0.6953 - accuracy: 0.5080 - val_loss: 0.6931 - val_accuracy: 0.5000\n",
            "Epoch 2/50\n",
            "94/94 [==============================] - 19s 198ms/step - loss: 0.6932 - accuracy: 0.4947 - val_loss: 0.6946 - val_accuracy: 0.5000\n",
            "Epoch 3/50\n",
            "94/94 [==============================] - 19s 200ms/step - loss: 0.6940 - accuracy: 0.5077 - val_loss: 0.6931 - val_accuracy: 0.5000\n",
            "Epoch 4/50\n",
            "94/94 [==============================] - 19s 197ms/step - loss: 0.6933 - accuracy: 0.5053 - val_loss: 0.6886 - val_accuracy: 0.5440\n",
            "Epoch 5/50\n",
            "94/94 [==============================] - 19s 203ms/step - loss: 0.6929 - accuracy: 0.5220 - val_loss: 0.6824 - val_accuracy: 0.5680\n",
            "Epoch 6/50\n",
            "94/94 [==============================] - 18s 192ms/step - loss: 0.6922 - accuracy: 0.5133 - val_loss: 0.6852 - val_accuracy: 0.5340\n",
            "Epoch 7/50\n",
            "94/94 [==============================] - 19s 201ms/step - loss: 0.6829 - accuracy: 0.5533 - val_loss: 0.6661 - val_accuracy: 0.5960\n",
            "Epoch 8/50\n",
            "94/94 [==============================] - 19s 201ms/step - loss: 0.6752 - accuracy: 0.5740 - val_loss: 0.6372 - val_accuracy: 0.6060\n",
            "Epoch 9/50\n",
            "94/94 [==============================] - 19s 197ms/step - loss: 0.6588 - accuracy: 0.6100 - val_loss: 0.6541 - val_accuracy: 0.6040\n",
            "Epoch 10/50\n",
            "94/94 [==============================] - 19s 200ms/step - loss: 0.6567 - accuracy: 0.6153 - val_loss: 0.6156 - val_accuracy: 0.6620\n",
            "Epoch 11/50\n",
            "94/94 [==============================] - 18s 190ms/step - loss: 0.6448 - accuracy: 0.6347 - val_loss: 0.6042 - val_accuracy: 0.6440\n",
            "Epoch 12/50\n",
            "94/94 [==============================] - 19s 199ms/step - loss: 0.6304 - accuracy: 0.6550 - val_loss: 0.5714 - val_accuracy: 0.7100\n",
            "Epoch 13/50\n",
            "94/94 [==============================] - 18s 191ms/step - loss: 0.6137 - accuracy: 0.6677 - val_loss: 0.5581 - val_accuracy: 0.7140\n",
            "Epoch 14/50\n",
            "94/94 [==============================] - 19s 200ms/step - loss: 0.5929 - accuracy: 0.6857 - val_loss: 0.5965 - val_accuracy: 0.6740\n",
            "Epoch 15/50\n",
            "94/94 [==============================] - 19s 196ms/step - loss: 0.5903 - accuracy: 0.6820 - val_loss: 0.5604 - val_accuracy: 0.7240\n",
            "Epoch 16/50\n",
            "94/94 [==============================] - 19s 200ms/step - loss: 0.5723 - accuracy: 0.7073 - val_loss: 0.5459 - val_accuracy: 0.7220\n",
            "Epoch 17/50\n",
            "94/94 [==============================] - 18s 189ms/step - loss: 0.5704 - accuracy: 0.7000 - val_loss: 0.5292 - val_accuracy: 0.7660\n",
            "Epoch 18/50\n",
            "94/94 [==============================] - 19s 199ms/step - loss: 0.5588 - accuracy: 0.7233 - val_loss: 0.5250 - val_accuracy: 0.7360\n",
            "Epoch 19/50\n",
            "94/94 [==============================] - 19s 202ms/step - loss: 0.5449 - accuracy: 0.7140 - val_loss: 0.5248 - val_accuracy: 0.7580\n",
            "Epoch 20/50\n",
            "94/94 [==============================] - 18s 189ms/step - loss: 0.5452 - accuracy: 0.7223 - val_loss: 0.6540 - val_accuracy: 0.6680\n",
            "Epoch 21/50\n",
            "94/94 [==============================] - 19s 200ms/step - loss: 0.5322 - accuracy: 0.7373 - val_loss: 0.5227 - val_accuracy: 0.7500\n",
            "Epoch 22/50\n",
            "94/94 [==============================] - 18s 191ms/step - loss: 0.5282 - accuracy: 0.7377 - val_loss: 0.4884 - val_accuracy: 0.7740\n",
            "Epoch 23/50\n",
            "94/94 [==============================] - 19s 201ms/step - loss: 0.5165 - accuracy: 0.7530 - val_loss: 0.4617 - val_accuracy: 0.7880\n",
            "Epoch 24/50\n",
            "94/94 [==============================] - 18s 190ms/step - loss: 0.5024 - accuracy: 0.7570 - val_loss: 0.4608 - val_accuracy: 0.7940\n",
            "Epoch 25/50\n",
            "94/94 [==============================] - 19s 198ms/step - loss: 0.4945 - accuracy: 0.7567 - val_loss: 0.4957 - val_accuracy: 0.7540\n",
            "Epoch 26/50\n",
            "94/94 [==============================] - 18s 189ms/step - loss: 0.4948 - accuracy: 0.7597 - val_loss: 0.4765 - val_accuracy: 0.7760\n",
            "Epoch 27/50\n",
            "94/94 [==============================] - 19s 201ms/step - loss: 0.4953 - accuracy: 0.7580 - val_loss: 0.4850 - val_accuracy: 0.7720\n",
            "Epoch 28/50\n",
            "94/94 [==============================] - 18s 190ms/step - loss: 0.4811 - accuracy: 0.7637 - val_loss: 0.4960 - val_accuracy: 0.7680\n",
            "Epoch 29/50\n",
            "94/94 [==============================] - 19s 200ms/step - loss: 0.4849 - accuracy: 0.7663 - val_loss: 0.4545 - val_accuracy: 0.7760\n",
            "Epoch 30/50\n",
            "94/94 [==============================] - 18s 191ms/step - loss: 0.4599 - accuracy: 0.7803 - val_loss: 0.5001 - val_accuracy: 0.7560\n",
            "Epoch 31/50\n",
            "94/94 [==============================] - 19s 200ms/step - loss: 0.4605 - accuracy: 0.7850 - val_loss: 0.4679 - val_accuracy: 0.7800\n",
            "Epoch 32/50\n",
            "94/94 [==============================] - 18s 192ms/step - loss: 0.4592 - accuracy: 0.7817 - val_loss: 0.4175 - val_accuracy: 0.8060\n",
            "Epoch 33/50\n",
            "94/94 [==============================] - 19s 200ms/step - loss: 0.4426 - accuracy: 0.7873 - val_loss: 0.4021 - val_accuracy: 0.8060\n",
            "Epoch 34/50\n",
            "94/94 [==============================] - 18s 190ms/step - loss: 0.4467 - accuracy: 0.7873 - val_loss: 0.4679 - val_accuracy: 0.7800\n",
            "Epoch 35/50\n",
            "94/94 [==============================] - 19s 201ms/step - loss: 0.4614 - accuracy: 0.7800 - val_loss: 0.4131 - val_accuracy: 0.8020\n",
            "Epoch 36/50\n",
            "94/94 [==============================] - 18s 192ms/step - loss: 0.4387 - accuracy: 0.7957 - val_loss: 0.3997 - val_accuracy: 0.8160\n",
            "Epoch 37/50\n",
            "94/94 [==============================] - 19s 200ms/step - loss: 0.4252 - accuracy: 0.7987 - val_loss: 0.4212 - val_accuracy: 0.8080\n",
            "Epoch 38/50\n",
            "94/94 [==============================] - 18s 191ms/step - loss: 0.4146 - accuracy: 0.8027 - val_loss: 0.3891 - val_accuracy: 0.8240\n",
            "Epoch 39/50\n",
            "94/94 [==============================] - 19s 196ms/step - loss: 0.4223 - accuracy: 0.7963 - val_loss: 0.4411 - val_accuracy: 0.7860\n",
            "Epoch 40/50\n",
            "94/94 [==============================] - 26s 273ms/step - loss: 0.4126 - accuracy: 0.8110 - val_loss: 0.3812 - val_accuracy: 0.8320\n",
            "Epoch 41/50\n",
            "94/94 [==============================] - 24s 245ms/step - loss: 0.4025 - accuracy: 0.8127 - val_loss: 0.3916 - val_accuracy: 0.8360\n",
            "Epoch 42/50\n",
            "94/94 [==============================] - 22s 234ms/step - loss: 0.4040 - accuracy: 0.8180 - val_loss: 0.4773 - val_accuracy: 0.7840\n",
            "Epoch 43/50\n",
            "94/94 [==============================] - 19s 202ms/step - loss: 0.3859 - accuracy: 0.8193 - val_loss: 0.3681 - val_accuracy: 0.8340\n",
            "Epoch 44/50\n",
            "94/94 [==============================] - 26s 276ms/step - loss: 0.3835 - accuracy: 0.8270 - val_loss: 0.3545 - val_accuracy: 0.8540\n",
            "Epoch 45/50\n",
            "94/94 [==============================] - 21s 207ms/step - loss: 0.3879 - accuracy: 0.8270 - val_loss: 0.4059 - val_accuracy: 0.8320\n",
            "Epoch 46/50\n",
            "94/94 [==============================] - 19s 199ms/step - loss: 0.3816 - accuracy: 0.8243 - val_loss: 0.3921 - val_accuracy: 0.8240\n",
            "Epoch 47/50\n",
            "94/94 [==============================] - 19s 198ms/step - loss: 0.3765 - accuracy: 0.8280 - val_loss: 0.3617 - val_accuracy: 0.8360\n",
            "Epoch 48/50\n",
            "94/94 [==============================] - 19s 202ms/step - loss: 0.3645 - accuracy: 0.8380 - val_loss: 0.4778 - val_accuracy: 0.8080\n",
            "Epoch 49/50\n",
            "94/94 [==============================] - 18s 190ms/step - loss: 0.3515 - accuracy: 0.8430 - val_loss: 0.4101 - val_accuracy: 0.8260\n",
            "Epoch 50/50\n",
            "94/94 [==============================] - 19s 200ms/step - loss: 0.3719 - accuracy: 0.8300 - val_loss: 0.3693 - val_accuracy: 0.8340\n"
          ]
        }
      ],
      "source": [
        "# Compiling the Model\n",
        "model.compile(loss= \"binary_crossentropy\",\n",
        "              optimizer= \"adam\",\n",
        "              metrics= ['accuracy'])\n",
        "\n",
        "\n",
        "# Monitoring the best validation loss using Callbacks\n",
        "callbacks = ModelCheckpoint(\n",
        "            filepath = \"model9.keras\",\n",
        "            save_best_only= True,\n",
        "            monitor= \"val_loss\"\n",
        "            )\n",
        "\n",
        "# Model Fit\n",
        "Model_9 = model.fit(\n",
        "          train_dataset,\n",
        "          epochs= 50,\n",
        "          validation_data= validation_dataset,\n",
        "          callbacks= callbacks\n",
        "          )"
      ]
    },
    {
      "cell_type": "markdown",
      "metadata": {
        "id": "Fb8Pr9Yohq8R"
      },
      "source": [
        "Visualizing the Training and Validation Accuracy/Loss"
      ]
    },
    {
      "cell_type": "markdown",
      "metadata": {
        "id": "saL59NGNhnJT"
      },
      "source": [
        "Evaluating the performance of Model_9 on test set"
      ]
    },
    {
      "cell_type": "code",
      "execution_count": null,
      "metadata": {
        "colab": {
          "base_uri": "https://localhost:8080/"
        },
        "id": "_isQYPw3hYwO",
        "outputId": "f3f93397-f138-4cc0-a915-4349deed5c87"
      },
      "outputs": [
        {
          "name": "stdout",
          "output_type": "stream",
          "text": [
            "16/16 [==============================] - 1s 29ms/step - loss: 0.5513 - accuracy: 0.7820\n",
            "Loss: 0.551\n",
            "Accuracy: 0.782\n"
          ]
        }
      ],
      "source": [
        "best_model = keras.models.load_model(\"model9.keras\")\n",
        "Model9_Results = best_model.evaluate(test_dataset)\n",
        "print(f'Loss: {Model9_Results[0]:.3f}')\n",
        "print(f'Accuracy: {Model9_Results[1]:.3f}')"
      ]
    },
    {
      "cell_type": "markdown",
      "metadata": {
        "id": "uBdvraP-T3gp"
      },
      "source": [
        "Let's see which of the models have best performance when the training sample was set to 3000. Note: Here models 8 and 9 were trained differently with strides being used with maxpooling and strides being used with maxpooling and padding turned on."
      ]
    },
    {
      "cell_type": "code",
      "execution_count": 21,
      "metadata": {
        "id": "gyKeMtI6UIL_"
      },
      "outputs": [],
      "source": [
        "Model_7 = (0.495,0.818)\n",
        "Model_8 = (0.425,0.856)\n",
        "Model_9 = (0.551,0.782)"
      ]
    },
    {
      "cell_type": "markdown",
      "metadata": {
        "id": "e3mP3wt0U42L"
      },
      "source": [
        "Here we can clearly see that the model which was built with 5 layers using maxpooling along with strides was giving the highest accuracy i.e. 85.6 % with least loss amongst the other 2 models i.e. 42.5%."
      ]
    },
    {
      "cell_type": "markdown",
      "metadata": {
        "id": "CPHQREQkVMOB"
      },
      "source": [
        "Now, we are increasing the training sample to 5000 and building a model from scratch to check it's performance on the unseen data."
      ]
    },
    {
      "cell_type": "markdown",
      "metadata": {
        "id": "uYaahnzJMwZd"
      },
      "source": [
        "## ***Training Sample - 5000***"
      ]
    },
    {
      "cell_type": "markdown",
      "metadata": {
        "id": "pzVpr-iuMxCk"
      },
      "source": [
        "Creating directory named cats vs dogs 2 to store the images into 3 subsets named train, validation and test"
      ]
    },
    {
      "cell_type": "code",
      "execution_count": 8,
      "metadata": {
        "id": "G6_Ht_mTMxqL"
      },
      "outputs": [],
      "source": [
        "import os, shutil, pathlib\n",
        "\n",
        "original_dir = pathlib.Path(\"train\")\n",
        "new_base_dir = pathlib.Path(\"cats_vs_dogs_2\")\n",
        "\n",
        "def make_subset(subset_name, start_index, end_index):\n",
        "    for category in (\"cat\", \"dog\"):\n",
        "        dir = new_base_dir / subset_name / category\n",
        "        os.makedirs(dir)\n",
        "        fnames = [f\"{category}.{i}.jpg\" for i in range(start_index, end_index)]\n",
        "        for fname in fnames:\n",
        "            shutil.copyfile(src=original_dir / fname,\n",
        "                            dst=dir / fname)\n",
        "\n",
        "make_subset(\"train\", start_index=0, end_index=2500)\n",
        "make_subset(\"validation\", start_index=1000, end_index=1250)\n",
        "make_subset(\"test\", start_index=1500, end_index=1750)"
      ]
    },
    {
      "cell_type": "markdown",
      "metadata": {
        "id": "BtpPllqOMwDm"
      },
      "source": [
        "Data Pre-Processing\n",
        "\n",
        "Using image_dataset_from_directory to read images"
      ]
    },
    {
      "cell_type": "code",
      "execution_count": 9,
      "metadata": {
        "colab": {
          "base_uri": "https://localhost:8080/"
        },
        "id": "645s5xIXM9es",
        "outputId": "135f704b-1901-4318-d0e1-9d56cf955b1e"
      },
      "outputs": [
        {
          "name": "stdout",
          "output_type": "stream",
          "text": [
            "Found 5000 files belonging to 2 classes.\n",
            "Found 500 files belonging to 2 classes.\n",
            "Found 500 files belonging to 2 classes.\n"
          ]
        }
      ],
      "source": [
        "train_dataset = image_dataset_from_directory(\n",
        "    new_base_dir / \"train\",\n",
        "    image_size=(180, 180),\n",
        "    batch_size=32)\n",
        "validation_dataset = image_dataset_from_directory(\n",
        "    new_base_dir / \"validation\",\n",
        "    image_size=(180, 180),\n",
        "    batch_size=32)\n",
        "test_dataset = image_dataset_from_directory(\n",
        "    new_base_dir / \"test\",\n",
        "    image_size=(180, 180),\n",
        "    batch_size=32)"
      ]
    },
    {
      "cell_type": "markdown",
      "metadata": {
        "id": "XDfkvYJPM_FU"
      },
      "source": [
        "Viewing the size of the images"
      ]
    },
    {
      "cell_type": "code",
      "execution_count": 10,
      "metadata": {
        "colab": {
          "base_uri": "https://localhost:8080/"
        },
        "id": "I-OSWd4MNASL",
        "outputId": "7fe35da6-0db1-430b-fbec-170912038266"
      },
      "outputs": [
        {
          "name": "stdout",
          "output_type": "stream",
          "text": [
            "data batch shape: (32, 180, 180, 3)\n",
            "labels batch shape: (32,)\n"
          ]
        }
      ],
      "source": [
        "for data_batch, labels_batch in train_dataset:\n",
        "    print(\"data batch shape:\", data_batch.shape)\n",
        "    print(\"labels batch shape:\", labels_batch.shape)\n",
        "    break"
      ]
    },
    {
      "cell_type": "markdown",
      "metadata": {
        "id": "GA5lwUSONGbn"
      },
      "source": [
        "Using few of the techniques such as random flip, random zoom, random rotation so as to create augmented versions of the image"
      ]
    },
    {
      "cell_type": "code",
      "execution_count": 11,
      "metadata": {
        "id": "ab3n1GaPNG-x"
      },
      "outputs": [],
      "source": [
        "data_augmentation_3 = keras.Sequential(\n",
        "    [\n",
        "        layers.RandomFlip(\"horizontal\"),\n",
        "        layers.RandomRotation(0.15),\n",
        "        layers.RandomZoom(0.25)\n",
        "    ]\n",
        ")"
      ]
    },
    {
      "cell_type": "markdown",
      "metadata": {
        "id": "DhMvG5osNMzw"
      },
      "source": [
        "## ***Model - 10 MaxPooling Operation with Increase in filters from 32 to 256 in 5 Input Layers with the data being used from the Augmented Images and a droput rate of 0.5 (Training Sample - 5000)***"
      ]
    },
    {
      "cell_type": "code",
      "execution_count": null,
      "metadata": {
        "id": "-DFUVbWVNNvl"
      },
      "outputs": [],
      "source": [
        "inputs = keras.Input(shape=(180, 180, 3))\n",
        "x = data_augmentation_3(inputs)\n",
        "x = layers.Rescaling(1./255)(x)\n",
        "x = layers.Conv2D(filters=32, kernel_size=3, activation=\"relu\")(x)\n",
        "x = layers.MaxPooling2D(pool_size=2)(x)\n",
        "x = layers.Conv2D(filters=64, kernel_size=3, activation=\"relu\")(x)\n",
        "x = layers.MaxPooling2D(pool_size=2)(x)\n",
        "x = layers.Conv2D(filters=128, kernel_size=3, activation=\"relu\")(x)\n",
        "x = layers.MaxPooling2D(pool_size=2)(x)\n",
        "x = layers.Conv2D(filters=256, kernel_size=3, activation=\"relu\")(x)\n",
        "x = layers.MaxPooling2D(pool_size=2)(x)\n",
        "x = layers.Conv2D(filters=256, kernel_size=3, activation=\"relu\")(x)\n",
        "x = layers.Flatten()(x)\n",
        "x = layers.Dropout(0.5)(x)\n",
        "outputs = layers.Dense(1, activation=\"sigmoid\")(x)\n",
        "\n",
        "model = keras.Model(inputs=inputs, outputs=outputs)"
      ]
    },
    {
      "cell_type": "code",
      "execution_count": null,
      "metadata": {
        "colab": {
          "base_uri": "https://localhost:8080/"
        },
        "id": "-ODS1kDUNUKR",
        "outputId": "4459517b-a261-4af3-b281-b8a06faab7d4"
      },
      "outputs": [
        {
          "name": "stdout",
          "output_type": "stream",
          "text": [
            "Model: \"model\"\n",
            "_________________________________________________________________\n",
            " Layer (type)                Output Shape              Param #   \n",
            "=================================================================\n",
            " input_1 (InputLayer)        [(None, 180, 180, 3)]     0         \n",
            "                                                                 \n",
            " sequential (Sequential)     (None, 180, 180, 3)       0         \n",
            "                                                                 \n",
            " rescaling (Rescaling)       (None, 180, 180, 3)       0         \n",
            "                                                                 \n",
            " conv2d (Conv2D)             (None, 178, 178, 32)      896       \n",
            "                                                                 \n",
            " max_pooling2d (MaxPooling2D  (None, 89, 89, 32)       0         \n",
            " )                                                               \n",
            "                                                                 \n",
            " conv2d_1 (Conv2D)           (None, 87, 87, 64)        18496     \n",
            "                                                                 \n",
            " max_pooling2d_1 (MaxPooling  (None, 43, 43, 64)       0         \n",
            " 2D)                                                             \n",
            "                                                                 \n",
            " conv2d_2 (Conv2D)           (None, 41, 41, 128)       73856     \n",
            "                                                                 \n",
            " max_pooling2d_2 (MaxPooling  (None, 20, 20, 128)      0         \n",
            " 2D)                                                             \n",
            "                                                                 \n",
            " conv2d_3 (Conv2D)           (None, 18, 18, 256)       295168    \n",
            "                                                                 \n",
            " max_pooling2d_3 (MaxPooling  (None, 9, 9, 256)        0         \n",
            " 2D)                                                             \n",
            "                                                                 \n",
            " conv2d_4 (Conv2D)           (None, 7, 7, 256)         590080    \n",
            "                                                                 \n",
            " flatten (Flatten)           (None, 12544)             0         \n",
            "                                                                 \n",
            " dropout (Dropout)           (None, 12544)             0         \n",
            "                                                                 \n",
            " dense (Dense)               (None, 1)                 12545     \n",
            "                                                                 \n",
            "=================================================================\n",
            "Total params: 991,041\n",
            "Trainable params: 991,041\n",
            "Non-trainable params: 0\n",
            "_________________________________________________________________\n"
          ]
        }
      ],
      "source": [
        "model.summary()"
      ]
    },
    {
      "cell_type": "code",
      "execution_count": null,
      "metadata": {
        "colab": {
          "base_uri": "https://localhost:8080/"
        },
        "id": "8Yn5YDUINYSF",
        "outputId": "f620aa91-b5f5-424b-a9fc-d5ed7df89f90"
      },
      "outputs": [
        {
          "name": "stdout",
          "output_type": "stream",
          "text": [
            "Epoch 1/50\n",
            "157/157 [==============================] - 63s 295ms/step - loss: 0.6933 - accuracy: 0.5196 - val_loss: 0.6907 - val_accuracy: 0.5160\n",
            "Epoch 2/50\n",
            "157/157 [==============================] - 37s 234ms/step - loss: 0.6877 - accuracy: 0.5444 - val_loss: 0.6707 - val_accuracy: 0.6160\n",
            "Epoch 3/50\n",
            "157/157 [==============================] - 38s 235ms/step - loss: 0.6701 - accuracy: 0.5834 - val_loss: 0.7211 - val_accuracy: 0.5420\n",
            "Epoch 4/50\n",
            "157/157 [==============================] - 40s 255ms/step - loss: 0.6576 - accuracy: 0.6182 - val_loss: 0.6362 - val_accuracy: 0.6500\n",
            "Epoch 5/50\n",
            "157/157 [==============================] - 31s 197ms/step - loss: 0.6356 - accuracy: 0.6378 - val_loss: 0.6122 - val_accuracy: 0.6600\n",
            "Epoch 6/50\n",
            "157/157 [==============================] - 31s 193ms/step - loss: 0.6234 - accuracy: 0.6598 - val_loss: 0.5737 - val_accuracy: 0.6840\n",
            "Epoch 7/50\n",
            "157/157 [==============================] - 33s 207ms/step - loss: 0.6023 - accuracy: 0.6836 - val_loss: 0.5608 - val_accuracy: 0.7080\n",
            "Epoch 8/50\n",
            "157/157 [==============================] - 30s 190ms/step - loss: 0.5919 - accuracy: 0.6878 - val_loss: 0.5203 - val_accuracy: 0.7540\n",
            "Epoch 9/50\n",
            "157/157 [==============================] - 37s 234ms/step - loss: 0.5730 - accuracy: 0.7068 - val_loss: 0.5005 - val_accuracy: 0.7640\n",
            "Epoch 10/50\n",
            "157/157 [==============================] - 35s 219ms/step - loss: 0.5491 - accuracy: 0.7144 - val_loss: 0.4515 - val_accuracy: 0.8000\n",
            "Epoch 11/50\n",
            "157/157 [==============================] - 31s 195ms/step - loss: 0.5443 - accuracy: 0.7202 - val_loss: 0.4807 - val_accuracy: 0.7620\n",
            "Epoch 12/50\n",
            "157/157 [==============================] - 30s 189ms/step - loss: 0.5164 - accuracy: 0.7468 - val_loss: 0.4113 - val_accuracy: 0.8400\n",
            "Epoch 13/50\n",
            "157/157 [==============================] - 31s 193ms/step - loss: 0.4937 - accuracy: 0.7622 - val_loss: 0.4188 - val_accuracy: 0.8060\n",
            "Epoch 14/50\n",
            "157/157 [==============================] - 30s 187ms/step - loss: 0.4990 - accuracy: 0.7534 - val_loss: 0.3942 - val_accuracy: 0.8320\n",
            "Epoch 15/50\n",
            "157/157 [==============================] - 31s 195ms/step - loss: 0.4740 - accuracy: 0.7742 - val_loss: 0.3817 - val_accuracy: 0.8260\n",
            "Epoch 16/50\n",
            "157/157 [==============================] - 31s 193ms/step - loss: 0.4603 - accuracy: 0.7878 - val_loss: 0.3771 - val_accuracy: 0.8360\n",
            "Epoch 17/50\n",
            "157/157 [==============================] - 30s 190ms/step - loss: 0.4512 - accuracy: 0.7922 - val_loss: 0.3576 - val_accuracy: 0.8460\n",
            "Epoch 18/50\n",
            "157/157 [==============================] - 31s 193ms/step - loss: 0.4526 - accuracy: 0.7904 - val_loss: 0.3178 - val_accuracy: 0.8700\n",
            "Epoch 19/50\n",
            "157/157 [==============================] - 30s 188ms/step - loss: 0.4341 - accuracy: 0.7990 - val_loss: 0.3446 - val_accuracy: 0.8480\n",
            "Epoch 20/50\n",
            "157/157 [==============================] - 31s 196ms/step - loss: 0.4123 - accuracy: 0.8082 - val_loss: 0.3086 - val_accuracy: 0.8720\n",
            "Epoch 21/50\n",
            "157/157 [==============================] - 31s 191ms/step - loss: 0.4078 - accuracy: 0.8168 - val_loss: 0.3937 - val_accuracy: 0.8280\n",
            "Epoch 22/50\n",
            "157/157 [==============================] - 30s 188ms/step - loss: 0.3985 - accuracy: 0.8234 - val_loss: 0.3157 - val_accuracy: 0.8680\n",
            "Epoch 23/50\n",
            "157/157 [==============================] - 31s 194ms/step - loss: 0.3870 - accuracy: 0.8246 - val_loss: 0.3303 - val_accuracy: 0.8600\n",
            "Epoch 24/50\n",
            "157/157 [==============================] - 30s 188ms/step - loss: 0.3896 - accuracy: 0.8246 - val_loss: 0.2944 - val_accuracy: 0.8680\n",
            "Epoch 25/50\n",
            "157/157 [==============================] - 31s 196ms/step - loss: 0.3602 - accuracy: 0.8370 - val_loss: 0.2885 - val_accuracy: 0.8700\n",
            "Epoch 26/50\n",
            "157/157 [==============================] - 30s 188ms/step - loss: 0.3743 - accuracy: 0.8316 - val_loss: 0.2919 - val_accuracy: 0.8820\n",
            "Epoch 27/50\n",
            "157/157 [==============================] - 30s 189ms/step - loss: 0.3586 - accuracy: 0.8386 - val_loss: 0.2630 - val_accuracy: 0.8920\n",
            "Epoch 28/50\n",
            "157/157 [==============================] - 30s 190ms/step - loss: 0.3505 - accuracy: 0.8446 - val_loss: 0.2718 - val_accuracy: 0.8760\n",
            "Epoch 29/50\n",
            "157/157 [==============================] - 30s 189ms/step - loss: 0.3240 - accuracy: 0.8582 - val_loss: 0.2351 - val_accuracy: 0.8980\n",
            "Epoch 30/50\n",
            "157/157 [==============================] - 30s 192ms/step - loss: 0.3218 - accuracy: 0.8614 - val_loss: 0.2285 - val_accuracy: 0.9140\n",
            "Epoch 31/50\n",
            "157/157 [==============================] - 30s 189ms/step - loss: 0.3230 - accuracy: 0.8582 - val_loss: 0.2285 - val_accuracy: 0.9040\n",
            "Epoch 32/50\n",
            "157/157 [==============================] - 30s 192ms/step - loss: 0.3094 - accuracy: 0.8658 - val_loss: 0.2488 - val_accuracy: 0.8940\n",
            "Epoch 33/50\n",
            "157/157 [==============================] - 30s 187ms/step - loss: 0.3152 - accuracy: 0.8636 - val_loss: 0.2148 - val_accuracy: 0.9100\n",
            "Epoch 34/50\n",
            "157/157 [==============================] - 31s 194ms/step - loss: 0.2929 - accuracy: 0.8688 - val_loss: 0.2728 - val_accuracy: 0.8800\n",
            "Epoch 35/50\n",
            "157/157 [==============================] - 31s 193ms/step - loss: 0.3036 - accuracy: 0.8646 - val_loss: 0.2161 - val_accuracy: 0.9240\n",
            "Epoch 36/50\n",
            "157/157 [==============================] - 30s 189ms/step - loss: 0.2828 - accuracy: 0.8780 - val_loss: 0.1866 - val_accuracy: 0.9180\n",
            "Epoch 37/50\n",
            "157/157 [==============================] - 30s 193ms/step - loss: 0.2816 - accuracy: 0.8836 - val_loss: 0.2183 - val_accuracy: 0.9140\n",
            "Epoch 38/50\n",
            "157/157 [==============================] - 30s 187ms/step - loss: 0.2709 - accuracy: 0.8832 - val_loss: 0.2262 - val_accuracy: 0.9200\n",
            "Epoch 39/50\n",
            "157/157 [==============================] - 31s 193ms/step - loss: 0.2736 - accuracy: 0.8786 - val_loss: 0.2184 - val_accuracy: 0.8960\n",
            "Epoch 40/50\n",
            "157/157 [==============================] - 30s 187ms/step - loss: 0.2667 - accuracy: 0.8846 - val_loss: 0.2055 - val_accuracy: 0.9120\n",
            "Epoch 41/50\n",
            "157/157 [==============================] - 31s 193ms/step - loss: 0.2736 - accuracy: 0.8852 - val_loss: 0.1687 - val_accuracy: 0.9300\n",
            "Epoch 42/50\n",
            "157/157 [==============================] - 30s 186ms/step - loss: 0.2646 - accuracy: 0.8882 - val_loss: 0.1732 - val_accuracy: 0.9240\n",
            "Epoch 43/50\n",
            "157/157 [==============================] - 30s 188ms/step - loss: 0.2465 - accuracy: 0.8936 - val_loss: 0.1781 - val_accuracy: 0.9280\n",
            "Epoch 44/50\n",
            "157/157 [==============================] - 31s 194ms/step - loss: 0.2525 - accuracy: 0.8908 - val_loss: 0.1664 - val_accuracy: 0.9400\n",
            "Epoch 45/50\n",
            "157/157 [==============================] - 30s 189ms/step - loss: 0.2507 - accuracy: 0.8924 - val_loss: 0.1880 - val_accuracy: 0.9220\n",
            "Epoch 46/50\n",
            "157/157 [==============================] - 30s 192ms/step - loss: 0.2425 - accuracy: 0.8984 - val_loss: 0.1832 - val_accuracy: 0.9240\n",
            "Epoch 47/50\n",
            "157/157 [==============================] - 29s 186ms/step - loss: 0.2363 - accuracy: 0.9000 - val_loss: 0.2061 - val_accuracy: 0.9140\n",
            "Epoch 48/50\n",
            "157/157 [==============================] - 30s 192ms/step - loss: 0.2461 - accuracy: 0.9004 - val_loss: 0.1785 - val_accuracy: 0.9340\n",
            "Epoch 49/50\n",
            "157/157 [==============================] - 31s 193ms/step - loss: 0.2427 - accuracy: 0.8984 - val_loss: 0.1704 - val_accuracy: 0.9320\n",
            "Epoch 50/50\n",
            "157/157 [==============================] - 29s 186ms/step - loss: 0.2235 - accuracy: 0.9028 - val_loss: 0.2343 - val_accuracy: 0.9120\n"
          ]
        }
      ],
      "source": [
        "# Compiling the Model\n",
        "model.compile(loss= \"binary_crossentropy\",\n",
        "              optimizer= \"adam\",\n",
        "              metrics= ['accuracy'])\n",
        "\n",
        "\n",
        "# Monitoring the best validation loss using Callbacks\n",
        "callbacks = ModelCheckpoint(\n",
        "            filepath = \"model10.keras\",\n",
        "            save_best_only= True,\n",
        "            monitor= \"val_loss\"\n",
        "            )\n",
        "\n",
        "# Model Fit\n",
        "Model_10 = model.fit(\n",
        "          train_dataset,\n",
        "          epochs= 50,\n",
        "          validation_data= validation_dataset,\n",
        "          callbacks= callbacks\n",
        "          )"
      ]
    },
    {
      "cell_type": "markdown",
      "metadata": {
        "id": "PBgy4woINmT_"
      },
      "source": [
        "Visualizing the Training and Validation Accuracy/Loss"
      ]
    },
    {
      "cell_type": "markdown",
      "metadata": {
        "id": "oezKzhJoNw06"
      },
      "source": [
        "Evaluating the performance of Model_10 on test set"
      ]
    },
    {
      "cell_type": "code",
      "execution_count": null,
      "metadata": {
        "colab": {
          "base_uri": "https://localhost:8080/"
        },
        "id": "9QGGkfVHN0K9",
        "outputId": "c20e7ac0-dd73-4dc4-c194-ce817a2418cd"
      },
      "outputs": [
        {
          "name": "stdout",
          "output_type": "stream",
          "text": [
            "16/16 [==============================] - 1s 37ms/step - loss: 0.1825 - accuracy: 0.9200\n",
            "Loss: 0.182\n",
            "Accuracy: 0.920\n"
          ]
        }
      ],
      "source": [
        "best_model = keras.models.load_model(\"model10.keras\")\n",
        "Model10_Results = best_model.evaluate(test_dataset)\n",
        "print(f'Loss: {Model10_Results[0]:.3f}')\n",
        "print(f'Accuracy: {Model10_Results[1]:.3f}')"
      ]
    },
    {
      "cell_type": "markdown",
      "metadata": {
        "id": "BlM-u6xyWrHI"
      },
      "source": [
        "### ***For answering the third question we built 4 models, 3 models with 3000 as training sample where the best model was resulting in 85.6% Accuracy whereas when we increase the training sample from 3000 to 5000 we saw an increase in accuracy to 92%. So by this we are answering the third question and can comment that the best training sample to amplify the performance of the model is 5000.***"
      ]
    },
    {
      "cell_type": "markdown",
      "metadata": {
        "id": "t2cO6hJLpRnh"
      },
      "source": [
        "Probable reason for the validation loss to be lower than the training loss can be the split strategy used, here the training sample is nearly as large as 5000 whereas the validation and test are constant from the start at 500 each. It is also must to note that during training the regularisation has a huge hold, i.e. dropout or l1, l2 regularizers are included during computing the training loss whereas during validation or test the regularizer is disabled, so likely the loss can be a lower to the training loss."
      ]
    },
    {
      "cell_type": "markdown",
      "metadata": {
        "id": "dKfyCZ-EHGPz"
      },
      "source": [
        "## ***Leveraging a Pre-Trained Model - VGG16***"
      ]
    },
    {
      "cell_type": "markdown",
      "metadata": {
        "id": "vIQ_Y9RmRMOm"
      },
      "source": [
        "## ***VGG - Model 1 (1000 Training Samples)***"
      ]
    },
    {
      "cell_type": "markdown",
      "metadata": {
        "id": "eU7YvvkbHQFt"
      },
      "source": [
        "Initiating the VGG16 Conv Net"
      ]
    },
    {
      "cell_type": "code",
      "execution_count": null,
      "metadata": {
        "colab": {
          "base_uri": "https://localhost:8080/"
        },
        "id": "48ptn2dBGh4t",
        "outputId": "cbe3c9f4-f75a-4af9-d129-661d1e5082f1"
      },
      "outputs": [
        {
          "name": "stdout",
          "output_type": "stream",
          "text": [
            "Downloading data from https://storage.googleapis.com/tensorflow/keras-applications/vgg16/vgg16_weights_tf_dim_ordering_tf_kernels_notop.h5\n",
            "58889256/58889256 [==============================] - 2s 0us/step\n"
          ]
        }
      ],
      "source": [
        "conv_base = keras.applications.vgg16.VGG16(\n",
        "    weights=\"imagenet\",\n",
        "    include_top=False,\n",
        "    input_shape=(180, 180, 3))"
      ]
    },
    {
      "cell_type": "markdown",
      "metadata": {
        "id": "KzUkZUJiK7Ik"
      },
      "source": [
        "Summary of the Model"
      ]
    },
    {
      "cell_type": "code",
      "execution_count": null,
      "metadata": {
        "colab": {
          "base_uri": "https://localhost:8080/"
        },
        "id": "xraA_GFDHUU0",
        "outputId": "76a1b96e-51e9-467e-da62-81e722766d0f"
      },
      "outputs": [
        {
          "name": "stdout",
          "output_type": "stream",
          "text": [
            "Model: \"vgg16\"\n",
            "_________________________________________________________________\n",
            " Layer (type)                Output Shape              Param #   \n",
            "=================================================================\n",
            " input_1 (InputLayer)        [(None, 180, 180, 3)]     0         \n",
            "                                                                 \n",
            " block1_conv1 (Conv2D)       (None, 180, 180, 64)      1792      \n",
            "                                                                 \n",
            " block1_conv2 (Conv2D)       (None, 180, 180, 64)      36928     \n",
            "                                                                 \n",
            " block1_pool (MaxPooling2D)  (None, 90, 90, 64)        0         \n",
            "                                                                 \n",
            " block2_conv1 (Conv2D)       (None, 90, 90, 128)       73856     \n",
            "                                                                 \n",
            " block2_conv2 (Conv2D)       (None, 90, 90, 128)       147584    \n",
            "                                                                 \n",
            " block2_pool (MaxPooling2D)  (None, 45, 45, 128)       0         \n",
            "                                                                 \n",
            " block3_conv1 (Conv2D)       (None, 45, 45, 256)       295168    \n",
            "                                                                 \n",
            " block3_conv2 (Conv2D)       (None, 45, 45, 256)       590080    \n",
            "                                                                 \n",
            " block3_conv3 (Conv2D)       (None, 45, 45, 256)       590080    \n",
            "                                                                 \n",
            " block3_pool (MaxPooling2D)  (None, 22, 22, 256)       0         \n",
            "                                                                 \n",
            " block4_conv1 (Conv2D)       (None, 22, 22, 512)       1180160   \n",
            "                                                                 \n",
            " block4_conv2 (Conv2D)       (None, 22, 22, 512)       2359808   \n",
            "                                                                 \n",
            " block4_conv3 (Conv2D)       (None, 22, 22, 512)       2359808   \n",
            "                                                                 \n",
            " block4_pool (MaxPooling2D)  (None, 11, 11, 512)       0         \n",
            "                                                                 \n",
            " block5_conv1 (Conv2D)       (None, 11, 11, 512)       2359808   \n",
            "                                                                 \n",
            " block5_conv2 (Conv2D)       (None, 11, 11, 512)       2359808   \n",
            "                                                                 \n",
            " block5_conv3 (Conv2D)       (None, 11, 11, 512)       2359808   \n",
            "                                                                 \n",
            " block5_pool (MaxPooling2D)  (None, 5, 5, 512)         0         \n",
            "                                                                 \n",
            "=================================================================\n",
            "Total params: 14,714,688\n",
            "Trainable params: 14,714,688\n",
            "Non-trainable params: 0\n",
            "_________________________________________________________________\n"
          ]
        }
      ],
      "source": [
        "conv_base.summary()"
      ]
    },
    {
      "cell_type": "markdown",
      "metadata": {
        "id": "HWDv9gHOHmQO"
      },
      "source": [
        "Extracting the VGG 16 Features and Labels"
      ]
    },
    {
      "cell_type": "code",
      "execution_count": null,
      "metadata": {
        "colab": {
          "base_uri": "https://localhost:8080/"
        },
        "id": "9xOGalVMH3lG",
        "outputId": "cfe2a8a7-05dc-42b3-a5b6-9d0051b34ba8"
      },
      "outputs": [
        {
          "name": "stdout",
          "output_type": "stream",
          "text": [
            "1/1 [==============================] - 10s 10s/step\n",
            "1/1 [==============================] - 0s 40ms/step\n",
            "1/1 [==============================] - 0s 33ms/step\n",
            "1/1 [==============================] - 0s 30ms/step\n",
            "1/1 [==============================] - 0s 31ms/step\n",
            "1/1 [==============================] - 0s 30ms/step\n",
            "1/1 [==============================] - 0s 32ms/step\n",
            "1/1 [==============================] - 0s 35ms/step\n",
            "1/1 [==============================] - 0s 31ms/step\n",
            "1/1 [==============================] - 0s 33ms/step\n",
            "1/1 [==============================] - 0s 32ms/step\n",
            "1/1 [==============================] - 0s 32ms/step\n",
            "1/1 [==============================] - 0s 27ms/step\n",
            "1/1 [==============================] - 0s 32ms/step\n",
            "1/1 [==============================] - 0s 26ms/step\n",
            "1/1 [==============================] - 0s 25ms/step\n",
            "1/1 [==============================] - 0s 29ms/step\n",
            "1/1 [==============================] - 0s 27ms/step\n",
            "1/1 [==============================] - 0s 30ms/step\n",
            "1/1 [==============================] - 0s 29ms/step\n",
            "1/1 [==============================] - 0s 31ms/step\n",
            "1/1 [==============================] - 0s 31ms/step\n",
            "1/1 [==============================] - 0s 27ms/step\n",
            "1/1 [==============================] - 0s 25ms/step\n",
            "1/1 [==============================] - 0s 26ms/step\n",
            "1/1 [==============================] - 0s 25ms/step\n",
            "1/1 [==============================] - 0s 29ms/step\n",
            "1/1 [==============================] - 0s 24ms/step\n",
            "1/1 [==============================] - 0s 24ms/step\n",
            "1/1 [==============================] - 0s 25ms/step\n",
            "1/1 [==============================] - 0s 31ms/step\n",
            "1/1 [==============================] - 1s 950ms/step\n",
            "1/1 [==============================] - 0s 25ms/step\n",
            "1/1 [==============================] - 0s 33ms/step\n",
            "1/1 [==============================] - 0s 31ms/step\n",
            "1/1 [==============================] - 0s 25ms/step\n",
            "1/1 [==============================] - 0s 29ms/step\n",
            "1/1 [==============================] - 0s 28ms/step\n",
            "1/1 [==============================] - 0s 29ms/step\n",
            "1/1 [==============================] - 0s 29ms/step\n",
            "1/1 [==============================] - 0s 28ms/step\n",
            "1/1 [==============================] - 0s 28ms/step\n",
            "1/1 [==============================] - 0s 25ms/step\n",
            "1/1 [==============================] - 0s 28ms/step\n",
            "1/1 [==============================] - 0s 32ms/step\n",
            "1/1 [==============================] - 0s 29ms/step\n",
            "1/1 [==============================] - 0s 26ms/step\n",
            "1/1 [==============================] - 2s 2s/step\n",
            "1/1 [==============================] - 0s 29ms/step\n",
            "1/1 [==============================] - 0s 37ms/step\n",
            "1/1 [==============================] - 0s 29ms/step\n",
            "1/1 [==============================] - 0s 23ms/step\n",
            "1/1 [==============================] - 0s 28ms/step\n",
            "1/1 [==============================] - 0s 28ms/step\n",
            "1/1 [==============================] - 0s 23ms/step\n",
            "1/1 [==============================] - 0s 28ms/step\n",
            "1/1 [==============================] - 0s 30ms/step\n",
            "1/1 [==============================] - 0s 26ms/step\n",
            "1/1 [==============================] - 0s 26ms/step\n",
            "1/1 [==============================] - 0s 26ms/step\n",
            "1/1 [==============================] - 0s 28ms/step\n",
            "1/1 [==============================] - 0s 24ms/step\n",
            "1/1 [==============================] - 0s 34ms/step\n",
            "1/1 [==============================] - 0s 24ms/step\n"
          ]
        }
      ],
      "source": [
        "def get_features_and_labels(dataset):\n",
        "    all_features = []\n",
        "    all_labels = []\n",
        "    for images, labels in dataset:\n",
        "        preprocessed_images = keras.applications.vgg16.preprocess_input(images)\n",
        "        features = conv_base.predict(preprocessed_images)\n",
        "        all_features.append(features)\n",
        "        all_labels.append(labels)\n",
        "    return np.concatenate(all_features), np.concatenate(all_labels)\n",
        "\n",
        "train_features, train_labels =  get_features_and_labels(train_dataset)\n",
        "val_features, val_labels =  get_features_and_labels(validation_dataset)\n",
        "test_features, test_labels =  get_features_and_labels(test_dataset)"
      ]
    },
    {
      "cell_type": "code",
      "execution_count": null,
      "metadata": {
        "colab": {
          "base_uri": "https://localhost:8080/"
        },
        "id": "VDroFbXsIUNK",
        "outputId": "f14bafa6-6e1b-4006-8b74-eb74313f6dfc"
      },
      "outputs": [
        {
          "data": {
            "text/plain": [
              "(1000, 5, 5, 512)"
            ]
          },
          "execution_count": 14,
          "metadata": {},
          "output_type": "execute_result"
        }
      ],
      "source": [
        "train_features.shape"
      ]
    },
    {
      "cell_type": "markdown",
      "metadata": {
        "id": "X2kgjGUVH3Ky"
      },
      "source": [
        "## ***VGG - Model 1 Dense Layer with 256 Nodes and Droput Rate of 0.5 and optimizer being rmsprop with the Original Images***"
      ]
    },
    {
      "cell_type": "code",
      "execution_count": null,
      "metadata": {
        "colab": {
          "base_uri": "https://localhost:8080/"
        },
        "id": "PDb56KE3I0a2",
        "outputId": "9fc29cf8-506b-49e2-ddf5-7bdbc942287b"
      },
      "outputs": [
        {
          "name": "stdout",
          "output_type": "stream",
          "text": [
            "Epoch 1/30\n",
            "32/32 [==============================] - 2s 20ms/step - loss: 33.4363 - accuracy: 0.9020 - val_loss: 17.7934 - val_accuracy: 0.9060\n",
            "Epoch 2/30\n",
            "32/32 [==============================] - 0s 10ms/step - loss: 4.8357 - accuracy: 0.9730 - val_loss: 5.2915 - val_accuracy: 0.9640\n",
            "Epoch 3/30\n",
            "32/32 [==============================] - 0s 9ms/step - loss: 1.3187 - accuracy: 0.9850 - val_loss: 6.3005 - val_accuracy: 0.9480\n",
            "Epoch 4/30\n",
            "32/32 [==============================] - 0s 7ms/step - loss: 1.5558 - accuracy: 0.9880 - val_loss: 10.7682 - val_accuracy: 0.9400\n",
            "Epoch 5/30\n",
            "32/32 [==============================] - 0s 10ms/step - loss: 0.9742 - accuracy: 0.9940 - val_loss: 3.8362 - val_accuracy: 0.9720\n",
            "Epoch 6/30\n",
            "32/32 [==============================] - 0s 8ms/step - loss: 1.0695 - accuracy: 0.9940 - val_loss: 5.1483 - val_accuracy: 0.9680\n",
            "Epoch 7/30\n",
            "32/32 [==============================] - 0s 8ms/step - loss: 0.3139 - accuracy: 0.9970 - val_loss: 7.2058 - val_accuracy: 0.9660\n",
            "Epoch 8/30\n",
            "32/32 [==============================] - 0s 6ms/step - loss: 1.1768e-04 - accuracy: 1.0000 - val_loss: 5.9866 - val_accuracy: 0.9700\n",
            "Epoch 9/30\n",
            "32/32 [==============================] - 0s 5ms/step - loss: 0.3565 - accuracy: 0.9960 - val_loss: 5.0353 - val_accuracy: 0.9720\n",
            "Epoch 10/30\n",
            "32/32 [==============================] - 0s 6ms/step - loss: 0.2393 - accuracy: 0.9970 - val_loss: 5.1217 - val_accuracy: 0.9700\n",
            "Epoch 11/30\n",
            "32/32 [==============================] - 0s 6ms/step - loss: 0.9204 - accuracy: 0.9970 - val_loss: 4.4337 - val_accuracy: 0.9740\n",
            "Epoch 12/30\n",
            "32/32 [==============================] - 0s 6ms/step - loss: 2.6058e-12 - accuracy: 1.0000 - val_loss: 4.4337 - val_accuracy: 0.9740\n",
            "Epoch 13/30\n",
            "32/32 [==============================] - 0s 6ms/step - loss: 3.6174e-11 - accuracy: 1.0000 - val_loss: 4.4337 - val_accuracy: 0.9740\n",
            "Epoch 14/30\n",
            "32/32 [==============================] - 0s 6ms/step - loss: 0.2447 - accuracy: 0.9980 - val_loss: 4.3777 - val_accuracy: 0.9780\n",
            "Epoch 15/30\n",
            "32/32 [==============================] - 0s 6ms/step - loss: 0.4798 - accuracy: 0.9950 - val_loss: 9.9685 - val_accuracy: 0.9580\n",
            "Epoch 16/30\n",
            "32/32 [==============================] - 0s 5ms/step - loss: 0.7519 - accuracy: 0.9970 - val_loss: 4.8780 - val_accuracy: 0.9780\n",
            "Epoch 17/30\n",
            "32/32 [==============================] - 0s 6ms/step - loss: 6.9660e-12 - accuracy: 1.0000 - val_loss: 4.8780 - val_accuracy: 0.9780\n",
            "Epoch 18/30\n",
            "32/32 [==============================] - 0s 7ms/step - loss: 3.2965e-07 - accuracy: 1.0000 - val_loss: 4.8352 - val_accuracy: 0.9780\n",
            "Epoch 19/30\n",
            "32/32 [==============================] - 0s 6ms/step - loss: 0.0910 - accuracy: 0.9980 - val_loss: 4.4534 - val_accuracy: 0.9800\n",
            "Epoch 20/30\n",
            "32/32 [==============================] - 0s 6ms/step - loss: 0.4267 - accuracy: 0.9950 - val_loss: 6.2724 - val_accuracy: 0.9700\n",
            "Epoch 21/30\n",
            "32/32 [==============================] - 0s 6ms/step - loss: 0.0234 - accuracy: 0.9990 - val_loss: 6.0914 - val_accuracy: 0.9700\n",
            "Epoch 22/30\n",
            "32/32 [==============================] - 0s 6ms/step - loss: 5.5017e-33 - accuracy: 1.0000 - val_loss: 6.0914 - val_accuracy: 0.9700\n",
            "Epoch 23/30\n",
            "32/32 [==============================] - 0s 6ms/step - loss: 3.0565e-17 - accuracy: 1.0000 - val_loss: 6.0914 - val_accuracy: 0.9700\n",
            "Epoch 24/30\n",
            "32/32 [==============================] - 0s 8ms/step - loss: 0.1942 - accuracy: 0.9970 - val_loss: 3.5908 - val_accuracy: 0.9780\n",
            "Epoch 25/30\n",
            "32/32 [==============================] - 0s 6ms/step - loss: 0.0439 - accuracy: 0.9990 - val_loss: 8.5480 - val_accuracy: 0.9640\n",
            "Epoch 26/30\n",
            "32/32 [==============================] - 0s 6ms/step - loss: 0.1260 - accuracy: 0.9980 - val_loss: 3.7379 - val_accuracy: 0.9740\n",
            "Epoch 27/30\n",
            "32/32 [==============================] - 0s 6ms/step - loss: 0.0000e+00 - accuracy: 1.0000 - val_loss: 3.7379 - val_accuracy: 0.9740\n",
            "Epoch 28/30\n",
            "32/32 [==============================] - 0s 6ms/step - loss: 8.5945e-34 - accuracy: 1.0000 - val_loss: 3.7379 - val_accuracy: 0.9740\n",
            "Epoch 29/30\n",
            "32/32 [==============================] - 0s 6ms/step - loss: 0.0000e+00 - accuracy: 1.0000 - val_loss: 3.7379 - val_accuracy: 0.9740\n",
            "Epoch 30/30\n",
            "32/32 [==============================] - 0s 6ms/step - loss: 3.5902e-27 - accuracy: 1.0000 - val_loss: 3.7379 - val_accuracy: 0.9740\n"
          ]
        }
      ],
      "source": [
        "# Defining and Training the densely connected classifier \n",
        "# The last dense stacked layer and the classifier\n",
        "inputs = keras.Input(shape=(5, 5, 512))\n",
        "x = layers.Flatten()(inputs)\n",
        "x = layers.Dense(256)(x)\n",
        "x = layers.Dropout(0.5)(x)\n",
        "\n",
        "outputs = layers.Dense(1, activation=\"sigmoid\")(x)\n",
        "\n",
        "model = keras.Model(inputs, outputs)\n",
        "\n",
        "\n",
        "# Compiling the Model\n",
        "model.compile(loss=\"binary_crossentropy\",\n",
        "              optimizer=\"rmsprop\",\n",
        "              metrics=[\"accuracy\"])\n",
        "\n",
        "\n",
        "# Using CallBacks to monitor the best val_loss\n",
        "callbacks = ModelCheckpoint(\n",
        "            filepath=\"vgg_model1.keras\",\n",
        "            save_best_only=True,\n",
        "            monitor=\"val_loss\")\n",
        "\n",
        "\n",
        "# Model Fit\n",
        "VGG_Model_1 = model.fit(\n",
        "              train_features, train_labels,\n",
        "              epochs= 30,\n",
        "              validation_data= (val_features, val_labels),\n",
        "              callbacks= callbacks)"
      ]
    },
    {
      "cell_type": "markdown",
      "metadata": {
        "id": "9BlvepRTJs9F"
      },
      "source": [
        "Plotting the Training and Validation Accuracy/Loss"
      ]
    },
    {
      "cell_type": "markdown",
      "metadata": {
        "id": "lQiX7bNjTUU7"
      },
      "source": [
        "Evaluating VGG_Model_1 on test set"
      ]
    },
    {
      "cell_type": "code",
      "execution_count": null,
      "metadata": {
        "colab": {
          "base_uri": "https://localhost:8080/"
        },
        "id": "MNCaTCZGKRgq",
        "outputId": "7ddd7c88-1a56-48fa-faed-5d32a0be407d"
      },
      "outputs": [
        {
          "name": "stdout",
          "output_type": "stream",
          "text": [
            "16/16 [==============================] - 0s 3ms/step - loss: 12.3502 - accuracy: 0.9560\n",
            "Loss: 12.350\n",
            "Accuracy: 0.956\n"
          ]
        }
      ],
      "source": [
        "best_model = keras.models.load_model(\"vgg_model1.keras\")\n",
        "VGG_Model_1_Results = best_model.evaluate(test_features,test_labels)\n",
        "print(f'Loss: {VGG_Model_1_Results[0]:.3f}')\n",
        "print(f'Accuracy: {VGG_Model_1_Results[1]:.3f}')"
      ]
    },
    {
      "cell_type": "markdown",
      "metadata": {
        "id": "GrVo5v1pRVri"
      },
      "source": [
        "## ***VGG - Model 2***"
      ]
    },
    {
      "cell_type": "code",
      "execution_count": null,
      "metadata": {
        "id": "ZYS6cZK_LnMF"
      },
      "outputs": [],
      "source": [
        "conv_base= keras.applications.vgg16.VGG16(\n",
        "           weights=\"imagenet\",\n",
        "           include_top=False)\n",
        "\n",
        "conv_base.trainable = False"
      ]
    },
    {
      "cell_type": "markdown",
      "metadata": {
        "id": "kerXDWd-OCi3"
      },
      "source": [
        "We are setting the pre-trained model to not update it's weights during the training, we are only setting the densely connected networks and the classifier to update it's weights during the training."
      ]
    },
    {
      "cell_type": "markdown",
      "metadata": {
        "id": "c189q172OoMw"
      },
      "source": [
        "By doing so, we will be avoiding overfitting since the pre-trained model doesn't learn during the training and also it is useful to set the pre-trained model training to false when we have less training data and low computational power."
      ]
    },
    {
      "cell_type": "markdown",
      "metadata": {
        "id": "dBF-pKYaO5SR"
      },
      "source": [
        "Printing the list of trainable weights before and after freezing"
      ]
    },
    {
      "cell_type": "code",
      "execution_count": null,
      "metadata": {
        "colab": {
          "base_uri": "https://localhost:8080/"
        },
        "id": "yOe734L7O1xh",
        "outputId": "b9571b38-2a93-4654-99a0-aa1184a0ee5d"
      },
      "outputs": [
        {
          "name": "stdout",
          "output_type": "stream",
          "text": [
            "This is the number of trainable weights before freezing the conv base: 26\n"
          ]
        }
      ],
      "source": [
        "# Before Freezing\n",
        "conv_base.trainable = True\n",
        "print(\"This is the number of trainable weights \"\n",
        "      \"before freezing the conv base:\", len(conv_base.trainable_weights))"
      ]
    },
    {
      "cell_type": "code",
      "execution_count": null,
      "metadata": {
        "colab": {
          "base_uri": "https://localhost:8080/"
        },
        "id": "WgEOLRwTPcM4",
        "outputId": "f67d0a6d-51dc-4834-e0d9-38e648373a69"
      },
      "outputs": [
        {
          "name": "stdout",
          "output_type": "stream",
          "text": [
            "This is the number of trainable weights after freezing the conv base: 0\n"
          ]
        }
      ],
      "source": [
        "# After Freezing\n",
        "conv_base.trainable = False\n",
        "print(\"This is the number of trainable weights \"\n",
        "      \"after freezing the conv base:\", len(conv_base.trainable_weights))"
      ]
    },
    {
      "cell_type": "markdown",
      "metadata": {
        "id": "F4ZwQqtlPiT2"
      },
      "source": [
        "By setting the conv_base.trainable to False we froze the trainable weights on the VGG16 architecture."
      ]
    },
    {
      "cell_type": "code",
      "execution_count": null,
      "metadata": {
        "colab": {
          "base_uri": "https://localhost:8080/"
        },
        "id": "R8XpnkNuQSTr",
        "outputId": "465c5d3c-11e9-4aa2-e53c-0e1fd9223aa8"
      },
      "outputs": [
        {
          "name": "stdout",
          "output_type": "stream",
          "text": [
            "Model: \"vgg16\"\n",
            "_________________________________________________________________\n",
            " Layer (type)                Output Shape              Param #   \n",
            "=================================================================\n",
            " input_3 (InputLayer)        [(None, None, None, 3)]   0         \n",
            "                                                                 \n",
            " block1_conv1 (Conv2D)       (None, None, None, 64)    1792      \n",
            "                                                                 \n",
            " block1_conv2 (Conv2D)       (None, None, None, 64)    36928     \n",
            "                                                                 \n",
            " block1_pool (MaxPooling2D)  (None, None, None, 64)    0         \n",
            "                                                                 \n",
            " block2_conv1 (Conv2D)       (None, None, None, 128)   73856     \n",
            "                                                                 \n",
            " block2_conv2 (Conv2D)       (None, None, None, 128)   147584    \n",
            "                                                                 \n",
            " block2_pool (MaxPooling2D)  (None, None, None, 128)   0         \n",
            "                                                                 \n",
            " block3_conv1 (Conv2D)       (None, None, None, 256)   295168    \n",
            "                                                                 \n",
            " block3_conv2 (Conv2D)       (None, None, None, 256)   590080    \n",
            "                                                                 \n",
            " block3_conv3 (Conv2D)       (None, None, None, 256)   590080    \n",
            "                                                                 \n",
            " block3_pool (MaxPooling2D)  (None, None, None, 256)   0         \n",
            "                                                                 \n",
            " block4_conv1 (Conv2D)       (None, None, None, 512)   1180160   \n",
            "                                                                 \n",
            " block4_conv2 (Conv2D)       (None, None, None, 512)   2359808   \n",
            "                                                                 \n",
            " block4_conv3 (Conv2D)       (None, None, None, 512)   2359808   \n",
            "                                                                 \n",
            " block4_pool (MaxPooling2D)  (None, None, None, 512)   0         \n",
            "                                                                 \n",
            " block5_conv1 (Conv2D)       (None, None, None, 512)   2359808   \n",
            "                                                                 \n",
            " block5_conv2 (Conv2D)       (None, None, None, 512)   2359808   \n",
            "                                                                 \n",
            " block5_conv3 (Conv2D)       (None, None, None, 512)   2359808   \n",
            "                                                                 \n",
            " block5_pool (MaxPooling2D)  (None, None, None, 512)   0         \n",
            "                                                                 \n",
            "=================================================================\n",
            "Total params: 14,714,688\n",
            "Trainable params: 0\n",
            "Non-trainable params: 14,714,688\n",
            "_________________________________________________________________\n"
          ]
        }
      ],
      "source": [
        "conv_base.summary()"
      ]
    },
    {
      "cell_type": "markdown",
      "metadata": {
        "id": "u5rw9Ra9Lnpg"
      },
      "source": [
        "## ***VGG - Model 2 Dense Layer with 256 Nodes and Droput Rate of 0.5 and optimizer being rmsprop with the Augmented Images***"
      ]
    },
    {
      "cell_type": "markdown",
      "metadata": {
        "id": "CcHx-5_1PtWi"
      },
      "source": [
        "Adding a data augmentation stage to provide augmented training samples and a classifier to the convolutional base"
      ]
    },
    {
      "cell_type": "code",
      "execution_count": null,
      "metadata": {
        "id": "oS164qBwPrRe"
      },
      "outputs": [],
      "source": [
        "# Data Augmentation\n",
        "data_augmentation = keras.Sequential(\n",
        "    [\n",
        "        layers.RandomFlip(\"horizontal\"),\n",
        "        layers.RandomRotation(0.1),\n",
        "        layers.RandomZoom(0.2),\n",
        "    ]\n",
        ")\n",
        "\n",
        "# Adding the Classifier and Dense Network\n",
        "inputs = keras.Input(shape=(180, 180, 3))\n",
        "x = data_augmentation(inputs)\n",
        "x = keras.applications.vgg16.preprocess_input(x)\n",
        "x = conv_base(x)\n",
        "x = layers.Flatten()(x)\n",
        "x = layers.Dense(256)(x)\n",
        "x = layers.Dropout(0.5)(x)\n",
        "\n",
        "outputs = layers.Dense(1, activation=\"sigmoid\")(x)\n",
        "\n",
        "model = keras.Model(inputs, outputs)"
      ]
    },
    {
      "cell_type": "code",
      "execution_count": null,
      "metadata": {
        "colab": {
          "base_uri": "https://localhost:8080/"
        },
        "id": "EukgAvljQuis",
        "outputId": "82ab2111-63f7-41ec-de54-2bb62eb5ef14"
      },
      "outputs": [
        {
          "name": "stdout",
          "output_type": "stream",
          "text": [
            "Epoch 1/30\n",
            "32/32 [==============================] - 13s 299ms/step - loss: 26.7969 - accuracy: 0.8690 - val_loss: 2.2725 - val_accuracy: 0.9760\n",
            "Epoch 2/30\n",
            "32/32 [==============================] - 9s 281ms/step - loss: 5.7167 - accuracy: 0.9480 - val_loss: 12.2416 - val_accuracy: 0.9200\n",
            "Epoch 3/30\n",
            "32/32 [==============================] - 9s 285ms/step - loss: 6.9503 - accuracy: 0.9510 - val_loss: 2.9741 - val_accuracy: 0.9800\n",
            "Epoch 4/30\n",
            "32/32 [==============================] - 9s 283ms/step - loss: 2.9454 - accuracy: 0.9690 - val_loss: 7.8131 - val_accuracy: 0.9600\n",
            "Epoch 5/30\n",
            "32/32 [==============================] - 10s 298ms/step - loss: 3.9463 - accuracy: 0.9610 - val_loss: 14.8371 - val_accuracy: 0.9200\n",
            "Epoch 6/30\n",
            "32/32 [==============================] - 9s 270ms/step - loss: 2.9451 - accuracy: 0.9800 - val_loss: 5.1446 - val_accuracy: 0.9700\n",
            "Epoch 7/30\n",
            "32/32 [==============================] - 9s 290ms/step - loss: 2.5958 - accuracy: 0.9800 - val_loss: 3.0464 - val_accuracy: 0.9760\n",
            "Epoch 8/30\n",
            "32/32 [==============================] - 9s 291ms/step - loss: 2.1471 - accuracy: 0.9780 - val_loss: 4.1181 - val_accuracy: 0.9800\n",
            "Epoch 9/30\n",
            "32/32 [==============================] - 9s 289ms/step - loss: 1.5351 - accuracy: 0.9870 - val_loss: 2.9360 - val_accuracy: 0.9840\n",
            "Epoch 10/30\n",
            "32/32 [==============================] - 9s 276ms/step - loss: 0.7102 - accuracy: 0.9910 - val_loss: 3.9205 - val_accuracy: 0.9740\n",
            "Epoch 11/30\n",
            "32/32 [==============================] - 9s 267ms/step - loss: 1.7259 - accuracy: 0.9860 - val_loss: 4.7773 - val_accuracy: 0.9700\n",
            "Epoch 12/30\n",
            "32/32 [==============================] - 9s 286ms/step - loss: 0.7928 - accuracy: 0.9940 - val_loss: 4.4179 - val_accuracy: 0.9740\n",
            "Epoch 13/30\n",
            "32/32 [==============================] - 10s 293ms/step - loss: 1.4417 - accuracy: 0.9870 - val_loss: 14.0316 - val_accuracy: 0.9440\n",
            "Epoch 14/30\n",
            "32/32 [==============================] - 10s 292ms/step - loss: 2.1317 - accuracy: 0.9830 - val_loss: 5.3566 - val_accuracy: 0.9760\n",
            "Epoch 15/30\n",
            "32/32 [==============================] - 9s 270ms/step - loss: 1.0915 - accuracy: 0.9890 - val_loss: 7.4597 - val_accuracy: 0.9680\n",
            "Epoch 16/30\n",
            "32/32 [==============================] - 9s 270ms/step - loss: 2.9004 - accuracy: 0.9800 - val_loss: 7.5333 - val_accuracy: 0.9660\n",
            "Epoch 17/30\n",
            "32/32 [==============================] - 9s 283ms/step - loss: 1.4933 - accuracy: 0.9870 - val_loss: 5.8923 - val_accuracy: 0.9720\n",
            "Epoch 18/30\n",
            "32/32 [==============================] - 9s 285ms/step - loss: 0.8131 - accuracy: 0.9900 - val_loss: 5.7023 - val_accuracy: 0.9780\n",
            "Epoch 19/30\n",
            "32/32 [==============================] - 9s 289ms/step - loss: 1.4419 - accuracy: 0.9870 - val_loss: 7.2288 - val_accuracy: 0.9720\n",
            "Epoch 20/30\n",
            "32/32 [==============================] - 9s 271ms/step - loss: 0.9069 - accuracy: 0.9940 - val_loss: 6.2859 - val_accuracy: 0.9800\n",
            "Epoch 21/30\n",
            "32/32 [==============================] - 9s 271ms/step - loss: 1.3304 - accuracy: 0.9850 - val_loss: 6.2810 - val_accuracy: 0.9680\n",
            "Epoch 22/30\n",
            "32/32 [==============================] - 10s 287ms/step - loss: 0.7732 - accuracy: 0.9930 - val_loss: 7.4170 - val_accuracy: 0.9660\n",
            "Epoch 23/30\n",
            "32/32 [==============================] - 9s 285ms/step - loss: 0.6753 - accuracy: 0.9910 - val_loss: 6.1269 - val_accuracy: 0.9760\n",
            "Epoch 24/30\n",
            "32/32 [==============================] - 9s 285ms/step - loss: 1.4703 - accuracy: 0.9870 - val_loss: 4.8778 - val_accuracy: 0.9780\n",
            "Epoch 25/30\n",
            "32/32 [==============================] - 9s 285ms/step - loss: 1.0106 - accuracy: 0.9900 - val_loss: 6.9059 - val_accuracy: 0.9680\n",
            "Epoch 26/30\n",
            "32/32 [==============================] - 9s 270ms/step - loss: 0.9371 - accuracy: 0.9910 - val_loss: 4.7090 - val_accuracy: 0.9760\n",
            "Epoch 27/30\n",
            "32/32 [==============================] - 9s 273ms/step - loss: 0.8337 - accuracy: 0.9950 - val_loss: 5.1137 - val_accuracy: 0.9740\n",
            "Epoch 28/30\n",
            "32/32 [==============================] - 9s 286ms/step - loss: 0.1829 - accuracy: 0.9970 - val_loss: 4.6670 - val_accuracy: 0.9760\n",
            "Epoch 29/30\n",
            "32/32 [==============================] - 9s 288ms/step - loss: 0.0775 - accuracy: 0.9970 - val_loss: 5.2463 - val_accuracy: 0.9700\n",
            "Epoch 30/30\n",
            "32/32 [==============================] - 9s 288ms/step - loss: 0.8603 - accuracy: 0.9930 - val_loss: 5.1211 - val_accuracy: 0.9740\n"
          ]
        }
      ],
      "source": [
        "# Compiling the Model\n",
        "model.compile(loss=\"binary_crossentropy\",\n",
        "              optimizer=\"rmsprop\",\n",
        "              metrics=[\"accuracy\"])\n",
        "\n",
        "# Using CallBacks to monitor the best val_loss\n",
        "callbacks = ModelCheckpoint(\n",
        "            filepath= \"vgg_model2.keras\",\n",
        "            save_best_only= True,\n",
        "            monitor= \"val_loss\")\n",
        "\n",
        "# Model Fit\n",
        "VGG_Model_2 = model.fit(\n",
        "              train_dataset,\n",
        "              epochs= 30,\n",
        "              validation_data=validation_dataset,\n",
        "              callbacks=callbacks)"
      ]
    },
    {
      "cell_type": "markdown",
      "metadata": {
        "id": "3eHKhka4Skpp"
      },
      "source": [
        "Plotting the Training and Validation Accuracy/Loss"
      ]
    },
    {
      "cell_type": "markdown",
      "metadata": {
        "id": "l1G6eaUqTZVh"
      },
      "source": [
        "Evaluating VGG_Model_2 on test set"
      ]
    },
    {
      "cell_type": "code",
      "execution_count": null,
      "metadata": {
        "colab": {
          "base_uri": "https://localhost:8080/"
        },
        "id": "ln4OJ9msTSC1",
        "outputId": "32233d94-9490-4118-86a8-fa93f1580c62"
      },
      "outputs": [
        {
          "name": "stdout",
          "output_type": "stream",
          "text": [
            "16/16 [==============================] - 2s 99ms/step - loss: 5.1108 - accuracy: 0.9580\n",
            "Loss: 5.111\n",
            "Accuracy: 0.958\n"
          ]
        }
      ],
      "source": [
        "best_model = keras.models.load_model(\"vgg_model2.keras\")\n",
        "VGG_Model_2_Results= best_model.evaluate(test_dataset)\n",
        "print(f'Loss: {VGG_Model_2_Results[0]:.3f}')\n",
        "print(f'Accuracy: {VGG_Model_2_Results[1]:.3f}')"
      ]
    },
    {
      "cell_type": "markdown",
      "metadata": {
        "id": "gh01DY-BWtaO"
      },
      "source": [
        "## ***Fine Tuning the VGG_Model_2***"
      ]
    },
    {
      "cell_type": "markdown",
      "metadata": {
        "id": "3784g-UuW4V8"
      },
      "source": [
        "Freezing all layers until the fourth from the last\n",
        "\n"
      ]
    },
    {
      "cell_type": "code",
      "execution_count": null,
      "metadata": {
        "id": "ptnj5psNWspx"
      },
      "outputs": [],
      "source": [
        "conv_base.trainable = True\n",
        "for layer in conv_base.layers[:-4]:\n",
        "    layer.trainable = False"
      ]
    },
    {
      "cell_type": "markdown",
      "metadata": {
        "id": "sWLHugMqYs1L"
      },
      "source": [
        "It must be kept in mind that the pre-trained networks are not just used for a single image classificaiton purposed they are generally trained to classify and work on different use cases."
      ]
    },
    {
      "cell_type": "markdown",
      "metadata": {
        "id": "DsMK--3aZICk"
      },
      "source": [
        "Initial layers captures the general features and later feature are more specific to the problem which we deal."
      ]
    },
    {
      "cell_type": "markdown",
      "metadata": {
        "id": "BG1hCzZpY5N6"
      },
      "source": [
        "By freezing the initial layers we are generally avoiding overfitting and thereby allowing the model to learn more and more things which is specific to our classification task."
      ]
    },
    {
      "cell_type": "code",
      "execution_count": null,
      "metadata": {
        "colab": {
          "base_uri": "https://localhost:8080/"
        },
        "id": "vk_MKGS6X456",
        "outputId": "0baa3368-3801-435b-dbb0-9fb24485eafe"
      },
      "outputs": [
        {
          "name": "stdout",
          "output_type": "stream",
          "text": [
            "Epoch 1/30\n",
            "32/32 [==============================] - 15s 300ms/step - loss: 0.5607 - accuracy: 0.9940 - val_loss: 3.9200 - val_accuracy: 0.9780\n",
            "Epoch 2/30\n",
            "32/32 [==============================] - 10s 301ms/step - loss: 0.2457 - accuracy: 0.9960 - val_loss: 3.7473 - val_accuracy: 0.9780\n",
            "Epoch 3/30\n",
            "32/32 [==============================] - 10s 293ms/step - loss: 2.4852e-16 - accuracy: 1.0000 - val_loss: 3.7473 - val_accuracy: 0.9780\n",
            "Epoch 4/30\n",
            "32/32 [==============================] - 9s 287ms/step - loss: 0.4104 - accuracy: 0.9950 - val_loss: 3.5153 - val_accuracy: 0.9760\n",
            "Epoch 5/30\n",
            "32/32 [==============================] - 9s 284ms/step - loss: 0.1390 - accuracy: 0.9990 - val_loss: 3.5397 - val_accuracy: 0.9800\n",
            "Epoch 6/30\n",
            "32/32 [==============================] - 9s 287ms/step - loss: 0.6059 - accuracy: 0.9960 - val_loss: 3.1622 - val_accuracy: 0.9760\n",
            "Epoch 7/30\n",
            "32/32 [==============================] - 10s 283ms/step - loss: 0.0933 - accuracy: 0.9990 - val_loss: 3.9232 - val_accuracy: 0.9760\n",
            "Epoch 8/30\n",
            "32/32 [==============================] - 10s 295ms/step - loss: 0.0804 - accuracy: 0.9980 - val_loss: 4.3371 - val_accuracy: 0.9800\n",
            "Epoch 9/30\n",
            "32/32 [==============================] - 10s 296ms/step - loss: 0.3545 - accuracy: 0.9980 - val_loss: 3.2665 - val_accuracy: 0.9760\n",
            "Epoch 10/30\n",
            "32/32 [==============================] - 10s 296ms/step - loss: 0.1012 - accuracy: 0.9990 - val_loss: 7.0906 - val_accuracy: 0.9740\n",
            "Epoch 11/30\n",
            "32/32 [==============================] - 10s 294ms/step - loss: 0.4081 - accuracy: 0.9960 - val_loss: 3.8095 - val_accuracy: 0.9760\n",
            "Epoch 12/30\n",
            "32/32 [==============================] - 10s 294ms/step - loss: 0.1649 - accuracy: 0.9970 - val_loss: 5.6559 - val_accuracy: 0.9740\n",
            "Epoch 13/30\n",
            "32/32 [==============================] - 10s 295ms/step - loss: 0.5562 - accuracy: 0.9920 - val_loss: 3.0186 - val_accuracy: 0.9780\n",
            "Epoch 14/30\n",
            "32/32 [==============================] - 9s 287ms/step - loss: 0.2118 - accuracy: 0.9960 - val_loss: 7.0345 - val_accuracy: 0.9720\n",
            "Epoch 15/30\n",
            "32/32 [==============================] - 10s 306ms/step - loss: 0.3086 - accuracy: 0.9940 - val_loss: 3.5067 - val_accuracy: 0.9740\n",
            "Epoch 16/30\n",
            "32/32 [==============================] - 10s 299ms/step - loss: 0.1036 - accuracy: 0.9980 - val_loss: 3.0410 - val_accuracy: 0.9800\n",
            "Epoch 17/30\n",
            "32/32 [==============================] - 10s 307ms/step - loss: 0.4702 - accuracy: 0.9960 - val_loss: 2.9870 - val_accuracy: 0.9720\n",
            "Epoch 18/30\n",
            "32/32 [==============================] - 10s 299ms/step - loss: 0.0073 - accuracy: 0.9990 - val_loss: 3.0053 - val_accuracy: 0.9700\n",
            "Epoch 19/30\n",
            "32/32 [==============================] - 10s 292ms/step - loss: 0.0059 - accuracy: 0.9990 - val_loss: 3.9398 - val_accuracy: 0.9720\n",
            "Epoch 20/30\n",
            "32/32 [==============================] - 9s 279ms/step - loss: 0.0319 - accuracy: 0.9990 - val_loss: 2.9943 - val_accuracy: 0.9700\n",
            "Epoch 21/30\n",
            "32/32 [==============================] - 10s 292ms/step - loss: 0.2070 - accuracy: 0.9960 - val_loss: 3.2387 - val_accuracy: 0.9760\n",
            "Epoch 22/30\n",
            "32/32 [==============================] - 10s 297ms/step - loss: 0.1366 - accuracy: 0.9960 - val_loss: 3.2398 - val_accuracy: 0.9720\n",
            "Epoch 23/30\n",
            "32/32 [==============================] - 10s 297ms/step - loss: 0.2536 - accuracy: 0.9980 - val_loss: 3.2080 - val_accuracy: 0.9720\n",
            "Epoch 24/30\n",
            "32/32 [==============================] - 10s 293ms/step - loss: 0.0539 - accuracy: 0.9990 - val_loss: 3.4229 - val_accuracy: 0.9800\n",
            "Epoch 25/30\n",
            "32/32 [==============================] - 9s 286ms/step - loss: 0.2041 - accuracy: 0.9980 - val_loss: 3.1954 - val_accuracy: 0.9780\n",
            "Epoch 26/30\n",
            "32/32 [==============================] - 9s 281ms/step - loss: 0.0858 - accuracy: 0.9970 - val_loss: 4.8782 - val_accuracy: 0.9760\n",
            "Epoch 27/30\n",
            "32/32 [==============================] - 9s 280ms/step - loss: 0.1491 - accuracy: 0.9970 - val_loss: 3.6083 - val_accuracy: 0.9700\n",
            "Epoch 28/30\n",
            "32/32 [==============================] - 10s 294ms/step - loss: 0.0991 - accuracy: 0.9980 - val_loss: 3.6438 - val_accuracy: 0.9800\n",
            "Epoch 29/30\n",
            "32/32 [==============================] - 10s 296ms/step - loss: 0.0158 - accuracy: 0.9980 - val_loss: 3.3119 - val_accuracy: 0.9700\n",
            "Epoch 30/30\n",
            "32/32 [==============================] - 10s 297ms/step - loss: 0.0380 - accuracy: 0.9980 - val_loss: 3.0151 - val_accuracy: 0.9780\n"
          ]
        }
      ],
      "source": [
        "model.compile(loss=\"binary_crossentropy\",\n",
        "              optimizer=keras.optimizers.RMSprop(learning_rate=1e-5),\n",
        "              metrics=[\"accuracy\"])\n",
        "\n",
        "\n",
        "callbacks = ModelCheckpoint(\n",
        "            filepath=\"fine_tuning_vgg_model2.keras\",\n",
        "            save_best_only=True,\n",
        "            monitor=\"val_loss\")\n",
        "\n",
        "\n",
        "FineTuned_VGG_Model_2 = model.fit(\n",
        "                        train_dataset,\n",
        "                        epochs=30,\n",
        "                        validation_data=validation_dataset,\n",
        "                        callbacks=callbacks)"
      ]
    },
    {
      "cell_type": "markdown",
      "metadata": {
        "id": "f3xXL1BlZg0f"
      },
      "source": [
        "Plotting Training and Validation Accuracy/Loss"
      ]
    },
    {
      "cell_type": "markdown",
      "metadata": {
        "id": "kwQ1bgD2Z1vE"
      },
      "source": [
        "Evaluating FineTuned_VGG_Model_2 on test set"
      ]
    },
    {
      "cell_type": "code",
      "execution_count": null,
      "metadata": {
        "colab": {
          "base_uri": "https://localhost:8080/"
        },
        "id": "4AJvgUf-Z2gS",
        "outputId": "47c1115a-5a1e-427c-e412-e2adf69c8607"
      },
      "outputs": [
        {
          "name": "stdout",
          "output_type": "stream",
          "text": [
            "16/16 [==============================] - 2s 95ms/step - loss: 9.0846 - accuracy: 0.9660\n",
            "Loss: 9.085\n",
            "Accuracy: 0.966\n"
          ]
        }
      ],
      "source": [
        "best_model = keras.models.load_model(\"fine_tuning_vgg_model2.keras\")\n",
        "FineTuned_VGG_Model_2_Results = best_model.evaluate(test_dataset)\n",
        "print(f\"Loss: {FineTuned_VGG_Model_2_Results[0]:.3f}\")\n",
        "print(f\"Accuracy: {FineTuned_VGG_Model_2_Results[1]:.3f}\")"
      ]
    },
    {
      "cell_type": "markdown",
      "metadata": {
        "id": "4wxvnhw4FSaQ"
      },
      "source": [
        "### ***Above we have built 3 models using the pre-trained network i.e. vgg16, we saw that by not letting the pre-trained network to update it's weights during the training and nextly by freezing the first few layers of the pre-trained network we are getting higher accuracy, so we are going to do the same i.e. build two models with 5000 training samples.***"
      ]
    },
    {
      "cell_type": "markdown",
      "metadata": {
        "id": "-vGGfF6BEPBi"
      },
      "source": [
        "## ***VGG - Model 3 (5000 Training Samples)***"
      ]
    },
    {
      "cell_type": "markdown",
      "metadata": {
        "id": "DEFAlqP-FyKh"
      },
      "source": [
        "Not letting the pre-trained network update it's weights during the training."
      ]
    },
    {
      "cell_type": "code",
      "execution_count": 12,
      "metadata": {
        "colab": {
          "base_uri": "https://localhost:8080/"
        },
        "id": "0mVB7e9RE9-a",
        "outputId": "3de53747-6f9d-4e8d-aeab-68f94f609711"
      },
      "outputs": [
        {
          "name": "stdout",
          "output_type": "stream",
          "text": [
            "Downloading data from https://storage.googleapis.com/tensorflow/keras-applications/vgg16/vgg16_weights_tf_dim_ordering_tf_kernels_notop.h5\n",
            "58889256/58889256 [==============================] - 2s 0us/step\n"
          ]
        }
      ],
      "source": [
        "conv_base= keras.applications.vgg16.VGG16(\n",
        "           weights=\"imagenet\",\n",
        "           include_top=False)\n",
        "\n",
        "conv_base.trainable = False"
      ]
    },
    {
      "cell_type": "code",
      "execution_count": 13,
      "metadata": {
        "colab": {
          "base_uri": "https://localhost:8080/"
        },
        "id": "LzgUfXJ5F-fV",
        "outputId": "565cfb30-9e4d-4c7c-a79b-08658fb4106f"
      },
      "outputs": [
        {
          "name": "stdout",
          "output_type": "stream",
          "text": [
            "Model: \"vgg16\"\n",
            "_________________________________________________________________\n",
            " Layer (type)                Output Shape              Param #   \n",
            "=================================================================\n",
            " input_1 (InputLayer)        [(None, None, None, 3)]   0         \n",
            "                                                                 \n",
            " block1_conv1 (Conv2D)       (None, None, None, 64)    1792      \n",
            "                                                                 \n",
            " block1_conv2 (Conv2D)       (None, None, None, 64)    36928     \n",
            "                                                                 \n",
            " block1_pool (MaxPooling2D)  (None, None, None, 64)    0         \n",
            "                                                                 \n",
            " block2_conv1 (Conv2D)       (None, None, None, 128)   73856     \n",
            "                                                                 \n",
            " block2_conv2 (Conv2D)       (None, None, None, 128)   147584    \n",
            "                                                                 \n",
            " block2_pool (MaxPooling2D)  (None, None, None, 128)   0         \n",
            "                                                                 \n",
            " block3_conv1 (Conv2D)       (None, None, None, 256)   295168    \n",
            "                                                                 \n",
            " block3_conv2 (Conv2D)       (None, None, None, 256)   590080    \n",
            "                                                                 \n",
            " block3_conv3 (Conv2D)       (None, None, None, 256)   590080    \n",
            "                                                                 \n",
            " block3_pool (MaxPooling2D)  (None, None, None, 256)   0         \n",
            "                                                                 \n",
            " block4_conv1 (Conv2D)       (None, None, None, 512)   1180160   \n",
            "                                                                 \n",
            " block4_conv2 (Conv2D)       (None, None, None, 512)   2359808   \n",
            "                                                                 \n",
            " block4_conv3 (Conv2D)       (None, None, None, 512)   2359808   \n",
            "                                                                 \n",
            " block4_pool (MaxPooling2D)  (None, None, None, 512)   0         \n",
            "                                                                 \n",
            " block5_conv1 (Conv2D)       (None, None, None, 512)   2359808   \n",
            "                                                                 \n",
            " block5_conv2 (Conv2D)       (None, None, None, 512)   2359808   \n",
            "                                                                 \n",
            " block5_conv3 (Conv2D)       (None, None, None, 512)   2359808   \n",
            "                                                                 \n",
            " block5_pool (MaxPooling2D)  (None, None, None, 512)   0         \n",
            "                                                                 \n",
            "=================================================================\n",
            "Total params: 14,714,688\n",
            "Trainable params: 0\n",
            "Non-trainable params: 14,714,688\n",
            "_________________________________________________________________\n"
          ]
        }
      ],
      "source": [
        "conv_base.summary()"
      ]
    },
    {
      "cell_type": "markdown",
      "metadata": {
        "id": "MudRU2kgKX4d"
      },
      "source": [
        "Using image_dataset_from_directory to read images"
      ]
    },
    {
      "cell_type": "code",
      "execution_count": 16,
      "metadata": {
        "colab": {
          "base_uri": "https://localhost:8080/"
        },
        "id": "gXi3G7m9KYtg",
        "outputId": "f06a24c5-7393-49eb-b35b-d3687b329985"
      },
      "outputs": [
        {
          "name": "stdout",
          "output_type": "stream",
          "text": [
            "Found 5000 files belonging to 2 classes.\n",
            "Found 500 files belonging to 2 classes.\n",
            "Found 500 files belonging to 2 classes.\n"
          ]
        }
      ],
      "source": [
        "train_dataset = image_dataset_from_directory(\n",
        "    new_base_dir / \"train\",\n",
        "    image_size=(180, 180),\n",
        "    batch_size=32)\n",
        "validation_dataset = image_dataset_from_directory(\n",
        "    new_base_dir / \"validation\",\n",
        "    image_size=(180, 180),\n",
        "    batch_size=32)\n",
        "test_dataset = image_dataset_from_directory(\n",
        "    new_base_dir / \"test\",\n",
        "    image_size=(180, 180),\n",
        "    batch_size=32)"
      ]
    },
    {
      "cell_type": "markdown",
      "metadata": {
        "id": "LZMoHz1wGPc5"
      },
      "source": [
        "## ***VGG - Model 3 Dense Layer with 256 Nodes and Droput Rate of 0.5 and optimizer being adam with the augmented Images***"
      ]
    },
    {
      "cell_type": "code",
      "execution_count": 15,
      "metadata": {
        "colab": {
          "base_uri": "https://localhost:8080/"
        },
        "id": "yzQXiILAGBXc",
        "outputId": "4c5a9f0e-7364-4a82-d8d2-240cc5a555a1"
      },
      "outputs": [
        {
          "name": "stdout",
          "output_type": "stream",
          "text": [
            "Epoch 1/50\n",
            "157/157 [==============================] - 75s 376ms/step - loss: 10.3039 - accuracy: 0.9190 - val_loss: 1.4262 - val_accuracy: 0.9820\n",
            "Epoch 2/50\n",
            "157/157 [==============================] - 54s 342ms/step - loss: 6.9685 - accuracy: 0.9458 - val_loss: 0.5622 - val_accuracy: 0.9900\n",
            "Epoch 3/50\n",
            "157/157 [==============================] - 40s 255ms/step - loss: 5.1351 - accuracy: 0.9514 - val_loss: 0.3403 - val_accuracy: 0.9940\n",
            "Epoch 4/50\n",
            "157/157 [==============================] - 39s 246ms/step - loss: 3.0031 - accuracy: 0.9576 - val_loss: 0.8382 - val_accuracy: 0.9880\n",
            "Epoch 5/50\n",
            "157/157 [==============================] - 39s 245ms/step - loss: 2.2206 - accuracy: 0.9588 - val_loss: 0.9351 - val_accuracy: 0.9820\n",
            "Epoch 6/50\n",
            "157/157 [==============================] - 39s 246ms/step - loss: 1.3383 - accuracy: 0.9612 - val_loss: 0.7091 - val_accuracy: 0.9840\n",
            "Epoch 7/50\n",
            "157/157 [==============================] - 39s 249ms/step - loss: 0.8157 - accuracy: 0.9678 - val_loss: 0.3453 - val_accuracy: 0.9840\n",
            "Epoch 8/50\n",
            "157/157 [==============================] - 39s 247ms/step - loss: 0.5068 - accuracy: 0.9704 - val_loss: 0.1663 - val_accuracy: 0.9860\n",
            "Epoch 9/50\n",
            "157/157 [==============================] - 40s 254ms/step - loss: 0.4297 - accuracy: 0.9680 - val_loss: 0.1318 - val_accuracy: 0.9900\n",
            "Epoch 10/50\n",
            "157/157 [==============================] - 39s 247ms/step - loss: 0.3222 - accuracy: 0.9684 - val_loss: 0.0766 - val_accuracy: 0.9860\n",
            "Epoch 11/50\n",
            "157/157 [==============================] - 39s 245ms/step - loss: 0.3495 - accuracy: 0.9680 - val_loss: 0.1840 - val_accuracy: 0.9880\n",
            "Epoch 12/50\n",
            "157/157 [==============================] - 39s 246ms/step - loss: 0.2726 - accuracy: 0.9696 - val_loss: 0.1282 - val_accuracy: 0.9900\n",
            "Epoch 13/50\n",
            "157/157 [==============================] - 39s 245ms/step - loss: 0.2692 - accuracy: 0.9722 - val_loss: 0.1311 - val_accuracy: 0.9920\n",
            "Epoch 14/50\n",
            "157/157 [==============================] - 39s 244ms/step - loss: 0.3170 - accuracy: 0.9688 - val_loss: 0.1384 - val_accuracy: 0.9880\n",
            "Epoch 15/50\n",
            "157/157 [==============================] - 39s 245ms/step - loss: 0.2746 - accuracy: 0.9742 - val_loss: 0.1226 - val_accuracy: 0.9860\n",
            "Epoch 16/50\n",
            "157/157 [==============================] - 39s 246ms/step - loss: 0.2323 - accuracy: 0.9744 - val_loss: 0.2341 - val_accuracy: 0.9840\n",
            "Epoch 17/50\n",
            "157/157 [==============================] - 39s 248ms/step - loss: 0.2760 - accuracy: 0.9736 - val_loss: 0.2076 - val_accuracy: 0.9840\n",
            "Epoch 18/50\n",
            "157/157 [==============================] - 39s 247ms/step - loss: 0.3543 - accuracy: 0.9724 - val_loss: 0.0648 - val_accuracy: 0.9920\n",
            "Epoch 19/50\n",
            "157/157 [==============================] - 48s 303ms/step - loss: 0.3759 - accuracy: 0.9734 - val_loss: 0.2355 - val_accuracy: 0.9800\n",
            "Epoch 20/50\n",
            "157/157 [==============================] - 39s 247ms/step - loss: 0.4188 - accuracy: 0.9678 - val_loss: 0.3175 - val_accuracy: 0.9860\n",
            "Epoch 21/50\n",
            "157/157 [==============================] - 40s 249ms/step - loss: 0.4295 - accuracy: 0.9718 - val_loss: 0.1569 - val_accuracy: 0.9900\n",
            "Epoch 22/50\n",
            "157/157 [==============================] - 39s 245ms/step - loss: 0.5312 - accuracy: 0.9720 - val_loss: 0.5725 - val_accuracy: 0.9740\n",
            "Epoch 23/50\n",
            "157/157 [==============================] - 40s 256ms/step - loss: 0.6504 - accuracy: 0.9692 - val_loss: 0.3731 - val_accuracy: 0.9880\n",
            "Epoch 24/50\n",
            "157/157 [==============================] - 39s 247ms/step - loss: 0.7121 - accuracy: 0.9706 - val_loss: 0.5809 - val_accuracy: 0.9860\n",
            "Epoch 25/50\n",
            "157/157 [==============================] - 39s 250ms/step - loss: 0.6829 - accuracy: 0.9704 - val_loss: 0.3750 - val_accuracy: 0.9880\n",
            "Epoch 26/50\n",
            "157/157 [==============================] - 39s 245ms/step - loss: 0.7424 - accuracy: 0.9716 - val_loss: 0.3911 - val_accuracy: 0.9900\n",
            "Epoch 27/50\n",
            "157/157 [==============================] - 39s 244ms/step - loss: 0.7528 - accuracy: 0.9694 - val_loss: 0.4412 - val_accuracy: 0.9800\n",
            "Epoch 28/50\n",
            "157/157 [==============================] - 39s 245ms/step - loss: 0.7488 - accuracy: 0.9656 - val_loss: 0.4897 - val_accuracy: 0.9820\n",
            "Epoch 29/50\n",
            "157/157 [==============================] - 39s 244ms/step - loss: 0.6003 - accuracy: 0.9710 - val_loss: 0.7838 - val_accuracy: 0.9780\n",
            "Epoch 30/50\n",
            "157/157 [==============================] - 39s 244ms/step - loss: 0.7410 - accuracy: 0.9696 - val_loss: 0.3895 - val_accuracy: 0.9860\n",
            "Epoch 31/50\n",
            "157/157 [==============================] - 39s 244ms/step - loss: 0.5518 - accuracy: 0.9736 - val_loss: 0.4617 - val_accuracy: 0.9840\n",
            "Epoch 32/50\n",
            "157/157 [==============================] - 39s 244ms/step - loss: 0.6869 - accuracy: 0.9724 - val_loss: 0.5831 - val_accuracy: 0.9820\n",
            "Epoch 33/50\n",
            "157/157 [==============================] - 39s 245ms/step - loss: 0.6095 - accuracy: 0.9750 - val_loss: 0.5320 - val_accuracy: 0.9840\n",
            "Epoch 34/50\n",
            "157/157 [==============================] - 39s 244ms/step - loss: 1.1451 - accuracy: 0.9654 - val_loss: 0.8295 - val_accuracy: 0.9740\n",
            "Epoch 35/50\n",
            "157/157 [==============================] - 38s 244ms/step - loss: 0.9081 - accuracy: 0.9688 - val_loss: 0.6294 - val_accuracy: 0.9820\n",
            "Epoch 36/50\n",
            "157/157 [==============================] - 39s 244ms/step - loss: 0.7205 - accuracy: 0.9758 - val_loss: 0.8728 - val_accuracy: 0.9840\n",
            "Epoch 37/50\n",
            "157/157 [==============================] - 39s 248ms/step - loss: 0.6852 - accuracy: 0.9752 - val_loss: 0.8411 - val_accuracy: 0.9820\n",
            "Epoch 38/50\n",
            "157/157 [==============================] - 39s 246ms/step - loss: 0.9067 - accuracy: 0.9724 - val_loss: 0.6357 - val_accuracy: 0.9860\n",
            "Epoch 39/50\n",
            "157/157 [==============================] - 39s 245ms/step - loss: 0.7417 - accuracy: 0.9742 - val_loss: 0.6232 - val_accuracy: 0.9880\n",
            "Epoch 40/50\n",
            "157/157 [==============================] - 39s 244ms/step - loss: 0.7329 - accuracy: 0.9748 - val_loss: 0.3688 - val_accuracy: 0.9940\n",
            "Epoch 41/50\n",
            "157/157 [==============================] - 39s 244ms/step - loss: 0.9723 - accuracy: 0.9726 - val_loss: 1.0595 - val_accuracy: 0.9820\n",
            "Epoch 42/50\n",
            "157/157 [==============================] - 38s 244ms/step - loss: 0.9372 - accuracy: 0.9718 - val_loss: 0.8991 - val_accuracy: 0.9860\n",
            "Epoch 43/50\n",
            "157/157 [==============================] - 39s 243ms/step - loss: 1.0047 - accuracy: 0.9742 - val_loss: 1.3229 - val_accuracy: 0.9780\n",
            "Epoch 44/50\n",
            "157/157 [==============================] - 39s 245ms/step - loss: 0.7236 - accuracy: 0.9770 - val_loss: 1.0040 - val_accuracy: 0.9860\n",
            "Epoch 45/50\n",
            "157/157 [==============================] - 38s 242ms/step - loss: 1.1539 - accuracy: 0.9712 - val_loss: 0.7379 - val_accuracy: 0.9820\n",
            "Epoch 46/50\n",
            "157/157 [==============================] - 38s 243ms/step - loss: 0.8502 - accuracy: 0.9758 - val_loss: 0.7438 - val_accuracy: 0.9860\n",
            "Epoch 47/50\n",
            "157/157 [==============================] - 38s 243ms/step - loss: 0.8460 - accuracy: 0.9766 - val_loss: 0.6666 - val_accuracy: 0.9820\n",
            "Epoch 48/50\n",
            "157/157 [==============================] - 39s 245ms/step - loss: 0.8280 - accuracy: 0.9770 - val_loss: 1.0645 - val_accuracy: 0.9840\n",
            "Epoch 49/50\n",
            "157/157 [==============================] - 39s 245ms/step - loss: 0.7803 - accuracy: 0.9772 - val_loss: 0.6091 - val_accuracy: 0.9920\n",
            "Epoch 50/50\n",
            "157/157 [==============================] - 39s 250ms/step - loss: 1.0031 - accuracy: 0.9742 - val_loss: 0.7840 - val_accuracy: 0.9840\n"
          ]
        }
      ],
      "source": [
        "# Data Augmentation\n",
        "data_augmentation_4 = keras.Sequential(\n",
        "    [\n",
        "        layers.RandomFlip(\"horizontal\"),\n",
        "        layers.RandomRotation(0.15),\n",
        "        layers.RandomZoom(0.25),\n",
        "    ]\n",
        ")\n",
        "\n",
        "# Adding the Classifier and Dense Network\n",
        "inputs = keras.Input(shape=(180, 180, 3))\n",
        "x = data_augmentation_4(inputs)\n",
        "x = keras.applications.vgg16.preprocess_input(x)\n",
        "x = conv_base(x)\n",
        "x = layers.Flatten()(x)\n",
        "x = layers.Dense(256)(x)\n",
        "x = layers.Dropout(0.5)(x)\n",
        "\n",
        "outputs = layers.Dense(1, activation=\"sigmoid\")(x)\n",
        "\n",
        "model = keras.Model(inputs, outputs)\n",
        "\n",
        "# Compiling the Model\n",
        "model.compile(loss=\"binary_crossentropy\",\n",
        "              optimizer=\"adam\",\n",
        "              metrics=[\"accuracy\"])\n",
        "\n",
        "# Using CallBacks to monitor the best val_loss\n",
        "callbacks = ModelCheckpoint(\n",
        "            filepath= \"vgg_model3.keras\",\n",
        "            save_best_only= True,\n",
        "            monitor= \"val_loss\")\n",
        "\n",
        "# Model Fit\n",
        "VGG_Model_3 = model.fit(\n",
        "              train_dataset,\n",
        "              epochs= 50,\n",
        "              validation_data=validation_dataset,\n",
        "              callbacks=callbacks)"
      ]
    },
    {
      "cell_type": "markdown",
      "metadata": {
        "id": "7XzndqmuHQRj"
      },
      "source": [
        "Visualizing the training and validation Accuracy/Loss"
      ]
    },
    {
      "cell_type": "markdown",
      "metadata": {
        "id": "_QIlY7olHigc"
      },
      "source": [
        "Evaluating the performance of VGG_Model_3 on test set"
      ]
    },
    {
      "cell_type": "code",
      "execution_count": 18,
      "metadata": {
        "colab": {
          "base_uri": "https://localhost:8080/"
        },
        "id": "ik9U0oYqHmRT",
        "outputId": "6222fec9-1246-472f-946c-1cc42a9ed87d"
      },
      "outputs": [
        {
          "name": "stdout",
          "output_type": "stream",
          "text": [
            "16/16 [==============================] - 2s 93ms/step - loss: 0.2359 - accuracy: 0.9860\n",
            "Loss: 0.236\n",
            "Accuracy: 0.986\n"
          ]
        }
      ],
      "source": [
        "best_model = keras.models.load_model(\"vgg_model3.keras\")\n",
        "VGG_Model_3_Results = best_model.evaluate(test_dataset)\n",
        "print(f\"Loss: {VGG_Model_3_Results[0]:.3f}\")\n",
        "print(f\"Accuracy: {VGG_Model_3_Results[1]:.3f}\")"
      ]
    },
    {
      "cell_type": "markdown",
      "metadata": {
        "id": "h-aK4v6RPVHP"
      },
      "source": [
        "## ***Fine Tunning VGG_Model_3 (Training Samples - 5000)***"
      ]
    },
    {
      "cell_type": "markdown",
      "metadata": {
        "id": "sbPYW7gmPVoz"
      },
      "source": [
        "Here we are trying to optimize the VGG_Model3 by freezing the initial 4 layers so that the model doesn't overfit and learns only the features specific to our classification task."
      ]
    },
    {
      "cell_type": "markdown",
      "metadata": {
        "id": "CsnHG29KSgO1"
      },
      "source": [
        "So here the pre-trained layer's are set to not update during the training and also the initial 4 layers are set to be freezed, these are the optimisations being used in here so as to achieve better performance with 5000 training samples."
      ]
    },
    {
      "cell_type": "code",
      "execution_count": 19,
      "metadata": {
        "id": "3QHUa15VPV8C"
      },
      "outputs": [],
      "source": [
        "conv_base.trainable = True\n",
        "for layer in conv_base.layers[:-4]:\n",
        "    layer.trainable = False"
      ]
    },
    {
      "cell_type": "markdown",
      "metadata": {
        "id": "-royswMGPajY"
      },
      "source": [
        "Fine Tunning VGG_Model_3"
      ]
    },
    {
      "cell_type": "code",
      "execution_count": 20,
      "metadata": {
        "colab": {
          "base_uri": "https://localhost:8080/"
        },
        "id": "g1UFp7RRPbQK",
        "outputId": "753203ee-4631-4cad-bd66-d8c3f0ee7d38"
      },
      "outputs": [
        {
          "name": "stdout",
          "output_type": "stream",
          "text": [
            "Epoch 1/50\n",
            "157/157 [==============================] - 62s 351ms/step - loss: 0.6453 - accuracy: 0.9784 - val_loss: 0.8518 - val_accuracy: 0.9820\n",
            "Epoch 2/50\n",
            "157/157 [==============================] - 52s 330ms/step - loss: 0.3256 - accuracy: 0.9838 - val_loss: 0.5575 - val_accuracy: 0.9880\n",
            "Epoch 3/50\n",
            "157/157 [==============================] - 48s 301ms/step - loss: 0.3173 - accuracy: 0.9822 - val_loss: 0.7828 - val_accuracy: 0.9820\n",
            "Epoch 4/50\n",
            "157/157 [==============================] - 46s 290ms/step - loss: 0.3150 - accuracy: 0.9848 - val_loss: 0.5674 - val_accuracy: 0.9860\n",
            "Epoch 5/50\n",
            "157/157 [==============================] - 41s 257ms/step - loss: 0.2841 - accuracy: 0.9860 - val_loss: 0.6796 - val_accuracy: 0.9880\n",
            "Epoch 6/50\n",
            "157/157 [==============================] - 41s 259ms/step - loss: 0.1831 - accuracy: 0.9864 - val_loss: 0.3928 - val_accuracy: 0.9940\n",
            "Epoch 7/50\n",
            "157/157 [==============================] - 41s 261ms/step - loss: 0.1547 - accuracy: 0.9882 - val_loss: 0.3289 - val_accuracy: 0.9880\n",
            "Epoch 8/50\n",
            "157/157 [==============================] - 41s 259ms/step - loss: 0.1753 - accuracy: 0.9886 - val_loss: 0.2998 - val_accuracy: 0.9920\n",
            "Epoch 9/50\n",
            "157/157 [==============================] - 41s 258ms/step - loss: 0.1361 - accuracy: 0.9880 - val_loss: 0.2699 - val_accuracy: 0.9920\n",
            "Epoch 10/50\n",
            "157/157 [==============================] - 41s 260ms/step - loss: 0.1382 - accuracy: 0.9892 - val_loss: 0.2994 - val_accuracy: 0.9900\n",
            "Epoch 11/50\n",
            "157/157 [==============================] - 42s 267ms/step - loss: 0.0719 - accuracy: 0.9924 - val_loss: 0.2858 - val_accuracy: 0.9920\n",
            "Epoch 12/50\n",
            "157/157 [==============================] - 49s 306ms/step - loss: 0.0939 - accuracy: 0.9916 - val_loss: 0.2751 - val_accuracy: 0.9940\n",
            "Epoch 13/50\n",
            "157/157 [==============================] - 49s 312ms/step - loss: 0.1412 - accuracy: 0.9900 - val_loss: 0.2254 - val_accuracy: 0.9900\n",
            "Epoch 14/50\n",
            "157/157 [==============================] - 49s 311ms/step - loss: 0.0814 - accuracy: 0.9942 - val_loss: 0.2297 - val_accuracy: 0.9960\n",
            "Epoch 15/50\n",
            "157/157 [==============================] - 48s 304ms/step - loss: 0.0570 - accuracy: 0.9952 - val_loss: 0.1774 - val_accuracy: 0.9960\n",
            "Epoch 16/50\n",
            "157/157 [==============================] - 41s 256ms/step - loss: 0.0668 - accuracy: 0.9924 - val_loss: 0.2685 - val_accuracy: 0.9920\n",
            "Epoch 17/50\n",
            "157/157 [==============================] - 46s 289ms/step - loss: 0.0866 - accuracy: 0.9938 - val_loss: 0.2031 - val_accuracy: 0.9900\n",
            "Epoch 18/50\n",
            "157/157 [==============================] - 45s 283ms/step - loss: 0.1346 - accuracy: 0.9888 - val_loss: 0.1793 - val_accuracy: 0.9940\n",
            "Epoch 19/50\n",
            "157/157 [==============================] - 55s 348ms/step - loss: 0.0835 - accuracy: 0.9934 - val_loss: 0.1755 - val_accuracy: 0.9940\n",
            "Epoch 20/50\n",
            "157/157 [==============================] - 48s 307ms/step - loss: 0.0638 - accuracy: 0.9938 - val_loss: 0.1695 - val_accuracy: 0.9920\n",
            "Epoch 21/50\n",
            "157/157 [==============================] - 57s 359ms/step - loss: 0.0286 - accuracy: 0.9958 - val_loss: 0.2140 - val_accuracy: 0.9920\n",
            "Epoch 22/50\n",
            "157/157 [==============================] - 52s 333ms/step - loss: 0.0577 - accuracy: 0.9928 - val_loss: 0.2571 - val_accuracy: 0.9920\n",
            "Epoch 23/50\n",
            "157/157 [==============================] - 51s 323ms/step - loss: 0.0843 - accuracy: 0.9934 - val_loss: 0.2277 - val_accuracy: 0.9880\n",
            "Epoch 24/50\n",
            "157/157 [==============================] - 54s 337ms/step - loss: 0.1032 - accuracy: 0.9934 - val_loss: 0.2171 - val_accuracy: 0.9900\n",
            "Epoch 25/50\n",
            "157/157 [==============================] - 56s 352ms/step - loss: 0.0586 - accuracy: 0.9934 - val_loss: 0.2643 - val_accuracy: 0.9900\n",
            "Epoch 26/50\n",
            "157/157 [==============================] - 49s 306ms/step - loss: 0.0513 - accuracy: 0.9932 - val_loss: 0.1397 - val_accuracy: 0.9900\n",
            "Epoch 27/50\n",
            "157/157 [==============================] - 45s 286ms/step - loss: 0.0382 - accuracy: 0.9948 - val_loss: 0.1004 - val_accuracy: 0.9960\n",
            "Epoch 28/50\n",
            "157/157 [==============================] - 46s 293ms/step - loss: 0.0471 - accuracy: 0.9936 - val_loss: 0.1486 - val_accuracy: 0.9920\n",
            "Epoch 29/50\n",
            "157/157 [==============================] - 53s 333ms/step - loss: 0.0247 - accuracy: 0.9952 - val_loss: 0.1139 - val_accuracy: 0.9940\n",
            "Epoch 30/50\n",
            "157/157 [==============================] - 50s 311ms/step - loss: 0.0282 - accuracy: 0.9962 - val_loss: 0.1270 - val_accuracy: 0.9940\n",
            "Epoch 31/50\n",
            "157/157 [==============================] - 45s 280ms/step - loss: 0.0318 - accuracy: 0.9966 - val_loss: 0.1812 - val_accuracy: 0.9960\n",
            "Epoch 32/50\n",
            "157/157 [==============================] - 44s 276ms/step - loss: 0.0287 - accuracy: 0.9958 - val_loss: 0.0997 - val_accuracy: 0.9940\n",
            "Epoch 33/50\n",
            "157/157 [==============================] - 41s 261ms/step - loss: 0.0173 - accuracy: 0.9980 - val_loss: 0.0857 - val_accuracy: 0.9980\n",
            "Epoch 34/50\n",
            "157/157 [==============================] - 44s 279ms/step - loss: 0.0419 - accuracy: 0.9950 - val_loss: 0.0841 - val_accuracy: 0.9980\n",
            "Epoch 35/50\n",
            "157/157 [==============================] - 43s 271ms/step - loss: 0.0531 - accuracy: 0.9934 - val_loss: 0.0841 - val_accuracy: 0.9960\n",
            "Epoch 36/50\n",
            "157/157 [==============================] - 42s 266ms/step - loss: 0.0412 - accuracy: 0.9940 - val_loss: 0.0989 - val_accuracy: 0.9960\n",
            "Epoch 37/50\n",
            "157/157 [==============================] - 41s 260ms/step - loss: 0.0381 - accuracy: 0.9952 - val_loss: 0.1444 - val_accuracy: 0.9940\n",
            "Epoch 38/50\n",
            "157/157 [==============================] - 41s 260ms/step - loss: 0.0401 - accuracy: 0.9948 - val_loss: 0.0890 - val_accuracy: 0.9940\n",
            "Epoch 39/50\n",
            "157/157 [==============================] - 42s 266ms/step - loss: 0.0381 - accuracy: 0.9960 - val_loss: 0.0789 - val_accuracy: 0.9980\n",
            "Epoch 40/50\n",
            "157/157 [==============================] - 42s 265ms/step - loss: 0.0208 - accuracy: 0.9970 - val_loss: 0.0688 - val_accuracy: 0.9980\n",
            "Epoch 41/50\n",
            "157/157 [==============================] - 41s 258ms/step - loss: 0.0426 - accuracy: 0.9960 - val_loss: 0.0593 - val_accuracy: 0.9980\n",
            "Epoch 42/50\n",
            "157/157 [==============================] - 41s 259ms/step - loss: 0.0450 - accuracy: 0.9950 - val_loss: 0.0653 - val_accuracy: 0.9960\n",
            "Epoch 43/50\n",
            "157/157 [==============================] - 41s 258ms/step - loss: 0.0250 - accuracy: 0.9972 - val_loss: 0.0592 - val_accuracy: 0.9960\n",
            "Epoch 44/50\n",
            "157/157 [==============================] - 40s 255ms/step - loss: 0.0278 - accuracy: 0.9956 - val_loss: 0.0521 - val_accuracy: 0.9980\n",
            "Epoch 45/50\n",
            "157/157 [==============================] - 41s 262ms/step - loss: 0.0156 - accuracy: 0.9974 - val_loss: 0.0483 - val_accuracy: 0.9980\n",
            "Epoch 46/50\n",
            "157/157 [==============================] - 42s 263ms/step - loss: 0.0464 - accuracy: 0.9954 - val_loss: 0.0783 - val_accuracy: 0.9960\n",
            "Epoch 47/50\n",
            "157/157 [==============================] - 41s 259ms/step - loss: 0.0449 - accuracy: 0.9942 - val_loss: 0.0713 - val_accuracy: 0.9980\n",
            "Epoch 48/50\n",
            "157/157 [==============================] - 41s 262ms/step - loss: 0.0293 - accuracy: 0.9960 - val_loss: 0.1628 - val_accuracy: 0.9880\n",
            "Epoch 49/50\n",
            "157/157 [==============================] - 41s 260ms/step - loss: 0.0262 - accuracy: 0.9962 - val_loss: 0.1027 - val_accuracy: 0.9940\n",
            "Epoch 50/50\n",
            "157/157 [==============================] - 41s 260ms/step - loss: 0.0221 - accuracy: 0.9976 - val_loss: 0.0856 - val_accuracy: 0.9940\n"
          ]
        }
      ],
      "source": [
        "model.compile(loss=\"binary_crossentropy\",\n",
        "              optimizer=keras.optimizers.Adam(learning_rate=1e-5),\n",
        "              metrics=[\"accuracy\"])\n",
        "\n",
        "\n",
        "callbacks = ModelCheckpoint(\n",
        "            filepath=\"fine_tuning_vgg_model3.keras\",\n",
        "            save_best_only=True,\n",
        "            monitor=\"val_loss\")\n",
        "\n",
        "\n",
        "FineTuned_VGG_Model_3 = model.fit(\n",
        "                        train_dataset,\n",
        "                        epochs=50,\n",
        "                        validation_data=validation_dataset,\n",
        "                        callbacks=callbacks)"
      ]
    },
    {
      "cell_type": "markdown",
      "metadata": {
        "id": "6PQ4cLogP6sJ"
      },
      "source": [
        "Visualizing the training and validation Accuracy/Loss"
      ]
    },
    {
      "cell_type": "markdown",
      "metadata": {
        "id": "LteYfSwRP723"
      },
      "source": [
        "Evaluating the performance of FineTuned_VGG_Model_3 on test set"
      ]
    },
    {
      "cell_type": "code",
      "execution_count": 24,
      "metadata": {
        "colab": {
          "base_uri": "https://localhost:8080/"
        },
        "id": "i4jln0YhP8Q3",
        "outputId": "e9f1f475-38ca-4a78-97ad-5cfc1c3b389a"
      },
      "outputs": [
        {
          "name": "stdout",
          "output_type": "stream",
          "text": [
            "16/16 [==============================] - 2s 93ms/step - loss: 0.0829 - accuracy: 0.9940\n",
            "Loss: 0.083\n",
            "Accuracy: 0.994\n"
          ]
        }
      ],
      "source": [
        "best_model = keras.models.load_model(\"fine_tuning_vgg_model3.keras\")\n",
        "FineTuned_VGG_Model_3_Results = best_model.evaluate(test_dataset)\n",
        "print(f\"Loss: {FineTuned_VGG_Model_3_Results[0]:.3f}\")\n",
        "print(f\"Accuracy: {FineTuned_VGG_Model_3_Results[1]:.3f}\")"
      ]
    },
    {
      "cell_type": "markdown",
      "metadata": {
        "id": "YW4w6w29Szi4"
      },
      "source": [
        "Now, since we have all the models built, in total 15 models where 2 models were just used as a fine tuned version of the previous models."
      ]
    },
    {
      "cell_type": "markdown",
      "metadata": {
        "id": "0oqXi29yS9GW"
      },
      "source": [
        "We are trying to compare now which of the models were the best performer, in two categories i.e. Scratch Models vs Pre-Trained Models"
      ]
    },
    {
      "cell_type": "markdown",
      "metadata": {
        "id": "w4krSJQfTHDU"
      },
      "source": [
        "Let's evaluate the best model from scratch, in total comparing the loss and accuracy of 10 models built with 4 different training samples, main ideology is to find the optimal training sample for the cats and dogs classification task."
      ]
    },
    {
      "cell_type": "code",
      "execution_count": 25,
      "metadata": {
        "id": "5yS0gQO0TWt_"
      },
      "outputs": [],
      "source": [
        "# Scratch Models\n",
        "Model_1 = (0.645, 0.614)\n",
        "Model_2 = (0.601, 0.712)\n",
        "Model_3 = (0.609,0.692)\n",
        "Model_4 = (0.666, 0.652)\n",
        "Model_5 = (0.445,0.860)\n",
        "Model_6 = (0.608,0.650)\n",
        "Model_7 = (0.495,0.818)\n",
        "Model_8 = (0.425,0.856)\n",
        "Model_9 = (0.551,0.782)\n",
        "Model_10 = (0.182,0.920)"
      ]
    },
    {
      "attachments": {},
      "cell_type": "markdown",
      "metadata": {
        "id": "Hiie8sADcFKy"
      },
      "source": [
        "### *When it comes to the scratch models, Model_10 with 5000 Training Samples deemed to be the best model with 92% Accuracy and 18% loss on the test set. Model_10 was built using 5 layers ranging the filters size from 32 to 256 with maxpooling layer and dropout rate of 0.5 with the augmented images being used.*"
      ]
    },
    {
      "cell_type": "markdown",
      "metadata": {
        "id": "eXLqSS_3cas-"
      },
      "source": [
        "Next we built 5 models using the pre-trained vgg16 network, the first 3 were built using 1000 as sample and rmsprop as optimizer and the next 2 where built using 5000 as sample size and adam as optimizer."
      ]
    },
    {
      "cell_type": "code",
      "execution_count": 27,
      "metadata": {
        "id": "EwApwGiucxdP"
      },
      "outputs": [],
      "source": [
        "# Pre-Trained Models\n",
        "VGG_Model_1 = (12.350,0.956)\n",
        "VGG_Model_2 = (5.111,0.958)\n",
        "FineTuned_VGG_Model_2 = (9.085,0.966)\n",
        "VGG_Model_3 = (0.236,0.986)\n",
        "FineTuned_VGG_Model_3 = (0.083,0.994)"
      ]
    },
    {
      "attachments": {},
      "cell_type": "markdown",
      "metadata": {
        "id": "4r6nPj7Yd_Xt"
      },
      "source": [
        "### *Among the pre-trained models, FineTuned_VGG_Model_3 (Mod_5) stands out as the best performer, achieving an accuracy of 99.4% and a loss of 8.3%. This model utilized 5000 training samples, employed the Adam optimizer with a learning rate of 0.000001. In both the scratch models and pre-trained models, the best performance was observed when training with 5000 samples and using the Adam optimizer. The relationship between training sample size and network choice was found to be significant, as more samples allowed for more efficient training and better understanding of image characteristics. In scratch models, models with Adam optimizer and max pooling (pooling size 2) performed the best, with the addition of dropout rate and augmented images leading to increased accuracy. Similarly, in pre-trained models, utilizing Adam optimizer, dropout rate, and freezing initial layers helped optimize the network for the specific task of classifying cats vs dogs.*"
      ]
    }
  ],
  "metadata": {
    "accelerator": "GPU",
    "colab": {
      "provenance": []
    },
    "gpuClass": "standard",
    "kernelspec": {
      "display_name": "Python 3",
      "name": "python3"
    },
    "language_info": {
      "name": "python"
    }
  },
  "nbformat": 4,
  "nbformat_minor": 0
}
