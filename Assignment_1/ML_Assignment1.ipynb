{
  "nbformat": 4,
  "nbformat_minor": 0,
  "metadata": {
    "colab": {
      "provenance": []
    },
    "kernelspec": {
      "name": "python3",
      "display_name": "Python 3"
    },
    "language_info": {
      "name": "python"
    },
    "accelerator": "TPU",
    "gpuClass": "standard"
  },
  "cells": [
    {
      "cell_type": "markdown",
      "source": [
        "# **Building Neural Networks Using IMDB Dataset**"
      ],
      "metadata": {
        "id": "35vVjw3Ck8rG"
      }
    },
    {
      "cell_type": "markdown",
      "source": [
        "***The IMDb Movie Reviews dataset is a binary sentiment analysis dataset consisting of 50,000 reviews from the Internet Movie Database (IMDb) labeled as positive or negative. The dataset contains an even number of positive and negative reviews.***"
      ],
      "metadata": {
        "id": "rRLLbKgqEhKu"
      }
    },
    {
      "cell_type": "markdown",
      "source": [
        "### *Loading all the required packages*"
      ],
      "metadata": {
        "id": "546hRFtrlFxV"
      }
    },
    {
      "cell_type": "code",
      "source": [
        "#Base Packages\n",
        "import numpy as np\n",
        "import pandas as pd\n",
        "from pandas import Series, DataFrame\n",
        "\n",
        "#Visualization Packages\n",
        "import seaborn as sns\n",
        "import matplotlib.pyplot as plt\n",
        "%matplotlib inline\n",
        "\n",
        "#Deep Learning Packages\n",
        "from tensorflow import keras\n",
        "from tensorflow.keras import models\n",
        "from tensorflow.keras import layers\n",
        "from tensorflow.keras import regularizers\n",
        "from keras.layers import Dropout\n",
        "from tensorflow.python import metrics\n",
        "from tensorflow.keras.utils import plot_model"
      ],
      "metadata": {
        "id": "gXlDNjWXkor5"
      },
      "execution_count": null,
      "outputs": []
    },
    {
      "cell_type": "markdown",
      "source": [
        "### *Loading the dataset* *(num_words = 10,000 - only the 10000 most frequently occurring words in the movie reviews will be included in the dataset, while all other words will be discarded.)*"
      ],
      "metadata": {
        "id": "zxSsFDNhlOD0"
      }
    },
    {
      "cell_type": "code",
      "execution_count": null,
      "metadata": {
        "id": "hliHRDVuiBJl"
      },
      "outputs": [],
      "source": [
        "from tensorflow.keras.datasets import imdb\n",
        "(train_data, train_labels), (test_data, test_labels) = imdb.load_data(num_words=10000)"
      ]
    },
    {
      "cell_type": "code",
      "source": [
        "max([max(sequence) for sequence in train_data])"
      ],
      "metadata": {
        "colab": {
          "base_uri": "https://localhost:8080/"
        },
        "id": "sb940evOivgO",
        "outputId": "63a4032f-c29b-412f-bef8-86bb9eb5f4a2"
      },
      "execution_count": null,
      "outputs": [
        {
          "output_type": "execute_result",
          "data": {
            "text/plain": [
              "9999"
            ]
          },
          "metadata": {},
          "execution_count": 4
        }
      ]
    },
    {
      "cell_type": "markdown",
      "source": [
        "### *Decoding Reviews back to text*"
      ],
      "metadata": {
        "id": "SqDvMJ93Gwrc"
      }
    },
    {
      "cell_type": "code",
      "source": [
        "word_index = imdb.get_word_index()\n",
        "reverse_word_index = dict(\n",
        "    [(value, key) for (key, value) in word_index.items()])\n",
        "decoded_review = \" \".join(\n",
        "    [reverse_word_index.get(i - 3, \"?\") for i in train_data[0]])"
      ],
      "metadata": {
        "id": "DOql25Msiwd6"
      },
      "execution_count": null,
      "outputs": []
    },
    {
      "cell_type": "markdown",
      "source": [
        "### *Data Preparation*"
      ],
      "metadata": {
        "id": "aRYFOCnCG9WF"
      }
    },
    {
      "cell_type": "code",
      "source": [
        "#Multi-Hot Encoding\n",
        "\n",
        "def vectorize_sequences(sequences, dimension=10000):\n",
        "    results = np.zeros((len(sequences), dimension))\n",
        "    for i, sequence in enumerate(sequences):\n",
        "        for j in sequence:\n",
        "            results[i, j] = 1\n",
        "    return results\n",
        "\n",
        "x_train = vectorize_sequences(train_data)\n",
        "x_test = vectorize_sequences(test_data)"
      ],
      "metadata": {
        "id": "t4eS9RF7i_Br"
      },
      "execution_count": null,
      "outputs": []
    },
    {
      "cell_type": "code",
      "source": [
        "y_train = np.asarray(train_labels).astype(\"float32\")\n",
        "y_test = np.asarray(test_labels).astype(\"float32\")"
      ],
      "metadata": {
        "id": "UEl7RT7FIASQ"
      },
      "execution_count": null,
      "outputs": []
    },
    {
      "cell_type": "code",
      "source": [
        "#Splitting the training and validation data\n",
        "\n",
        "x_val = x_train[:10000]\n",
        "partial_x_train = x_train[10000:]\n",
        "y_val = y_train[:10000]\n",
        "partial_y_train = y_train[10000:]"
      ],
      "metadata": {
        "id": "pU1SL_oAjJJ2"
      },
      "execution_count": null,
      "outputs": []
    },
    {
      "cell_type": "markdown",
      "source": [
        "### *x_train and y_train are the vectors of data which we will be using to build the neural network*"
      ],
      "metadata": {
        "id": "9T7wKpHR6cn6"
      }
    },
    {
      "cell_type": "markdown",
      "source": [
        "### *Model - 1 imdb_mod - 2 Hidden Layers, 16 Nodes Each, activation - relu, optimizer - rmsprop, loss - binary crossentropy*"
      ],
      "metadata": {
        "id": "kJLSnqlbUyiT"
      }
    },
    {
      "cell_type": "code",
      "source": [
        "#Building the Network\n",
        "\n",
        "model = keras.Sequential([\n",
        "    layers.Dense(16, activation=\"relu\",input_shape=(10000,)),\n",
        "    layers.Dense(16, activation=\"relu\"),\n",
        "    layers.Dense(1, activation=\"sigmoid\")\n",
        "])\n",
        "\n",
        "#Compiling the Model\n",
        "\n",
        "model.compile(optimizer=\"rmsprop\",\n",
        "              loss=\"binary_crossentropy\",\n",
        "              metrics=[\"accuracy\"])"
      ],
      "metadata": {
        "id": "JmoohOiejGvr"
      },
      "execution_count": null,
      "outputs": []
    },
    {
      "cell_type": "code",
      "source": [
        "# Summary of the Model\n",
        "\n",
        "model.summary()"
      ],
      "metadata": {
        "colab": {
          "base_uri": "https://localhost:8080/"
        },
        "id": "_RR2JhpOIsfW",
        "outputId": "8ac6df7c-fdc8-4e46-9039-1c4fec67d074"
      },
      "execution_count": null,
      "outputs": [
        {
          "output_type": "stream",
          "name": "stdout",
          "text": [
            "Model: \"sequential\"\n",
            "_________________________________________________________________\n",
            " Layer (type)                Output Shape              Param #   \n",
            "=================================================================\n",
            " dense (Dense)               (None, 16)                160016    \n",
            "                                                                 \n",
            " dense_1 (Dense)             (None, 16)                272       \n",
            "                                                                 \n",
            " dense_2 (Dense)             (None, 1)                 17        \n",
            "                                                                 \n",
            "=================================================================\n",
            "Total params: 160,305\n",
            "Trainable params: 160,305\n",
            "Non-trainable params: 0\n",
            "_________________________________________________________________\n"
          ]
        }
      ]
    },
    {
      "cell_type": "code",
      "source": [
        "#Displaying how the model has been executed with 2 hidden layers\n",
        "\n",
        "plot_model(\n",
        "model,\n",
        "to_file=\"model.png\",\n",
        "show_shapes=True,\n",
        "show_dtype=False,\n",
        "show_layer_names=True,\n",
        "rankdir=\"TB\",\n",
        "expand_nested=True,\n",
        "dpi=96,\n",
        "layer_range=None,\n",
        "show_layer_activations=True\n",
        ")"
      ],
      "metadata": {
        "colab": {
          "base_uri": "https://localhost:8080/",
          "height": 422
        },
        "id": "hcmtWogHs2xQ",
        "outputId": "37d7090b-cc47-4a3f-ff84-e44432ac21b6"
      },
      "execution_count": null,
      "outputs": [
        {
          "output_type": "execute_result",
          "data": {
            "image/png": "[encoded data removed]",
            "text/plain": [
              "<IPython.core.display.Image object>"
            ]
          },
          "metadata": {},
          "execution_count": 12
        }
      ]
    },
    {
      "cell_type": "code",
      "source": [
        "#Training the model\n",
        "\n",
        "imdb_mod = model.fit(partial_x_train,\n",
        "                    partial_y_train,\n",
        "                    epochs=30,\n",
        "                    batch_size=512,\n",
        "                    validation_data=(x_val, y_val))"
      ],
      "metadata": {
        "colab": {
          "base_uri": "https://localhost:8080/"
        },
        "id": "xtYmNMitjN3r",
        "outputId": "4c983c45-8429-4d12-e318-edc94e6c8b9a"
      },
      "execution_count": null,
      "outputs": [
        {
          "output_type": "stream",
          "name": "stdout",
          "text": [
            "Epoch 1/30\n",
            "30/30 [==============================] - 4s 112ms/step - loss: 0.5408 - accuracy: 0.7564 - val_loss: 0.4145 - val_accuracy: 0.8481\n",
            "Epoch 2/30\n",
            "30/30 [==============================] - 2s 54ms/step - loss: 0.3257 - accuracy: 0.8876 - val_loss: 0.3156 - val_accuracy: 0.8801\n",
            "Epoch 3/30\n",
            "30/30 [==============================] - 1s 43ms/step - loss: 0.2398 - accuracy: 0.9180 - val_loss: 0.2911 - val_accuracy: 0.8850\n",
            "Epoch 4/30\n",
            "30/30 [==============================] - 1s 40ms/step - loss: 0.1926 - accuracy: 0.9359 - val_loss: 0.2737 - val_accuracy: 0.8897\n",
            "Epoch 5/30\n",
            "30/30 [==============================] - 1s 45ms/step - loss: 0.1621 - accuracy: 0.9465 - val_loss: 0.2858 - val_accuracy: 0.8827\n",
            "Epoch 6/30\n",
            "30/30 [==============================] - 1s 40ms/step - loss: 0.1335 - accuracy: 0.9583 - val_loss: 0.2858 - val_accuracy: 0.8844\n",
            "Epoch 7/30\n",
            "30/30 [==============================] - 1s 38ms/step - loss: 0.1120 - accuracy: 0.9681 - val_loss: 0.3050 - val_accuracy: 0.8796\n",
            "Epoch 8/30\n",
            "30/30 [==============================] - 1s 38ms/step - loss: 0.0955 - accuracy: 0.9714 - val_loss: 0.3114 - val_accuracy: 0.8842\n",
            "Epoch 9/30\n",
            "30/30 [==============================] - 1s 48ms/step - loss: 0.0815 - accuracy: 0.9754 - val_loss: 0.3341 - val_accuracy: 0.8826\n",
            "Epoch 10/30\n",
            "30/30 [==============================] - 2s 57ms/step - loss: 0.0693 - accuracy: 0.9817 - val_loss: 0.4008 - val_accuracy: 0.8638\n",
            "Epoch 11/30\n",
            "30/30 [==============================] - 1s 47ms/step - loss: 0.0603 - accuracy: 0.9842 - val_loss: 0.3657 - val_accuracy: 0.8790\n",
            "Epoch 12/30\n",
            "30/30 [==============================] - 1s 41ms/step - loss: 0.0466 - accuracy: 0.9895 - val_loss: 0.3883 - val_accuracy: 0.8759\n",
            "Epoch 13/30\n",
            "30/30 [==============================] - 1s 40ms/step - loss: 0.0448 - accuracy: 0.9895 - val_loss: 0.4108 - val_accuracy: 0.8740\n",
            "Epoch 14/30\n",
            "30/30 [==============================] - 1s 40ms/step - loss: 0.0335 - accuracy: 0.9935 - val_loss: 0.4333 - val_accuracy: 0.8740\n",
            "Epoch 15/30\n",
            "30/30 [==============================] - 1s 39ms/step - loss: 0.0276 - accuracy: 0.9948 - val_loss: 0.4596 - val_accuracy: 0.8746\n",
            "Epoch 16/30\n",
            "30/30 [==============================] - 1s 40ms/step - loss: 0.0259 - accuracy: 0.9946 - val_loss: 0.4760 - val_accuracy: 0.8735\n",
            "Epoch 17/30\n",
            "30/30 [==============================] - 1s 42ms/step - loss: 0.0229 - accuracy: 0.9957 - val_loss: 0.4998 - val_accuracy: 0.8726\n",
            "Epoch 18/30\n",
            "30/30 [==============================] - 1s 40ms/step - loss: 0.0125 - accuracy: 0.9996 - val_loss: 0.5294 - val_accuracy: 0.8720\n",
            "Epoch 19/30\n",
            "30/30 [==============================] - 2s 80ms/step - loss: 0.0156 - accuracy: 0.9981 - val_loss: 0.5459 - val_accuracy: 0.8686\n",
            "Epoch 20/30\n",
            "30/30 [==============================] - 3s 106ms/step - loss: 0.0122 - accuracy: 0.9986 - val_loss: 0.5722 - val_accuracy: 0.8709\n",
            "Epoch 21/30\n",
            "30/30 [==============================] - 2s 76ms/step - loss: 0.0132 - accuracy: 0.9973 - val_loss: 0.5874 - val_accuracy: 0.8706\n",
            "Epoch 22/30\n",
            "30/30 [==============================] - 2s 77ms/step - loss: 0.0089 - accuracy: 0.9990 - val_loss: 0.6206 - val_accuracy: 0.8706\n",
            "Epoch 23/30\n",
            "30/30 [==============================] - 1s 43ms/step - loss: 0.0060 - accuracy: 0.9998 - val_loss: 0.6326 - val_accuracy: 0.8690\n",
            "Epoch 24/30\n",
            "30/30 [==============================] - 1s 41ms/step - loss: 0.0114 - accuracy: 0.9969 - val_loss: 0.6484 - val_accuracy: 0.8684\n",
            "Epoch 25/30\n",
            "30/30 [==============================] - 2s 66ms/step - loss: 0.0036 - accuracy: 0.9999 - val_loss: 0.6640 - val_accuracy: 0.8697\n",
            "Epoch 26/30\n",
            "30/30 [==============================] - 3s 84ms/step - loss: 0.0036 - accuracy: 0.9999 - val_loss: 0.9386 - val_accuracy: 0.8497\n",
            "Epoch 27/30\n",
            "30/30 [==============================] - 2s 59ms/step - loss: 0.0060 - accuracy: 0.9987 - val_loss: 0.7054 - val_accuracy: 0.8691\n",
            "Epoch 28/30\n",
            "30/30 [==============================] - 2s 54ms/step - loss: 0.0092 - accuracy: 0.9970 - val_loss: 0.7216 - val_accuracy: 0.8671\n",
            "Epoch 29/30\n",
            "30/30 [==============================] - 2s 59ms/step - loss: 0.0020 - accuracy: 1.0000 - val_loss: 0.7314 - val_accuracy: 0.8676\n",
            "Epoch 30/30\n",
            "30/30 [==============================] - 2s 64ms/step - loss: 0.0018 - accuracy: 1.0000 - val_loss: 0.7963 - val_accuracy: 0.8578\n"
          ]
        }
      ]
    },
    {
      "cell_type": "code",
      "source": [
        "#(.history) has a dictionary of values related to the loss and accuracy during the training and validation calling it out specifically to visualize the plots\n",
        "\n",
        "imdb_dict = imdb_mod.history"
      ],
      "metadata": {
        "id": "1atSUui6lYoX"
      },
      "execution_count": null,
      "outputs": []
    },
    {
      "cell_type": "code",
      "source": [
        "#Training and Validation Loss\n",
        "\n",
        "loss_values = imdb_dict[\"loss\"]\n",
        "val_loss_values = imdb_dict[\"val_loss\"]\n",
        "epochs = range(1, len(loss_values) + 1)\n",
        "plt.plot(epochs, loss_values, \"grey\", label=\"Training Loss\")\n",
        "plt.plot(epochs, val_loss_values, color=\"blue\",linestyle=\"dashed\", label=\"Validation Loss\")\n",
        "plt.title(\"Training and validation loss\")\n",
        "plt.xlabel(\"Epochs\")\n",
        "plt.ylabel(\"Loss\")\n",
        "plt.legend()\n",
        "plt.show()"
      ],
      "metadata": {
        "colab": {
          "base_uri": "https://localhost:8080/",
          "height": 295
        },
        "id": "RfVldqGLldwP",
        "outputId": "4ad72166-a691-4d74-8370-1b6a61c3293d"
      },
      "execution_count": null,
      "outputs": [
        {
          "output_type": "display_data",
          "data": {
            "text/plain": [
              "<Figure size 432x288 with 1 Axes>"
            ],
            "image/png": "[encoded data removed]"
          },
          "metadata": {
            "needs_background": "light"
          }
        }
      ]
    },
    {
      "cell_type": "markdown",
      "source": [
        "*From the above loss graph we can select the right number of epochs to be \"4\" because the validation loss starts to take a spike, after the 4th Epoch.* \n"
      ],
      "metadata": {
        "id": "BMAhAJtCnqX8"
      }
    },
    {
      "cell_type": "code",
      "source": [
        "#Training and Validation Accuracy\n",
        "\n",
        "acc_values = imdb_dict[\"accuracy\"]\n",
        "val_accuracy = imdb_dict[\"val_accuracy\"]\n",
        "epochs = range(1, len(acc_values) + 1)\n",
        "plt.plot(epochs,acc_values,color='grey',label=\"Training Acc\")\n",
        "plt.plot(epochs,val_accuracy,color='blue', linestyle='dashed',label=\"Validation Acc\")\n",
        "plt.title(\"Training and Validation Accuracy\")\n",
        "plt.xlabel('Epochs')\n",
        "plt.ylabel('Accuracy')\n",
        "plt.legend()\n",
        "plt.show()"
      ],
      "metadata": {
        "colab": {
          "base_uri": "https://localhost:8080/",
          "height": 295
        },
        "id": "uS1pr0jWlpSR",
        "outputId": "cd4d8a42-f732-437e-ae48-1eecab718859"
      },
      "execution_count": null,
      "outputs": [
        {
          "output_type": "display_data",
          "data": {
            "text/plain": [
              "<Figure size 432x288 with 1 Axes>"
            ],
            "image/png": "[encoded data removed]"
          },
          "metadata": {
            "needs_background": "light"
          }
        }
      ]
    },
    {
      "cell_type": "markdown",
      "source": [
        "*We can confirm the same thing from the \"Accuracy Plot\" as well here the accuracy was highest at the 4th Epoch.*"
      ],
      "metadata": {
        "id": "9NXMKnLZoI2_"
      }
    },
    {
      "cell_type": "markdown",
      "source": [
        "### ***Back Propagation - Retrain the model with 4 epochs***"
      ],
      "metadata": {
        "id": "hx0Zq2QEhsKP"
      }
    },
    {
      "cell_type": "code",
      "source": [
        "model = keras.Sequential([\n",
        "    layers.Dense(16,activation='relu'),\n",
        "    layers.Dense(16,activation='relu'),\n",
        "    layers.Dense(1,activation='sigmoid')\n",
        "])\n",
        "\n",
        "model.compile(optimizer='rmsprop',\n",
        "              loss='binary_crossentropy',\n",
        "              metrics=['accuracy'])\n",
        "\n",
        "imdb_mod_1 = model.fit(x_train,\n",
        "                       y_train,\n",
        "                       epochs=4,\n",
        "                       batch_size=512)"
      ],
      "metadata": {
        "colab": {
          "base_uri": "https://localhost:8080/"
        },
        "id": "qNjNHfqcd7fO",
        "outputId": "84197d79-8278-41c3-8490-fbb99fa29d78"
      },
      "execution_count": null,
      "outputs": [
        {
          "output_type": "stream",
          "name": "stdout",
          "text": [
            "Epoch 1/4\n",
            "49/49 [==============================] - 2s 31ms/step - loss: 0.4723 - accuracy: 0.8032\n",
            "Epoch 2/4\n",
            "49/49 [==============================] - 2s 43ms/step - loss: 0.2717 - accuracy: 0.9054\n",
            "Epoch 3/4\n",
            "49/49 [==============================] - 2s 37ms/step - loss: 0.2138 - accuracy: 0.9235\n",
            "Epoch 4/4\n",
            "49/49 [==============================] - 1s 30ms/step - loss: 0.1775 - accuracy: 0.9365\n"
          ]
        }
      ]
    },
    {
      "cell_type": "code",
      "source": [
        "results_mod1 = model.evaluate(x_test,y_test)"
      ],
      "metadata": {
        "id": "4M2prWVPguWB",
        "colab": {
          "base_uri": "https://localhost:8080/"
        },
        "outputId": "e2ceec2a-6ae2-4341-c398-f12fd0959b1b"
      },
      "execution_count": null,
      "outputs": [
        {
          "output_type": "stream",
          "name": "stdout",
          "text": [
            "782/782 [==============================] - 2s 3ms/step - loss: 0.2878 - accuracy: 0.8856\n"
          ]
        }
      ]
    },
    {
      "cell_type": "markdown",
      "source": [
        "### *The accuracy on the test set for the first model built resulted in 88.56%.*"
      ],
      "metadata": {
        "id": "JhQdNhUIhQNt"
      }
    },
    {
      "cell_type": "markdown",
      "source": [
        "### *Model - 2 imdb_mod_2 - 1 Hidden Layer, 64 Nodes, activation - tanh, optimizer - rmsprop, loss - mse*"
      ],
      "metadata": {
        "id": "HW7FpYYnjBzr"
      }
    },
    {
      "cell_type": "code",
      "source": [
        "model = keras.Sequential([\n",
        "    layers.Dense(64,activation='tanh',input_shape=(10000,)),\n",
        "    layers.Dense(1,activation='sigmoid')\n",
        "])\n",
        "\n",
        "model.compile(optimizer='rmsprop',\n",
        "              loss='mse',\n",
        "              metrics=['accuracy'])\n",
        "\n",
        "imdb_mod_2 = model.fit(partial_x_train,\n",
        "                       partial_y_train,\n",
        "                       epochs=50,\n",
        "                       batch_size=512,\n",
        "                       validation_data=(x_val,y_val))"
      ],
      "metadata": {
        "colab": {
          "base_uri": "https://localhost:8080/"
        },
        "id": "Qr_4sISrhbfi",
        "outputId": "ac39905e-a796-4d0b-b228-79d4a21c94f3"
      },
      "execution_count": null,
      "outputs": [
        {
          "output_type": "stream",
          "name": "stdout",
          "text": [
            "Epoch 1/50\n",
            "30/30 [==============================] - 5s 134ms/step - loss: 0.1726 - accuracy: 0.7683 - val_loss: 0.1222 - val_accuracy: 0.8592\n",
            "Epoch 2/50\n",
            "30/30 [==============================] - 2s 74ms/step - loss: 0.1013 - accuracy: 0.8815 - val_loss: 0.1026 - val_accuracy: 0.8696\n",
            "Epoch 3/50\n",
            "30/30 [==============================] - 3s 114ms/step - loss: 0.0803 - accuracy: 0.9032 - val_loss: 0.0898 - val_accuracy: 0.8827\n",
            "Epoch 4/50\n",
            "30/30 [==============================] - 3s 107ms/step - loss: 0.0683 - accuracy: 0.9176 - val_loss: 0.0899 - val_accuracy: 0.8769\n",
            "Epoch 5/50\n",
            "30/30 [==============================] - 5s 161ms/step - loss: 0.0590 - accuracy: 0.9296 - val_loss: 0.0840 - val_accuracy: 0.8873\n",
            "Epoch 6/50\n",
            "30/30 [==============================] - 3s 96ms/step - loss: 0.0548 - accuracy: 0.9343 - val_loss: 0.0837 - val_accuracy: 0.8852\n",
            "Epoch 7/50\n",
            "30/30 [==============================] - 5s 157ms/step - loss: 0.0497 - accuracy: 0.9417 - val_loss: 0.0849 - val_accuracy: 0.8837\n",
            "Epoch 8/50\n",
            "30/30 [==============================] - 4s 135ms/step - loss: 0.0439 - accuracy: 0.9501 - val_loss: 0.0852 - val_accuracy: 0.8815\n",
            "Epoch 9/50\n",
            "30/30 [==============================] - 3s 99ms/step - loss: 0.0401 - accuracy: 0.9551 - val_loss: 0.0873 - val_accuracy: 0.8806\n",
            "Epoch 10/50\n",
            "30/30 [==============================] - 2s 65ms/step - loss: 0.0395 - accuracy: 0.9539 - val_loss: 0.0864 - val_accuracy: 0.8822\n",
            "Epoch 11/50\n",
            "30/30 [==============================] - 2s 69ms/step - loss: 0.0343 - accuracy: 0.9619 - val_loss: 0.0955 - val_accuracy: 0.8752\n",
            "Epoch 12/50\n",
            "30/30 [==============================] - 2s 70ms/step - loss: 0.0318 - accuracy: 0.9663 - val_loss: 0.0899 - val_accuracy: 0.8776\n",
            "Epoch 13/50\n",
            "30/30 [==============================] - 4s 126ms/step - loss: 0.0291 - accuracy: 0.9701 - val_loss: 0.1007 - val_accuracy: 0.8674\n",
            "Epoch 14/50\n",
            "30/30 [==============================] - 3s 109ms/step - loss: 0.0282 - accuracy: 0.9701 - val_loss: 0.0934 - val_accuracy: 0.8759\n",
            "Epoch 15/50\n",
            "30/30 [==============================] - 4s 120ms/step - loss: 0.0272 - accuracy: 0.9701 - val_loss: 0.1033 - val_accuracy: 0.8681\n",
            "Epoch 16/50\n",
            "30/30 [==============================] - 2s 69ms/step - loss: 0.0252 - accuracy: 0.9736 - val_loss: 0.0981 - val_accuracy: 0.8740\n",
            "Epoch 17/50\n",
            "30/30 [==============================] - 3s 94ms/step - loss: 0.0216 - accuracy: 0.9793 - val_loss: 0.1013 - val_accuracy: 0.8684\n",
            "Epoch 18/50\n",
            "30/30 [==============================] - 3s 93ms/step - loss: 0.0233 - accuracy: 0.9755 - val_loss: 0.0965 - val_accuracy: 0.8754\n",
            "Epoch 19/50\n",
            "30/30 [==============================] - 2s 72ms/step - loss: 0.0200 - accuracy: 0.9789 - val_loss: 0.0985 - val_accuracy: 0.8726\n",
            "Epoch 20/50\n",
            "30/30 [==============================] - 3s 91ms/step - loss: 0.0186 - accuracy: 0.9824 - val_loss: 0.1132 - val_accuracy: 0.8603\n",
            "Epoch 21/50\n",
            "30/30 [==============================] - 3s 92ms/step - loss: 0.0189 - accuracy: 0.9813 - val_loss: 0.0999 - val_accuracy: 0.8722\n",
            "Epoch 22/50\n",
            "30/30 [==============================] - 3s 98ms/step - loss: 0.0178 - accuracy: 0.9817 - val_loss: 0.0997 - val_accuracy: 0.8749\n",
            "Epoch 23/50\n",
            "30/30 [==============================] - 2s 79ms/step - loss: 0.0169 - accuracy: 0.9829 - val_loss: 0.1002 - val_accuracy: 0.8743\n",
            "Epoch 24/50\n",
            "30/30 [==============================] - 3s 89ms/step - loss: 0.0156 - accuracy: 0.9841 - val_loss: 0.1008 - val_accuracy: 0.8740\n",
            "Epoch 25/50\n",
            "30/30 [==============================] - 2s 65ms/step - loss: 0.0109 - accuracy: 0.9915 - val_loss: 0.1085 - val_accuracy: 0.8660\n",
            "Epoch 26/50\n",
            "30/30 [==============================] - 2s 68ms/step - loss: 0.0168 - accuracy: 0.9825 - val_loss: 0.1058 - val_accuracy: 0.8692\n",
            "Epoch 27/50\n",
            "30/30 [==============================] - 2s 64ms/step - loss: 0.0101 - accuracy: 0.9921 - val_loss: 0.1022 - val_accuracy: 0.8745\n",
            "Epoch 28/50\n",
            "30/30 [==============================] - 4s 127ms/step - loss: 0.0139 - accuracy: 0.9860 - val_loss: 0.1063 - val_accuracy: 0.8693\n",
            "Epoch 29/50\n",
            "30/30 [==============================] - 2s 64ms/step - loss: 0.0151 - accuracy: 0.9838 - val_loss: 0.1037 - val_accuracy: 0.8736\n",
            "Epoch 30/50\n",
            "30/30 [==============================] - 2s 65ms/step - loss: 0.0125 - accuracy: 0.9873 - val_loss: 0.1039 - val_accuracy: 0.8738\n",
            "Epoch 31/50\n",
            "30/30 [==============================] - 2s 66ms/step - loss: 0.0089 - accuracy: 0.9925 - val_loss: 0.1068 - val_accuracy: 0.8703\n",
            "Epoch 32/50\n",
            "30/30 [==============================] - 2s 73ms/step - loss: 0.0137 - accuracy: 0.9859 - val_loss: 0.1046 - val_accuracy: 0.8740\n",
            "Epoch 33/50\n",
            "30/30 [==============================] - 3s 93ms/step - loss: 0.0138 - accuracy: 0.9856 - val_loss: 0.1053 - val_accuracy: 0.8732\n",
            "Epoch 34/50\n",
            "30/30 [==============================] - 3s 91ms/step - loss: 0.0120 - accuracy: 0.9876 - val_loss: 0.1059 - val_accuracy: 0.8717\n",
            "Epoch 35/50\n",
            "30/30 [==============================] - 3s 109ms/step - loss: 0.0081 - accuracy: 0.9929 - val_loss: 0.1064 - val_accuracy: 0.8717\n",
            "Epoch 36/50\n",
            "30/30 [==============================] - 2s 73ms/step - loss: 0.0129 - accuracy: 0.9862 - val_loss: 0.1070 - val_accuracy: 0.8711\n",
            "Epoch 37/50\n",
            "30/30 [==============================] - 3s 91ms/step - loss: 0.0112 - accuracy: 0.9886 - val_loss: 0.1064 - val_accuracy: 0.8727\n",
            "Epoch 38/50\n",
            "30/30 [==============================] - 3s 115ms/step - loss: 0.0077 - accuracy: 0.9933 - val_loss: 0.1071 - val_accuracy: 0.8718\n",
            "Epoch 39/50\n",
            "30/30 [==============================] - 2s 72ms/step - loss: 0.0111 - accuracy: 0.9889 - val_loss: 0.1077 - val_accuracy: 0.8722\n",
            "Epoch 40/50\n",
            "30/30 [==============================] - 3s 95ms/step - loss: 0.0078 - accuracy: 0.9929 - val_loss: 0.1256 - val_accuracy: 0.8532\n",
            "Epoch 41/50\n",
            "30/30 [==============================] - 4s 140ms/step - loss: 0.0098 - accuracy: 0.9899 - val_loss: 0.1090 - val_accuracy: 0.8709\n",
            "Epoch 42/50\n",
            "30/30 [==============================] - 4s 150ms/step - loss: 0.0113 - accuracy: 0.9882 - val_loss: 0.1083 - val_accuracy: 0.8722\n",
            "Epoch 43/50\n",
            "30/30 [==============================] - 2s 80ms/step - loss: 0.0072 - accuracy: 0.9935 - val_loss: 0.1088 - val_accuracy: 0.8724\n",
            "Epoch 44/50\n",
            "30/30 [==============================] - 2s 69ms/step - loss: 0.0111 - accuracy: 0.9881 - val_loss: 0.1087 - val_accuracy: 0.8724\n",
            "Epoch 45/50\n",
            "30/30 [==============================] - 3s 99ms/step - loss: 0.0071 - accuracy: 0.9936 - val_loss: 0.1084 - val_accuracy: 0.8717\n",
            "Epoch 46/50\n",
            "30/30 [==============================] - 5s 156ms/step - loss: 0.0113 - accuracy: 0.9877 - val_loss: 0.1092 - val_accuracy: 0.8723\n",
            "Epoch 47/50\n",
            "30/30 [==============================] - 3s 89ms/step - loss: 0.0070 - accuracy: 0.9936 - val_loss: 0.1091 - val_accuracy: 0.8729\n",
            "Epoch 48/50\n",
            "30/30 [==============================] - 2s 70ms/step - loss: 0.0107 - accuracy: 0.9880 - val_loss: 0.1093 - val_accuracy: 0.8727\n",
            "Epoch 49/50\n",
            "30/30 [==============================] - 2s 71ms/step - loss: 0.0069 - accuracy: 0.9936 - val_loss: 0.1096 - val_accuracy: 0.8721\n",
            "Epoch 50/50\n",
            "30/30 [==============================] - 2s 73ms/step - loss: 0.0069 - accuracy: 0.9936 - val_loss: 0.1224 - val_accuracy: 0.8582\n"
          ]
        }
      ]
    },
    {
      "cell_type": "code",
      "source": [
        "imdb_dict_2 = imdb_mod_2.history"
      ],
      "metadata": {
        "id": "uuTRsV1Xlblh"
      },
      "execution_count": null,
      "outputs": []
    },
    {
      "cell_type": "code",
      "source": [
        "#Training and Validation Loss\n",
        "\n",
        "loss = imdb_dict_2['loss']\n",
        "val_loss = imdb_dict_2['val_loss']\n",
        "epochs = range(1, len(loss)+1)\n",
        "plt.plot(epochs, loss, color= \"grey\", label= \"Training Loss\")\n",
        "plt.plot(epochs, val_loss, color= \"blue\",linestyle= \"dashed\", label= \"Validation Loss\")\n",
        "plt.xlabel(\"Epochs\")\n",
        "plt.ylabel(\"Loss\")\n",
        "plt.legend()\n",
        "plt.show()"
      ],
      "metadata": {
        "colab": {
          "base_uri": "https://localhost:8080/",
          "height": 279
        },
        "id": "0uYzdAnilgwe",
        "outputId": "28520c64-a921-4145-f5b0-cd081f4251aa"
      },
      "execution_count": null,
      "outputs": [
        {
          "output_type": "display_data",
          "data": {
            "text/plain": [
              "<Figure size 432x288 with 1 Axes>"
            ],
            "image/png": "[encoded data removed]"
          },
          "metadata": {
            "needs_background": "light"
          }
        }
      ]
    },
    {
      "cell_type": "markdown",
      "source": [
        "*From the above loss graph we can select the right number of epochs to be \"3\" because the validation loss starts to take a spike, after the 3rd Epoch.* "
      ],
      "metadata": {
        "id": "Z8o_0z71L6ca"
      }
    },
    {
      "cell_type": "code",
      "source": [
        "#Training and Validation Accuracy\n",
        "\n",
        "accuracy = imdb_dict_2['accuracy']\n",
        "validation_accuracy = imdb_dict_2['val_accuracy']\n",
        "epochs = range(1, len(accuracy)+1)\n",
        "plt.plot(epochs,accuracy,color=\"grey\",label=\"Training Accuracy\")\n",
        "plt.plot(epochs,validation_accuracy, color= \"blue\", linestyle=\"dashed\",label=\"Validation Accuracy\")\n",
        "plt.xlabel('Epochs')\n",
        "plt.ylabel('Accuracy')\n",
        "plt.legend()\n",
        "plt.show()"
      ],
      "metadata": {
        "colab": {
          "base_uri": "https://localhost:8080/",
          "height": 279
        },
        "id": "FSY3TTgXls18",
        "outputId": "bea0e12c-55bd-45e4-a6b1-361b889f0a63"
      },
      "execution_count": null,
      "outputs": [
        {
          "output_type": "display_data",
          "data": {
            "text/plain": [
              "<Figure size 432x288 with 1 Axes>"
            ],
            "image/png": "[encoded data removed]"
          },
          "metadata": {
            "needs_background": "light"
          }
        }
      ]
    },
    {
      "cell_type": "markdown",
      "source": [
        "*We can confirm the same thing from the \"Accuracy Plot\" as well here the accuracy was highest at the 3rd Epoch.*"
      ],
      "metadata": {
        "id": "qXdhf9GuNE4P"
      }
    },
    {
      "cell_type": "markdown",
      "source": [
        "### ***Back Propagation - Retrain the model with 3 epochs***"
      ],
      "metadata": {
        "id": "Suc5FrGnOgBo"
      }
    },
    {
      "cell_type": "code",
      "source": [
        "model = keras.Sequential([\n",
        "    layers.Dense(64,activation='tanh',input_shape=(10000,)),\n",
        "    layers.Dense(1,activation='sigmoid')\n",
        "])\n",
        "\n",
        "model.compile(optimizer='rmsprop',\n",
        "              loss='mse',\n",
        "              metrics=['accuracy'])\n",
        "\n",
        "imdb_mod_3 = model.fit(x_train,\n",
        "                       y_train,\n",
        "                       epochs=3,\n",
        "                       batch_size=512)             "
      ],
      "metadata": {
        "colab": {
          "base_uri": "https://localhost:8080/"
        },
        "id": "ApAg9yVcoiag",
        "outputId": "e5a468a0-2076-4f2e-dad1-607d2bc1c07a"
      },
      "execution_count": null,
      "outputs": [
        {
          "output_type": "stream",
          "name": "stdout",
          "text": [
            "Epoch 1/3\n",
            "49/49 [==============================] - 4s 75ms/step - loss: 0.1482 - accuracy: 0.8057\n",
            "Epoch 2/3\n",
            "49/49 [==============================] - 2s 48ms/step - loss: 0.0861 - accuracy: 0.8956\n",
            "Epoch 3/3\n",
            "49/49 [==============================] - 2s 50ms/step - loss: 0.0726 - accuracy: 0.9073\n"
          ]
        }
      ]
    },
    {
      "cell_type": "code",
      "source": [
        "results_mod2 = model.evaluate(x_test,y_test)"
      ],
      "metadata": {
        "colab": {
          "base_uri": "https://localhost:8080/"
        },
        "id": "AxFuMzdYntYe",
        "outputId": "fd922d29-60e8-45ed-8212-209680ea2342"
      },
      "execution_count": null,
      "outputs": [
        {
          "output_type": "stream",
          "name": "stdout",
          "text": [
            "782/782 [==============================] - 3s 4ms/step - loss: 0.0864 - accuracy: 0.8837\n"
          ]
        }
      ]
    },
    {
      "cell_type": "markdown",
      "source": [
        "### *The accuracy on the test set for the second model built resulted in 88.37%.*"
      ],
      "metadata": {
        "id": "pELVFo7CmYdE"
      }
    },
    {
      "cell_type": "markdown",
      "source": [
        "### *Model - 3 imdb_mod_4 - 3 Hidden Layers, 64 Nodes Each, activation - relu, optimizer - rmsprop, loss - binary crossentropy, regularisation - l2 (0.001)*"
      ],
      "metadata": {
        "id": "LfwSMXDxLy8M"
      }
    },
    {
      "cell_type": "code",
      "source": [
        "model = keras.Sequential([\n",
        "    layers.Dense(64,activation='relu',kernel_regularizer=regularizers.l2(0.001),input_shape=(10000,)),\n",
        "    layers.Dense(64,activation='relu',kernel_regularizer=regularizers.l2(0.001)),\n",
        "    layers.Dense(64,activation='relu',kernel_regularizer=regularizers.l2(0.001)),\n",
        "    layers.Dense(1,activation='sigmoid')\n",
        "])\n",
        "\n",
        "model.compile(optimizer='rmsprop',\n",
        "              loss='binary_crossentropy',\n",
        "              metrics=['accuracy'])\n",
        "\n",
        "imdb_mod_4 = model.fit(partial_x_train,\n",
        "                       partial_y_train,\n",
        "                       epochs=50,\n",
        "                       batch_size=512,\n",
        "                       validation_data = (x_val,y_val))"
      ],
      "metadata": {
        "colab": {
          "base_uri": "https://localhost:8080/"
        },
        "id": "e0R8kPl7mjiu",
        "outputId": "7a112658-d247-4813-d85e-02b342cbc197"
      },
      "execution_count": null,
      "outputs": [
        {
          "output_type": "stream",
          "name": "stdout",
          "text": [
            "Epoch 1/50\n",
            "30/30 [==============================] - 4s 103ms/step - loss: 0.7665 - accuracy: 0.7441 - val_loss: 0.5748 - val_accuracy: 0.8566\n",
            "Epoch 2/50\n",
            "30/30 [==============================] - 2s 76ms/step - loss: 0.5005 - accuracy: 0.8833 - val_loss: 0.4673 - val_accuracy: 0.8853\n",
            "Epoch 3/50\n",
            "30/30 [==============================] - 2s 73ms/step - loss: 0.4160 - accuracy: 0.9073 - val_loss: 0.4593 - val_accuracy: 0.8798\n",
            "Epoch 4/50\n",
            "30/30 [==============================] - 3s 108ms/step - loss: 0.3491 - accuracy: 0.9296 - val_loss: 0.4809 - val_accuracy: 0.8655\n",
            "Epoch 5/50\n",
            "30/30 [==============================] - 2s 75ms/step - loss: 0.3199 - accuracy: 0.9345 - val_loss: 0.4228 - val_accuracy: 0.8819\n",
            "Epoch 6/50\n",
            "30/30 [==============================] - 2s 68ms/step - loss: 0.2922 - accuracy: 0.9382 - val_loss: 0.5339 - val_accuracy: 0.8434\n",
            "Epoch 7/50\n",
            "30/30 [==============================] - 2s 70ms/step - loss: 0.2590 - accuracy: 0.9525 - val_loss: 0.5704 - val_accuracy: 0.8401\n",
            "Epoch 8/50\n",
            "30/30 [==============================] - 2s 68ms/step - loss: 0.2497 - accuracy: 0.9536 - val_loss: 0.4610 - val_accuracy: 0.8790\n",
            "Epoch 9/50\n",
            "30/30 [==============================] - 3s 105ms/step - loss: 0.2448 - accuracy: 0.9571 - val_loss: 0.4756 - val_accuracy: 0.8619\n",
            "Epoch 10/50\n",
            "30/30 [==============================] - 3s 84ms/step - loss: 0.2142 - accuracy: 0.9711 - val_loss: 0.4478 - val_accuracy: 0.8805\n",
            "Epoch 11/50\n",
            "30/30 [==============================] - 2s 68ms/step - loss: 0.2064 - accuracy: 0.9715 - val_loss: 0.5882 - val_accuracy: 0.8481\n",
            "Epoch 12/50\n",
            "30/30 [==============================] - 2s 75ms/step - loss: 0.2021 - accuracy: 0.9674 - val_loss: 0.4955 - val_accuracy: 0.8764\n",
            "Epoch 13/50\n",
            "30/30 [==============================] - 2s 70ms/step - loss: 0.1966 - accuracy: 0.9725 - val_loss: 0.4917 - val_accuracy: 0.8764\n",
            "Epoch 14/50\n",
            "30/30 [==============================] - 2s 70ms/step - loss: 0.1884 - accuracy: 0.9753 - val_loss: 0.5076 - val_accuracy: 0.8746\n",
            "Epoch 15/50\n",
            "30/30 [==============================] - 4s 130ms/step - loss: 0.1744 - accuracy: 0.9804 - val_loss: 0.5126 - val_accuracy: 0.8752\n",
            "Epoch 16/50\n",
            "30/30 [==============================] - 2s 67ms/step - loss: 0.1982 - accuracy: 0.9769 - val_loss: 0.5079 - val_accuracy: 0.8720\n",
            "Epoch 17/50\n",
            "30/30 [==============================] - 2s 72ms/step - loss: 0.1881 - accuracy: 0.9783 - val_loss: 0.4857 - val_accuracy: 0.8770\n",
            "Epoch 18/50\n",
            "30/30 [==============================] - 2s 74ms/step - loss: 0.1731 - accuracy: 0.9781 - val_loss: 0.4813 - val_accuracy: 0.8754\n",
            "Epoch 19/50\n",
            "30/30 [==============================] - 2s 78ms/step - loss: 0.1745 - accuracy: 0.9795 - val_loss: 0.4772 - val_accuracy: 0.8752\n",
            "Epoch 20/50\n",
            "30/30 [==============================] - 3s 111ms/step - loss: 0.1774 - accuracy: 0.9768 - val_loss: 0.4722 - val_accuracy: 0.8761\n",
            "Epoch 21/50\n",
            "30/30 [==============================] - 2s 72ms/step - loss: 0.1699 - accuracy: 0.9787 - val_loss: 0.4613 - val_accuracy: 0.8784\n",
            "Epoch 22/50\n",
            "30/30 [==============================] - 2s 75ms/step - loss: 0.1587 - accuracy: 0.9827 - val_loss: 0.4609 - val_accuracy: 0.8781\n",
            "Epoch 23/50\n",
            "30/30 [==============================] - 2s 74ms/step - loss: 0.1290 - accuracy: 0.9921 - val_loss: 0.5106 - val_accuracy: 0.8625\n",
            "Epoch 24/50\n",
            "30/30 [==============================] - 2s 76ms/step - loss: 0.1421 - accuracy: 0.9859 - val_loss: 0.4747 - val_accuracy: 0.8687\n",
            "Epoch 25/50\n",
            "30/30 [==============================] - 3s 103ms/step - loss: 0.0991 - accuracy: 0.9990 - val_loss: 0.7831 - val_accuracy: 0.8235\n",
            "Epoch 26/50\n",
            "30/30 [==============================] - 4s 130ms/step - loss: 0.1555 - accuracy: 0.9812 - val_loss: 0.6116 - val_accuracy: 0.8593\n",
            "Epoch 27/50\n",
            "30/30 [==============================] - 2s 81ms/step - loss: 0.1606 - accuracy: 0.9798 - val_loss: 0.5986 - val_accuracy: 0.8569\n",
            "Epoch 28/50\n",
            "30/30 [==============================] - 2s 69ms/step - loss: 0.1742 - accuracy: 0.9754 - val_loss: 0.4651 - val_accuracy: 0.8738\n",
            "Epoch 29/50\n",
            "30/30 [==============================] - 2s 79ms/step - loss: 0.1153 - accuracy: 0.9917 - val_loss: 0.5312 - val_accuracy: 0.8594\n",
            "Epoch 30/50\n",
            "30/30 [==============================] - 4s 127ms/step - loss: 0.1476 - accuracy: 0.9835 - val_loss: 0.4547 - val_accuracy: 0.8721\n",
            "Epoch 31/50\n",
            "30/30 [==============================] - 4s 132ms/step - loss: 0.1616 - accuracy: 0.9801 - val_loss: 0.4573 - val_accuracy: 0.8717\n",
            "Epoch 32/50\n",
            "30/30 [==============================] - 3s 111ms/step - loss: 0.0857 - accuracy: 0.9999 - val_loss: 0.5848 - val_accuracy: 0.8597\n",
            "Epoch 33/50\n",
            "30/30 [==============================] - 2s 78ms/step - loss: 0.1569 - accuracy: 0.9799 - val_loss: 0.5079 - val_accuracy: 0.8745\n",
            "Epoch 34/50\n",
            "30/30 [==============================] - 6s 209ms/step - loss: 0.1420 - accuracy: 0.9825 - val_loss: 0.4845 - val_accuracy: 0.8735\n",
            "Epoch 35/50\n",
            "30/30 [==============================] - 2s 78ms/step - loss: 0.1486 - accuracy: 0.9796 - val_loss: 0.4713 - val_accuracy: 0.8736\n",
            "Epoch 36/50\n",
            "30/30 [==============================] - 2s 74ms/step - loss: 0.1374 - accuracy: 0.9846 - val_loss: 0.4591 - val_accuracy: 0.8736\n",
            "Epoch 37/50\n",
            "30/30 [==============================] - 2s 69ms/step - loss: 0.1393 - accuracy: 0.9823 - val_loss: 0.4576 - val_accuracy: 0.8741\n",
            "Epoch 38/50\n",
            "30/30 [==============================] - 3s 107ms/step - loss: 0.0767 - accuracy: 0.9999 - val_loss: 0.6787 - val_accuracy: 0.8421\n",
            "Epoch 39/50\n",
            "30/30 [==============================] - 3s 83ms/step - loss: 0.1396 - accuracy: 0.9811 - val_loss: 0.4977 - val_accuracy: 0.8750\n",
            "Epoch 40/50\n",
            "30/30 [==============================] - 4s 128ms/step - loss: 0.1528 - accuracy: 0.9777 - val_loss: 0.4771 - val_accuracy: 0.8759\n",
            "Epoch 41/50\n",
            "30/30 [==============================] - 2s 75ms/step - loss: 0.1362 - accuracy: 0.9813 - val_loss: 0.4667 - val_accuracy: 0.8758\n",
            "Epoch 42/50\n",
            "30/30 [==============================] - 2s 77ms/step - loss: 0.0708 - accuracy: 1.0000 - val_loss: 0.5087 - val_accuracy: 0.8766\n",
            "Epoch 43/50\n",
            "30/30 [==============================] - 3s 109ms/step - loss: 0.1581 - accuracy: 0.9786 - val_loss: 0.4853 - val_accuracy: 0.8745\n",
            "Epoch 44/50\n",
            "30/30 [==============================] - 3s 95ms/step - loss: 0.1542 - accuracy: 0.9773 - val_loss: 0.4683 - val_accuracy: 0.8762\n",
            "Epoch 45/50\n",
            "30/30 [==============================] - 3s 93ms/step - loss: 0.0675 - accuracy: 0.9999 - val_loss: 0.7817 - val_accuracy: 0.8225\n",
            "Epoch 46/50\n",
            "30/30 [==============================] - 2s 73ms/step - loss: 0.1553 - accuracy: 0.9748 - val_loss: 0.4895 - val_accuracy: 0.8772\n",
            "Epoch 47/50\n",
            "30/30 [==============================] - 2s 74ms/step - loss: 0.1472 - accuracy: 0.9815 - val_loss: 0.4697 - val_accuracy: 0.8741\n",
            "Epoch 48/50\n",
            "30/30 [==============================] - 3s 112ms/step - loss: 0.0730 - accuracy: 0.9970 - val_loss: 1.1360 - val_accuracy: 0.7609\n",
            "Epoch 49/50\n",
            "30/30 [==============================] - 2s 74ms/step - loss: 0.0980 - accuracy: 0.9866 - val_loss: 0.5087 - val_accuracy: 0.8727\n",
            "Epoch 50/50\n",
            "30/30 [==============================] - 2s 74ms/step - loss: 0.1393 - accuracy: 0.9786 - val_loss: 0.4746 - val_accuracy: 0.8732\n"
          ]
        }
      ]
    },
    {
      "cell_type": "code",
      "source": [
        "imdb_dict_4 = imdb_mod_4.history"
      ],
      "metadata": {
        "id": "I71q8mURshAn"
      },
      "execution_count": null,
      "outputs": []
    },
    {
      "cell_type": "code",
      "source": [
        "#Training and Validation Loss\n",
        "\n",
        "loss = imdb_dict_4['loss']\n",
        "val_loss = imdb_dict_4['val_loss']\n",
        "epochs = range(1, len(loss)+1)\n",
        "plt.plot(epochs,loss,color='grey',label='Training Loss')\n",
        "plt.plot(epochs,val_loss,color='blue',linestyle='dashed',label='Validation Loss')\n",
        "plt.xlabel('Epochs')\n",
        "plt.ylabel('Loss')\n",
        "plt.legend()\n",
        "plt.show()"
      ],
      "metadata": {
        "colab": {
          "base_uri": "https://localhost:8080/",
          "height": 279
        },
        "id": "iDhqvsBAsmeC",
        "outputId": "4ee74000-30a8-4d93-8998-48747891391f"
      },
      "execution_count": null,
      "outputs": [
        {
          "output_type": "display_data",
          "data": {
            "text/plain": [
              "<Figure size 432x288 with 1 Axes>"
            ],
            "image/png": "[encoded data removed]"
          },
          "metadata": {
            "needs_background": "light"
          }
        }
      ]
    },
    {
      "cell_type": "markdown",
      "source": [
        "*From the above loss graph we can select the right number of epochs to be \"3\" because the validation loss starts to take a spike, after the 3rd Epoch.* "
      ],
      "metadata": {
        "id": "OYaMWfDjN85e"
      }
    },
    {
      "cell_type": "code",
      "source": [
        "#Training and Validation Accuracy\n",
        "\n",
        "accuracy = imdb_dict_4['accuracy']\n",
        "val_accuracy = imdb_dict_4['val_accuracy']\n",
        "epochs = range(1, len(accuracy)+1)\n",
        "plt.plot(epochs,accuracy,color='grey',label='Training Accuracy')\n",
        "plt.plot(epochs,val_accuracy,color='blue',linestyle='dashed',label='Validation Accuracy')\n",
        "plt.xlabel('Epochs')\n",
        "plt.ylabel('Accuracy')\n",
        "plt.legend()\n",
        "plt.show()"
      ],
      "metadata": {
        "colab": {
          "base_uri": "https://localhost:8080/",
          "height": 279
        },
        "id": "yT-_JwuRTOWO",
        "outputId": "94a2f954-9a49-4d3e-8ff5-6dd083523b2b"
      },
      "execution_count": null,
      "outputs": [
        {
          "output_type": "display_data",
          "data": {
            "text/plain": [
              "<Figure size 432x288 with 1 Axes>"
            ],
            "image/png": "[encoded data removed]"
          },
          "metadata": {
            "needs_background": "light"
          }
        }
      ]
    },
    {
      "cell_type": "markdown",
      "source": [
        "*We can confirm the same thing from the \"Accuracy Plot\" as well here the accuracy was highest at the 3rd Epoch.*"
      ],
      "metadata": {
        "id": "8OEFUb8_OAiy"
      }
    },
    {
      "cell_type": "markdown",
      "source": [
        "### ***Back Propagation - Retrain the model with 3 epochs***"
      ],
      "metadata": {
        "id": "5CeowNh8OBUh"
      }
    },
    {
      "cell_type": "code",
      "source": [
        "model = keras.Sequential([\n",
        "    layers.Dense(64,activation='relu',kernel_regularizer=regularizers.l2(0.001),input_shape=(10000,)),\n",
        "    layers.Dense(64,activation='relu',kernel_regularizer=regularizers.l2(0.001)),\n",
        "    layers.Dense(64,activation='relu',kernel_regularizer=regularizers.l2(0.001)),\n",
        "    layers.Dense(1,activation='sigmoid')\n",
        "])\n",
        "\n",
        "model.compile(optimizer='rmsprop',\n",
        "              loss='binary_crossentropy',\n",
        "              metrics=['accuracy'])\n",
        "\n",
        "imdb_mod_5 = model.fit(x_train,\n",
        "                       y_train,\n",
        "                       epochs=3,\n",
        "                       batch_size=512)"
      ],
      "metadata": {
        "colab": {
          "base_uri": "https://localhost:8080/"
        },
        "id": "jkKZc6ZqzmiR",
        "outputId": "4d9c921d-0834-44d4-aa04-a396f9ae5219"
      },
      "execution_count": null,
      "outputs": [
        {
          "output_type": "stream",
          "name": "stdout",
          "text": [
            "Epoch 1/3\n",
            "49/49 [==============================] - 4s 54ms/step - loss: 0.6796 - accuracy: 0.7851\n",
            "Epoch 2/3\n",
            "49/49 [==============================] - 3s 54ms/step - loss: 0.4452 - accuracy: 0.8904\n",
            "Epoch 3/3\n",
            "49/49 [==============================] - 3s 52ms/step - loss: 0.3663 - accuracy: 0.9112\n"
          ]
        }
      ]
    },
    {
      "cell_type": "code",
      "source": [
        "results_mod3 = model.evaluate(x_test,y_test)"
      ],
      "metadata": {
        "colab": {
          "base_uri": "https://localhost:8080/"
        },
        "id": "FNdHtv0HzmmE",
        "outputId": "27c47e9d-e7b2-4cf4-9845-736269a08bad"
      },
      "execution_count": null,
      "outputs": [
        {
          "output_type": "stream",
          "name": "stdout",
          "text": [
            "782/782 [==============================] - 3s 4ms/step - loss: 0.4228 - accuracy: 0.8808\n"
          ]
        }
      ]
    },
    {
      "cell_type": "markdown",
      "source": [
        "### *The accuracy on the test set for the third model built resulted in 88.08%.*"
      ],
      "metadata": {
        "id": "kf4oCqSS1CqT"
      }
    },
    {
      "cell_type": "markdown",
      "source": [
        "### *Model - 4 imdb_mod_6 - 2 Hidden Layers, 64 Nodes Each, activation - relu, optimizer - rmsprop, loss - binary crossentropy, dropout - 0.5.*"
      ],
      "metadata": {
        "id": "2P5EBtZ68P0x"
      }
    },
    {
      "cell_type": "code",
      "source": [
        "model = keras.Sequential([\n",
        "    layers.Dense(64,activation='relu',input_shape=(10000,)),\n",
        "    layers.Dropout(rate=0.5),\n",
        "    layers.Dense(64,activation='relu'),\n",
        "    layers.Dropout(rate=0.5),\n",
        "    layers.Dense(1,activation='sigmoid')\n",
        "])\n",
        "\n",
        "model.compile(optimizer='rmsprop',\n",
        "              loss='binary_crossentropy',\n",
        "              metrics=['accuracy'])\n",
        "\n",
        "imdb_mod_6 = model.fit(partial_x_train,\n",
        "                       partial_y_train,\n",
        "                       epochs=50,\n",
        "                       batch_size=256,\n",
        "                       validation_data=(x_val,y_val))"
      ],
      "metadata": {
        "colab": {
          "base_uri": "https://localhost:8080/"
        },
        "id": "8Mj9xCpx1VaS",
        "outputId": "102cc020-2437-4131-beb9-5ff139f9bc57"
      },
      "execution_count": null,
      "outputs": [
        {
          "output_type": "stream",
          "name": "stdout",
          "text": [
            "Epoch 1/50\n",
            "59/59 [==============================] - 4s 53ms/step - loss: 0.5113 - accuracy: 0.7557 - val_loss: 0.3270 - val_accuracy: 0.8710\n",
            "Epoch 2/50\n",
            "59/59 [==============================] - 2s 40ms/step - loss: 0.2980 - accuracy: 0.8853 - val_loss: 0.2829 - val_accuracy: 0.8859\n",
            "Epoch 3/50\n",
            "59/59 [==============================] - 3s 53ms/step - loss: 0.2243 - accuracy: 0.9152 - val_loss: 0.2732 - val_accuracy: 0.8903\n",
            "Epoch 4/50\n",
            "59/59 [==============================] - 3s 44ms/step - loss: 0.1697 - accuracy: 0.9391 - val_loss: 0.2950 - val_accuracy: 0.8883\n",
            "Epoch 5/50\n",
            "59/59 [==============================] - 2s 41ms/step - loss: 0.1347 - accuracy: 0.9513 - val_loss: 0.3231 - val_accuracy: 0.8841\n",
            "Epoch 6/50\n",
            "59/59 [==============================] - 3s 56ms/step - loss: 0.1069 - accuracy: 0.9655 - val_loss: 0.3759 - val_accuracy: 0.8821\n",
            "Epoch 7/50\n",
            "59/59 [==============================] - 7s 112ms/step - loss: 0.0857 - accuracy: 0.9726 - val_loss: 0.4238 - val_accuracy: 0.8778\n",
            "Epoch 8/50\n",
            "59/59 [==============================] - 3s 56ms/step - loss: 0.0699 - accuracy: 0.9774 - val_loss: 0.5092 - val_accuracy: 0.8730\n",
            "Epoch 9/50\n",
            "59/59 [==============================] - 2s 41ms/step - loss: 0.0553 - accuracy: 0.9835 - val_loss: 0.4441 - val_accuracy: 0.8810\n",
            "Epoch 10/50\n",
            "59/59 [==============================] - 4s 65ms/step - loss: 0.0473 - accuracy: 0.9857 - val_loss: 0.5008 - val_accuracy: 0.8834\n",
            "Epoch 11/50\n",
            "59/59 [==============================] - 3s 59ms/step - loss: 0.0400 - accuracy: 0.9882 - val_loss: 0.5773 - val_accuracy: 0.8819\n",
            "Epoch 12/50\n",
            "59/59 [==============================] - 2s 42ms/step - loss: 0.0372 - accuracy: 0.9893 - val_loss: 0.6018 - val_accuracy: 0.8801\n",
            "Epoch 13/50\n",
            "59/59 [==============================] - 3s 57ms/step - loss: 0.0322 - accuracy: 0.9909 - val_loss: 0.6343 - val_accuracy: 0.8780\n",
            "Epoch 14/50\n",
            "59/59 [==============================] - 3s 52ms/step - loss: 0.0276 - accuracy: 0.9925 - val_loss: 0.6904 - val_accuracy: 0.8817\n",
            "Epoch 15/50\n",
            "59/59 [==============================] - 4s 75ms/step - loss: 0.0255 - accuracy: 0.9917 - val_loss: 0.6938 - val_accuracy: 0.8816\n",
            "Epoch 16/50\n",
            "59/59 [==============================] - 3s 50ms/step - loss: 0.0222 - accuracy: 0.9932 - val_loss: 0.7472 - val_accuracy: 0.8808\n",
            "Epoch 17/50\n",
            "59/59 [==============================] - 3s 58ms/step - loss: 0.0240 - accuracy: 0.9940 - val_loss: 0.7905 - val_accuracy: 0.8805\n",
            "Epoch 18/50\n",
            "59/59 [==============================] - 2s 41ms/step - loss: 0.0213 - accuracy: 0.9939 - val_loss: 0.8084 - val_accuracy: 0.8810\n",
            "Epoch 19/50\n",
            "59/59 [==============================] - 4s 61ms/step - loss: 0.0259 - accuracy: 0.9933 - val_loss: 0.7709 - val_accuracy: 0.8795\n",
            "Epoch 20/50\n",
            "59/59 [==============================] - 2s 39ms/step - loss: 0.0240 - accuracy: 0.9947 - val_loss: 0.8061 - val_accuracy: 0.8805\n",
            "Epoch 21/50\n",
            "59/59 [==============================] - 2s 41ms/step - loss: 0.0217 - accuracy: 0.9941 - val_loss: 0.8400 - val_accuracy: 0.8799\n",
            "Epoch 22/50\n",
            "59/59 [==============================] - 4s 69ms/step - loss: 0.0209 - accuracy: 0.9951 - val_loss: 0.7941 - val_accuracy: 0.8783\n",
            "Epoch 23/50\n",
            "59/59 [==============================] - 5s 94ms/step - loss: 0.0183 - accuracy: 0.9954 - val_loss: 0.9113 - val_accuracy: 0.8799\n",
            "Epoch 24/50\n",
            "59/59 [==============================] - 3s 51ms/step - loss: 0.0180 - accuracy: 0.9961 - val_loss: 0.9040 - val_accuracy: 0.8763\n",
            "Epoch 25/50\n",
            "59/59 [==============================] - 4s 65ms/step - loss: 0.0218 - accuracy: 0.9955 - val_loss: 0.9098 - val_accuracy: 0.8777\n",
            "Epoch 26/50\n",
            "59/59 [==============================] - 4s 70ms/step - loss: 0.0164 - accuracy: 0.9956 - val_loss: 0.9932 - val_accuracy: 0.8790\n",
            "Epoch 27/50\n",
            "59/59 [==============================] - 3s 45ms/step - loss: 0.0181 - accuracy: 0.9953 - val_loss: 0.9786 - val_accuracy: 0.8770\n",
            "Epoch 28/50\n",
            "59/59 [==============================] - 2s 42ms/step - loss: 0.0225 - accuracy: 0.9955 - val_loss: 0.9826 - val_accuracy: 0.8780\n",
            "Epoch 29/50\n",
            "59/59 [==============================] - 2s 40ms/step - loss: 0.0221 - accuracy: 0.9955 - val_loss: 0.9313 - val_accuracy: 0.8787\n",
            "Epoch 30/50\n",
            "59/59 [==============================] - 2s 41ms/step - loss: 0.0223 - accuracy: 0.9962 - val_loss: 0.9705 - val_accuracy: 0.8805\n",
            "Epoch 31/50\n",
            "59/59 [==============================] - 4s 61ms/step - loss: 0.0175 - accuracy: 0.9954 - val_loss: 0.9942 - val_accuracy: 0.8775\n",
            "Epoch 32/50\n",
            "59/59 [==============================] - 4s 71ms/step - loss: 0.0177 - accuracy: 0.9958 - val_loss: 1.0400 - val_accuracy: 0.8755\n",
            "Epoch 33/50\n",
            "59/59 [==============================] - 3s 43ms/step - loss: 0.0177 - accuracy: 0.9953 - val_loss: 1.0371 - val_accuracy: 0.8753\n",
            "Epoch 34/50\n",
            "59/59 [==============================] - 5s 80ms/step - loss: 0.0212 - accuracy: 0.9956 - val_loss: 1.0714 - val_accuracy: 0.8769\n",
            "Epoch 35/50\n",
            "59/59 [==============================] - 6s 97ms/step - loss: 0.0174 - accuracy: 0.9964 - val_loss: 0.9876 - val_accuracy: 0.8749\n",
            "Epoch 36/50\n",
            "59/59 [==============================] - 2s 40ms/step - loss: 0.0196 - accuracy: 0.9958 - val_loss: 1.0384 - val_accuracy: 0.8765\n",
            "Epoch 37/50\n",
            "59/59 [==============================] - 2s 42ms/step - loss: 0.0187 - accuracy: 0.9958 - val_loss: 1.0649 - val_accuracy: 0.8764\n",
            "Epoch 38/50\n",
            "59/59 [==============================] - 3s 53ms/step - loss: 0.0177 - accuracy: 0.9964 - val_loss: 1.0678 - val_accuracy: 0.8772\n",
            "Epoch 39/50\n",
            "59/59 [==============================] - 3s 50ms/step - loss: 0.0204 - accuracy: 0.9950 - val_loss: 1.0901 - val_accuracy: 0.8742\n",
            "Epoch 40/50\n",
            "59/59 [==============================] - 2s 39ms/step - loss: 0.0180 - accuracy: 0.9963 - val_loss: 1.1024 - val_accuracy: 0.8770\n",
            "Epoch 41/50\n",
            "59/59 [==============================] - 2s 42ms/step - loss: 0.0245 - accuracy: 0.9955 - val_loss: 1.0571 - val_accuracy: 0.8739\n",
            "Epoch 42/50\n",
            "59/59 [==============================] - 5s 86ms/step - loss: 0.0160 - accuracy: 0.9966 - val_loss: 1.1357 - val_accuracy: 0.8777\n",
            "Epoch 43/50\n",
            "59/59 [==============================] - 9s 150ms/step - loss: 0.0189 - accuracy: 0.9963 - val_loss: 1.1380 - val_accuracy: 0.8818\n",
            "Epoch 44/50\n",
            "59/59 [==============================] - 2s 42ms/step - loss: 0.0156 - accuracy: 0.9969 - val_loss: 1.1149 - val_accuracy: 0.8782\n",
            "Epoch 45/50\n",
            "59/59 [==============================] - 2s 42ms/step - loss: 0.0164 - accuracy: 0.9961 - val_loss: 1.3218 - val_accuracy: 0.8696\n",
            "Epoch 46/50\n",
            "59/59 [==============================] - 2s 41ms/step - loss: 0.0154 - accuracy: 0.9967 - val_loss: 1.1645 - val_accuracy: 0.8769\n",
            "Epoch 47/50\n",
            "59/59 [==============================] - 4s 60ms/step - loss: 0.0148 - accuracy: 0.9965 - val_loss: 1.1609 - val_accuracy: 0.8785\n",
            "Epoch 48/50\n",
            "59/59 [==============================] - 3s 44ms/step - loss: 0.0195 - accuracy: 0.9960 - val_loss: 1.1002 - val_accuracy: 0.8774\n",
            "Epoch 49/50\n",
            "59/59 [==============================] - 3s 56ms/step - loss: 0.0153 - accuracy: 0.9971 - val_loss: 1.1573 - val_accuracy: 0.8792\n",
            "Epoch 50/50\n",
            "59/59 [==============================] - 3s 51ms/step - loss: 0.0188 - accuracy: 0.9970 - val_loss: 1.1517 - val_accuracy: 0.8740\n"
          ]
        }
      ]
    },
    {
      "cell_type": "code",
      "source": [
        "imdb_dict_6 = imdb_mod_6.history"
      ],
      "metadata": {
        "id": "Vs1Xki555aVN"
      },
      "execution_count": null,
      "outputs": []
    },
    {
      "cell_type": "code",
      "source": [
        "#Training and Validation Loss\n",
        "\n",
        "loss = imdb_dict_6['loss']\n",
        "val_loss = imdb_dict_6['val_loss']\n",
        "epochs = range(1, len(loss)+1)\n",
        "plt.plot(epochs,loss,color='grey',label='Training Loss')\n",
        "plt.plot(epochs,val_loss,color='blue',linestyle='dashed',label='Validation Loss')\n",
        "plt.xlabel('Epochs')\n",
        "plt.ylabel('Loss')\n",
        "plt.legend()\n",
        "plt.show()"
      ],
      "metadata": {
        "colab": {
          "base_uri": "https://localhost:8080/",
          "height": 279
        },
        "id": "LfdhCmwd5fFS",
        "outputId": "26aadc67-feb8-4c53-d3e0-f1b859f0842d"
      },
      "execution_count": null,
      "outputs": [
        {
          "output_type": "display_data",
          "data": {
            "text/plain": [
              "<Figure size 432x288 with 1 Axes>"
            ],
            "image/png": "[encoded data removed]"
          },
          "metadata": {
            "needs_background": "light"
          }
        }
      ]
    },
    {
      "cell_type": "markdown",
      "source": [
        "*From the above loss graph we can select the right number of epochs to be \"3\" because the validation loss starts to take a spike, after the 3rd Epoch.* "
      ],
      "metadata": {
        "id": "vCX-haz0QGPC"
      }
    },
    {
      "cell_type": "code",
      "source": [
        "#Training and Validation Accuracy\n",
        "\n",
        "accuracy = imdb_dict_6['accuracy']\n",
        "val_accuracy = imdb_dict_6['val_accuracy']\n",
        "epochs = range(1, len(accuracy)+1)\n",
        "plt.plot(epochs,accuracy,color='grey',label='Training Accuracy')\n",
        "plt.plot(epochs,val_accuracy,color='blue',linestyle='dashed',label='Validation Accuracy')\n",
        "plt.xlabel('Epochs')\n",
        "plt.ylabel('Accuracy')\n",
        "plt.legend()\n",
        "plt.show()"
      ],
      "metadata": {
        "colab": {
          "base_uri": "https://localhost:8080/",
          "height": 279
        },
        "id": "_6yV7h59QGmQ",
        "outputId": "5d02ec91-b7ad-46f3-a13a-241accd3b269"
      },
      "execution_count": null,
      "outputs": [
        {
          "output_type": "display_data",
          "data": {
            "text/plain": [
              "<Figure size 432x288 with 1 Axes>"
            ],
            "image/png": "[encoded data removed]"
          },
          "metadata": {
            "needs_background": "light"
          }
        }
      ]
    },
    {
      "cell_type": "markdown",
      "source": [
        "*We can confirm the same thing from the \"Accuracy Plot\" as well here the accuracy was highest at the 3rd Epoch.*"
      ],
      "metadata": {
        "id": "Lzn4XDkdQG-7"
      }
    },
    {
      "cell_type": "markdown",
      "source": [
        "### ***Back Propagation - Retrain the model with 3 epochs***"
      ],
      "metadata": {
        "id": "DU-wZdY4QHVS"
      }
    },
    {
      "cell_type": "code",
      "source": [
        "model = keras.Sequential([\n",
        "    layers.Dense(64,activation='relu',input_shape=(10000,)),\n",
        "    layers.Dropout(rate=0.5),\n",
        "    layers.Dense(64,activation='relu'),\n",
        "    layers.Dropout(rate=0.5),\n",
        "    layers.Dense(1,activation='sigmoid')\n",
        "])\n",
        "\n",
        "model.compile(optimizer='rmsprop',\n",
        "              loss='binary_crossentropy',\n",
        "              metrics=['accuracy'])\n",
        "\n",
        "imdb_mod_7 = model.fit(x_train,\n",
        "                       y_train,\n",
        "                       epochs=3,\n",
        "                       batch_size=256)"
      ],
      "metadata": {
        "colab": {
          "base_uri": "https://localhost:8080/"
        },
        "id": "c1wxnHqK6VSa",
        "outputId": "97be55e7-ac45-436f-c3d7-24cffa16d38e"
      },
      "execution_count": null,
      "outputs": [
        {
          "output_type": "stream",
          "name": "stdout",
          "text": [
            "Epoch 1/3\n",
            "98/98 [==============================] - 4s 36ms/step - loss: 0.4371 - accuracy: 0.8022\n",
            "Epoch 2/3\n",
            "98/98 [==============================] - 3s 30ms/step - loss: 0.2614 - accuracy: 0.9015\n",
            "Epoch 3/3\n",
            "98/98 [==============================] - 3s 30ms/step - loss: 0.2067 - accuracy: 0.9238\n"
          ]
        }
      ]
    },
    {
      "cell_type": "code",
      "source": [
        "results_mod4 = model.evaluate(x_test,y_test)"
      ],
      "metadata": {
        "colab": {
          "base_uri": "https://localhost:8080/"
        },
        "id": "Pc7IWNPB6dR5",
        "outputId": "5ebf9195-b2bf-48a1-80d2-b7e3d578a98b"
      },
      "execution_count": null,
      "outputs": [
        {
          "output_type": "stream",
          "name": "stdout",
          "text": [
            "782/782 [==============================] - 3s 4ms/step - loss: 0.3025 - accuracy: 0.8852\n"
          ]
        }
      ]
    },
    {
      "cell_type": "markdown",
      "source": [
        "### *The accuracy on the test set for the fourth model built resulted in 88.52%.*"
      ],
      "metadata": {
        "id": "Rq28iqAeQmwT"
      }
    },
    {
      "cell_type": "markdown",
      "source": [
        "### *Model - 5 imdb_mod_8 - 1 Hidden Layer, 32 Nodes, activation - tanh, optimizer - adam, loss - mse, dropout - 0.3.*"
      ],
      "metadata": {
        "id": "RsZUOjH89sfy"
      }
    },
    {
      "cell_type": "code",
      "source": [
        "model = keras.Sequential([\n",
        "    layers.Dense(32,activation='tanh',input_shape=(10000,)),\n",
        "    layers.Dropout(rate=0.3),\n",
        "    layers.Dense(1,activation='sigmoid')\n",
        "])\n",
        "\n",
        "model.compile(optimizer='adam',\n",
        "              loss='mse',\n",
        "              metrics=['accuracy'])\n",
        "\n",
        "imdb_mod_8 = model.fit(partial_x_train,\n",
        "                       partial_y_train,\n",
        "                       epochs=50,\n",
        "                       batch_size=512,\n",
        "                       validation_data=(x_val,y_val))"
      ],
      "metadata": {
        "colab": {
          "base_uri": "https://localhost:8080/"
        },
        "id": "Gq_Qw4yh7Lji",
        "outputId": "32b39e34-d0e1-404c-acac-65804addaa33"
      },
      "execution_count": null,
      "outputs": [
        {
          "output_type": "stream",
          "name": "stdout",
          "text": [
            "Epoch 1/50\n",
            "30/30 [==============================] - 3s 71ms/step - loss: 0.1612 - accuracy: 0.7871 - val_loss: 0.1096 - val_accuracy: 0.8676\n",
            "Epoch 2/50\n",
            "30/30 [==============================] - 1s 46ms/step - loss: 0.0815 - accuracy: 0.9105 - val_loss: 0.0900 - val_accuracy: 0.8898\n",
            "Epoch 3/50\n",
            "30/30 [==============================] - 1s 46ms/step - loss: 0.0601 - accuracy: 0.9400 - val_loss: 0.0850 - val_accuracy: 0.8895\n",
            "Epoch 4/50\n",
            "30/30 [==============================] - 2s 62ms/step - loss: 0.0475 - accuracy: 0.9549 - val_loss: 0.0835 - val_accuracy: 0.8887\n",
            "Epoch 5/50\n",
            "30/30 [==============================] - 2s 72ms/step - loss: 0.0390 - accuracy: 0.9649 - val_loss: 0.0831 - val_accuracy: 0.8874\n",
            "Epoch 6/50\n",
            "30/30 [==============================] - 1s 48ms/step - loss: 0.0322 - accuracy: 0.9741 - val_loss: 0.0839 - val_accuracy: 0.8845\n",
            "Epoch 7/50\n",
            "30/30 [==============================] - 1s 48ms/step - loss: 0.0273 - accuracy: 0.9793 - val_loss: 0.0861 - val_accuracy: 0.8812\n",
            "Epoch 8/50\n",
            "30/30 [==============================] - 1s 47ms/step - loss: 0.0233 - accuracy: 0.9836 - val_loss: 0.0867 - val_accuracy: 0.8811\n",
            "Epoch 9/50\n",
            "30/30 [==============================] - 1s 49ms/step - loss: 0.0197 - accuracy: 0.9870 - val_loss: 0.0884 - val_accuracy: 0.8805\n",
            "Epoch 10/50\n",
            "30/30 [==============================] - 2s 66ms/step - loss: 0.0167 - accuracy: 0.9897 - val_loss: 0.0898 - val_accuracy: 0.8799\n",
            "Epoch 11/50\n",
            "30/30 [==============================] - 3s 91ms/step - loss: 0.0148 - accuracy: 0.9908 - val_loss: 0.0919 - val_accuracy: 0.8761\n",
            "Epoch 12/50\n",
            "30/30 [==============================] - 3s 86ms/step - loss: 0.0126 - accuracy: 0.9933 - val_loss: 0.0927 - val_accuracy: 0.8767\n",
            "Epoch 13/50\n",
            "30/30 [==============================] - 2s 71ms/step - loss: 0.0109 - accuracy: 0.9943 - val_loss: 0.0946 - val_accuracy: 0.8737\n",
            "Epoch 14/50\n",
            "30/30 [==============================] - 2s 58ms/step - loss: 0.0098 - accuracy: 0.9947 - val_loss: 0.0953 - val_accuracy: 0.8751\n",
            "Epoch 15/50\n",
            "30/30 [==============================] - 1s 47ms/step - loss: 0.0088 - accuracy: 0.9955 - val_loss: 0.0962 - val_accuracy: 0.8740\n",
            "Epoch 16/50\n",
            "30/30 [==============================] - 2s 63ms/step - loss: 0.0079 - accuracy: 0.9960 - val_loss: 0.0976 - val_accuracy: 0.8727\n",
            "Epoch 17/50\n",
            "30/30 [==============================] - 2s 62ms/step - loss: 0.0070 - accuracy: 0.9965 - val_loss: 0.0983 - val_accuracy: 0.8724\n",
            "Epoch 18/50\n",
            "30/30 [==============================] - 2s 61ms/step - loss: 0.0064 - accuracy: 0.9969 - val_loss: 0.0998 - val_accuracy: 0.8704\n",
            "Epoch 19/50\n",
            "30/30 [==============================] - 3s 100ms/step - loss: 0.0058 - accuracy: 0.9970 - val_loss: 0.1006 - val_accuracy: 0.8703\n",
            "Epoch 20/50\n",
            "30/30 [==============================] - 2s 55ms/step - loss: 0.0055 - accuracy: 0.9971 - val_loss: 0.1011 - val_accuracy: 0.8706\n",
            "Epoch 21/50\n",
            "30/30 [==============================] - 2s 69ms/step - loss: 0.0051 - accuracy: 0.9971 - val_loss: 0.1018 - val_accuracy: 0.8703\n",
            "Epoch 22/50\n",
            "30/30 [==============================] - 1s 46ms/step - loss: 0.0048 - accuracy: 0.9972 - val_loss: 0.1025 - val_accuracy: 0.8697\n",
            "Epoch 23/50\n",
            "30/30 [==============================] - 1s 49ms/step - loss: 0.0045 - accuracy: 0.9973 - val_loss: 0.1030 - val_accuracy: 0.8683\n",
            "Epoch 24/50\n",
            "30/30 [==============================] - 2s 64ms/step - loss: 0.0042 - accuracy: 0.9974 - val_loss: 0.1039 - val_accuracy: 0.8679\n",
            "Epoch 25/50\n",
            "30/30 [==============================] - 2s 71ms/step - loss: 0.0040 - accuracy: 0.9975 - val_loss: 0.1048 - val_accuracy: 0.8665\n",
            "Epoch 26/50\n",
            "30/30 [==============================] - 2s 78ms/step - loss: 0.0039 - accuracy: 0.9976 - val_loss: 0.1053 - val_accuracy: 0.8665\n",
            "Epoch 27/50\n",
            "30/30 [==============================] - 2s 54ms/step - loss: 0.0036 - accuracy: 0.9977 - val_loss: 0.1060 - val_accuracy: 0.8663\n",
            "Epoch 28/50\n",
            "30/30 [==============================] - 2s 64ms/step - loss: 0.0034 - accuracy: 0.9977 - val_loss: 0.1063 - val_accuracy: 0.8670\n",
            "Epoch 29/50\n",
            "30/30 [==============================] - 2s 51ms/step - loss: 0.0034 - accuracy: 0.9977 - val_loss: 0.1068 - val_accuracy: 0.8663\n",
            "Epoch 30/50\n",
            "30/30 [==============================] - 2s 62ms/step - loss: 0.0033 - accuracy: 0.9978 - val_loss: 0.1080 - val_accuracy: 0.8653\n",
            "Epoch 31/50\n",
            "30/30 [==============================] - 2s 59ms/step - loss: 0.0031 - accuracy: 0.9978 - val_loss: 0.1080 - val_accuracy: 0.8661\n",
            "Epoch 32/50\n",
            "30/30 [==============================] - 3s 93ms/step - loss: 0.0030 - accuracy: 0.9978 - val_loss: 0.1083 - val_accuracy: 0.8664\n",
            "Epoch 33/50\n",
            "30/30 [==============================] - 2s 78ms/step - loss: 0.0030 - accuracy: 0.9979 - val_loss: 0.1084 - val_accuracy: 0.8666\n",
            "Epoch 34/50\n",
            "30/30 [==============================] - 1s 47ms/step - loss: 0.0029 - accuracy: 0.9978 - val_loss: 0.1087 - val_accuracy: 0.8658\n",
            "Epoch 35/50\n",
            "30/30 [==============================] - 2s 66ms/step - loss: 0.0029 - accuracy: 0.9979 - val_loss: 0.1091 - val_accuracy: 0.8652\n",
            "Epoch 36/50\n",
            "30/30 [==============================] - 2s 62ms/step - loss: 0.0028 - accuracy: 0.9979 - val_loss: 0.1100 - val_accuracy: 0.8649\n",
            "Epoch 37/50\n",
            "30/30 [==============================] - 2s 54ms/step - loss: 0.0027 - accuracy: 0.9979 - val_loss: 0.1099 - val_accuracy: 0.8657\n",
            "Epoch 38/50\n",
            "30/30 [==============================] - 2s 52ms/step - loss: 0.0026 - accuracy: 0.9979 - val_loss: 0.1100 - val_accuracy: 0.8654\n",
            "Epoch 39/50\n",
            "30/30 [==============================] - 2s 66ms/step - loss: 0.0026 - accuracy: 0.9979 - val_loss: 0.1103 - val_accuracy: 0.8648\n",
            "Epoch 40/50\n",
            "30/30 [==============================] - 4s 128ms/step - loss: 0.0026 - accuracy: 0.9979 - val_loss: 0.1105 - val_accuracy: 0.8645\n",
            "Epoch 41/50\n",
            "30/30 [==============================] - 2s 82ms/step - loss: 0.0026 - accuracy: 0.9979 - val_loss: 0.1110 - val_accuracy: 0.8650\n",
            "Epoch 42/50\n",
            "30/30 [==============================] - 2s 69ms/step - loss: 0.0025 - accuracy: 0.9979 - val_loss: 0.1110 - val_accuracy: 0.8650\n",
            "Epoch 43/50\n",
            "30/30 [==============================] - 2s 61ms/step - loss: 0.0025 - accuracy: 0.9979 - val_loss: 0.1115 - val_accuracy: 0.8641\n",
            "Epoch 44/50\n",
            "30/30 [==============================] - 2s 62ms/step - loss: 0.0025 - accuracy: 0.9979 - val_loss: 0.1115 - val_accuracy: 0.8643\n",
            "Epoch 45/50\n",
            "30/30 [==============================] - 2s 59ms/step - loss: 0.0025 - accuracy: 0.9979 - val_loss: 0.1118 - val_accuracy: 0.8641\n",
            "Epoch 46/50\n",
            "30/30 [==============================] - 2s 78ms/step - loss: 0.0024 - accuracy: 0.9979 - val_loss: 0.1120 - val_accuracy: 0.8650\n",
            "Epoch 47/50\n",
            "30/30 [==============================] - 2s 76ms/step - loss: 0.0024 - accuracy: 0.9979 - val_loss: 0.1124 - val_accuracy: 0.8640\n",
            "Epoch 48/50\n",
            "30/30 [==============================] - 2s 58ms/step - loss: 0.0024 - accuracy: 0.9979 - val_loss: 0.1127 - val_accuracy: 0.8641\n",
            "Epoch 49/50\n",
            "30/30 [==============================] - 2s 78ms/step - loss: 0.0024 - accuracy: 0.9979 - val_loss: 0.1127 - val_accuracy: 0.8641\n",
            "Epoch 50/50\n",
            "30/30 [==============================] - 2s 52ms/step - loss: 0.0024 - accuracy: 0.9979 - val_loss: 0.1128 - val_accuracy: 0.8638\n"
          ]
        }
      ]
    },
    {
      "cell_type": "code",
      "source": [
        "imdb_dict_8 = imdb_mod_8.history"
      ],
      "metadata": {
        "id": "ZAamkYsa-oSh"
      },
      "execution_count": null,
      "outputs": []
    },
    {
      "cell_type": "code",
      "source": [
        "#Training and Validation Loss\n",
        "\n",
        "loss = imdb_dict_8['loss']\n",
        "val_loss = imdb_dict_8['val_loss']\n",
        "epochs = range(1, len(loss)+1)\n",
        "plt.plot(epochs,loss,color='grey',label='Training Loss')\n",
        "plt.plot(epochs,val_loss,color='blue',linestyle='dashed',label='Validation Loss')\n",
        "plt.xlabel('Epochs')\n",
        "plt.ylabel('Loss')\n",
        "plt.legend()\n",
        "plt.show()"
      ],
      "metadata": {
        "colab": {
          "base_uri": "https://localhost:8080/",
          "height": 279
        },
        "id": "C1vZZscS-sSB",
        "outputId": "33c48e48-55fc-4590-9e1a-ac60637c0104"
      },
      "execution_count": null,
      "outputs": [
        {
          "output_type": "display_data",
          "data": {
            "text/plain": [
              "<Figure size 432x288 with 1 Axes>"
            ],
            "image/png": "[encoded data removed]"
          },
          "metadata": {
            "needs_background": "light"
          }
        }
      ]
    },
    {
      "cell_type": "markdown",
      "source": [
        "*From the above loss graph we can select the right number of epochs to be \"5\" because the validation loss starts to take a spike, after the 5th Epoch.* "
      ],
      "metadata": {
        "id": "VzR-u3xrRV30"
      }
    },
    {
      "cell_type": "code",
      "source": [
        "#Training and Validation Accuracy\n",
        "\n",
        "accuracy = imdb_dict_8['accuracy']\n",
        "val_accuracy = imdb_dict_8['val_accuracy']\n",
        "epochs = range(1, len(accuracy)+1)\n",
        "plt.plot(epochs,accuracy,color='grey',label='Training Accuracy')\n",
        "plt.plot(epochs,val_accuracy,color='blue',linestyle='dashed',label='Validation Accuracy')\n",
        "plt.xlabel('Epochs')\n",
        "plt.ylabel('Accuracy')\n",
        "plt.legend()\n",
        "plt.show()"
      ],
      "metadata": {
        "colab": {
          "base_uri": "https://localhost:8080/",
          "height": 279
        },
        "id": "EBGhoG_6RWNv",
        "outputId": "b65b8609-6824-4da9-d71c-e826161a269a"
      },
      "execution_count": null,
      "outputs": [
        {
          "output_type": "display_data",
          "data": {
            "text/plain": [
              "<Figure size 432x288 with 1 Axes>"
            ],
            "image/png": "[encoded data removed]"
          },
          "metadata": {
            "needs_background": "light"
          }
        }
      ]
    },
    {
      "cell_type": "markdown",
      "source": [
        "*We can confirm the same thing from the \"Accuracy Plot\" as well here the accuracy was highest at the 5th Epoch.*"
      ],
      "metadata": {
        "id": "8MpgfLoBRWbo"
      }
    },
    {
      "cell_type": "markdown",
      "source": [
        "### ***Back Propagation - Retrain the model with 5 epochs***"
      ],
      "metadata": {
        "id": "i-l1S2xARXBP"
      }
    },
    {
      "cell_type": "code",
      "source": [
        "model = keras.Sequential([\n",
        "    layers.Dense(32,activation='tanh',input_shape=(10000,)),\n",
        "    layers.Dropout(rate=0.3),\n",
        "    layers.Dense(1,activation='sigmoid')\n",
        "])\n",
        "\n",
        "model.compile(optimizer='adam',\n",
        "              loss='mse',\n",
        "              metrics=['accuracy'])\n",
        "\n",
        "imdb_mod_9 = model.fit(x_train,\n",
        "                       y_train,\n",
        "                       epochs=5,\n",
        "                       batch_size=512)"
      ],
      "metadata": {
        "colab": {
          "base_uri": "https://localhost:8080/"
        },
        "id": "xy1sIftU-7cI",
        "outputId": "82860ec8-c3c5-459d-93ef-56e511f7bbcf"
      },
      "execution_count": null,
      "outputs": [
        {
          "output_type": "stream",
          "name": "stdout",
          "text": [
            "Epoch 1/5\n",
            "49/49 [==============================] - 3s 48ms/step - loss: 0.1387 - accuracy: 0.8256\n",
            "Epoch 2/5\n",
            "49/49 [==============================] - 2s 51ms/step - loss: 0.0736 - accuracy: 0.9142\n",
            "Epoch 3/5\n",
            "49/49 [==============================] - 2s 36ms/step - loss: 0.0572 - accuracy: 0.9359\n",
            "Epoch 4/5\n",
            "49/49 [==============================] - 2s 37ms/step - loss: 0.0467 - accuracy: 0.9482\n",
            "Epoch 5/5\n",
            "49/49 [==============================] - 2s 35ms/step - loss: 0.0397 - accuracy: 0.9584\n"
          ]
        }
      ]
    },
    {
      "cell_type": "code",
      "source": [
        "results_mod5 = model.evaluate(x_test,y_test)"
      ],
      "metadata": {
        "colab": {
          "base_uri": "https://localhost:8080/"
        },
        "id": "GaPuZNdq-_0N",
        "outputId": "df538085-1758-4c7a-8f33-1470448d1d09"
      },
      "execution_count": null,
      "outputs": [
        {
          "output_type": "stream",
          "name": "stdout",
          "text": [
            "782/782 [==============================] - 3s 4ms/step - loss: 0.0885 - accuracy: 0.8787\n"
          ]
        }
      ]
    },
    {
      "cell_type": "markdown",
      "source": [
        "### *The accuracy on the test set for the fifth model built resulted in 87.87%.*"
      ],
      "metadata": {
        "id": "j5Pb5yjwRYva"
      }
    },
    {
      "cell_type": "markdown",
      "source": [
        "### *Model - 6 imdb_mod_10 - 2 Hidden Layers, 16 Nodes Each, activation - relu, optimizer - rmsprop, loss - binary crossentropy, dropout - 0.5.*"
      ],
      "metadata": {
        "id": "xr1XgSrIbe5B"
      }
    },
    {
      "cell_type": "code",
      "source": [
        "model = keras.Sequential([\n",
        "    layers.Dense(16,activation='relu',input_shape=(10000,)),\n",
        "    layers.Dropout(rate=0.5),\n",
        "    layers.Dense(16,activation='relu'),\n",
        "    layers.Dropout(rate=0.5),\n",
        "    layers.Dense(1,activation='sigmoid')\n",
        "])\n",
        "\n",
        "model.compile(optimizer='rmsprop',\n",
        "              loss='binary_crossentropy',\n",
        "              metrics=['accuracy'])\n",
        "\n",
        "imdb_mod_10 = model.fit(partial_x_train,\n",
        "                        partial_y_train,\n",
        "                        epochs=30,\n",
        "                        batch_size=512,\n",
        "                        validation_data=(x_val,y_val))"
      ],
      "metadata": {
        "colab": {
          "base_uri": "https://localhost:8080/"
        },
        "id": "ddUtCZR4Zdpl",
        "outputId": "52517c39-d136-42b9-b16c-1f02f77e3e68"
      },
      "execution_count": null,
      "outputs": [
        {
          "output_type": "stream",
          "name": "stdout",
          "text": [
            "Epoch 1/30\n",
            "30/30 [==============================] - 5s 132ms/step - loss: 0.6403 - accuracy: 0.6317 - val_loss: 0.5361 - val_accuracy: 0.8253\n",
            "Epoch 2/30\n",
            "30/30 [==============================] - 3s 89ms/step - loss: 0.5256 - accuracy: 0.7567 - val_loss: 0.4218 - val_accuracy: 0.8687\n",
            "Epoch 3/30\n",
            "30/30 [==============================] - 2s 70ms/step - loss: 0.4401 - accuracy: 0.8181 - val_loss: 0.3653 - val_accuracy: 0.8681\n",
            "Epoch 4/30\n",
            "30/30 [==============================] - 1s 38ms/step - loss: 0.3731 - accuracy: 0.8540 - val_loss: 0.3189 - val_accuracy: 0.8862\n",
            "Epoch 5/30\n",
            "30/30 [==============================] - 2s 57ms/step - loss: 0.3305 - accuracy: 0.8782 - val_loss: 0.2884 - val_accuracy: 0.8905\n",
            "Epoch 6/30\n",
            "30/30 [==============================] - 1s 46ms/step - loss: 0.2905 - accuracy: 0.8957 - val_loss: 0.2845 - val_accuracy: 0.8854\n",
            "Epoch 7/30\n",
            "30/30 [==============================] - 1s 37ms/step - loss: 0.2580 - accuracy: 0.9095 - val_loss: 0.2730 - val_accuracy: 0.8877\n",
            "Epoch 8/30\n",
            "30/30 [==============================] - 2s 51ms/step - loss: 0.2391 - accuracy: 0.9183 - val_loss: 0.2786 - val_accuracy: 0.8890\n",
            "Epoch 9/30\n",
            "30/30 [==============================] - 1s 41ms/step - loss: 0.2065 - accuracy: 0.9320 - val_loss: 0.3063 - val_accuracy: 0.8834\n",
            "Epoch 10/30\n",
            "30/30 [==============================] - 2s 67ms/step - loss: 0.1880 - accuracy: 0.9354 - val_loss: 0.2920 - val_accuracy: 0.8877\n",
            "Epoch 11/30\n",
            "30/30 [==============================] - 2s 81ms/step - loss: 0.1677 - accuracy: 0.9450 - val_loss: 0.3181 - val_accuracy: 0.8869\n",
            "Epoch 12/30\n",
            "30/30 [==============================] - 2s 60ms/step - loss: 0.1504 - accuracy: 0.9515 - val_loss: 0.3290 - val_accuracy: 0.8865\n",
            "Epoch 13/30\n",
            "30/30 [==============================] - 2s 62ms/step - loss: 0.1382 - accuracy: 0.9556 - val_loss: 0.3512 - val_accuracy: 0.8868\n",
            "Epoch 14/30\n",
            "30/30 [==============================] - 1s 39ms/step - loss: 0.1227 - accuracy: 0.9599 - val_loss: 0.3700 - val_accuracy: 0.8858\n",
            "Epoch 15/30\n",
            "30/30 [==============================] - 1s 42ms/step - loss: 0.1151 - accuracy: 0.9611 - val_loss: 0.3902 - val_accuracy: 0.8837\n",
            "Epoch 16/30\n",
            "30/30 [==============================] - 2s 52ms/step - loss: 0.1037 - accuracy: 0.9665 - val_loss: 0.4205 - val_accuracy: 0.8854\n",
            "Epoch 17/30\n",
            "30/30 [==============================] - 1s 45ms/step - loss: 0.0972 - accuracy: 0.9672 - val_loss: 0.4171 - val_accuracy: 0.8821\n",
            "Epoch 18/30\n",
            "30/30 [==============================] - 2s 60ms/step - loss: 0.0893 - accuracy: 0.9704 - val_loss: 0.4435 - val_accuracy: 0.8825\n",
            "Epoch 19/30\n",
            "30/30 [==============================] - 2s 77ms/step - loss: 0.0880 - accuracy: 0.9725 - val_loss: 0.4357 - val_accuracy: 0.8837\n",
            "Epoch 20/30\n",
            "30/30 [==============================] - 1s 42ms/step - loss: 0.0804 - accuracy: 0.9720 - val_loss: 0.5119 - val_accuracy: 0.8813\n",
            "Epoch 21/30\n",
            "30/30 [==============================] - 1s 43ms/step - loss: 0.0768 - accuracy: 0.9743 - val_loss: 0.5128 - val_accuracy: 0.8842\n",
            "Epoch 22/30\n",
            "30/30 [==============================] - 1s 43ms/step - loss: 0.0724 - accuracy: 0.9753 - val_loss: 0.5567 - val_accuracy: 0.8836\n",
            "Epoch 23/30\n",
            "30/30 [==============================] - 1s 45ms/step - loss: 0.0692 - accuracy: 0.9771 - val_loss: 0.5759 - val_accuracy: 0.8808\n",
            "Epoch 24/30\n",
            "30/30 [==============================] - 1s 46ms/step - loss: 0.0639 - accuracy: 0.9775 - val_loss: 0.5993 - val_accuracy: 0.8830\n",
            "Epoch 25/30\n",
            "30/30 [==============================] - 1s 47ms/step - loss: 0.0651 - accuracy: 0.9780 - val_loss: 0.6208 - val_accuracy: 0.8839\n",
            "Epoch 26/30\n",
            "30/30 [==============================] - 2s 62ms/step - loss: 0.0633 - accuracy: 0.9799 - val_loss: 0.6382 - val_accuracy: 0.8825\n",
            "Epoch 27/30\n",
            "30/30 [==============================] - 2s 64ms/step - loss: 0.0586 - accuracy: 0.9796 - val_loss: 0.6765 - val_accuracy: 0.8801\n",
            "Epoch 28/30\n",
            "30/30 [==============================] - 1s 43ms/step - loss: 0.0608 - accuracy: 0.9809 - val_loss: 0.6727 - val_accuracy: 0.8801\n",
            "Epoch 29/30\n",
            "30/30 [==============================] - 2s 53ms/step - loss: 0.0577 - accuracy: 0.9813 - val_loss: 0.6811 - val_accuracy: 0.8769\n",
            "Epoch 30/30\n",
            "30/30 [==============================] - 1s 42ms/step - loss: 0.0582 - accuracy: 0.9792 - val_loss: 0.7080 - val_accuracy: 0.8793\n"
          ]
        }
      ]
    },
    {
      "cell_type": "code",
      "source": [
        "imdb_dict_10 = imdb_mod_10.history"
      ],
      "metadata": {
        "id": "iR6Yn8DWaUeM"
      },
      "execution_count": null,
      "outputs": []
    },
    {
      "cell_type": "code",
      "source": [
        "#Training and Validation Loss\n",
        "\n",
        "loss=imdb_dict_10['loss']\n",
        "val_loss=imdb_dict_10['val_loss']\n",
        "epochs=range(1,len(loss)+1)\n",
        "plt.plot(epochs,loss,color='grey',label='Training Loss')\n",
        "plt.plot(epochs,val_loss,color='blue',linestyle='dashed',label='Validation Loss')\n",
        "plt.xlabel('Epochs')\n",
        "plt.ylabel('Loss')\n",
        "plt.legend()\n",
        "plt.show()"
      ],
      "metadata": {
        "colab": {
          "base_uri": "https://localhost:8080/",
          "height": 279
        },
        "id": "z7DXCjuVaZjh",
        "outputId": "8c6309da-f22c-4ef3-ee9a-de1595febda3"
      },
      "execution_count": null,
      "outputs": [
        {
          "output_type": "display_data",
          "data": {
            "text/plain": [
              "<Figure size 432x288 with 1 Axes>"
            ],
            "image/png": "[encoded data removed]"
          },
          "metadata": {
            "needs_background": "light"
          }
        }
      ]
    },
    {
      "cell_type": "markdown",
      "source": [
        "*From the above loss graph we can select the right number of epochs to be \"7\" because the validation loss starts to take a spike, after the 7th Epoch.* "
      ],
      "metadata": {
        "id": "LYy-D0U0TTDt"
      }
    },
    {
      "cell_type": "code",
      "source": [
        "#Training and Validaiton Accuracy\n",
        "\n",
        "accuracy=imdb_dict_10['accuracy']\n",
        "val_accuracy=imdb_dict_10['val_accuracy']\n",
        "epochs=range(1,len(accuracy)+1)\n",
        "plt.plot(epochs,accuracy,color='grey',label='Training Acc')\n",
        "plt.plot(epochs,val_accuracy,color='blue',linestyle='dashed',label='Validation Acc')\n",
        "plt.xlabel('Epochs')\n",
        "plt.ylabel('Acc')\n",
        "plt.legend()\n",
        "plt.show()"
      ],
      "metadata": {
        "colab": {
          "base_uri": "https://localhost:8080/",
          "height": 279
        },
        "id": "GiOKOL2Ia8o_",
        "outputId": "3a33ca50-7b5b-42bb-8bce-a03ad5e9e204"
      },
      "execution_count": null,
      "outputs": [
        {
          "output_type": "display_data",
          "data": {
            "text/plain": [
              "<Figure size 432x288 with 1 Axes>"
            ],
            "image/png": "[encoded data removed]"
          },
          "metadata": {
            "needs_background": "light"
          }
        }
      ]
    },
    {
      "cell_type": "markdown",
      "source": [
        "*We can confirm the same thing from the \"Accuracy Plot\" as well here the accuracy was highest at the 7th Epoch.*"
      ],
      "metadata": {
        "id": "Fsic52NlTUtU"
      }
    },
    {
      "cell_type": "markdown",
      "source": [
        "### ***Back Propagation - Retrain the model with 7 epochs***"
      ],
      "metadata": {
        "id": "zDyTpy0LTVMH"
      }
    },
    {
      "cell_type": "code",
      "source": [
        "model = keras.Sequential([\n",
        "    layers.Dense(16,activation='relu',input_shape=(10000,)),\n",
        "    layers.Dropout(rate=0.5),\n",
        "    layers.Dense(16,activation='relu'),\n",
        "    layers.Dropout(rate=0.5),\n",
        "    layers.Dense(1,activation='sigmoid')\n",
        "])\n",
        "\n",
        "model.compile(optimizer='rmsprop',\n",
        "              loss='binary_crossentropy',\n",
        "              metrics=['accuracy'])\n",
        "\n",
        "imdb_mod_11 = model.fit(x_train,\n",
        "                        y_train,\n",
        "                        epochs=7,\n",
        "                        batch_size=512)"
      ],
      "metadata": {
        "colab": {
          "base_uri": "https://localhost:8080/"
        },
        "id": "zkRBc8aIbLjf",
        "outputId": "c3c58ea7-2795-4e99-d349-7c6dfb589dc8"
      },
      "execution_count": null,
      "outputs": [
        {
          "output_type": "stream",
          "name": "stdout",
          "text": [
            "Epoch 1/7\n",
            "49/49 [==============================] - 2s 32ms/step - loss: 0.6051 - accuracy: 0.6721\n",
            "Epoch 2/7\n",
            "49/49 [==============================] - 2s 40ms/step - loss: 0.4556 - accuracy: 0.8067\n",
            "Epoch 3/7\n",
            "49/49 [==============================] - 2s 40ms/step - loss: 0.3649 - accuracy: 0.8592\n",
            "Epoch 4/7\n",
            "49/49 [==============================] - 1s 30ms/step - loss: 0.3107 - accuracy: 0.8854\n",
            "Epoch 5/7\n",
            "49/49 [==============================] - 1s 30ms/step - loss: 0.2701 - accuracy: 0.9060\n",
            "Epoch 6/7\n",
            "49/49 [==============================] - 1s 29ms/step - loss: 0.2421 - accuracy: 0.9165\n",
            "Epoch 7/7\n",
            "49/49 [==============================] - 1s 28ms/step - loss: 0.2188 - accuracy: 0.9284\n"
          ]
        }
      ]
    },
    {
      "cell_type": "code",
      "source": [
        "results_mod6 = model.evaluate(x_test,y_test)"
      ],
      "metadata": {
        "colab": {
          "base_uri": "https://localhost:8080/"
        },
        "id": "G3XunT3QbUj7",
        "outputId": "3155e772-db97-4906-860c-47483188452f"
      },
      "execution_count": null,
      "outputs": [
        {
          "output_type": "stream",
          "name": "stdout",
          "text": [
            "782/782 [==============================] - 2s 3ms/step - loss: 0.2930 - accuracy: 0.8871\n"
          ]
        }
      ]
    },
    {
      "cell_type": "markdown",
      "source": [
        "### *The accuracy on the test set for the sixth model built resulted in 88.71%.*"
      ],
      "metadata": {
        "id": "84CVqwjKTWkp"
      }
    },
    {
      "cell_type": "markdown",
      "source": [
        "### *Model - 7 imdb_mod_12 - 2 Hidden Layers, 16 Nodes Each, activation - relu, optimizer - rmsprop, loss - binary crossentropy, dropout - 0.4.*"
      ],
      "metadata": {
        "id": "Tsmqb-_VhOiq"
      }
    },
    {
      "cell_type": "code",
      "source": [
        "model = keras.Sequential([\n",
        "    layers.Dense(16,activation='relu',input_shape=(10000,)),\n",
        "    layers.Dropout(rate=0.4),\n",
        "    layers.Dense(16,activation='relu'),\n",
        "    layers.Dropout(rate=0.4),\n",
        "    layers.Dense(1,activation='sigmoid')\n",
        "])\n",
        "\n",
        "model.compile(optimizer='rmsprop',\n",
        "              loss='binary_crossentropy',\n",
        "              metrics=['accuracy'])\n",
        "\n",
        "imdb_mod_12 = model.fit(partial_x_train,\n",
        "                        partial_y_train,\n",
        "                        epochs=20,\n",
        "                        batch_size=512,\n",
        "                        validation_data=(x_val,y_val))"
      ],
      "metadata": {
        "colab": {
          "base_uri": "https://localhost:8080/"
        },
        "id": "SR2YoJedgEX7",
        "outputId": "64d20770-ff55-48a4-f254-fd529d4ec421"
      },
      "execution_count": null,
      "outputs": [
        {
          "output_type": "stream",
          "name": "stdout",
          "text": [
            "Epoch 1/20\n",
            "30/30 [==============================] - 6s 123ms/step - loss: 0.6000 - accuracy: 0.6859 - val_loss: 0.4781 - val_accuracy: 0.8522\n",
            "Epoch 2/20\n",
            "30/30 [==============================] - 2s 66ms/step - loss: 0.4529 - accuracy: 0.8161 - val_loss: 0.3752 - val_accuracy: 0.8665\n",
            "Epoch 3/20\n",
            "30/30 [==============================] - 1s 40ms/step - loss: 0.3641 - accuracy: 0.8659 - val_loss: 0.3106 - val_accuracy: 0.8854\n",
            "Epoch 4/20\n",
            "30/30 [==============================] - 1s 41ms/step - loss: 0.3043 - accuracy: 0.8931 - val_loss: 0.2825 - val_accuracy: 0.8898\n",
            "Epoch 5/20\n",
            "30/30 [==============================] - 1s 40ms/step - loss: 0.2607 - accuracy: 0.9131 - val_loss: 0.3314 - val_accuracy: 0.8653\n",
            "Epoch 6/20\n",
            "30/30 [==============================] - 2s 55ms/step - loss: 0.2242 - accuracy: 0.9273 - val_loss: 0.2775 - val_accuracy: 0.8862\n",
            "Epoch 7/20\n",
            "30/30 [==============================] - 2s 65ms/step - loss: 0.1984 - accuracy: 0.9355 - val_loss: 0.3131 - val_accuracy: 0.8765\n",
            "Epoch 8/20\n",
            "30/30 [==============================] - 2s 57ms/step - loss: 0.1728 - accuracy: 0.9456 - val_loss: 0.3027 - val_accuracy: 0.8845\n",
            "Epoch 9/20\n",
            "30/30 [==============================] - 3s 96ms/step - loss: 0.1495 - accuracy: 0.9537 - val_loss: 0.3063 - val_accuracy: 0.8859\n",
            "Epoch 10/20\n",
            "30/30 [==============================] - 2s 74ms/step - loss: 0.1319 - accuracy: 0.9611 - val_loss: 0.3390 - val_accuracy: 0.8815\n",
            "Epoch 11/20\n",
            "30/30 [==============================] - 2s 70ms/step - loss: 0.1116 - accuracy: 0.9665 - val_loss: 0.3357 - val_accuracy: 0.8859\n",
            "Epoch 12/20\n",
            "30/30 [==============================] - 3s 95ms/step - loss: 0.0990 - accuracy: 0.9709 - val_loss: 0.3882 - val_accuracy: 0.8770\n",
            "Epoch 13/20\n",
            "30/30 [==============================] - 2s 52ms/step - loss: 0.0835 - accuracy: 0.9757 - val_loss: 0.4024 - val_accuracy: 0.8828\n",
            "Epoch 14/20\n",
            "30/30 [==============================] - 1s 39ms/step - loss: 0.0751 - accuracy: 0.9785 - val_loss: 0.4497 - val_accuracy: 0.8809\n",
            "Epoch 15/20\n",
            "30/30 [==============================] - 1s 41ms/step - loss: 0.0635 - accuracy: 0.9815 - val_loss: 0.4565 - val_accuracy: 0.8793\n",
            "Epoch 16/20\n",
            "30/30 [==============================] - 1s 37ms/step - loss: 0.0573 - accuracy: 0.9845 - val_loss: 0.5060 - val_accuracy: 0.8838\n",
            "Epoch 17/20\n",
            "30/30 [==============================] - 1s 38ms/step - loss: 0.0523 - accuracy: 0.9857 - val_loss: 0.5217 - val_accuracy: 0.8833\n",
            "Epoch 18/20\n",
            "30/30 [==============================] - 1s 38ms/step - loss: 0.0474 - accuracy: 0.9865 - val_loss: 0.5578 - val_accuracy: 0.8813\n",
            "Epoch 19/20\n",
            "30/30 [==============================] - 2s 70ms/step - loss: 0.0436 - accuracy: 0.9881 - val_loss: 0.5651 - val_accuracy: 0.8760\n",
            "Epoch 20/20\n",
            "30/30 [==============================] - 3s 94ms/step - loss: 0.0406 - accuracy: 0.9893 - val_loss: 0.6014 - val_accuracy: 0.8782\n"
          ]
        }
      ]
    },
    {
      "cell_type": "code",
      "source": [
        "imdb_dict_12 = imdb_mod_12.history"
      ],
      "metadata": {
        "id": "iXS9BAAlU2DA"
      },
      "execution_count": null,
      "outputs": []
    },
    {
      "cell_type": "code",
      "source": [
        "#Training and Validation Loss\n",
        "\n",
        "loss=imdb_dict_12['loss']\n",
        "val_loss=imdb_dict_12['val_loss']\n",
        "epochs=range(1,len(loss)+1)\n",
        "plt.plot(epochs,loss,color='grey',label='Training Loss')\n",
        "plt.plot(epochs,val_loss,color='blue',linestyle='dashed',label='Validation Loss')\n",
        "plt.xlabel('Epochs')\n",
        "plt.ylabel('Loss')\n",
        "plt.legend()\n",
        "plt.show()"
      ],
      "metadata": {
        "colab": {
          "base_uri": "https://localhost:8080/",
          "height": 279
        },
        "id": "ETAMGeGJU2d_",
        "outputId": "9136852d-eab8-4c84-fff6-0d967d324c04"
      },
      "execution_count": null,
      "outputs": [
        {
          "output_type": "display_data",
          "data": {
            "text/plain": [
              "<Figure size 432x288 with 1 Axes>"
            ],
            "image/png": "[encoded data removed]"
          },
          "metadata": {
            "needs_background": "light"
          }
        }
      ]
    },
    {
      "cell_type": "markdown",
      "source": [
        "*From the above loss graph we can select the right number of epochs to be \"4\" because the validation loss starts to take a spike, after the 4th Epoch.* "
      ],
      "metadata": {
        "id": "dhtj-e1gU2wR"
      }
    },
    {
      "cell_type": "code",
      "source": [
        "#Training and Validaiton Accuracy\n",
        "\n",
        "accuracy=imdb_dict_12['accuracy']\n",
        "val_accuracy=imdb_dict_12['val_accuracy']\n",
        "epochs=range(1,len(accuracy)+1)\n",
        "plt.plot(epochs,accuracy,color='grey',label='Training Acc')\n",
        "plt.plot(epochs,val_accuracy,color='blue',linestyle='dashed',label='Validation Acc')\n",
        "plt.xlabel('Epochs')\n",
        "plt.ylabel('Acc')\n",
        "plt.legend()\n",
        "plt.show()"
      ],
      "metadata": {
        "colab": {
          "base_uri": "https://localhost:8080/",
          "height": 280
        },
        "id": "jskryI0AU2_9",
        "outputId": "906f8e10-9d85-4a7d-cccd-fd9ad3902789"
      },
      "execution_count": null,
      "outputs": [
        {
          "output_type": "display_data",
          "data": {
            "text/plain": [
              "<Figure size 432x288 with 1 Axes>"
            ],
            "image/png": "[encoded data removed]"
          },
          "metadata": {
            "needs_background": "light"
          }
        }
      ]
    },
    {
      "cell_type": "markdown",
      "source": [
        "*We can confirm the same thing from the \"Accuracy Plot\" as well here the accuracy was highest at the 4th Epoch.*"
      ],
      "metadata": {
        "id": "9rDxix_xU3WX"
      }
    },
    {
      "cell_type": "markdown",
      "source": [
        "### ***Back Propagation - Retrain the model with 4 epochs***"
      ],
      "metadata": {
        "id": "vVaOCdS6U3nh"
      }
    },
    {
      "cell_type": "code",
      "source": [
        "model = keras.Sequential([\n",
        "    layers.Dense(16,activation='relu',input_shape=(10000,)),\n",
        "    layers.Dropout(rate=0.4),\n",
        "    layers.Dense(16,activation='relu'),\n",
        "    layers.Dropout(rate=0.4),\n",
        "    layers.Dense(1,activation='sigmoid')\n",
        "])\n",
        "\n",
        "model.compile(optimizer='rmsprop',\n",
        "              loss='binary_crossentropy',\n",
        "              metrics=['accuracy'])\n",
        "\n",
        "imdb_mod_13 = model.fit(x_train,\n",
        "                        y_train,\n",
        "                        epochs=4,\n",
        "                        batch_size=512)"
      ],
      "metadata": {
        "colab": {
          "base_uri": "https://localhost:8080/"
        },
        "id": "tyZ_qJK3geQz",
        "outputId": "58622ed1-0143-4207-d036-b74d9122ee75"
      },
      "execution_count": null,
      "outputs": [
        {
          "output_type": "stream",
          "name": "stdout",
          "text": [
            "Epoch 1/4\n",
            "49/49 [==============================] - 2s 30ms/step - loss: 0.5622 - accuracy: 0.7169\n",
            "Epoch 2/4\n",
            "49/49 [==============================] - 1s 30ms/step - loss: 0.3932 - accuracy: 0.8449\n",
            "Epoch 3/4\n",
            "49/49 [==============================] - 1s 30ms/step - loss: 0.3078 - accuracy: 0.8889\n",
            "Epoch 4/4\n",
            "49/49 [==============================] - 1s 30ms/step - loss: 0.2523 - accuracy: 0.9089\n"
          ]
        }
      ]
    },
    {
      "cell_type": "code",
      "source": [
        "results_mod7 = model.evaluate(x_test,y_test)"
      ],
      "metadata": {
        "colab": {
          "base_uri": "https://localhost:8080/"
        },
        "id": "hmyZBPRKgqPn",
        "outputId": "96e1a965-17c8-4dda-988b-8f6479f44639"
      },
      "execution_count": null,
      "outputs": [
        {
          "output_type": "stream",
          "name": "stdout",
          "text": [
            "782/782 [==============================] - 3s 3ms/step - loss: 0.2729 - accuracy: 0.8885\n"
          ]
        }
      ]
    },
    {
      "cell_type": "markdown",
      "source": [
        "### *The accuracy on the test set for the seventh model built resulted in 88.85%.*"
      ],
      "metadata": {
        "id": "GFyEqff5qT9S"
      }
    },
    {
      "cell_type": "markdown",
      "source": [
        "### *Model - 8 imdb_mod_14 - 2 Hidden Layers, 16 Nodes Each, activation - relu, optimizer - rmsprop, loss - binary crossentropy, regularisation - l2 (0.001).*"
      ],
      "metadata": {
        "id": "ten_E4FGVyJb"
      }
    },
    {
      "cell_type": "code",
      "source": [
        "model = keras.Sequential([\n",
        "    layers.Dense(16,activation='relu',input_shape=(10000,),kernel_regularizer=regularizers.l2(0.001)),\n",
        "    layers.Dense(16,activation='relu',kernel_regularizer=regularizers.l2(0.001)),\n",
        "    layers.Dense(1,activation='sigmoid')\n",
        "])\n",
        "\n",
        "model.compile(optimizer='rmsprop',\n",
        "              loss='binary_crossentropy',\n",
        "              metrics=['accuracy'])\n",
        "\n",
        "imdb_mod_14 = model.fit(partial_x_train,\n",
        "                        partial_y_train,\n",
        "                        epochs=20,\n",
        "                        batch_size=512,\n",
        "                        validation_data=(x_val,y_val))"
      ],
      "metadata": {
        "colab": {
          "base_uri": "https://localhost:8080/"
        },
        "id": "CkSCG_7un14k",
        "outputId": "a358f992-aa24-4d3c-9877-c0d285ba4252"
      },
      "execution_count": null,
      "outputs": [
        {
          "output_type": "stream",
          "name": "stdout",
          "text": [
            "Epoch 1/20\n",
            "30/30 [==============================] - 3s 71ms/step - loss: 0.5850 - accuracy: 0.7768 - val_loss: 0.4680 - val_accuracy: 0.8538\n",
            "Epoch 2/20\n",
            "30/30 [==============================] - 1s 40ms/step - loss: 0.3926 - accuracy: 0.8865 - val_loss: 0.3774 - val_accuracy: 0.8792\n",
            "Epoch 3/20\n",
            "30/30 [==============================] - 1s 41ms/step - loss: 0.3173 - accuracy: 0.9105 - val_loss: 0.3444 - val_accuracy: 0.8857\n",
            "Epoch 4/20\n",
            "30/30 [==============================] - 1s 41ms/step - loss: 0.2746 - accuracy: 0.9244 - val_loss: 0.3414 - val_accuracy: 0.8841\n",
            "Epoch 5/20\n",
            "30/30 [==============================] - 1s 40ms/step - loss: 0.2474 - accuracy: 0.9353 - val_loss: 0.3382 - val_accuracy: 0.8857\n",
            "Epoch 6/20\n",
            "30/30 [==============================] - 1s 40ms/step - loss: 0.2286 - accuracy: 0.9429 - val_loss: 0.3342 - val_accuracy: 0.8851\n",
            "Epoch 7/20\n",
            "30/30 [==============================] - 2s 62ms/step - loss: 0.2143 - accuracy: 0.9496 - val_loss: 0.3420 - val_accuracy: 0.8836\n",
            "Epoch 8/20\n",
            "30/30 [==============================] - 2s 59ms/step - loss: 0.2036 - accuracy: 0.9526 - val_loss: 0.3465 - val_accuracy: 0.8808\n",
            "Epoch 9/20\n",
            "30/30 [==============================] - 1s 38ms/step - loss: 0.1974 - accuracy: 0.9549 - val_loss: 0.3529 - val_accuracy: 0.8813\n",
            "Epoch 10/20\n",
            "30/30 [==============================] - 1s 40ms/step - loss: 0.1865 - accuracy: 0.9605 - val_loss: 0.3901 - val_accuracy: 0.8769\n",
            "Epoch 11/20\n",
            "30/30 [==============================] - 1s 41ms/step - loss: 0.1820 - accuracy: 0.9622 - val_loss: 0.3769 - val_accuracy: 0.8809\n",
            "Epoch 12/20\n",
            "30/30 [==============================] - 1s 39ms/step - loss: 0.1774 - accuracy: 0.9638 - val_loss: 0.4096 - val_accuracy: 0.8659\n",
            "Epoch 13/20\n",
            "30/30 [==============================] - 1s 39ms/step - loss: 0.1754 - accuracy: 0.9653 - val_loss: 0.3814 - val_accuracy: 0.8789\n",
            "Epoch 14/20\n",
            "30/30 [==============================] - 2s 55ms/step - loss: 0.1638 - accuracy: 0.9717 - val_loss: 0.4258 - val_accuracy: 0.8698\n",
            "Epoch 15/20\n",
            "30/30 [==============================] - 3s 113ms/step - loss: 0.1676 - accuracy: 0.9675 - val_loss: 0.3940 - val_accuracy: 0.8773\n",
            "Epoch 16/20\n",
            "30/30 [==============================] - 2s 64ms/step - loss: 0.1603 - accuracy: 0.9709 - val_loss: 0.4485 - val_accuracy: 0.8667\n",
            "Epoch 17/20\n",
            "30/30 [==============================] - 2s 66ms/step - loss: 0.1573 - accuracy: 0.9727 - val_loss: 0.4338 - val_accuracy: 0.8651\n",
            "Epoch 18/20\n",
            "30/30 [==============================] - 2s 80ms/step - loss: 0.1572 - accuracy: 0.9719 - val_loss: 0.4160 - val_accuracy: 0.8762\n",
            "Epoch 19/20\n",
            "30/30 [==============================] - 2s 60ms/step - loss: 0.1537 - accuracy: 0.9745 - val_loss: 0.4263 - val_accuracy: 0.8700\n",
            "Epoch 20/20\n",
            "30/30 [==============================] - 2s 68ms/step - loss: 0.1493 - accuracy: 0.9753 - val_loss: 0.4311 - val_accuracy: 0.8740\n"
          ]
        }
      ]
    },
    {
      "cell_type": "code",
      "source": [
        "imdb_dict_14 = imdb_mod_14.history"
      ],
      "metadata": {
        "id": "EqNQhyseotF7"
      },
      "execution_count": null,
      "outputs": []
    },
    {
      "cell_type": "code",
      "source": [
        "#Training and Validation Loss\n",
        "\n",
        "loss=imdb_dict_14['loss']\n",
        "val_loss=imdb_dict_14['val_loss']\n",
        "epochs=range(1,len(loss)+1)\n",
        "plt.plot(epochs,loss,color='grey',label='Training Losss')\n",
        "plt.plot(epochs,val_loss,color='blue',linestyle='dashed',label='Validation Loss')\n",
        "plt.xlabel('Epochs')\n",
        "plt.ylabel('Loss')\n",
        "plt.legend()\n",
        "plt.show()"
      ],
      "metadata": {
        "colab": {
          "base_uri": "https://localhost:8080/",
          "height": 280
        },
        "id": "u4XwFOlMoy3K",
        "outputId": "25018f04-7902-4846-ac4d-c1982dd0cdf3"
      },
      "execution_count": null,
      "outputs": [
        {
          "output_type": "display_data",
          "data": {
            "text/plain": [
              "<Figure size 432x288 with 1 Axes>"
            ],
            "image/png": "[encoded data removed]"
          },
          "metadata": {
            "needs_background": "light"
          }
        }
      ]
    },
    {
      "cell_type": "markdown",
      "source": [
        "*From the above loss graph we can select the right number of epochs to be \"6\" because the validation loss starts to take a spike, after the 6th Epoch.* "
      ],
      "metadata": {
        "id": "DoPz8pzyXSoR"
      }
    },
    {
      "cell_type": "code",
      "source": [
        "#Training and Validaiton Accuracy\n",
        "\n",
        "accuracy=imdb_dict_14['accuracy']\n",
        "val_accuracy=imdb_dict_14['val_accuracy']\n",
        "epochs=range(1,len(accuracy)+1)\n",
        "plt.plot(epochs,accuracy,color='grey',label='Training Acc')\n",
        "plt.plot(epochs,val_accuracy,color='blue',linestyle='dashed',label='Validation Acc')\n",
        "plt.xlabel('Epochs')\n",
        "plt.ylabel('Acc')\n",
        "plt.legend()\n",
        "plt.show()"
      ],
      "metadata": {
        "colab": {
          "base_uri": "https://localhost:8080/",
          "height": 279
        },
        "id": "3ZBEfgfGXS4q",
        "outputId": "871b0e32-7370-42f0-c83b-85087d609278"
      },
      "execution_count": null,
      "outputs": [
        {
          "output_type": "display_data",
          "data": {
            "text/plain": [
              "<Figure size 432x288 with 1 Axes>"
            ],
            "image/png": "[encoded data removed]"
          },
          "metadata": {
            "needs_background": "light"
          }
        }
      ]
    },
    {
      "cell_type": "markdown",
      "source": [
        "*We can confirm the same thing from the \"Accuracy Plot\" as well here the accuracy was highest at the 6th Epoch.*"
      ],
      "metadata": {
        "id": "rXpvETwKXTFw"
      }
    },
    {
      "cell_type": "markdown",
      "source": [
        "### ***Back Propagation - Retrain the model with 6 epochs***"
      ],
      "metadata": {
        "id": "bBZXyI3ZXTQ_"
      }
    },
    {
      "cell_type": "code",
      "source": [
        "model = keras.Sequential([\n",
        "    layers.Dense(16,activation='relu',input_shape=(10000,),kernel_regularizer=regularizers.l2(0.001)),\n",
        "    layers.Dense(16,activation='relu',kernel_regularizer=regularizers.l2(0.001)),\n",
        "    layers.Dense(1,activation='sigmoid')\n",
        "])\n",
        "\n",
        "model.compile(optimizer='rmsprop',\n",
        "              loss='binary_crossentropy',\n",
        "              metrics=['accuracy'])\n",
        "\n",
        "imdb_mod_15 = model.fit(x_train,\n",
        "                        y_train,\n",
        "                        epochs=6,\n",
        "                        batch_size=512)"
      ],
      "metadata": {
        "colab": {
          "base_uri": "https://localhost:8080/"
        },
        "id": "LadTPHM7pVjN",
        "outputId": "0d64d138-da28-48ad-b066-a4302ec473d0"
      },
      "execution_count": null,
      "outputs": [
        {
          "output_type": "stream",
          "name": "stdout",
          "text": [
            "Epoch 1/6\n",
            "49/49 [==============================] - 2s 31ms/step - loss: 0.5346 - accuracy: 0.8167\n",
            "Epoch 2/6\n",
            "49/49 [==============================] - 1s 29ms/step - loss: 0.3508 - accuracy: 0.8952\n",
            "Epoch 3/6\n",
            "49/49 [==============================] - 1s 29ms/step - loss: 0.2918 - accuracy: 0.9122\n",
            "Epoch 4/6\n",
            "49/49 [==============================] - 1s 29ms/step - loss: 0.2637 - accuracy: 0.9240\n",
            "Epoch 5/6\n",
            "49/49 [==============================] - 1s 30ms/step - loss: 0.2455 - accuracy: 0.9316\n",
            "Epoch 6/6\n",
            "49/49 [==============================] - 2s 34ms/step - loss: 0.2369 - accuracy: 0.9356\n"
          ]
        }
      ]
    },
    {
      "cell_type": "code",
      "source": [
        "results_mod8 = model.evaluate(x_test,y_test)"
      ],
      "metadata": {
        "colab": {
          "base_uri": "https://localhost:8080/"
        },
        "id": "BacgcJfcpZ1B",
        "outputId": "6a46ea33-183f-4433-97c1-ccb12ce6ff27"
      },
      "execution_count": null,
      "outputs": [
        {
          "output_type": "stream",
          "name": "stdout",
          "text": [
            "782/782 [==============================] - 2s 2ms/step - loss: 0.3388 - accuracy: 0.8860\n"
          ]
        }
      ]
    },
    {
      "cell_type": "markdown",
      "source": [
        "### *The accuracy on the test set for the eight model built resulted in 88.60%.*"
      ],
      "metadata": {
        "id": "8X7JAe28qO20"
      }
    },
    {
      "cell_type": "markdown",
      "source": [
        "## ***Assessing the best model***"
      ],
      "metadata": {
        "id": "MReJ8XcRXREX"
      }
    },
    {
      "cell_type": "markdown",
      "source": [
        "### Loss Evaluation"
      ],
      "metadata": {
        "id": "gqAh-x2bNVef"
      }
    },
    {
      "cell_type": "code",
      "source": [
        "Models = ('Model1','Model2','Model3','Model4','Model5','Model6','Model7','Model8')\n",
        "Loss = (0.2878,0.0864,0.4228,0.3025,0.0885,0.2930,0.2729,0.3388)\n",
        "\n",
        "plt.scatter(Models,Loss,color='red')\n",
        "plt.title('Performance Loss')\n",
        "plt.ylabel('Loss (%)')\n",
        "\n",
        "for (xi, yi) in zip(Models,Loss):\n",
        "    plt.text(xi, yi, yi, va='bottom', ha='center')\n",
        "\n",
        "\n",
        "plt.show()"
      ],
      "metadata": {
        "id": "nKAm5leZZnVK",
        "colab": {
          "base_uri": "https://localhost:8080/",
          "height": 281
        },
        "outputId": "3d6c712b-9f3e-4a0b-997c-f0a5390e8c0b"
      },
      "execution_count": null,
      "outputs": [
        {
          "output_type": "display_data",
          "data": {
            "text/plain": [
              "<Figure size 432x288 with 1 Axes>"
            ],
            "image/png": "[encoded data removed]"
          },
          "metadata": {
            "needs_background": "light"
          }
        }
      ]
    },
    {
      "cell_type": "markdown",
      "source": [
        "## **Observations:**\n",
        "\n",
        "1. Model 2 and Model 5 are the only models that were having least loss values during their evaluation on the test set.\n",
        "2. Model 2 was built using 1 Hidden Layer, 64 Nodes, activation - tanh, optimizer - rmsprop, loss - mse.\n",
        "3. Model 5 was built using 1 Hidden Layer, 32 Nodes, activation - tanh, optimizer - adam, loss - mse, dropout rate - 0.3.\n",
        "\n"
      ],
      "metadata": {
        "id": "GopJ4gheOrs5"
      }
    },
    {
      "cell_type": "markdown",
      "source": [
        "### Accuracy Evaluation"
      ],
      "metadata": {
        "id": "yKlANJXDNj7c"
      }
    },
    {
      "cell_type": "code",
      "source": [
        "Models = ('Model1','Model2','Model3','Model4','Model5','Model6','Model7','Model8')\n",
        "Accuracy = (0.8856,0.8837,0.8808,0.8852,0.8787,0.8871,0.8885,0.8860)\n",
        "\n",
        "plt.scatter(Models,Accuracy,color='blue')\n",
        "plt.title('Performance Accuracy')\n",
        "plt.ylabel('Accuracy (%)')\n",
        "\n",
        "for (xi, yi) in zip(Models,Accuracy):\n",
        "    plt.text(xi, yi, yi, va='bottom', ha='center')\n",
        "\n",
        "plt.show()"
      ],
      "metadata": {
        "colab": {
          "base_uri": "https://localhost:8080/",
          "height": 281
        },
        "id": "WkPQoJJdRPJA",
        "outputId": "ea763e09-5050-4144-888c-9da24927a070"
      },
      "execution_count": null,
      "outputs": [
        {
          "output_type": "display_data",
          "data": {
            "text/plain": [
              "<Figure size 432x288 with 1 Axes>"
            ],
            "image/png": "[encoded data removed]"
          },
          "metadata": {
            "needs_background": "light"
          }
        }
      ]
    },
    {
      "cell_type": "markdown",
      "source": [
        "## **Observations:**\n",
        "\n",
        "1. Model 6 and Model 7 are the models with the highest accuracy among all the other models.\n",
        "2. Model 6 was built 2 Hidden Layers, 16 Nodes Each, activation - relu, optimizer - rmsprop, loss - binary crossentropy, dropout rate - 0.5.\n",
        "3. Model 7 was built 2 Hidden Layers, 16 Nodes Each, activation - relu, optimizer - rmsprop, loss - binary crossentropy, dropout rate - 0.4.\n"
      ],
      "metadata": {
        "id": "RQlnGXa0kEA2"
      }
    },
    {
      "cell_type": "markdown",
      "source": [
        "## **Which is the best model?**"
      ],
      "metadata": {
        "id": "uevygfoOZvbf"
      }
    },
    {
      "cell_type": "markdown",
      "source": [
        "There are two possible ways which I think can be ideal to decide the best model,\n",
        "\n",
        "1. Model with Highest Accuracy on the Test Set.\n",
        "\n",
        "2. Model with Least Loss on the Test Set with Moderate Accuracy.\n",
        "\n",
        "To answer the second point we can look at the following chunk of text to get an understanding of why we aren't considering the model with least loss as a best model."
      ],
      "metadata": {
        "id": "RjIA8Dg1Z0iW"
      }
    },
    {
      "cell_type": "markdown",
      "source": [
        "### Models 2 and 5 have resulted in least loss values for the loss run over the test set but these models have 'mse' as a loss function. These models were just built just to assess the models performance with mse being the loss function. But in reality mse isn't a good loss function to be used for binary/multi-class classification, mse is a good loss function for regression based problems."
      ],
      "metadata": {
        "id": "jNjeab9EapYF"
      }
    },
    {
      "cell_type": "markdown",
      "source": [
        "### **So the best model is going to be the one with the highest accuracy**"
      ],
      "metadata": {
        "id": "dvGRaqwOXuqD"
      }
    },
    {
      "cell_type": "markdown",
      "source": [
        "### ***Highest Accuracy***\n",
        "\n",
        "Model 7 i.e. the model with 2 hidden layers, 16 nodes per layer, dropout rate of 0.4 per layer, optimizer being rmsprop and loss function being binary crossentropy resulted in the highest accuracy among all the other models i.e. 88.85%."
      ],
      "metadata": {
        "id": "bXDsOdOAaRJl"
      }
    }
  ]
}